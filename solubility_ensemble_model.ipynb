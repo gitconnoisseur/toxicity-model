{
 "cells": [
  {
   "cell_type": "code",
   "execution_count": 1,
   "metadata": {},
   "outputs": [
    {
     "name": "stderr",
     "output_type": "stream",
     "text": [
      "Found local copy...\n"
     ]
    }
   ],
   "source": [
    "from tdc.single_pred import Tox\n",
    "import deepchem\n",
    "import xgboost\n",
    "import rdkit\n",
    "from rdkit import Chem\n",
    "from rdkit.Chem.EState import Fingerprinter\n",
    "from rdkit.Chem.EState import EState\n",
    "\n",
    "import numpy as np\n",
    "import pandas as pd\n",
    "import tensorflow as tf\n",
    "import autokeras as ak\n",
    "\n",
    "from tdc.benchmark_group import admet_group\n",
    "group = admet_group(path = 'data/')"
   ]
  },
  {
   "cell_type": "code",
   "execution_count": 3,
   "metadata": {},
   "outputs": [
    {
     "name": "stderr",
     "output_type": "stream",
     "text": [
      "generating training, validation splits...\n",
      "100%|██████████| 7985/7985 [00:02<00:00, 3930.94it/s]\n"
     ]
    },
    {
     "name": "stdout",
     "output_type": "stream",
     "text": [
      "Step 1000 validation: mean_absolute_error=1.01274\n",
      "Step 2000 validation: mean_absolute_error=0.953542\n",
      "Step 3000 validation: mean_absolute_error=0.941146\n",
      "Step 4000 validation: mean_absolute_error=0.973134\n",
      "Step 5000 validation: mean_absolute_error=0.973608\n",
      "Step 6000 validation: mean_absolute_error=1.00188\n",
      "Step 7000 validation: mean_absolute_error=0.969157\n"
     ]
    },
    {
     "name": "stderr",
     "output_type": "stream",
     "text": [
      "generating training, validation splits...\n"
     ]
    },
    {
     "name": "stdout",
     "output_type": "stream",
     "text": [
      "predictions for run #\n",
      "1\n",
      "[-3.829607  -4.6302495 -3.958729  -3.3809106 -4.5026965]\n"
     ]
    },
    {
     "name": "stderr",
     "output_type": "stream",
     "text": [
      "100%|██████████| 7985/7985 [00:06<00:00, 1181.20it/s]\n"
     ]
    },
    {
     "name": "stdout",
     "output_type": "stream",
     "text": [
      "WARNING:tensorflow:5 out of the last 6986 calls to <function KerasModel._create_gradient_fn.<locals>.apply_gradient_for_batch at 0x0000028E9885F0D0> triggered tf.function retracing. Tracing is expensive and the excessive number of tracings could be due to (1) creating @tf.function repeatedly in a loop, (2) passing tensors with different shapes, (3) passing Python objects instead of tensors. For (1), please define your @tf.function outside of the loop. For (2), @tf.function has experimental_relax_shapes=True option that relaxes argument shapes that can avoid unnecessary retracing. For (3), please refer to https://www.tensorflow.org/guide/function#controlling_retracing and https://www.tensorflow.org/api_docs/python/tf/function for  more details.\n",
      "Step 1000 validation: mean_absolute_error=0.920314\n",
      "Step 2000 validation: mean_absolute_error=0.897902\n",
      "Step 3000 validation: mean_absolute_error=1.1382\n",
      "Step 4000 validation: mean_absolute_error=0.94247\n",
      "Step 5000 validation: mean_absolute_error=1.00255\n",
      "Step 6000 validation: mean_absolute_error=1.03912\n",
      "Step 7000 validation: mean_absolute_error=0.991543\n"
     ]
    },
    {
     "name": "stderr",
     "output_type": "stream",
     "text": [
      "generating training, validation splits...\n"
     ]
    },
    {
     "name": "stdout",
     "output_type": "stream",
     "text": [
      "predictions for run #\n",
      "2\n",
      "[-3.9606915 -4.623056  -4.190508  -3.4892704 -4.5091395]\n"
     ]
    },
    {
     "name": "stderr",
     "output_type": "stream",
     "text": [
      "100%|██████████| 7985/7985 [00:02<00:00, 3105.62it/s]\n"
     ]
    },
    {
     "name": "stdout",
     "output_type": "stream",
     "text": [
      "Step 1000 validation: mean_absolute_error=0.983907\n",
      "Step 2000 validation: mean_absolute_error=0.938863\n",
      "Step 3000 validation: mean_absolute_error=0.985724\n",
      "Step 4000 validation: mean_absolute_error=0.989961\n",
      "Step 5000 validation: mean_absolute_error=0.92776\n",
      "Step 6000 validation: mean_absolute_error=1.02594\n",
      "Step 7000 validation: mean_absolute_error=0.964027\n"
     ]
    },
    {
     "name": "stderr",
     "output_type": "stream",
     "text": [
      "generating training, validation splits...\n"
     ]
    },
    {
     "name": "stdout",
     "output_type": "stream",
     "text": [
      "predictions for run #\n",
      "3\n",
      "[-4.0738425 -4.897732  -4.158022  -3.3460114 -4.6705265]\n"
     ]
    },
    {
     "name": "stderr",
     "output_type": "stream",
     "text": [
      "100%|██████████| 7985/7985 [00:03<00:00, 2211.67it/s]\n"
     ]
    },
    {
     "name": "stdout",
     "output_type": "stream",
     "text": [
      "Step 1000 validation: mean_absolute_error=0.938398\n",
      "Step 2000 validation: mean_absolute_error=0.942947\n",
      "Step 3000 validation: mean_absolute_error=1.06161\n",
      "Step 4000 validation: mean_absolute_error=0.926266\n",
      "Step 5000 validation: mean_absolute_error=0.915771\n",
      "Step 6000 validation: mean_absolute_error=0.906887\n",
      "Step 7000 validation: mean_absolute_error=0.917885\n"
     ]
    },
    {
     "name": "stderr",
     "output_type": "stream",
     "text": [
      "generating training, validation splits...\n"
     ]
    },
    {
     "name": "stdout",
     "output_type": "stream",
     "text": [
      "predictions for run #\n",
      "4\n",
      "[-4.125597  -4.6695223 -3.8521497 -3.5364335 -4.260222 ]\n"
     ]
    },
    {
     "name": "stderr",
     "output_type": "stream",
     "text": [
      "100%|██████████| 7985/7985 [00:01<00:00, 4066.95it/s]\n"
     ]
    },
    {
     "name": "stdout",
     "output_type": "stream",
     "text": [
      "Step 1000 validation: mean_absolute_error=1.29827\n",
      "Step 2000 validation: mean_absolute_error=1.22617\n",
      "Step 3000 validation: mean_absolute_error=1.22662\n",
      "Step 4000 validation: mean_absolute_error=1.25488\n",
      "Step 5000 validation: mean_absolute_error=1.21568\n",
      "predictions for run #\n",
      "5\n",
      "[-4.055109  -5.0469365 -4.181121  -3.378898  -4.8059783]\n",
      "Prediction List:\n",
      "[{'solubility_aqsoldb': array([-3.829607 , -4.6302495, -3.958729 , ..., -3.7829888, -3.374567 ,\n",
      "       -5.6744065], dtype=float32)}, {'solubility_aqsoldb': array([-3.9606915, -4.623056 , -4.190508 , ..., -3.8388834, -3.2878044,\n",
      "       -5.364433 ], dtype=float32)}, {'solubility_aqsoldb': array([-4.0738425, -4.897732 , -4.158022 , ..., -3.6012478, -3.326412 ,\n",
      "       -5.1451993], dtype=float32)}, {'solubility_aqsoldb': array([-4.125597 , -4.6695223, -3.8521497, ..., -3.807085 , -3.5838299,\n",
      "       -5.545088 ], dtype=float32)}, {'solubility_aqsoldb': array([-4.055109 , -5.0469365, -4.181121 , ..., -3.5897882, -3.0642164,\n",
      "       -5.6462617], dtype=float32)}]\n"
     ]
    }
   ],
   "source": [
    "predictions_list = []\n",
    "metric = deepchem.deepchem.metrics.Metric(deepchem.deepchem.metrics.mean_absolute_error)\n",
    "ecfpFeat = deepchem.deepchem.feat.CircularFingerprint(radius=4)\n",
    "convMolFeat = deepchem.deepchem.feat.ConvMolFeaturizer()\n",
    "xgb_reg_ecfp = xgboost.XGBRegressor()\n",
    "xgb_reg_estate = xgboost.XGBRegressor()\n",
    "\n",
    "for seed in [1, 2, 3, 4, 5]:\n",
    "    benchmark = group.get('Solubility_AqSolDB') \n",
    "    \n",
    "    predictions = {}\n",
    "    name = benchmark['name']\n",
    "    train_val, test = benchmark['train_val'], benchmark['test']\n",
    "    train, valid = group.get_train_valid_split(benchmark = name, split_type = 'default', seed = seed)  \n",
    "\n",
    "    #trainMol = train.iloc[:,1].map(lambda x: Chem.MolFromSmiles(x))\n",
    "    #validMol = valid.iloc[:,1].map(lambda x: Chem.MolFromSmiles(x))\n",
    "    testMol = test.iloc[:,1].map(lambda x: Chem.MolFromSmiles(x))\n",
    "    train_valMol = train_val.iloc[:,1].map(lambda x: Chem.MolFromSmiles(x))\n",
    "\n",
    "    #featurize training, valid, and test data for xgboost\n",
    "    #trainFeat = np.stack(np.array(trainMol.map(lambda x: Fingerprinter.FingerprintMol(x)[1])))\n",
    "    #validFeat = np.stack(np.array(validMol.map(lambda x: Fingerprinter.FingerprintMol(x)[1])))\n",
    "    testFeat = np.stack(np.array(testMol.map(lambda x: Fingerprinter.FingerprintMol(x)[1])))\n",
    "    train_valFeat = np.stack(np.array(train_valMol.map(lambda x: Fingerprinter.FingerprintMol(x)[1])))\n",
    "\n",
    "    #featurize training, valid, and test data for xgboost\n",
    "    #ecfp_f_train = ecfpFeat.featurize(train.iloc[:,1].to_list())\n",
    "    #ecfp_f_valid = ecfpFeat.featurize(valid.iloc[:,1].to_list())\n",
    "    ecfp_f_test = ecfpFeat.featurize(test.iloc[:,1].to_list())\n",
    "    train_val_f = ecfpFeat.featurize(train_val.iloc[:,1].to_list())\n",
    "\n",
    "    #featurize training, valid, and test data for the GCN\n",
    "    cv_f_train = convMolFeat.featurize(train.iloc[:,1].to_list())\n",
    "    cv_f_valid = convMolFeat.featurize(valid.iloc[:,1].to_list())\n",
    "    cv_f_test = convMolFeat.featurize(test.iloc[:,1].to_list())\n",
    "\n",
    "    #convert training and validation data into a deepchem dataset for the gcn\n",
    "    gcn_train_data = deepchem.deepchem.data.NumpyDataset(X=cv_f_train, y=np.array(train.iloc[:,2]), ids=np.array(train.iloc[:,1].to_list()))\n",
    "    gcn_valid_data = deepchem.deepchem.data.NumpyDataset(X=cv_f_valid, y=np.array(valid.iloc[:,2]), ids=np.array(valid.iloc[:,1].to_list()))\n",
    "\n",
    "    #fit data on GCN\n",
    "    reg = deepchem.deepchem.models.GraphConvModel(\n",
    "        n_tasks=1, \n",
    "        dropout=.0005,\n",
    "        dense_layer_size=1063,\n",
    "        graph_conv_layers=[128, 128, 128],\n",
    "        mode=\"regression\",)\n",
    "    callback = deepchem.deepchem.models.ValidationCallback(gcn_valid_data, 1000, metric)\n",
    "    reg.fit(gcn_train_data, nb_epoch=100, callbacks=callback)\n",
    "\n",
    "    #predict values on gcn and reshape array (reshape value is 20% of dataset size)\n",
    "    gcn_pred = reg.predict_on_batch(X=np.array(cv_f_test)).reshape(1997,)\n",
    "\n",
    "    #fit xgboost model and store np ndarray in xgb_pred\n",
    "    xgb_reg_estate.fit(X=train_valFeat, y=train_val.iloc[:,2], eval_metric=\"mae\", verbose=True)\n",
    "    xgb_reg_ecfp.fit(X=train_val_f, y=train_val.iloc[:,2], eval_metric=\"mae\")\n",
    "    pred_estate = xgb_reg_estate.predict(X=testFeat)\n",
    "    pred_ecfp = xgb_reg_ecfp.predict(X=ecfp_f_test)\n",
    "    \n",
    "    #pred_ak = akReg.predict(rdkit_f_test)\n",
    "\n",
    "    # store test predictions in y_pred_test\n",
    "    y_pred_test = np.mean([ pred_estate, pred_ecfp, gcn_pred ], axis=0)\n",
    "\n",
    "    print(\"predictions for run #\")\n",
    "    print(seed)\n",
    "    print(y_pred_test[0:5])\n",
    "        \n",
    "    predictions[name] = y_pred_test\n",
    "    predictions_list.append(predictions)\n",
    "\n",
    "print(\"Prediction List:\")\n",
    "print(predictions_list)"
   ]
  },
  {
   "cell_type": "code",
   "execution_count": 4,
   "metadata": {},
   "outputs": [
    {
     "name": "stdout",
     "output_type": "stream",
     "text": [
      "{'solubility_aqsoldb': {'mae': 0.941}}\n",
      "{'solubility_aqsoldb': {'mae': 0.932}}\n",
      "{'solubility_aqsoldb': {'mae': 0.938}}\n",
      "{'solubility_aqsoldb': {'mae': 0.927}}\n",
      "{'solubility_aqsoldb': {'mae': 0.92}}\n"
     ]
    },
    {
     "data": {
      "text/plain": [
       "{'solubility_aqsoldb': [0.932, 0.008]}"
      ]
     },
     "execution_count": 4,
     "metadata": {},
     "output_type": "execute_result"
    }
   ],
   "source": [
    "for i in predictions_list:\n",
    "    print(group.evaluate(i))\n",
    "\n",
    "group.evaluate_many(predictions_list)"
   ]
  }
 ],
 "metadata": {
  "interpreter": {
   "hash": "2d9ef161e060c37aa994177a4d833cab797e22621213b4f88b9fe284585c74c2"
  },
  "kernelspec": {
   "display_name": "Python 3.9.7 ('deepchem-test')",
   "language": "python",
   "name": "python3"
  },
  "language_info": {
   "codemirror_mode": {
    "name": "ipython",
    "version": 3
   },
   "file_extension": ".py",
   "mimetype": "text/x-python",
   "name": "python",
   "nbconvert_exporter": "python",
   "pygments_lexer": "ipython3",
   "version": "3.9.10"
  },
  "orig_nbformat": 4
 },
 "nbformat": 4,
 "nbformat_minor": 2
}
