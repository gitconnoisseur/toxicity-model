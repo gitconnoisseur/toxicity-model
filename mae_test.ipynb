{
 "cells": [
  {
   "cell_type": "code",
   "execution_count": 1,
   "metadata": {},
   "outputs": [
    {
     "name": "stderr",
     "output_type": "stream",
     "text": [
      "Found local copy...\n"
     ]
    }
   ],
   "source": [
    "from tdc.single_pred import Tox\n",
    "import deepchem\n",
    "\n",
    "import numpy as np\n",
    "import pandas as pd\n",
    "import tensorflow as tf\n",
    "import autokeras as ak\n",
    "\n",
    "from tdc.benchmark_group import admet_group\n",
    "group = admet_group(path = 'data/')"
   ]
  },
  {
   "cell_type": "code",
   "execution_count": 2,
   "metadata": {},
   "outputs": [
    {
     "name": "stdout",
     "output_type": "stream",
     "text": [
      "Trial 42 Complete [00h 00m 21s]\n",
      "val_loss: 4706256384.0\n",
      "\n",
      "Best val_loss So Far: 0.6776189208030701\n",
      "Total elapsed time: 00h 20m 57s\n",
      "INFO:tensorflow:Oracle triggered exit\n"
     ]
    },
    {
     "name": "stdout",
     "output_type": "stream",
     "text": [
      "Epoch 1/18\n",
      "185/185 [==============================] - 2s 3ms/step - loss: 0.8420 - mae: 0.6831\n",
      "Epoch 2/18\n",
      "185/185 [==============================] - 1s 3ms/step - loss: 0.7892 - mae: 0.6639\n",
      "Epoch 3/18\n",
      "185/185 [==============================] - 1s 3ms/step - loss: 0.7605 - mae: 0.6593\n",
      "Epoch 4/18\n",
      "185/185 [==============================] - 1s 3ms/step - loss: 0.8631 - mae: 0.6897\n",
      "Epoch 5/18\n",
      "185/185 [==============================] - 1s 3ms/step - loss: 1.3745 - mae: 0.7423\n",
      "Epoch 6/18\n",
      "185/185 [==============================] - 1s 3ms/step - loss: 0.9275 - mae: 0.7134\n",
      "Epoch 7/18\n",
      "185/185 [==============================] - 1s 3ms/step - loss: 0.8310 - mae: 0.7042\n",
      "Epoch 8/18\n",
      "185/185 [==============================] - 1s 3ms/step - loss: 0.8309 - mae: 0.7042\n",
      "Epoch 9/18\n",
      "185/185 [==============================] - 1s 3ms/step - loss: 0.8309 - mae: 0.7042\n",
      "Epoch 10/18\n",
      "185/185 [==============================] - 1s 3ms/step - loss: 0.8309 - mae: 0.7042\n",
      "Epoch 11/18\n",
      "185/185 [==============================] - 1s 3ms/step - loss: 0.8309 - mae: 0.7041\n",
      "Epoch 12/18\n",
      "185/185 [==============================] - 1s 3ms/step - loss: 0.8309 - mae: 0.7042\n",
      "Epoch 13/18\n",
      "185/185 [==============================] - 1s 3ms/step - loss: 0.8309 - mae: 0.7041\n",
      "Epoch 14/18\n",
      "185/185 [==============================] - 1s 3ms/step - loss: 0.8309 - mae: 0.7042\n",
      "Epoch 15/18\n",
      "185/185 [==============================] - 1s 3ms/step - loss: 0.8309 - mae: 0.7041\n",
      "Epoch 16/18\n",
      "185/185 [==============================] - 1s 3ms/step - loss: 0.8309 - mae: 0.7041\n",
      "Epoch 17/18\n",
      "185/185 [==============================] - 1s 3ms/step - loss: 0.8309 - mae: 0.7042\n",
      "Epoch 18/18\n",
      "185/185 [==============================] - 1s 3ms/step - loss: 0.8309 - mae: 0.7042\n",
      "INFO:tensorflow:Assets written to: .\\structured_data_regressor\\best_model\\assets\n",
      "47/47 [==============================] - 0s 4ms/step\n"
     ]
    },
    {
     "ename": "TypeError",
     "evalue": "can only concatenate str (not \"list\") to str",
     "output_type": "error",
     "traceback": [
      "\u001b[1;31m---------------------------------------------------------------------------\u001b[0m",
      "\u001b[1;31mTypeError\u001b[0m                                 Traceback (most recent call last)",
      "\u001b[1;32m~\\AppData\\Local\\Temp/ipykernel_19136/2493917971.py\u001b[0m in \u001b[0;36m<module>\u001b[1;34m\u001b[0m\n\u001b[0;32m     30\u001b[0m     \u001b[0mpredictions_list\u001b[0m\u001b[1;33m.\u001b[0m\u001b[0mappend\u001b[0m\u001b[1;33m(\u001b[0m\u001b[0mpredictions\u001b[0m\u001b[1;33m)\u001b[0m\u001b[1;33m\u001b[0m\u001b[1;33m\u001b[0m\u001b[0m\n\u001b[0;32m     31\u001b[0m \u001b[1;33m\u001b[0m\u001b[0m\n\u001b[1;32m---> 32\u001b[1;33m \u001b[0mprint\u001b[0m\u001b[1;33m(\u001b[0m\u001b[1;34m\"Prediction List: \"\u001b[0m \u001b[1;33m+\u001b[0m \u001b[0mpredictions_list\u001b[0m\u001b[1;33m)\u001b[0m\u001b[1;33m\u001b[0m\u001b[1;33m\u001b[0m\u001b[0m\n\u001b[0m",
      "\u001b[1;31mTypeError\u001b[0m: can only concatenate str (not \"list\") to str"
     ]
    }
   ],
   "source": [
    "predictions_list = []\n",
    "#needs to be for seed in [1...5]:\n",
    "for seed in [1, 2]:\n",
    "    benchmark = group.get('LD50_Zhu') \n",
    "    # all benchmark names in a benchmark group are stored in group.dataset_names\n",
    "    predictions = {}\n",
    "    name = benchmark['name']\n",
    "    train_val, test = benchmark['train_val'], benchmark['test']\n",
    "    #train, valid = group.get_train_valid_split(benchmark = name, split_type = 'default', seed = seed)\n",
    "    \n",
    "        # --------------------------------------------- # \n",
    "        #  Train your model using train, valid, test    #\n",
    "        #  Save test prediction in y_pred_test variable #\n",
    "        # --------------------------------------------- #\n",
    "    \n",
    "\n",
    "    featurizer = deepchem.deepchem.feat.RDKitDescriptors()\n",
    "    f = featurizer.featurize(train_val.iloc[:,1].to_list())\n",
    "    train_x = pd.DataFrame(f)\n",
    "    train_y = train_val.iloc[:,2]\n",
    "\n",
    "    reg = ak.StructuredDataRegressor(overwrite=True, max_trials=50, metrics=['mae'])\n",
    "    reg.fit(x=train_x, y=train_y)\n",
    "\n",
    "    testFeatures = pd.DataFrame(featurizer.featurize(test.iloc[:,1].to_list()))\n",
    "\n",
    "    y_pred_test = reg.predict(testFeatures)\n",
    "        \n",
    "    predictions[name] = y_pred_test\n",
    "    predictions_list.append(predictions)\n",
    "\n",
    "print(\"Prediction List: \")\n",
    "print(predictions_list)"
   ]
  },
  {
   "cell_type": "code",
   "execution_count": 36,
   "metadata": {},
   "outputs": [
    {
     "name": "stdout",
     "output_type": "stream",
     "text": [
      "47/47 [==============================] - 0s 5ms/step\n",
      "[[2.5803735]\n",
      " [2.5803735]\n",
      " [2.5803735]\n",
      " ...\n",
      " [2.5803735]\n",
      " [2.5803735]\n",
      " [2.5803735]]\n"
     ]
    }
   ],
   "source": []
  },
  {
   "cell_type": "code",
   "execution_count": 32,
   "metadata": {},
   "outputs": [
    {
     "name": "stdout",
     "output_type": "stream",
     "text": [
      "{'ld50_zhu': {'mae': 0.662}}\n"
     ]
    }
   ],
   "source": [
    "#results = group.evaluate_many(predictions_list)\n",
    "result = group.evaluate(predictions_list[0])\n",
    "print(result)"
   ]
  }
 ],
 "metadata": {
  "interpreter": {
   "hash": "2d9ef161e060c37aa994177a4d833cab797e22621213b4f88b9fe284585c74c2"
  },
  "kernelspec": {
   "display_name": "Python 3.9.7 64-bit ('deepchem-test': conda)",
   "language": "python",
   "name": "python3"
  },
  "language_info": {
   "codemirror_mode": {
    "name": "ipython",
    "version": 3
   },
   "file_extension": ".py",
   "mimetype": "text/x-python",
   "name": "python",
   "nbconvert_exporter": "python",
   "pygments_lexer": "ipython3",
   "version": "3.9.7"
  },
  "orig_nbformat": 4
 },
 "nbformat": 4,
 "nbformat_minor": 2
}
