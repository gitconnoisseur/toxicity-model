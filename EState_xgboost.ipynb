{
 "cells": [
  {
   "cell_type": "code",
   "execution_count": 1,
   "metadata": {},
   "outputs": [
    {
     "name": "stderr",
     "output_type": "stream",
     "text": [
      "Found local copy...\n"
     ]
    }
   ],
   "source": [
    "from tdc.single_pred import Tox\n",
    "import deepchem\n",
    "import xgboost\n",
    "import rdkit\n",
    "from rdkit import Chem\n",
    "from rdkit.Chem.EState import Fingerprinter\n",
    "from rdkit.Chem.EState import EState\n",
    "\n",
    "import numpy as np\n",
    "import pandas as pd\n",
    "import tensorflow as tf\n",
    "import autokeras as ak\n",
    "\n",
    "from tdc.benchmark_group import admet_group\n",
    "group = admet_group(path = 'data/')"
   ]
  },
  {
   "cell_type": "code",
   "execution_count": 17,
   "metadata": {},
   "outputs": [
    {
     "name": "stdout",
     "output_type": "stream",
     "text": [
      "[0.         0.         0.         0.         0.         0.\n",
      " 0.         0.         0.         0.         0.         7.54541667\n",
      " 0.         2.29647203 0.         0.         1.86946145 0.\n",
      " 0.         0.         0.         0.         0.         0.\n",
      " 0.         0.         0.         3.79175926 0.         0.\n",
      " 0.         0.         0.         0.         0.         0.\n",
      " 0.         0.         0.         0.         0.         0.\n",
      " 0.         0.         0.         0.         0.         0.\n",
      " 4.43847258 0.         0.         0.         0.         0.\n",
      " 0.         0.         0.         0.         0.         0.\n",
      " 0.         0.         0.         0.         0.         0.\n",
      " 0.         0.         0.         3.30841801 0.         0.\n",
      " 0.         0.         0.         0.         0.         0.\n",
      " 0.        ]\n",
      "79\n"
     ]
    }
   ],
   "source": [
    "benchmark = group.get('LD50_Zhu') \n",
    "name = benchmark['name']\n",
    "train_val, test = benchmark['train_val'], benchmark['test']\n",
    "\n",
    "firstMol = Chem.MolFromSmiles(train_val.iloc[:,1].to_list()[0])\n",
    "secondMol = Chem.MolFromSmiles(train_val.iloc[:,1].to_list()[1])\n",
    "\n",
    "#np.stack(np.array(EState.EStateIndices(firstMol)))\n",
    "\n",
    "print(Fingerprinter.FingerprintMol(firstMol)[1])\n",
    "print(Fingerprinter.FingerprintMol(secondMol)[1].__len__())"
   ]
  },
  {
   "cell_type": "code",
   "execution_count": 23,
   "metadata": {},
   "outputs": [
    {
     "name": "stderr",
     "output_type": "stream",
     "text": [
      "generating training, validation splits...\n",
      "100%|██████████| 5907/5907 [00:02<00:00, 2903.83it/s]\n",
      "generating training, validation splits...\n"
     ]
    },
    {
     "name": "stdout",
     "output_type": "stream",
     "text": [
      "predictions for run #\n",
      "1\n",
      "[1.7835815 2.336146  3.3699815 3.620692  4.0475807]\n"
     ]
    },
    {
     "name": "stderr",
     "output_type": "stream",
     "text": [
      "100%|██████████| 5907/5907 [00:01<00:00, 3309.84it/s]\n",
      "generating training, validation splits...\n"
     ]
    },
    {
     "name": "stdout",
     "output_type": "stream",
     "text": [
      "predictions for run #\n",
      "2\n",
      "[1.7835815 2.336146  3.3699815 3.620692  4.0475807]\n"
     ]
    },
    {
     "name": "stderr",
     "output_type": "stream",
     "text": [
      "100%|██████████| 5907/5907 [00:01<00:00, 3073.95it/s]\n",
      "generating training, validation splits...\n"
     ]
    },
    {
     "name": "stdout",
     "output_type": "stream",
     "text": [
      "predictions for run #\n",
      "3\n",
      "[1.7835815 2.336146  3.3699815 3.620692  4.0475807]\n"
     ]
    },
    {
     "name": "stderr",
     "output_type": "stream",
     "text": [
      "100%|██████████| 5907/5907 [00:01<00:00, 3242.88it/s]\n",
      "generating training, validation splits...\n"
     ]
    },
    {
     "name": "stdout",
     "output_type": "stream",
     "text": [
      "predictions for run #\n",
      "4\n",
      "[1.7835815 2.336146  3.3699815 3.620692  4.0475807]\n"
     ]
    },
    {
     "name": "stderr",
     "output_type": "stream",
     "text": [
      "100%|██████████| 5907/5907 [00:01<00:00, 3575.54it/s]\n"
     ]
    },
    {
     "name": "stdout",
     "output_type": "stream",
     "text": [
      "predictions for run #\n",
      "5\n",
      "[1.7835815 2.336146  3.3699815 3.620692  4.0475807]\n",
      "Prediction List:\n",
      "[{'ld50_zhu': array([1.7835815, 2.336146 , 3.3699815, ..., 2.006633 , 2.3742006,\n",
      "       2.468544 ], dtype=float32)}, {'ld50_zhu': array([1.7835815, 2.336146 , 3.3699815, ..., 2.006633 , 2.3742006,\n",
      "       2.468544 ], dtype=float32)}, {'ld50_zhu': array([1.7835815, 2.336146 , 3.3699815, ..., 2.006633 , 2.3742006,\n",
      "       2.468544 ], dtype=float32)}, {'ld50_zhu': array([1.7835815, 2.336146 , 3.3699815, ..., 2.006633 , 2.3742006,\n",
      "       2.468544 ], dtype=float32)}, {'ld50_zhu': array([1.7835815, 2.336146 , 3.3699815, ..., 2.006633 , 2.3742006,\n",
      "       2.468544 ], dtype=float32)}]\n"
     ]
    }
   ],
   "source": [
    "predictions_list = []\n",
    "metric = deepchem.deepchem.metrics.Metric(deepchem.deepchem.metrics.mean_absolute_error)\n",
    "xgb_reg = xgboost.XGBRegressor()\n",
    "\n",
    "for seed in [1, 2, 3, 4, 5]:\n",
    "    benchmark = group.get('LD50_Zhu') \n",
    "    \n",
    "    predictions = {}\n",
    "    name = benchmark['name']\n",
    "    train_val, test = benchmark['train_val'], benchmark['test']\n",
    "    train, valid = group.get_train_valid_split(benchmark = name, split_type = 'default', seed = seed)  \n",
    "\n",
    "    trainMol = train.iloc[:,1].map(lambda x: Chem.MolFromSmiles(x))\n",
    "    validMol = valid.iloc[:,1].map(lambda x: Chem.MolFromSmiles(x))\n",
    "    train_valMol = train_val.iloc[:,1].map(lambda x: Chem.MolFromSmiles(x))\n",
    "    testMol = test.iloc[:,1].map(lambda x: Chem.MolFromSmiles(x))\n",
    "\n",
    "    #featurize training, valid, and test data for xgboost\n",
    "    trainFeat = np.stack(np.array(trainMol.map(lambda x: Fingerprinter.FingerprintMol(x)[1])))\n",
    "    validFeat = np.stack(np.array(validMol.map(lambda x: Fingerprinter.FingerprintMol(x)[1])))\n",
    "    testFeat = np.stack(np.array(testMol.map(lambda x: Fingerprinter.FingerprintMol(x)[1])))\n",
    "    train_valFeat = np.stack(np.array(train_valMol.map(lambda x: Fingerprinter.FingerprintMol(x)[1])))\n",
    "\n",
    "    #valid_data = list(zip(ecfp_f_valid, valid.iloc[:,2].to_list()))\n",
    "    #valid_data = [(ecfp_f_train, train.iloc[:,2].to_list()), (ecfp_f_valid, valid.iloc[:,2].to_list())]\n",
    "\n",
    "    #fit xgboost model and store np ndarray in xgb_pred\n",
    "    xgb_reg.fit(X=train_valFeat, y=train_val.iloc[:,2], eval_metric=\"mae\", verbose=True)\n",
    "    xgb_pred = xgb_reg.predict(X=testFeat)\n",
    "\n",
    "    # store test predictions in y_pred_test\n",
    "    y_pred_test = xgb_pred\n",
    "\n",
    "    print(\"predictions for run #\")\n",
    "    print(seed)\n",
    "    print(y_pred_test[0:5])\n",
    "        \n",
    "    predictions[name] = y_pred_test\n",
    "    predictions_list.append(predictions)\n",
    "\n",
    "print(\"Prediction List:\")\n",
    "print(predictions_list)"
   ]
  },
  {
   "cell_type": "code",
   "execution_count": 24,
   "metadata": {},
   "outputs": [
    {
     "name": "stdout",
     "output_type": "stream",
     "text": [
      "{'ld50_zhu': {'mae': 0.673}}\n",
      "{'ld50_zhu': {'mae': 0.673}}\n",
      "{'ld50_zhu': {'mae': 0.673}}\n",
      "{'ld50_zhu': {'mae': 0.673}}\n",
      "{'ld50_zhu': {'mae': 0.673}}\n"
     ]
    },
    {
     "data": {
      "text/plain": [
       "{'ld50_zhu': [0.673, 0.0]}"
      ]
     },
     "execution_count": 24,
     "metadata": {},
     "output_type": "execute_result"
    }
   ],
   "source": [
    "for i in predictions_list:\n",
    "    print(group.evaluate(i))\n",
    "\n",
    "group.evaluate_many(predictions_list)"
   ]
  }
 ],
 "metadata": {
  "interpreter": {
   "hash": "2d9ef161e060c37aa994177a4d833cab797e22621213b4f88b9fe284585c74c2"
  },
  "kernelspec": {
   "display_name": "Python 3.9.7 ('deepchem-test')",
   "language": "python",
   "name": "python3"
  },
  "language_info": {
   "codemirror_mode": {
    "name": "ipython",
    "version": 3
   },
   "file_extension": ".py",
   "mimetype": "text/x-python",
   "name": "python",
   "nbconvert_exporter": "python",
   "pygments_lexer": "ipython3",
   "version": "3.9.10"
  },
  "orig_nbformat": 4
 },
 "nbformat": 4,
 "nbformat_minor": 2
}
