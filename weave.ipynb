{
  "cells": [
    {
      "cell_type": "markdown",
      "metadata": {
        "colab_type": "text",
        "id": "view-in-github"
      },
      "source": [
        "<a href=\"https://colab.research.google.com/github/gitconnoisseur/toxicity-model/blob/master/ecfp_xgb.ipynb\" target=\"_parent\"><img src=\"https://colab.research.google.com/assets/colab-badge.svg\" alt=\"Open In Colab\"/></a>"
      ]
    },
    {
      "cell_type": "code",
      "execution_count": null,
      "metadata": {
        "id": "4hQtagVE1JEI"
      },
      "outputs": [],
      "source": [
        "!pip install PyTDC\n",
        "!pip install deepchem\n",
        "!pip install autokeras\n",
        "!pip install --upgrade numpy"
      ]
    },
    {
      "cell_type": "code",
      "execution_count": 1,
      "metadata": {
        "colab": {
          "base_uri": "https://localhost:8080/"
        },
        "id": "g2ePKUpM2Cdt",
        "outputId": "c12f8317-cc0d-4812-88e9-d45f1f635483"
      },
      "outputs": [
        {
          "name": "stderr",
          "output_type": "stream",
          "text": [
            "Found local copy...\n"
          ]
        }
      ],
      "source": [
        "#import autogluon as ag\n",
        "from tdc.single_pred import Tox\n",
        "import deepchem\n",
        "import xgboost\n",
        "\n",
        "import numpy as np\n",
        "import pandas as pd\n",
        "import tensorflow as tf\n",
        "import autokeras as ak\n",
        "\n",
        "from tdc.benchmark_group import admet_group\n",
        "group = admet_group(path = 'data/')"
      ]
    },
    {
      "cell_type": "code",
      "execution_count": 3,
      "metadata": {
        "colab": {
          "background_save": true,
          "base_uri": "https://localhost:8080/"
        },
        "id": "PwUPswth2OJ-",
        "outputId": "e3d63d13-4367-4209-e680-7c61667a77ab"
      },
      "outputs": [
        {
          "name": "stderr",
          "output_type": "stream",
          "text": [
            "generating training, validation splits...\n",
            "100%|██████████| 5907/5907 [00:01<00:00, 3894.79it/s]\n"
          ]
        },
        {
          "name": "stdout",
          "output_type": "stream",
          "text": [
            "WARNING:tensorflow:Gradients do not exist for variables ['weave_layer_1/kernel:0', 'weave_layer_1/Variable:0', 'weave_layer_1/kernel:0', 'weave_layer_1/Variable:0', 'weave_layer_1/kernel:0', 'weave_layer_1/Variable:0', 'weave_layer_1/batch_normalization_3/gamma:0', 'weave_layer_1/batch_normalization_3/beta:0', 'weave_layer_1/batch_normalization_4/gamma:0', 'weave_layer_1/batch_normalization_4/beta:0', 'weave_layer_1/batch_normalization_5/gamma:0', 'weave_layer_1/batch_normalization_5/beta:0'] when minimizing the loss.\n"
          ]
        },
        {
          "name": "stderr",
          "output_type": "stream",
          "text": [
            "WARNING:tensorflow:Gradients do not exist for variables ['weave_layer_1/kernel:0', 'weave_layer_1/Variable:0', 'weave_layer_1/kernel:0', 'weave_layer_1/Variable:0', 'weave_layer_1/kernel:0', 'weave_layer_1/Variable:0', 'weave_layer_1/batch_normalization_3/gamma:0', 'weave_layer_1/batch_normalization_3/beta:0', 'weave_layer_1/batch_normalization_4/gamma:0', 'weave_layer_1/batch_normalization_4/beta:0', 'weave_layer_1/batch_normalization_5/gamma:0', 'weave_layer_1/batch_normalization_5/beta:0'] when minimizing the loss.\n"
          ]
        },
        {
          "name": "stdout",
          "output_type": "stream",
          "text": [
            "WARNING:tensorflow:Gradients do not exist for variables ['weave_layer_1/kernel:0', 'weave_layer_1/Variable:0', 'weave_layer_1/kernel:0', 'weave_layer_1/Variable:0', 'weave_layer_1/kernel:0', 'weave_layer_1/Variable:0', 'weave_layer_1/batch_normalization_3/gamma:0', 'weave_layer_1/batch_normalization_3/beta:0', 'weave_layer_1/batch_normalization_4/gamma:0', 'weave_layer_1/batch_normalization_4/beta:0', 'weave_layer_1/batch_normalization_5/gamma:0', 'weave_layer_1/batch_normalization_5/beta:0'] when minimizing the loss.\n"
          ]
        },
        {
          "name": "stderr",
          "output_type": "stream",
          "text": [
            "WARNING:tensorflow:Gradients do not exist for variables ['weave_layer_1/kernel:0', 'weave_layer_1/Variable:0', 'weave_layer_1/kernel:0', 'weave_layer_1/Variable:0', 'weave_layer_1/kernel:0', 'weave_layer_1/Variable:0', 'weave_layer_1/batch_normalization_3/gamma:0', 'weave_layer_1/batch_normalization_3/beta:0', 'weave_layer_1/batch_normalization_4/gamma:0', 'weave_layer_1/batch_normalization_4/beta:0', 'weave_layer_1/batch_normalization_5/gamma:0', 'weave_layer_1/batch_normalization_5/beta:0'] when minimizing the loss.\n"
          ]
        },
        {
          "name": "stdout",
          "output_type": "stream",
          "text": [
            "WARNING:tensorflow:Gradients do not exist for variables ['weave_layer_1/kernel:0', 'weave_layer_1/Variable:0', 'weave_layer_1/kernel:0', 'weave_layer_1/Variable:0', 'weave_layer_1/kernel:0', 'weave_layer_1/Variable:0', 'weave_layer_1/batch_normalization_3/gamma:0', 'weave_layer_1/batch_normalization_3/beta:0', 'weave_layer_1/batch_normalization_4/gamma:0', 'weave_layer_1/batch_normalization_4/beta:0', 'weave_layer_1/batch_normalization_5/gamma:0', 'weave_layer_1/batch_normalization_5/beta:0'] when minimizing the loss.\n"
          ]
        },
        {
          "name": "stderr",
          "output_type": "stream",
          "text": [
            "WARNING:tensorflow:Gradients do not exist for variables ['weave_layer_1/kernel:0', 'weave_layer_1/Variable:0', 'weave_layer_1/kernel:0', 'weave_layer_1/Variable:0', 'weave_layer_1/kernel:0', 'weave_layer_1/Variable:0', 'weave_layer_1/batch_normalization_3/gamma:0', 'weave_layer_1/batch_normalization_3/beta:0', 'weave_layer_1/batch_normalization_4/gamma:0', 'weave_layer_1/batch_normalization_4/beta:0', 'weave_layer_1/batch_normalization_5/gamma:0', 'weave_layer_1/batch_normalization_5/beta:0'] when minimizing the loss.\n"
          ]
        },
        {
          "ename": "KeyboardInterrupt",
          "evalue": "",
          "output_type": "error",
          "traceback": [
            "\u001b[1;31m---------------------------------------------------------------------------\u001b[0m",
            "\u001b[1;31mKeyboardInterrupt\u001b[0m                         Traceback (most recent call last)",
            "\u001b[1;32m~\\AppData\\Local\\Temp/ipykernel_33680/3967229214.py\u001b[0m in \u001b[0;36m<module>\u001b[1;34m\u001b[0m\n\u001b[0;32m     25\u001b[0m     \u001b[0mreg\u001b[0m \u001b[1;33m=\u001b[0m \u001b[0mdeepchem\u001b[0m\u001b[1;33m.\u001b[0m\u001b[0mdeepchem\u001b[0m\u001b[1;33m.\u001b[0m\u001b[0mmodels\u001b[0m\u001b[1;33m.\u001b[0m\u001b[0mWeaveModel\u001b[0m\u001b[1;33m(\u001b[0m\u001b[0mn_tasks\u001b[0m\u001b[1;33m=\u001b[0m\u001b[1;36m1\u001b[0m\u001b[1;33m,\u001b[0m \u001b[0mmode\u001b[0m\u001b[1;33m=\u001b[0m\u001b[1;34m\"regression\"\u001b[0m\u001b[1;33m,\u001b[0m \u001b[0mbatch_normalize_kwargs\u001b[0m\u001b[1;33m=\u001b[0m\u001b[1;33m{\u001b[0m\u001b[1;34m\"trainable\"\u001b[0m\u001b[1;33m:\u001b[0m \u001b[1;32mFalse\u001b[0m\u001b[1;33m}\u001b[0m\u001b[1;33m)\u001b[0m\u001b[1;33m\u001b[0m\u001b[1;33m\u001b[0m\u001b[0m\n\u001b[0;32m     26\u001b[0m     \u001b[0mcallback\u001b[0m \u001b[1;33m=\u001b[0m \u001b[0mdeepchem\u001b[0m\u001b[1;33m.\u001b[0m\u001b[0mdeepchem\u001b[0m\u001b[1;33m.\u001b[0m\u001b[0mmodels\u001b[0m\u001b[1;33m.\u001b[0m\u001b[0mValidationCallback\u001b[0m\u001b[1;33m(\u001b[0m\u001b[0mvalid_data\u001b[0m\u001b[1;33m,\u001b[0m \u001b[1;36m1000\u001b[0m\u001b[1;33m,\u001b[0m \u001b[0mmetric\u001b[0m\u001b[1;33m)\u001b[0m\u001b[1;33m\u001b[0m\u001b[1;33m\u001b[0m\u001b[0m\n\u001b[1;32m---> 27\u001b[1;33m     \u001b[0mreg\u001b[0m\u001b[1;33m.\u001b[0m\u001b[0mfit\u001b[0m\u001b[1;33m(\u001b[0m\u001b[0mtrain_data\u001b[0m\u001b[1;33m,\u001b[0m \u001b[0mnb_epoch\u001b[0m\u001b[1;33m=\u001b[0m\u001b[1;36m100\u001b[0m\u001b[1;33m,\u001b[0m \u001b[0mcallbacks\u001b[0m\u001b[1;33m=\u001b[0m\u001b[0mcallback\u001b[0m\u001b[1;33m)\u001b[0m\u001b[1;33m\u001b[0m\u001b[1;33m\u001b[0m\u001b[0m\n\u001b[0m\u001b[0;32m     28\u001b[0m \u001b[1;33m\u001b[0m\u001b[0m\n\u001b[0;32m     29\u001b[0m     \u001b[0mtestFeatures\u001b[0m \u001b[1;33m=\u001b[0m \u001b[0mnp\u001b[0m\u001b[1;33m.\u001b[0m\u001b[0marray\u001b[0m\u001b[1;33m(\u001b[0m\u001b[0mfeaturizer\u001b[0m\u001b[1;33m.\u001b[0m\u001b[0mfeaturize\u001b[0m\u001b[1;33m(\u001b[0m\u001b[0mtest\u001b[0m\u001b[1;33m.\u001b[0m\u001b[0miloc\u001b[0m\u001b[1;33m[\u001b[0m\u001b[1;33m:\u001b[0m\u001b[1;33m,\u001b[0m\u001b[1;36m1\u001b[0m\u001b[1;33m]\u001b[0m\u001b[1;33m.\u001b[0m\u001b[0mto_list\u001b[0m\u001b[1;33m(\u001b[0m\u001b[1;33m)\u001b[0m\u001b[1;33m)\u001b[0m\u001b[1;33m)\u001b[0m\u001b[1;33m\u001b[0m\u001b[1;33m\u001b[0m\u001b[0m\n",
            "\u001b[1;32m~\\.conda\\envs\\deepchem-test\\lib\\site-packages\\deepchem\\models\\keras_model.py\u001b[0m in \u001b[0;36mfit\u001b[1;34m(self, dataset, nb_epoch, max_checkpoints_to_keep, checkpoint_interval, deterministic, restore, variables, loss, callbacks, all_losses)\u001b[0m\n\u001b[0;32m    353\u001b[0m     \u001b[0mThe\u001b[0m \u001b[0maverage\u001b[0m \u001b[0mloss\u001b[0m \u001b[0mover\u001b[0m \u001b[0mthe\u001b[0m \u001b[0mmost\u001b[0m \u001b[0mrecent\u001b[0m \u001b[0mcheckpoint\u001b[0m \u001b[0minterval\u001b[0m\u001b[1;33m\u001b[0m\u001b[1;33m\u001b[0m\u001b[0m\n\u001b[0;32m    354\u001b[0m    \"\"\"\n\u001b[1;32m--> 355\u001b[1;33m     return self.fit_generator(\n\u001b[0m\u001b[0;32m    356\u001b[0m         self.default_generator(\n\u001b[0;32m    357\u001b[0m             \u001b[0mdataset\u001b[0m\u001b[1;33m,\u001b[0m \u001b[0mepochs\u001b[0m\u001b[1;33m=\u001b[0m\u001b[0mnb_epoch\u001b[0m\u001b[1;33m,\u001b[0m\u001b[1;33m\u001b[0m\u001b[1;33m\u001b[0m\u001b[0m\n",
            "\u001b[1;32m~\\.conda\\envs\\deepchem-test\\lib\\site-packages\\deepchem\\models\\keras_model.py\u001b[0m in \u001b[0;36mfit_generator\u001b[1;34m(self, generator, max_checkpoints_to_keep, checkpoint_interval, restore, variables, loss, callbacks, all_losses)\u001b[0m\n\u001b[0;32m    442\u001b[0m         \u001b[0minputs\u001b[0m \u001b[1;33m=\u001b[0m \u001b[0minputs\u001b[0m\u001b[1;33m[\u001b[0m\u001b[1;36m0\u001b[0m\u001b[1;33m]\u001b[0m\u001b[1;33m\u001b[0m\u001b[1;33m\u001b[0m\u001b[0m\n\u001b[0;32m    443\u001b[0m \u001b[1;33m\u001b[0m\u001b[0m\n\u001b[1;32m--> 444\u001b[1;33m       \u001b[0mbatch_loss\u001b[0m \u001b[1;33m=\u001b[0m \u001b[0mapply_gradient_for_batch\u001b[0m\u001b[1;33m(\u001b[0m\u001b[0minputs\u001b[0m\u001b[1;33m,\u001b[0m \u001b[0mlabels\u001b[0m\u001b[1;33m,\u001b[0m \u001b[0mweights\u001b[0m\u001b[1;33m,\u001b[0m \u001b[0mloss\u001b[0m\u001b[1;33m)\u001b[0m\u001b[1;33m\u001b[0m\u001b[1;33m\u001b[0m\u001b[0m\n\u001b[0m\u001b[0;32m    445\u001b[0m       \u001b[0mcurrent_step\u001b[0m \u001b[1;33m=\u001b[0m \u001b[0mself\u001b[0m\u001b[1;33m.\u001b[0m\u001b[0m_global_step\u001b[0m\u001b[1;33m.\u001b[0m\u001b[0mnumpy\u001b[0m\u001b[1;33m(\u001b[0m\u001b[1;33m)\u001b[0m\u001b[1;33m\u001b[0m\u001b[1;33m\u001b[0m\u001b[0m\n\u001b[0;32m    446\u001b[0m \u001b[1;33m\u001b[0m\u001b[0m\n",
            "\u001b[1;32m~\\.conda\\envs\\deepchem-test\\lib\\site-packages\\tensorflow\\python\\eager\\def_function.py\u001b[0m in \u001b[0;36m__call__\u001b[1;34m(self, *args, **kwds)\u001b[0m\n\u001b[0;32m    883\u001b[0m \u001b[1;33m\u001b[0m\u001b[0m\n\u001b[0;32m    884\u001b[0m       \u001b[1;32mwith\u001b[0m \u001b[0mOptionalXlaContext\u001b[0m\u001b[1;33m(\u001b[0m\u001b[0mself\u001b[0m\u001b[1;33m.\u001b[0m\u001b[0m_jit_compile\u001b[0m\u001b[1;33m)\u001b[0m\u001b[1;33m:\u001b[0m\u001b[1;33m\u001b[0m\u001b[1;33m\u001b[0m\u001b[0m\n\u001b[1;32m--> 885\u001b[1;33m         \u001b[0mresult\u001b[0m \u001b[1;33m=\u001b[0m \u001b[0mself\u001b[0m\u001b[1;33m.\u001b[0m\u001b[0m_call\u001b[0m\u001b[1;33m(\u001b[0m\u001b[1;33m*\u001b[0m\u001b[0margs\u001b[0m\u001b[1;33m,\u001b[0m \u001b[1;33m**\u001b[0m\u001b[0mkwds\u001b[0m\u001b[1;33m)\u001b[0m\u001b[1;33m\u001b[0m\u001b[1;33m\u001b[0m\u001b[0m\n\u001b[0m\u001b[0;32m    886\u001b[0m \u001b[1;33m\u001b[0m\u001b[0m\n\u001b[0;32m    887\u001b[0m       \u001b[0mnew_tracing_count\u001b[0m \u001b[1;33m=\u001b[0m \u001b[0mself\u001b[0m\u001b[1;33m.\u001b[0m\u001b[0mexperimental_get_tracing_count\u001b[0m\u001b[1;33m(\u001b[0m\u001b[1;33m)\u001b[0m\u001b[1;33m\u001b[0m\u001b[1;33m\u001b[0m\u001b[0m\n",
            "\u001b[1;32m~\\.conda\\envs\\deepchem-test\\lib\\site-packages\\tensorflow\\python\\eager\\def_function.py\u001b[0m in \u001b[0;36m_call\u001b[1;34m(self, *args, **kwds)\u001b[0m\n\u001b[0;32m    915\u001b[0m       \u001b[1;31m# In this case we have created variables on the first call, so we run the\u001b[0m\u001b[1;33m\u001b[0m\u001b[1;33m\u001b[0m\u001b[0m\n\u001b[0;32m    916\u001b[0m       \u001b[1;31m# defunned version which is guaranteed to never create variables.\u001b[0m\u001b[1;33m\u001b[0m\u001b[1;33m\u001b[0m\u001b[0m\n\u001b[1;32m--> 917\u001b[1;33m       \u001b[1;32mreturn\u001b[0m \u001b[0mself\u001b[0m\u001b[1;33m.\u001b[0m\u001b[0m_stateless_fn\u001b[0m\u001b[1;33m(\u001b[0m\u001b[1;33m*\u001b[0m\u001b[0margs\u001b[0m\u001b[1;33m,\u001b[0m \u001b[1;33m**\u001b[0m\u001b[0mkwds\u001b[0m\u001b[1;33m)\u001b[0m  \u001b[1;31m# pylint: disable=not-callable\u001b[0m\u001b[1;33m\u001b[0m\u001b[1;33m\u001b[0m\u001b[0m\n\u001b[0m\u001b[0;32m    918\u001b[0m     \u001b[1;32melif\u001b[0m \u001b[0mself\u001b[0m\u001b[1;33m.\u001b[0m\u001b[0m_stateful_fn\u001b[0m \u001b[1;32mis\u001b[0m \u001b[1;32mnot\u001b[0m \u001b[1;32mNone\u001b[0m\u001b[1;33m:\u001b[0m\u001b[1;33m\u001b[0m\u001b[1;33m\u001b[0m\u001b[0m\n\u001b[0;32m    919\u001b[0m       \u001b[1;31m# Release the lock early so that multiple threads can perform the call\u001b[0m\u001b[1;33m\u001b[0m\u001b[1;33m\u001b[0m\u001b[0m\n",
            "\u001b[1;32m~\\.conda\\envs\\deepchem-test\\lib\\site-packages\\tensorflow\\python\\eager\\function.py\u001b[0m in \u001b[0;36m__call__\u001b[1;34m(self, *args, **kwargs)\u001b[0m\n\u001b[0;32m   3036\u001b[0m     \u001b[1;32mwith\u001b[0m \u001b[0mself\u001b[0m\u001b[1;33m.\u001b[0m\u001b[0m_lock\u001b[0m\u001b[1;33m:\u001b[0m\u001b[1;33m\u001b[0m\u001b[1;33m\u001b[0m\u001b[0m\n\u001b[0;32m   3037\u001b[0m       (graph_function,\n\u001b[1;32m-> 3038\u001b[1;33m        filtered_flat_args) = self._maybe_define_function(args, kwargs)\n\u001b[0m\u001b[0;32m   3039\u001b[0m     return graph_function._call_flat(\n\u001b[0;32m   3040\u001b[0m         filtered_flat_args, captured_inputs=graph_function.captured_inputs)  # pylint: disable=protected-access\n",
            "\u001b[1;32m~\\.conda\\envs\\deepchem-test\\lib\\site-packages\\tensorflow\\python\\eager\\function.py\u001b[0m in \u001b[0;36m_maybe_define_function\u001b[1;34m(self, args, kwargs)\u001b[0m\n\u001b[0;32m   3457\u001b[0m               \u001b[0mself\u001b[0m\u001b[1;33m.\u001b[0m\u001b[0minput_signature\u001b[0m \u001b[1;32mis\u001b[0m \u001b[1;32mNone\u001b[0m \u001b[1;32mand\u001b[0m\u001b[1;33m\u001b[0m\u001b[1;33m\u001b[0m\u001b[0m\n\u001b[0;32m   3458\u001b[0m               call_context_key in self._function_cache.missed):\n\u001b[1;32m-> 3459\u001b[1;33m             return self._define_function_with_shape_relaxation(\n\u001b[0m\u001b[0;32m   3460\u001b[0m                 args, kwargs, flat_args, filtered_flat_args, cache_key_context)\n\u001b[0;32m   3461\u001b[0m \u001b[1;33m\u001b[0m\u001b[0m\n",
            "\u001b[1;32m~\\.conda\\envs\\deepchem-test\\lib\\site-packages\\tensorflow\\python\\eager\\function.py\u001b[0m in \u001b[0;36m_define_function_with_shape_relaxation\u001b[1;34m(self, args, kwargs, flat_args, filtered_flat_args, cache_key_context)\u001b[0m\n\u001b[0;32m   3379\u001b[0m           expand_composites=True)\n\u001b[0;32m   3380\u001b[0m \u001b[1;33m\u001b[0m\u001b[0m\n\u001b[1;32m-> 3381\u001b[1;33m     graph_function = self._create_graph_function(\n\u001b[0m\u001b[0;32m   3382\u001b[0m         args, kwargs, override_flat_arg_shapes=relaxed_arg_shapes)\n\u001b[0;32m   3383\u001b[0m     \u001b[0mself\u001b[0m\u001b[1;33m.\u001b[0m\u001b[0m_function_cache\u001b[0m\u001b[1;33m.\u001b[0m\u001b[0marg_relaxed\u001b[0m\u001b[1;33m[\u001b[0m\u001b[0mrank_only_cache_key\u001b[0m\u001b[1;33m]\u001b[0m \u001b[1;33m=\u001b[0m \u001b[0mgraph_function\u001b[0m\u001b[1;33m\u001b[0m\u001b[1;33m\u001b[0m\u001b[0m\n",
            "\u001b[1;32m~\\.conda\\envs\\deepchem-test\\lib\\site-packages\\tensorflow\\python\\eager\\function.py\u001b[0m in \u001b[0;36m_create_graph_function\u001b[1;34m(self, args, kwargs, override_flat_arg_shapes)\u001b[0m\n\u001b[0;32m   3296\u001b[0m     \u001b[0marg_names\u001b[0m \u001b[1;33m=\u001b[0m \u001b[0mbase_arg_names\u001b[0m \u001b[1;33m+\u001b[0m \u001b[0mmissing_arg_names\u001b[0m\u001b[1;33m\u001b[0m\u001b[1;33m\u001b[0m\u001b[0m\n\u001b[0;32m   3297\u001b[0m     graph_function = ConcreteFunction(\n\u001b[1;32m-> 3298\u001b[1;33m         func_graph_module.func_graph_from_py_func(\n\u001b[0m\u001b[0;32m   3299\u001b[0m             \u001b[0mself\u001b[0m\u001b[1;33m.\u001b[0m\u001b[0m_name\u001b[0m\u001b[1;33m,\u001b[0m\u001b[1;33m\u001b[0m\u001b[1;33m\u001b[0m\u001b[0m\n\u001b[0;32m   3300\u001b[0m             \u001b[0mself\u001b[0m\u001b[1;33m.\u001b[0m\u001b[0m_python_function\u001b[0m\u001b[1;33m,\u001b[0m\u001b[1;33m\u001b[0m\u001b[1;33m\u001b[0m\u001b[0m\n",
            "\u001b[1;32m~\\.conda\\envs\\deepchem-test\\lib\\site-packages\\tensorflow\\python\\framework\\func_graph.py\u001b[0m in \u001b[0;36mfunc_graph_from_py_func\u001b[1;34m(name, python_func, args, kwargs, signature, func_graph, autograph, autograph_options, add_control_dependencies, arg_names, op_return_value, collections, capture_by_value, override_flat_arg_shapes, acd_record_initial_resource_uses)\u001b[0m\n\u001b[0;32m   1005\u001b[0m         \u001b[0m_\u001b[0m\u001b[1;33m,\u001b[0m \u001b[0moriginal_func\u001b[0m \u001b[1;33m=\u001b[0m \u001b[0mtf_decorator\u001b[0m\u001b[1;33m.\u001b[0m\u001b[0munwrap\u001b[0m\u001b[1;33m(\u001b[0m\u001b[0mpython_func\u001b[0m\u001b[1;33m)\u001b[0m\u001b[1;33m\u001b[0m\u001b[1;33m\u001b[0m\u001b[0m\n\u001b[0;32m   1006\u001b[0m \u001b[1;33m\u001b[0m\u001b[0m\n\u001b[1;32m-> 1007\u001b[1;33m       \u001b[0mfunc_outputs\u001b[0m \u001b[1;33m=\u001b[0m \u001b[0mpython_func\u001b[0m\u001b[1;33m(\u001b[0m\u001b[1;33m*\u001b[0m\u001b[0mfunc_args\u001b[0m\u001b[1;33m,\u001b[0m \u001b[1;33m**\u001b[0m\u001b[0mfunc_kwargs\u001b[0m\u001b[1;33m)\u001b[0m\u001b[1;33m\u001b[0m\u001b[1;33m\u001b[0m\u001b[0m\n\u001b[0m\u001b[0;32m   1008\u001b[0m \u001b[1;33m\u001b[0m\u001b[0m\n\u001b[0;32m   1009\u001b[0m       \u001b[1;31m# invariant: `func_outputs` contains only Tensors, CompositeTensors,\u001b[0m\u001b[1;33m\u001b[0m\u001b[1;33m\u001b[0m\u001b[0m\n",
            "\u001b[1;32m~\\.conda\\envs\\deepchem-test\\lib\\site-packages\\tensorflow\\python\\eager\\def_function.py\u001b[0m in \u001b[0;36mwrapped_fn\u001b[1;34m(*args, **kwds)\u001b[0m\n\u001b[0;32m    666\u001b[0m         \u001b[1;31m# the function a weak reference to itself to avoid a reference cycle.\u001b[0m\u001b[1;33m\u001b[0m\u001b[1;33m\u001b[0m\u001b[0m\n\u001b[0;32m    667\u001b[0m         \u001b[1;32mwith\u001b[0m \u001b[0mOptionalXlaContext\u001b[0m\u001b[1;33m(\u001b[0m\u001b[0mcompile_with_xla\u001b[0m\u001b[1;33m)\u001b[0m\u001b[1;33m:\u001b[0m\u001b[1;33m\u001b[0m\u001b[1;33m\u001b[0m\u001b[0m\n\u001b[1;32m--> 668\u001b[1;33m           \u001b[0mout\u001b[0m \u001b[1;33m=\u001b[0m \u001b[0mweak_wrapped_fn\u001b[0m\u001b[1;33m(\u001b[0m\u001b[1;33m)\u001b[0m\u001b[1;33m.\u001b[0m\u001b[0m__wrapped__\u001b[0m\u001b[1;33m(\u001b[0m\u001b[1;33m*\u001b[0m\u001b[0margs\u001b[0m\u001b[1;33m,\u001b[0m \u001b[1;33m**\u001b[0m\u001b[0mkwds\u001b[0m\u001b[1;33m)\u001b[0m\u001b[1;33m\u001b[0m\u001b[1;33m\u001b[0m\u001b[0m\n\u001b[0m\u001b[0;32m    669\u001b[0m         \u001b[1;32mreturn\u001b[0m \u001b[0mout\u001b[0m\u001b[1;33m\u001b[0m\u001b[1;33m\u001b[0m\u001b[0m\n\u001b[0;32m    670\u001b[0m \u001b[1;33m\u001b[0m\u001b[0m\n",
            "\u001b[1;32m~\\.conda\\envs\\deepchem-test\\lib\\site-packages\\tensorflow\\python\\framework\\func_graph.py\u001b[0m in \u001b[0;36mwrapper\u001b[1;34m(*args, **kwargs)\u001b[0m\n\u001b[0;32m    981\u001b[0m           \u001b[1;31m# TODO(mdan): Push this block higher in tf.function's call stack.\u001b[0m\u001b[1;33m\u001b[0m\u001b[1;33m\u001b[0m\u001b[0m\n\u001b[0;32m    982\u001b[0m           \u001b[1;32mtry\u001b[0m\u001b[1;33m:\u001b[0m\u001b[1;33m\u001b[0m\u001b[1;33m\u001b[0m\u001b[0m\n\u001b[1;32m--> 983\u001b[1;33m             return autograph.converted_call(\n\u001b[0m\u001b[0;32m    984\u001b[0m                 \u001b[0moriginal_func\u001b[0m\u001b[1;33m,\u001b[0m\u001b[1;33m\u001b[0m\u001b[1;33m\u001b[0m\u001b[0m\n\u001b[0;32m    985\u001b[0m                 \u001b[0margs\u001b[0m\u001b[1;33m,\u001b[0m\u001b[1;33m\u001b[0m\u001b[1;33m\u001b[0m\u001b[0m\n",
            "\u001b[1;32m~\\.conda\\envs\\deepchem-test\\lib\\site-packages\\tensorflow\\python\\autograph\\impl\\api.py\u001b[0m in \u001b[0;36mconverted_call\u001b[1;34m(f, args, kwargs, caller_fn_scope, options)\u001b[0m\n\u001b[0;32m    442\u001b[0m     \u001b[1;32mtry\u001b[0m\u001b[1;33m:\u001b[0m\u001b[1;33m\u001b[0m\u001b[1;33m\u001b[0m\u001b[0m\n\u001b[0;32m    443\u001b[0m       \u001b[1;32mif\u001b[0m \u001b[0mkwargs\u001b[0m \u001b[1;32mis\u001b[0m \u001b[1;32mnot\u001b[0m \u001b[1;32mNone\u001b[0m\u001b[1;33m:\u001b[0m\u001b[1;33m\u001b[0m\u001b[1;33m\u001b[0m\u001b[0m\n\u001b[1;32m--> 444\u001b[1;33m         \u001b[0mresult\u001b[0m \u001b[1;33m=\u001b[0m \u001b[0mconverted_f\u001b[0m\u001b[1;33m(\u001b[0m\u001b[1;33m*\u001b[0m\u001b[0meffective_args\u001b[0m\u001b[1;33m,\u001b[0m \u001b[1;33m**\u001b[0m\u001b[0mkwargs\u001b[0m\u001b[1;33m)\u001b[0m\u001b[1;33m\u001b[0m\u001b[1;33m\u001b[0m\u001b[0m\n\u001b[0m\u001b[0;32m    445\u001b[0m       \u001b[1;32melse\u001b[0m\u001b[1;33m:\u001b[0m\u001b[1;33m\u001b[0m\u001b[1;33m\u001b[0m\u001b[0m\n\u001b[0;32m    446\u001b[0m         \u001b[0mresult\u001b[0m \u001b[1;33m=\u001b[0m \u001b[0mconverted_f\u001b[0m\u001b[1;33m(\u001b[0m\u001b[1;33m*\u001b[0m\u001b[0meffective_args\u001b[0m\u001b[1;33m)\u001b[0m\u001b[1;33m\u001b[0m\u001b[1;33m\u001b[0m\u001b[0m\n",
            "\u001b[1;32m~\\.conda\\envs\\deepchem-test\\lib\\site-packages\\deepchem\\models\\keras_model.py\u001b[0m in \u001b[0;36mtf__apply_gradient_for_batch\u001b[1;34m(inputs, labels, weights, loss)\u001b[0m\n\u001b[0;32m     11\u001b[0m                 \u001b[0mretval_\u001b[0m \u001b[1;33m=\u001b[0m \u001b[0mag__\u001b[0m\u001b[1;33m.\u001b[0m\u001b[0mUndefinedReturnValue\u001b[0m\u001b[1;33m(\u001b[0m\u001b[1;33m)\u001b[0m\u001b[1;33m\u001b[0m\u001b[1;33m\u001b[0m\u001b[0m\n\u001b[0;32m     12\u001b[0m                 \u001b[1;32mwith\u001b[0m \u001b[0mag__\u001b[0m\u001b[1;33m.\u001b[0m\u001b[0mld\u001b[0m\u001b[1;33m(\u001b[0m\u001b[0mtf\u001b[0m\u001b[1;33m)\u001b[0m\u001b[1;33m.\u001b[0m\u001b[0mGradientTape\u001b[0m\u001b[1;33m(\u001b[0m\u001b[1;33m)\u001b[0m \u001b[1;32mas\u001b[0m \u001b[0mtape\u001b[0m\u001b[1;33m:\u001b[0m\u001b[1;33m\u001b[0m\u001b[1;33m\u001b[0m\u001b[0m\n\u001b[1;32m---> 13\u001b[1;33m                     \u001b[0moutputs\u001b[0m \u001b[1;33m=\u001b[0m \u001b[0mag__\u001b[0m\u001b[1;33m.\u001b[0m\u001b[0mconverted_call\u001b[0m\u001b[1;33m(\u001b[0m\u001b[0mag__\u001b[0m\u001b[1;33m.\u001b[0m\u001b[0mld\u001b[0m\u001b[1;33m(\u001b[0m\u001b[0mself\u001b[0m\u001b[1;33m)\u001b[0m\u001b[1;33m.\u001b[0m\u001b[0mmodel\u001b[0m\u001b[1;33m,\u001b[0m \u001b[1;33m(\u001b[0m\u001b[0mag__\u001b[0m\u001b[1;33m.\u001b[0m\u001b[0mld\u001b[0m\u001b[1;33m(\u001b[0m\u001b[0minputs\u001b[0m\u001b[1;33m)\u001b[0m\u001b[1;33m,\u001b[0m\u001b[1;33m)\u001b[0m\u001b[1;33m,\u001b[0m \u001b[0mdict\u001b[0m\u001b[1;33m(\u001b[0m\u001b[0mtraining\u001b[0m\u001b[1;33m=\u001b[0m\u001b[1;32mTrue\u001b[0m\u001b[1;33m)\u001b[0m\u001b[1;33m,\u001b[0m \u001b[0mfscope\u001b[0m\u001b[1;33m)\u001b[0m\u001b[1;33m\u001b[0m\u001b[1;33m\u001b[0m\u001b[0m\n\u001b[0m\u001b[0;32m     14\u001b[0m \u001b[1;33m\u001b[0m\u001b[0m\n\u001b[0;32m     15\u001b[0m                     \u001b[1;32mdef\u001b[0m \u001b[0mget_state\u001b[0m\u001b[1;33m(\u001b[0m\u001b[1;33m)\u001b[0m\u001b[1;33m:\u001b[0m\u001b[1;33m\u001b[0m\u001b[1;33m\u001b[0m\u001b[0m\n",
            "\u001b[1;32m~\\.conda\\envs\\deepchem-test\\lib\\site-packages\\tensorflow\\python\\autograph\\impl\\api.py\u001b[0m in \u001b[0;36mconverted_call\u001b[1;34m(f, args, kwargs, caller_fn_scope, options)\u001b[0m\n\u001b[0;32m    334\u001b[0m   \u001b[1;32mif\u001b[0m \u001b[0mconversion\u001b[0m\u001b[1;33m.\u001b[0m\u001b[0mis_in_allowlist_cache\u001b[0m\u001b[1;33m(\u001b[0m\u001b[0mf\u001b[0m\u001b[1;33m,\u001b[0m \u001b[0moptions\u001b[0m\u001b[1;33m)\u001b[0m\u001b[1;33m:\u001b[0m\u001b[1;33m\u001b[0m\u001b[1;33m\u001b[0m\u001b[0m\n\u001b[0;32m    335\u001b[0m     \u001b[0mlogging\u001b[0m\u001b[1;33m.\u001b[0m\u001b[0mlog\u001b[0m\u001b[1;33m(\u001b[0m\u001b[1;36m2\u001b[0m\u001b[1;33m,\u001b[0m \u001b[1;34m'Allowlisted %s: from cache'\u001b[0m\u001b[1;33m,\u001b[0m \u001b[0mf\u001b[0m\u001b[1;33m)\u001b[0m\u001b[1;33m\u001b[0m\u001b[1;33m\u001b[0m\u001b[0m\n\u001b[1;32m--> 336\u001b[1;33m     \u001b[1;32mreturn\u001b[0m \u001b[0m_call_unconverted\u001b[0m\u001b[1;33m(\u001b[0m\u001b[0mf\u001b[0m\u001b[1;33m,\u001b[0m \u001b[0margs\u001b[0m\u001b[1;33m,\u001b[0m \u001b[0mkwargs\u001b[0m\u001b[1;33m,\u001b[0m \u001b[0moptions\u001b[0m\u001b[1;33m,\u001b[0m \u001b[1;32mFalse\u001b[0m\u001b[1;33m)\u001b[0m\u001b[1;33m\u001b[0m\u001b[1;33m\u001b[0m\u001b[0m\n\u001b[0m\u001b[0;32m    337\u001b[0m \u001b[1;33m\u001b[0m\u001b[0m\n\u001b[0;32m    338\u001b[0m   \u001b[1;32mif\u001b[0m \u001b[0mag_ctx\u001b[0m\u001b[1;33m.\u001b[0m\u001b[0mcontrol_status_ctx\u001b[0m\u001b[1;33m(\u001b[0m\u001b[1;33m)\u001b[0m\u001b[1;33m.\u001b[0m\u001b[0mstatus\u001b[0m \u001b[1;33m==\u001b[0m \u001b[0mag_ctx\u001b[0m\u001b[1;33m.\u001b[0m\u001b[0mStatus\u001b[0m\u001b[1;33m.\u001b[0m\u001b[0mDISABLED\u001b[0m\u001b[1;33m:\u001b[0m\u001b[1;33m\u001b[0m\u001b[1;33m\u001b[0m\u001b[0m\n",
            "\u001b[1;32m~\\.conda\\envs\\deepchem-test\\lib\\site-packages\\tensorflow\\python\\autograph\\impl\\api.py\u001b[0m in \u001b[0;36m_call_unconverted\u001b[1;34m(f, args, kwargs, options, update_cache)\u001b[0m\n\u001b[0;32m    461\u001b[0m \u001b[1;33m\u001b[0m\u001b[0m\n\u001b[0;32m    462\u001b[0m   \u001b[1;32mif\u001b[0m \u001b[0mkwargs\u001b[0m \u001b[1;32mis\u001b[0m \u001b[1;32mnot\u001b[0m \u001b[1;32mNone\u001b[0m\u001b[1;33m:\u001b[0m\u001b[1;33m\u001b[0m\u001b[1;33m\u001b[0m\u001b[0m\n\u001b[1;32m--> 463\u001b[1;33m     \u001b[1;32mreturn\u001b[0m \u001b[0mf\u001b[0m\u001b[1;33m(\u001b[0m\u001b[1;33m*\u001b[0m\u001b[0margs\u001b[0m\u001b[1;33m,\u001b[0m \u001b[1;33m**\u001b[0m\u001b[0mkwargs\u001b[0m\u001b[1;33m)\u001b[0m\u001b[1;33m\u001b[0m\u001b[1;33m\u001b[0m\u001b[0m\n\u001b[0m\u001b[0;32m    464\u001b[0m   \u001b[1;32mreturn\u001b[0m \u001b[0mf\u001b[0m\u001b[1;33m(\u001b[0m\u001b[1;33m*\u001b[0m\u001b[0margs\u001b[0m\u001b[1;33m)\u001b[0m\u001b[1;33m\u001b[0m\u001b[1;33m\u001b[0m\u001b[0m\n\u001b[0;32m    465\u001b[0m \u001b[1;33m\u001b[0m\u001b[0m\n",
            "\u001b[1;32m~\\.conda\\envs\\deepchem-test\\lib\\site-packages\\keras\\engine\\base_layer.py\u001b[0m in \u001b[0;36m__call__\u001b[1;34m(self, *args, **kwargs)\u001b[0m\n\u001b[0;32m   1035\u001b[0m         with autocast_variable.enable_auto_cast_variables(\n\u001b[0;32m   1036\u001b[0m             self._compute_dtype_object):\n\u001b[1;32m-> 1037\u001b[1;33m           \u001b[0moutputs\u001b[0m \u001b[1;33m=\u001b[0m \u001b[0mcall_fn\u001b[0m\u001b[1;33m(\u001b[0m\u001b[0minputs\u001b[0m\u001b[1;33m,\u001b[0m \u001b[1;33m*\u001b[0m\u001b[0margs\u001b[0m\u001b[1;33m,\u001b[0m \u001b[1;33m**\u001b[0m\u001b[0mkwargs\u001b[0m\u001b[1;33m)\u001b[0m\u001b[1;33m\u001b[0m\u001b[1;33m\u001b[0m\u001b[0m\n\u001b[0m\u001b[0;32m   1038\u001b[0m \u001b[1;33m\u001b[0m\u001b[0m\n\u001b[0;32m   1039\u001b[0m         \u001b[1;32mif\u001b[0m \u001b[0mself\u001b[0m\u001b[1;33m.\u001b[0m\u001b[0m_activity_regularizer\u001b[0m\u001b[1;33m:\u001b[0m\u001b[1;33m\u001b[0m\u001b[1;33m\u001b[0m\u001b[0m\n",
            "\u001b[1;32m~\\.conda\\envs\\deepchem-test\\lib\\site-packages\\keras\\engine\\functional.py\u001b[0m in \u001b[0;36mcall\u001b[1;34m(self, inputs, training, mask)\u001b[0m\n\u001b[0;32m    412\u001b[0m         \u001b[0ma\u001b[0m \u001b[0mlist\u001b[0m \u001b[0mof\u001b[0m \u001b[0mtensors\u001b[0m \u001b[1;32mif\u001b[0m \u001b[0mthere\u001b[0m \u001b[0mare\u001b[0m \u001b[0mmore\u001b[0m \u001b[0mthan\u001b[0m \u001b[0mone\u001b[0m \u001b[0moutputs\u001b[0m\u001b[1;33m.\u001b[0m\u001b[1;33m\u001b[0m\u001b[1;33m\u001b[0m\u001b[0m\n\u001b[0;32m    413\u001b[0m     \"\"\"\n\u001b[1;32m--> 414\u001b[1;33m     return self._run_internal_graph(\n\u001b[0m\u001b[0;32m    415\u001b[0m         inputs, training=training, mask=mask)\n\u001b[0;32m    416\u001b[0m \u001b[1;33m\u001b[0m\u001b[0m\n",
            "\u001b[1;32m~\\.conda\\envs\\deepchem-test\\lib\\site-packages\\keras\\engine\\functional.py\u001b[0m in \u001b[0;36m_run_internal_graph\u001b[1;34m(self, inputs, training, mask)\u001b[0m\n\u001b[0;32m    548\u001b[0m \u001b[1;33m\u001b[0m\u001b[0m\n\u001b[0;32m    549\u001b[0m         \u001b[0margs\u001b[0m\u001b[1;33m,\u001b[0m \u001b[0mkwargs\u001b[0m \u001b[1;33m=\u001b[0m \u001b[0mnode\u001b[0m\u001b[1;33m.\u001b[0m\u001b[0mmap_arguments\u001b[0m\u001b[1;33m(\u001b[0m\u001b[0mtensor_dict\u001b[0m\u001b[1;33m)\u001b[0m\u001b[1;33m\u001b[0m\u001b[1;33m\u001b[0m\u001b[0m\n\u001b[1;32m--> 550\u001b[1;33m         \u001b[0moutputs\u001b[0m \u001b[1;33m=\u001b[0m \u001b[0mnode\u001b[0m\u001b[1;33m.\u001b[0m\u001b[0mlayer\u001b[0m\u001b[1;33m(\u001b[0m\u001b[1;33m*\u001b[0m\u001b[0margs\u001b[0m\u001b[1;33m,\u001b[0m \u001b[1;33m**\u001b[0m\u001b[0mkwargs\u001b[0m\u001b[1;33m)\u001b[0m\u001b[1;33m\u001b[0m\u001b[1;33m\u001b[0m\u001b[0m\n\u001b[0m\u001b[0;32m    551\u001b[0m \u001b[1;33m\u001b[0m\u001b[0m\n\u001b[0;32m    552\u001b[0m         \u001b[1;31m# Update tensor_dict.\u001b[0m\u001b[1;33m\u001b[0m\u001b[1;33m\u001b[0m\u001b[0m\n",
            "\u001b[1;32m~\\.conda\\envs\\deepchem-test\\lib\\site-packages\\keras\\engine\\base_layer.py\u001b[0m in \u001b[0;36m__call__\u001b[1;34m(self, *args, **kwargs)\u001b[0m\n\u001b[0;32m   1035\u001b[0m         with autocast_variable.enable_auto_cast_variables(\n\u001b[0;32m   1036\u001b[0m             self._compute_dtype_object):\n\u001b[1;32m-> 1037\u001b[1;33m           \u001b[0moutputs\u001b[0m \u001b[1;33m=\u001b[0m \u001b[0mcall_fn\u001b[0m\u001b[1;33m(\u001b[0m\u001b[0minputs\u001b[0m\u001b[1;33m,\u001b[0m \u001b[1;33m*\u001b[0m\u001b[0margs\u001b[0m\u001b[1;33m,\u001b[0m \u001b[1;33m**\u001b[0m\u001b[0mkwargs\u001b[0m\u001b[1;33m)\u001b[0m\u001b[1;33m\u001b[0m\u001b[1;33m\u001b[0m\u001b[0m\n\u001b[0m\u001b[0;32m   1038\u001b[0m \u001b[1;33m\u001b[0m\u001b[0m\n\u001b[0;32m   1039\u001b[0m         \u001b[1;32mif\u001b[0m \u001b[0mself\u001b[0m\u001b[1;33m.\u001b[0m\u001b[0m_activity_regularizer\u001b[0m\u001b[1;33m:\u001b[0m\u001b[1;33m\u001b[0m\u001b[1;33m\u001b[0m\u001b[0m\n",
            "\u001b[1;32m~\\.conda\\envs\\deepchem-test\\lib\\site-packages\\tensorflow\\python\\autograph\\impl\\api.py\u001b[0m in \u001b[0;36mwrapper\u001b[1;34m(*args, **kwargs)\u001b[0m\n\u001b[0;32m    690\u001b[0m       \u001b[1;32mtry\u001b[0m\u001b[1;33m:\u001b[0m\u001b[1;33m\u001b[0m\u001b[1;33m\u001b[0m\u001b[0m\n\u001b[0;32m    691\u001b[0m         \u001b[1;32mwith\u001b[0m \u001b[0mconversion_ctx\u001b[0m\u001b[1;33m:\u001b[0m\u001b[1;33m\u001b[0m\u001b[1;33m\u001b[0m\u001b[0m\n\u001b[1;32m--> 692\u001b[1;33m           \u001b[1;32mreturn\u001b[0m \u001b[0mconverted_call\u001b[0m\u001b[1;33m(\u001b[0m\u001b[0mf\u001b[0m\u001b[1;33m,\u001b[0m \u001b[0margs\u001b[0m\u001b[1;33m,\u001b[0m \u001b[0mkwargs\u001b[0m\u001b[1;33m,\u001b[0m \u001b[0moptions\u001b[0m\u001b[1;33m=\u001b[0m\u001b[0moptions\u001b[0m\u001b[1;33m)\u001b[0m\u001b[1;33m\u001b[0m\u001b[1;33m\u001b[0m\u001b[0m\n\u001b[0m\u001b[0;32m    693\u001b[0m       \u001b[1;32mexcept\u001b[0m \u001b[0mException\u001b[0m \u001b[1;32mas\u001b[0m \u001b[0me\u001b[0m\u001b[1;33m:\u001b[0m  \u001b[1;31m# pylint:disable=broad-except\u001b[0m\u001b[1;33m\u001b[0m\u001b[1;33m\u001b[0m\u001b[0m\n\u001b[0;32m    694\u001b[0m         \u001b[1;32mif\u001b[0m \u001b[0mhasattr\u001b[0m\u001b[1;33m(\u001b[0m\u001b[0me\u001b[0m\u001b[1;33m,\u001b[0m \u001b[1;34m'ag_error_metadata'\u001b[0m\u001b[1;33m)\u001b[0m\u001b[1;33m:\u001b[0m\u001b[1;33m\u001b[0m\u001b[1;33m\u001b[0m\u001b[0m\n",
            "\u001b[1;32m~\\.conda\\envs\\deepchem-test\\lib\\site-packages\\tensorflow\\python\\autograph\\impl\\api.py\u001b[0m in \u001b[0;36mconverted_call\u001b[1;34m(f, args, kwargs, caller_fn_scope, options)\u001b[0m\n\u001b[0;32m    442\u001b[0m     \u001b[1;32mtry\u001b[0m\u001b[1;33m:\u001b[0m\u001b[1;33m\u001b[0m\u001b[1;33m\u001b[0m\u001b[0m\n\u001b[0;32m    443\u001b[0m       \u001b[1;32mif\u001b[0m \u001b[0mkwargs\u001b[0m \u001b[1;32mis\u001b[0m \u001b[1;32mnot\u001b[0m \u001b[1;32mNone\u001b[0m\u001b[1;33m:\u001b[0m\u001b[1;33m\u001b[0m\u001b[1;33m\u001b[0m\u001b[0m\n\u001b[1;32m--> 444\u001b[1;33m         \u001b[0mresult\u001b[0m \u001b[1;33m=\u001b[0m \u001b[0mconverted_f\u001b[0m\u001b[1;33m(\u001b[0m\u001b[1;33m*\u001b[0m\u001b[0meffective_args\u001b[0m\u001b[1;33m,\u001b[0m \u001b[1;33m**\u001b[0m\u001b[0mkwargs\u001b[0m\u001b[1;33m)\u001b[0m\u001b[1;33m\u001b[0m\u001b[1;33m\u001b[0m\u001b[0m\n\u001b[0m\u001b[0;32m    445\u001b[0m       \u001b[1;32melse\u001b[0m\u001b[1;33m:\u001b[0m\u001b[1;33m\u001b[0m\u001b[1;33m\u001b[0m\u001b[0m\n\u001b[0;32m    446\u001b[0m         \u001b[0mresult\u001b[0m \u001b[1;33m=\u001b[0m \u001b[0mconverted_f\u001b[0m\u001b[1;33m(\u001b[0m\u001b[1;33m*\u001b[0m\u001b[0meffective_args\u001b[0m\u001b[1;33m)\u001b[0m\u001b[1;33m\u001b[0m\u001b[1;33m\u001b[0m\u001b[0m\n",
            "\u001b[1;32m~\\.conda\\envs\\deepchem-test\\lib\\site-packages\\deepchem\\models\\layers.py\u001b[0m in \u001b[0;36mtf__call\u001b[1;34m(self, inputs)\u001b[0m\n\u001b[0;32m    166\u001b[0m                 \u001b[0mPP\u001b[0m \u001b[1;33m=\u001b[0m \u001b[0mag__\u001b[0m\u001b[1;33m.\u001b[0m\u001b[0mUndefined\u001b[0m\u001b[1;33m(\u001b[0m\u001b[1;34m'PP'\u001b[0m\u001b[1;33m)\u001b[0m\u001b[1;33m\u001b[0m\u001b[1;33m\u001b[0m\u001b[0m\n\u001b[0;32m    167\u001b[0m                 \u001b[0mAP_ji\u001b[0m \u001b[1;33m=\u001b[0m \u001b[0mag__\u001b[0m\u001b[1;33m.\u001b[0m\u001b[0mUndefined\u001b[0m\u001b[1;33m(\u001b[0m\u001b[1;34m'AP_ji'\u001b[0m\u001b[1;33m)\u001b[0m\u001b[1;33m\u001b[0m\u001b[1;33m\u001b[0m\u001b[0m\n\u001b[1;32m--> 168\u001b[1;33m                 \u001b[0mag__\u001b[0m\u001b[1;33m.\u001b[0m\u001b[0mif_stmt\u001b[0m\u001b[1;33m(\u001b[0m\u001b[0mag__\u001b[0m\u001b[1;33m.\u001b[0m\u001b[0mld\u001b[0m\u001b[1;33m(\u001b[0m\u001b[0mself\u001b[0m\u001b[1;33m)\u001b[0m\u001b[1;33m.\u001b[0m\u001b[0mupdate_pair\u001b[0m\u001b[1;33m,\u001b[0m \u001b[0mif_body_7\u001b[0m\u001b[1;33m,\u001b[0m \u001b[0melse_body_7\u001b[0m\u001b[1;33m,\u001b[0m \u001b[0mget_state_7\u001b[0m\u001b[1;33m,\u001b[0m \u001b[0mset_state_7\u001b[0m\u001b[1;33m,\u001b[0m \u001b[1;33m(\u001b[0m\u001b[1;34m'P'\u001b[0m\u001b[1;33m,\u001b[0m\u001b[1;33m)\u001b[0m\u001b[1;33m,\u001b[0m \u001b[1;36m1\u001b[0m\u001b[1;33m)\u001b[0m\u001b[1;33m\u001b[0m\u001b[1;33m\u001b[0m\u001b[0m\n\u001b[0m\u001b[0;32m    169\u001b[0m                 \u001b[1;32mtry\u001b[0m\u001b[1;33m:\u001b[0m\u001b[1;33m\u001b[0m\u001b[1;33m\u001b[0m\u001b[0m\n\u001b[0;32m    170\u001b[0m                     \u001b[0mdo_return\u001b[0m \u001b[1;33m=\u001b[0m \u001b[1;32mTrue\u001b[0m\u001b[1;33m\u001b[0m\u001b[1;33m\u001b[0m\u001b[0m\n",
            "\u001b[1;32m~\\.conda\\envs\\deepchem-test\\lib\\site-packages\\tensorflow\\python\\autograph\\operators\\control_flow.py\u001b[0m in \u001b[0;36mif_stmt\u001b[1;34m(cond, body, orelse, get_state, set_state, symbol_names, nouts)\u001b[0m\n\u001b[0;32m   1172\u001b[0m     \u001b[0m_tf_if_stmt\u001b[0m\u001b[1;33m(\u001b[0m\u001b[0mcond\u001b[0m\u001b[1;33m,\u001b[0m \u001b[0mbody\u001b[0m\u001b[1;33m,\u001b[0m \u001b[0morelse\u001b[0m\u001b[1;33m,\u001b[0m \u001b[0mget_state\u001b[0m\u001b[1;33m,\u001b[0m \u001b[0mset_state\u001b[0m\u001b[1;33m,\u001b[0m \u001b[0msymbol_names\u001b[0m\u001b[1;33m,\u001b[0m \u001b[0mnouts\u001b[0m\u001b[1;33m)\u001b[0m\u001b[1;33m\u001b[0m\u001b[1;33m\u001b[0m\u001b[0m\n\u001b[0;32m   1173\u001b[0m   \u001b[1;32melse\u001b[0m\u001b[1;33m:\u001b[0m\u001b[1;33m\u001b[0m\u001b[1;33m\u001b[0m\u001b[0m\n\u001b[1;32m-> 1174\u001b[1;33m     \u001b[0m_py_if_stmt\u001b[0m\u001b[1;33m(\u001b[0m\u001b[0mcond\u001b[0m\u001b[1;33m,\u001b[0m \u001b[0mbody\u001b[0m\u001b[1;33m,\u001b[0m \u001b[0morelse\u001b[0m\u001b[1;33m)\u001b[0m\u001b[1;33m\u001b[0m\u001b[1;33m\u001b[0m\u001b[0m\n\u001b[0m\u001b[0;32m   1175\u001b[0m \u001b[1;33m\u001b[0m\u001b[0m\n\u001b[0;32m   1176\u001b[0m \u001b[1;33m\u001b[0m\u001b[0m\n",
            "\u001b[1;32m~\\.conda\\envs\\deepchem-test\\lib\\site-packages\\tensorflow\\python\\autograph\\operators\\control_flow.py\u001b[0m in \u001b[0;36m_py_if_stmt\u001b[1;34m(cond, body, orelse)\u001b[0m\n\u001b[0;32m   1225\u001b[0m \u001b[1;32mdef\u001b[0m \u001b[0m_py_if_stmt\u001b[0m\u001b[1;33m(\u001b[0m\u001b[0mcond\u001b[0m\u001b[1;33m,\u001b[0m \u001b[0mbody\u001b[0m\u001b[1;33m,\u001b[0m \u001b[0morelse\u001b[0m\u001b[1;33m)\u001b[0m\u001b[1;33m:\u001b[0m\u001b[1;33m\u001b[0m\u001b[1;33m\u001b[0m\u001b[0m\n\u001b[0;32m   1226\u001b[0m   \u001b[1;34m\"\"\"Overload of if_stmt that executes a Python if statement.\"\"\"\u001b[0m\u001b[1;33m\u001b[0m\u001b[1;33m\u001b[0m\u001b[0m\n\u001b[1;32m-> 1227\u001b[1;33m   \u001b[1;32mreturn\u001b[0m \u001b[0mbody\u001b[0m\u001b[1;33m(\u001b[0m\u001b[1;33m)\u001b[0m \u001b[1;32mif\u001b[0m \u001b[0mcond\u001b[0m \u001b[1;32melse\u001b[0m \u001b[0morelse\u001b[0m\u001b[1;33m(\u001b[0m\u001b[1;33m)\u001b[0m\u001b[1;33m\u001b[0m\u001b[1;33m\u001b[0m\u001b[0m\n\u001b[0m",
            "\u001b[1;32m~\\.conda\\envs\\deepchem-test\\lib\\site-packages\\deepchem\\models\\layers.py\u001b[0m in \u001b[0;36mif_body_7\u001b[1;34m()\u001b[0m\n\u001b[0;32m    102\u001b[0m                         \u001b[1;32mnonlocal\u001b[0m \u001b[0mAP_ij\u001b[0m\u001b[1;33m\u001b[0m\u001b[1;33m\u001b[0m\u001b[0m\n\u001b[0;32m    103\u001b[0m                         \u001b[1;32mpass\u001b[0m\u001b[1;33m\u001b[0m\u001b[1;33m\u001b[0m\u001b[0m\n\u001b[1;32m--> 104\u001b[1;33m                     \u001b[0mag__\u001b[0m\u001b[1;33m.\u001b[0m\u001b[0mif_stmt\u001b[0m\u001b[1;33m(\u001b[0m\u001b[0mag__\u001b[0m\u001b[1;33m.\u001b[0m\u001b[0mld\u001b[0m\u001b[1;33m(\u001b[0m\u001b[0mself\u001b[0m\u001b[1;33m)\u001b[0m\u001b[1;33m.\u001b[0m\u001b[0mbatch_normalize\u001b[0m\u001b[1;33m,\u001b[0m \u001b[0mif_body_3\u001b[0m\u001b[1;33m,\u001b[0m \u001b[0melse_body_3\u001b[0m\u001b[1;33m,\u001b[0m \u001b[0mget_state_3\u001b[0m\u001b[1;33m,\u001b[0m \u001b[0mset_state_3\u001b[0m\u001b[1;33m,\u001b[0m \u001b[1;33m(\u001b[0m\u001b[1;34m'AP_ij'\u001b[0m\u001b[1;33m,\u001b[0m\u001b[1;33m)\u001b[0m\u001b[1;33m,\u001b[0m \u001b[1;36m1\u001b[0m\u001b[1;33m)\u001b[0m\u001b[1;33m\u001b[0m\u001b[1;33m\u001b[0m\u001b[0m\n\u001b[0m\u001b[0;32m    105\u001b[0m                     \u001b[0mAP_ij\u001b[0m \u001b[1;33m=\u001b[0m \u001b[0mag__\u001b[0m\u001b[1;33m.\u001b[0m\u001b[0mconverted_call\u001b[0m\u001b[1;33m(\u001b[0m\u001b[0mag__\u001b[0m\u001b[1;33m.\u001b[0m\u001b[0mld\u001b[0m\u001b[1;33m(\u001b[0m\u001b[0mactivation\u001b[0m\u001b[1;33m)\u001b[0m\u001b[1;33m,\u001b[0m \u001b[1;33m(\u001b[0m\u001b[0mag__\u001b[0m\u001b[1;33m.\u001b[0m\u001b[0mld\u001b[0m\u001b[1;33m(\u001b[0m\u001b[0mAP_ij\u001b[0m\u001b[1;33m)\u001b[0m\u001b[1;33m,\u001b[0m\u001b[1;33m)\u001b[0m\u001b[1;33m,\u001b[0m \u001b[1;32mNone\u001b[0m\u001b[1;33m,\u001b[0m \u001b[0mfscope\u001b[0m\u001b[1;33m)\u001b[0m\u001b[1;33m\u001b[0m\u001b[1;33m\u001b[0m\u001b[0m\n\u001b[0;32m    106\u001b[0m                     \u001b[0mAP_ji\u001b[0m \u001b[1;33m=\u001b[0m \u001b[0mag__\u001b[0m\u001b[1;33m.\u001b[0m\u001b[0mconverted_call\u001b[0m\u001b[1;33m(\u001b[0m\u001b[0mag__\u001b[0m\u001b[1;33m.\u001b[0m\u001b[0mld\u001b[0m\u001b[1;33m(\u001b[0m\u001b[0mtf\u001b[0m\u001b[1;33m)\u001b[0m\u001b[1;33m.\u001b[0m\u001b[0mmatmul\u001b[0m\u001b[1;33m,\u001b[0m \u001b[1;33m(\u001b[0m\u001b[0mag__\u001b[0m\u001b[1;33m.\u001b[0m\u001b[0mconverted_call\u001b[0m\u001b[1;33m(\u001b[0m\u001b[0mag__\u001b[0m\u001b[1;33m.\u001b[0m\u001b[0mld\u001b[0m\u001b[1;33m(\u001b[0m\u001b[0mtf\u001b[0m\u001b[1;33m)\u001b[0m\u001b[1;33m.\u001b[0m\u001b[0mreshape\u001b[0m\u001b[1;33m,\u001b[0m \u001b[1;33m(\u001b[0m\u001b[0mag__\u001b[0m\u001b[1;33m.\u001b[0m\u001b[0mconverted_call\u001b[0m\u001b[1;33m(\u001b[0m\u001b[0mag__\u001b[0m\u001b[1;33m.\u001b[0m\u001b[0mld\u001b[0m\u001b[1;33m(\u001b[0m\u001b[0mtf\u001b[0m\u001b[1;33m)\u001b[0m\u001b[1;33m.\u001b[0m\u001b[0mgather\u001b[0m\u001b[1;33m,\u001b[0m \u001b[1;33m(\u001b[0m\u001b[0mag__\u001b[0m\u001b[1;33m.\u001b[0m\u001b[0mld\u001b[0m\u001b[1;33m(\u001b[0m\u001b[0matom_features\u001b[0m\u001b[1;33m)\u001b[0m\u001b[1;33m,\u001b[0m \u001b[0mag__\u001b[0m\u001b[1;33m.\u001b[0m\u001b[0mconverted_call\u001b[0m\u001b[1;33m(\u001b[0m\u001b[0mag__\u001b[0m\u001b[1;33m.\u001b[0m\u001b[0mld\u001b[0m\u001b[1;33m(\u001b[0m\u001b[0mtf\u001b[0m\u001b[1;33m)\u001b[0m\u001b[1;33m.\u001b[0m\u001b[0mreverse\u001b[0m\u001b[1;33m,\u001b[0m \u001b[1;33m(\u001b[0m\u001b[0mag__\u001b[0m\u001b[1;33m.\u001b[0m\u001b[0mld\u001b[0m\u001b[1;33m(\u001b[0m\u001b[0matom_to_pair\u001b[0m\u001b[1;33m)\u001b[0m\u001b[1;33m,\u001b[0m \u001b[1;33m[\u001b[0m\u001b[1;36m1\u001b[0m\u001b[1;33m]\u001b[0m\u001b[1;33m)\u001b[0m\u001b[1;33m,\u001b[0m \u001b[1;32mNone\u001b[0m\u001b[1;33m,\u001b[0m \u001b[0mfscope\u001b[0m\u001b[1;33m)\u001b[0m\u001b[1;33m)\u001b[0m\u001b[1;33m,\u001b[0m \u001b[1;32mNone\u001b[0m\u001b[1;33m,\u001b[0m \u001b[0mfscope\u001b[0m\u001b[1;33m)\u001b[0m\u001b[1;33m,\u001b[0m \u001b[1;33m[\u001b[0m\u001b[1;33m-\u001b[0m\u001b[1;36m1\u001b[0m\u001b[1;33m,\u001b[0m \u001b[1;36m2\u001b[0m \u001b[1;33m*\u001b[0m \u001b[0mag__\u001b[0m\u001b[1;33m.\u001b[0m\u001b[0mld\u001b[0m\u001b[1;33m(\u001b[0m\u001b[0mself\u001b[0m\u001b[1;33m)\u001b[0m\u001b[1;33m.\u001b[0m\u001b[0mn_atom_input_feat\u001b[0m\u001b[1;33m]\u001b[0m\u001b[1;33m)\u001b[0m\u001b[1;33m,\u001b[0m \u001b[1;32mNone\u001b[0m\u001b[1;33m,\u001b[0m \u001b[0mfscope\u001b[0m\u001b[1;33m)\u001b[0m\u001b[1;33m,\u001b[0m \u001b[0mag__\u001b[0m\u001b[1;33m.\u001b[0m\u001b[0mld\u001b[0m\u001b[1;33m(\u001b[0m\u001b[0mself\u001b[0m\u001b[1;33m)\u001b[0m\u001b[1;33m.\u001b[0m\u001b[0mW_AP\u001b[0m\u001b[1;33m)\u001b[0m\u001b[1;33m,\u001b[0m \u001b[1;32mNone\u001b[0m\u001b[1;33m,\u001b[0m \u001b[0mfscope\u001b[0m\u001b[1;33m)\u001b[0m \u001b[1;33m+\u001b[0m \u001b[0mag__\u001b[0m\u001b[1;33m.\u001b[0m\u001b[0mld\u001b[0m\u001b[1;33m(\u001b[0m\u001b[0mself\u001b[0m\u001b[1;33m)\u001b[0m\u001b[1;33m.\u001b[0m\u001b[0mb_AP\u001b[0m\u001b[1;33m\u001b[0m\u001b[1;33m\u001b[0m\u001b[0m\n",
            "\u001b[1;32m~\\.conda\\envs\\deepchem-test\\lib\\site-packages\\tensorflow\\python\\autograph\\operators\\control_flow.py\u001b[0m in \u001b[0;36mif_stmt\u001b[1;34m(cond, body, orelse, get_state, set_state, symbol_names, nouts)\u001b[0m\n\u001b[0;32m   1172\u001b[0m     \u001b[0m_tf_if_stmt\u001b[0m\u001b[1;33m(\u001b[0m\u001b[0mcond\u001b[0m\u001b[1;33m,\u001b[0m \u001b[0mbody\u001b[0m\u001b[1;33m,\u001b[0m \u001b[0morelse\u001b[0m\u001b[1;33m,\u001b[0m \u001b[0mget_state\u001b[0m\u001b[1;33m,\u001b[0m \u001b[0mset_state\u001b[0m\u001b[1;33m,\u001b[0m \u001b[0msymbol_names\u001b[0m\u001b[1;33m,\u001b[0m \u001b[0mnouts\u001b[0m\u001b[1;33m)\u001b[0m\u001b[1;33m\u001b[0m\u001b[1;33m\u001b[0m\u001b[0m\n\u001b[0;32m   1173\u001b[0m   \u001b[1;32melse\u001b[0m\u001b[1;33m:\u001b[0m\u001b[1;33m\u001b[0m\u001b[1;33m\u001b[0m\u001b[0m\n\u001b[1;32m-> 1174\u001b[1;33m     \u001b[0m_py_if_stmt\u001b[0m\u001b[1;33m(\u001b[0m\u001b[0mcond\u001b[0m\u001b[1;33m,\u001b[0m \u001b[0mbody\u001b[0m\u001b[1;33m,\u001b[0m \u001b[0morelse\u001b[0m\u001b[1;33m)\u001b[0m\u001b[1;33m\u001b[0m\u001b[1;33m\u001b[0m\u001b[0m\n\u001b[0m\u001b[0;32m   1175\u001b[0m \u001b[1;33m\u001b[0m\u001b[0m\n\u001b[0;32m   1176\u001b[0m \u001b[1;33m\u001b[0m\u001b[0m\n",
            "\u001b[1;32m~\\.conda\\envs\\deepchem-test\\lib\\site-packages\\tensorflow\\python\\autograph\\operators\\control_flow.py\u001b[0m in \u001b[0;36m_py_if_stmt\u001b[1;34m(cond, body, orelse)\u001b[0m\n\u001b[0;32m   1225\u001b[0m \u001b[1;32mdef\u001b[0m \u001b[0m_py_if_stmt\u001b[0m\u001b[1;33m(\u001b[0m\u001b[0mcond\u001b[0m\u001b[1;33m,\u001b[0m \u001b[0mbody\u001b[0m\u001b[1;33m,\u001b[0m \u001b[0morelse\u001b[0m\u001b[1;33m)\u001b[0m\u001b[1;33m:\u001b[0m\u001b[1;33m\u001b[0m\u001b[1;33m\u001b[0m\u001b[0m\n\u001b[0;32m   1226\u001b[0m   \u001b[1;34m\"\"\"Overload of if_stmt that executes a Python if statement.\"\"\"\u001b[0m\u001b[1;33m\u001b[0m\u001b[1;33m\u001b[0m\u001b[0m\n\u001b[1;32m-> 1227\u001b[1;33m   \u001b[1;32mreturn\u001b[0m \u001b[0mbody\u001b[0m\u001b[1;33m(\u001b[0m\u001b[1;33m)\u001b[0m \u001b[1;32mif\u001b[0m \u001b[0mcond\u001b[0m \u001b[1;32melse\u001b[0m \u001b[0morelse\u001b[0m\u001b[1;33m(\u001b[0m\u001b[1;33m)\u001b[0m\u001b[1;33m\u001b[0m\u001b[1;33m\u001b[0m\u001b[0m\n\u001b[0m",
            "\u001b[1;32m~\\.conda\\envs\\deepchem-test\\lib\\site-packages\\deepchem\\models\\layers.py\u001b[0m in \u001b[0;36mif_body_3\u001b[1;34m()\u001b[0m\n\u001b[0;32m     97\u001b[0m                     \u001b[1;32mdef\u001b[0m \u001b[0mif_body_3\u001b[0m\u001b[1;33m(\u001b[0m\u001b[1;33m)\u001b[0m\u001b[1;33m:\u001b[0m\u001b[1;33m\u001b[0m\u001b[1;33m\u001b[0m\u001b[0m\n\u001b[0;32m     98\u001b[0m                         \u001b[1;32mnonlocal\u001b[0m \u001b[0mAP_ij\u001b[0m\u001b[1;33m\u001b[0m\u001b[1;33m\u001b[0m\u001b[0m\n\u001b[1;32m---> 99\u001b[1;33m                         \u001b[0mAP_ij\u001b[0m \u001b[1;33m=\u001b[0m \u001b[0mag__\u001b[0m\u001b[1;33m.\u001b[0m\u001b[0mconverted_call\u001b[0m\u001b[1;33m(\u001b[0m\u001b[0mag__\u001b[0m\u001b[1;33m.\u001b[0m\u001b[0mld\u001b[0m\u001b[1;33m(\u001b[0m\u001b[0mself\u001b[0m\u001b[1;33m)\u001b[0m\u001b[1;33m.\u001b[0m\u001b[0mAP_bn\u001b[0m\u001b[1;33m,\u001b[0m \u001b[1;33m(\u001b[0m\u001b[0mag__\u001b[0m\u001b[1;33m.\u001b[0m\u001b[0mld\u001b[0m\u001b[1;33m(\u001b[0m\u001b[0mAP_ij\u001b[0m\u001b[1;33m)\u001b[0m\u001b[1;33m,\u001b[0m\u001b[1;33m)\u001b[0m\u001b[1;33m,\u001b[0m \u001b[1;32mNone\u001b[0m\u001b[1;33m,\u001b[0m \u001b[0mfscope\u001b[0m\u001b[1;33m)\u001b[0m\u001b[1;33m\u001b[0m\u001b[1;33m\u001b[0m\u001b[0m\n\u001b[0m\u001b[0;32m    100\u001b[0m \u001b[1;33m\u001b[0m\u001b[0m\n\u001b[0;32m    101\u001b[0m                     \u001b[1;32mdef\u001b[0m \u001b[0melse_body_3\u001b[0m\u001b[1;33m(\u001b[0m\u001b[1;33m)\u001b[0m\u001b[1;33m:\u001b[0m\u001b[1;33m\u001b[0m\u001b[1;33m\u001b[0m\u001b[0m\n",
            "\u001b[1;32m~\\.conda\\envs\\deepchem-test\\lib\\site-packages\\tensorflow\\python\\autograph\\impl\\api.py\u001b[0m in \u001b[0;36mconverted_call\u001b[1;34m(f, args, kwargs, caller_fn_scope, options)\u001b[0m\n\u001b[0;32m    334\u001b[0m   \u001b[1;32mif\u001b[0m \u001b[0mconversion\u001b[0m\u001b[1;33m.\u001b[0m\u001b[0mis_in_allowlist_cache\u001b[0m\u001b[1;33m(\u001b[0m\u001b[0mf\u001b[0m\u001b[1;33m,\u001b[0m \u001b[0moptions\u001b[0m\u001b[1;33m)\u001b[0m\u001b[1;33m:\u001b[0m\u001b[1;33m\u001b[0m\u001b[1;33m\u001b[0m\u001b[0m\n\u001b[0;32m    335\u001b[0m     \u001b[0mlogging\u001b[0m\u001b[1;33m.\u001b[0m\u001b[0mlog\u001b[0m\u001b[1;33m(\u001b[0m\u001b[1;36m2\u001b[0m\u001b[1;33m,\u001b[0m \u001b[1;34m'Allowlisted %s: from cache'\u001b[0m\u001b[1;33m,\u001b[0m \u001b[0mf\u001b[0m\u001b[1;33m)\u001b[0m\u001b[1;33m\u001b[0m\u001b[1;33m\u001b[0m\u001b[0m\n\u001b[1;32m--> 336\u001b[1;33m     \u001b[1;32mreturn\u001b[0m \u001b[0m_call_unconverted\u001b[0m\u001b[1;33m(\u001b[0m\u001b[0mf\u001b[0m\u001b[1;33m,\u001b[0m \u001b[0margs\u001b[0m\u001b[1;33m,\u001b[0m \u001b[0mkwargs\u001b[0m\u001b[1;33m,\u001b[0m \u001b[0moptions\u001b[0m\u001b[1;33m,\u001b[0m \u001b[1;32mFalse\u001b[0m\u001b[1;33m)\u001b[0m\u001b[1;33m\u001b[0m\u001b[1;33m\u001b[0m\u001b[0m\n\u001b[0m\u001b[0;32m    337\u001b[0m \u001b[1;33m\u001b[0m\u001b[0m\n\u001b[0;32m    338\u001b[0m   \u001b[1;32mif\u001b[0m \u001b[0mag_ctx\u001b[0m\u001b[1;33m.\u001b[0m\u001b[0mcontrol_status_ctx\u001b[0m\u001b[1;33m(\u001b[0m\u001b[1;33m)\u001b[0m\u001b[1;33m.\u001b[0m\u001b[0mstatus\u001b[0m \u001b[1;33m==\u001b[0m \u001b[0mag_ctx\u001b[0m\u001b[1;33m.\u001b[0m\u001b[0mStatus\u001b[0m\u001b[1;33m.\u001b[0m\u001b[0mDISABLED\u001b[0m\u001b[1;33m:\u001b[0m\u001b[1;33m\u001b[0m\u001b[1;33m\u001b[0m\u001b[0m\n",
            "\u001b[1;32m~\\.conda\\envs\\deepchem-test\\lib\\site-packages\\tensorflow\\python\\autograph\\impl\\api.py\u001b[0m in \u001b[0;36m_call_unconverted\u001b[1;34m(f, args, kwargs, options, update_cache)\u001b[0m\n\u001b[0;32m    462\u001b[0m   \u001b[1;32mif\u001b[0m \u001b[0mkwargs\u001b[0m \u001b[1;32mis\u001b[0m \u001b[1;32mnot\u001b[0m \u001b[1;32mNone\u001b[0m\u001b[1;33m:\u001b[0m\u001b[1;33m\u001b[0m\u001b[1;33m\u001b[0m\u001b[0m\n\u001b[0;32m    463\u001b[0m     \u001b[1;32mreturn\u001b[0m \u001b[0mf\u001b[0m\u001b[1;33m(\u001b[0m\u001b[1;33m*\u001b[0m\u001b[0margs\u001b[0m\u001b[1;33m,\u001b[0m \u001b[1;33m**\u001b[0m\u001b[0mkwargs\u001b[0m\u001b[1;33m)\u001b[0m\u001b[1;33m\u001b[0m\u001b[1;33m\u001b[0m\u001b[0m\n\u001b[1;32m--> 464\u001b[1;33m   \u001b[1;32mreturn\u001b[0m \u001b[0mf\u001b[0m\u001b[1;33m(\u001b[0m\u001b[1;33m*\u001b[0m\u001b[0margs\u001b[0m\u001b[1;33m)\u001b[0m\u001b[1;33m\u001b[0m\u001b[1;33m\u001b[0m\u001b[0m\n\u001b[0m\u001b[0;32m    465\u001b[0m \u001b[1;33m\u001b[0m\u001b[0m\n\u001b[0;32m    466\u001b[0m \u001b[1;33m\u001b[0m\u001b[0m\n",
            "\u001b[1;32m~\\.conda\\envs\\deepchem-test\\lib\\site-packages\\keras\\engine\\base_layer.py\u001b[0m in \u001b[0;36m__call__\u001b[1;34m(self, *args, **kwargs)\u001b[0m\n\u001b[0;32m   1035\u001b[0m         with autocast_variable.enable_auto_cast_variables(\n\u001b[0;32m   1036\u001b[0m             self._compute_dtype_object):\n\u001b[1;32m-> 1037\u001b[1;33m           \u001b[0moutputs\u001b[0m \u001b[1;33m=\u001b[0m \u001b[0mcall_fn\u001b[0m\u001b[1;33m(\u001b[0m\u001b[0minputs\u001b[0m\u001b[1;33m,\u001b[0m \u001b[1;33m*\u001b[0m\u001b[0margs\u001b[0m\u001b[1;33m,\u001b[0m \u001b[1;33m**\u001b[0m\u001b[0mkwargs\u001b[0m\u001b[1;33m)\u001b[0m\u001b[1;33m\u001b[0m\u001b[1;33m\u001b[0m\u001b[0m\n\u001b[0m\u001b[0;32m   1038\u001b[0m \u001b[1;33m\u001b[0m\u001b[0m\n\u001b[0;32m   1039\u001b[0m         \u001b[1;32mif\u001b[0m \u001b[0mself\u001b[0m\u001b[1;33m.\u001b[0m\u001b[0m_activity_regularizer\u001b[0m\u001b[1;33m:\u001b[0m\u001b[1;33m\u001b[0m\u001b[1;33m\u001b[0m\u001b[0m\n",
            "\u001b[1;32m~\\.conda\\envs\\deepchem-test\\lib\\site-packages\\keras\\layers\\normalization\\batch_normalization.py\u001b[0m in \u001b[0;36mcall\u001b[1;34m(self, inputs, training)\u001b[0m\n\u001b[0;32m    812\u001b[0m       \u001b[1;31m# but not a constant. However, this makes the code simpler.\u001b[0m\u001b[1;33m\u001b[0m\u001b[1;33m\u001b[0m\u001b[0m\n\u001b[0;32m    813\u001b[0m       \u001b[0mkeep_dims\u001b[0m \u001b[1;33m=\u001b[0m \u001b[0mself\u001b[0m\u001b[1;33m.\u001b[0m\u001b[0mvirtual_batch_size\u001b[0m \u001b[1;32mis\u001b[0m \u001b[1;32mnot\u001b[0m \u001b[1;32mNone\u001b[0m \u001b[1;32mor\u001b[0m \u001b[0mlen\u001b[0m\u001b[1;33m(\u001b[0m\u001b[0mself\u001b[0m\u001b[1;33m.\u001b[0m\u001b[0maxis\u001b[0m\u001b[1;33m)\u001b[0m \u001b[1;33m>\u001b[0m \u001b[1;36m1\u001b[0m\u001b[1;33m\u001b[0m\u001b[1;33m\u001b[0m\u001b[0m\n\u001b[1;32m--> 814\u001b[1;33m       mean, variance = self._moments(\n\u001b[0m\u001b[0;32m    815\u001b[0m           \u001b[0mtf\u001b[0m\u001b[1;33m.\u001b[0m\u001b[0mcast\u001b[0m\u001b[1;33m(\u001b[0m\u001b[0minputs\u001b[0m\u001b[1;33m,\u001b[0m \u001b[0mself\u001b[0m\u001b[1;33m.\u001b[0m\u001b[0m_param_dtype\u001b[0m\u001b[1;33m)\u001b[0m\u001b[1;33m,\u001b[0m\u001b[1;33m\u001b[0m\u001b[1;33m\u001b[0m\u001b[0m\n\u001b[0;32m    816\u001b[0m           \u001b[0mreduction_axes\u001b[0m\u001b[1;33m,\u001b[0m\u001b[1;33m\u001b[0m\u001b[1;33m\u001b[0m\u001b[0m\n",
            "\u001b[1;32m~\\.conda\\envs\\deepchem-test\\lib\\site-packages\\keras\\layers\\normalization\\batch_normalization.py\u001b[0m in \u001b[0;36m_moments\u001b[1;34m(self, inputs, reduction_axes, keep_dims)\u001b[0m\n\u001b[0;32m    708\u001b[0m \u001b[1;33m\u001b[0m\u001b[0m\n\u001b[0;32m    709\u001b[0m   \u001b[1;32mdef\u001b[0m \u001b[0m_moments\u001b[0m\u001b[1;33m(\u001b[0m\u001b[0mself\u001b[0m\u001b[1;33m,\u001b[0m \u001b[0minputs\u001b[0m\u001b[1;33m,\u001b[0m \u001b[0mreduction_axes\u001b[0m\u001b[1;33m,\u001b[0m \u001b[0mkeep_dims\u001b[0m\u001b[1;33m)\u001b[0m\u001b[1;33m:\u001b[0m\u001b[1;33m\u001b[0m\u001b[1;33m\u001b[0m\u001b[0m\n\u001b[1;32m--> 710\u001b[1;33m     mean, variance = self._calculate_mean_and_var(inputs, reduction_axes,\n\u001b[0m\u001b[0;32m    711\u001b[0m                                                   keep_dims)\n\u001b[0;32m    712\u001b[0m     \u001b[1;31m# TODO(b/129279393): Support zero batch input in non DistributionStrategy\u001b[0m\u001b[1;33m\u001b[0m\u001b[1;33m\u001b[0m\u001b[0m\n",
            "\u001b[1;32m~\\.conda\\envs\\deepchem-test\\lib\\site-packages\\keras\\layers\\normalization\\batch_normalization.py\u001b[0m in \u001b[0;36m_calculate_mean_and_var\u001b[1;34m(self, inputs, reduction_axes, keep_dims)\u001b[0m\n\u001b[0;32m    705\u001b[0m \u001b[1;33m\u001b[0m\u001b[0m\n\u001b[0;32m    706\u001b[0m   \u001b[1;32mdef\u001b[0m \u001b[0m_calculate_mean_and_var\u001b[0m\u001b[1;33m(\u001b[0m\u001b[0mself\u001b[0m\u001b[1;33m,\u001b[0m \u001b[0minputs\u001b[0m\u001b[1;33m,\u001b[0m \u001b[0mreduction_axes\u001b[0m\u001b[1;33m,\u001b[0m \u001b[0mkeep_dims\u001b[0m\u001b[1;33m)\u001b[0m\u001b[1;33m:\u001b[0m\u001b[1;33m\u001b[0m\u001b[1;33m\u001b[0m\u001b[0m\n\u001b[1;32m--> 707\u001b[1;33m     \u001b[1;32mreturn\u001b[0m \u001b[0mtf\u001b[0m\u001b[1;33m.\u001b[0m\u001b[0mnn\u001b[0m\u001b[1;33m.\u001b[0m\u001b[0mmoments\u001b[0m\u001b[1;33m(\u001b[0m\u001b[0minputs\u001b[0m\u001b[1;33m,\u001b[0m \u001b[0mreduction_axes\u001b[0m\u001b[1;33m,\u001b[0m \u001b[0mkeepdims\u001b[0m\u001b[1;33m=\u001b[0m\u001b[0mkeep_dims\u001b[0m\u001b[1;33m)\u001b[0m\u001b[1;33m\u001b[0m\u001b[1;33m\u001b[0m\u001b[0m\n\u001b[0m\u001b[0;32m    708\u001b[0m \u001b[1;33m\u001b[0m\u001b[0m\n\u001b[0;32m    709\u001b[0m   \u001b[1;32mdef\u001b[0m \u001b[0m_moments\u001b[0m\u001b[1;33m(\u001b[0m\u001b[0mself\u001b[0m\u001b[1;33m,\u001b[0m \u001b[0minputs\u001b[0m\u001b[1;33m,\u001b[0m \u001b[0mreduction_axes\u001b[0m\u001b[1;33m,\u001b[0m \u001b[0mkeep_dims\u001b[0m\u001b[1;33m)\u001b[0m\u001b[1;33m:\u001b[0m\u001b[1;33m\u001b[0m\u001b[1;33m\u001b[0m\u001b[0m\n",
            "\u001b[1;32m~\\.conda\\envs\\deepchem-test\\lib\\site-packages\\tensorflow\\python\\util\\dispatch.py\u001b[0m in \u001b[0;36mwrapper\u001b[1;34m(*args, **kwargs)\u001b[0m\n\u001b[0;32m    204\u001b[0m     \u001b[1;34m\"\"\"Call target, and fall back on dispatchers if there is a TypeError.\"\"\"\u001b[0m\u001b[1;33m\u001b[0m\u001b[1;33m\u001b[0m\u001b[0m\n\u001b[0;32m    205\u001b[0m     \u001b[1;32mtry\u001b[0m\u001b[1;33m:\u001b[0m\u001b[1;33m\u001b[0m\u001b[1;33m\u001b[0m\u001b[0m\n\u001b[1;32m--> 206\u001b[1;33m       \u001b[1;32mreturn\u001b[0m \u001b[0mtarget\u001b[0m\u001b[1;33m(\u001b[0m\u001b[1;33m*\u001b[0m\u001b[0margs\u001b[0m\u001b[1;33m,\u001b[0m \u001b[1;33m**\u001b[0m\u001b[0mkwargs\u001b[0m\u001b[1;33m)\u001b[0m\u001b[1;33m\u001b[0m\u001b[1;33m\u001b[0m\u001b[0m\n\u001b[0m\u001b[0;32m    207\u001b[0m     \u001b[1;32mexcept\u001b[0m \u001b[1;33m(\u001b[0m\u001b[0mTypeError\u001b[0m\u001b[1;33m,\u001b[0m \u001b[0mValueError\u001b[0m\u001b[1;33m)\u001b[0m\u001b[1;33m:\u001b[0m\u001b[1;33m\u001b[0m\u001b[1;33m\u001b[0m\u001b[0m\n\u001b[0;32m    208\u001b[0m       \u001b[1;31m# Note: convert_to_eager_tensor currently raises a ValueError, not a\u001b[0m\u001b[1;33m\u001b[0m\u001b[1;33m\u001b[0m\u001b[0m\n",
            "\u001b[1;32m~\\.conda\\envs\\deepchem-test\\lib\\site-packages\\tensorflow\\python\\ops\\nn_impl.py\u001b[0m in \u001b[0;36mmoments_v2\u001b[1;34m(x, axes, shift, keepdims, name)\u001b[0m\n\u001b[0;32m   1395\u001b[0m     \u001b[0mTwo\u001b[0m\u001b[0;31m \u001b[0m\u001b[0;31m`\u001b[0m\u001b[0mTensor\u001b[0m\u001b[0;31m`\u001b[0m \u001b[0mobjects\u001b[0m\u001b[1;33m:\u001b[0m\u001b[0;31m \u001b[0m\u001b[0;31m`\u001b[0m\u001b[0mmean\u001b[0m\u001b[0;31m`\u001b[0m \u001b[1;32mand\u001b[0m\u001b[0;31m \u001b[0m\u001b[0;31m`\u001b[0m\u001b[0mvariance\u001b[0m\u001b[0;31m`\u001b[0m\u001b[1;33m.\u001b[0m\u001b[1;33m\u001b[0m\u001b[1;33m\u001b[0m\u001b[0m\n\u001b[0;32m   1396\u001b[0m   \"\"\"\n\u001b[1;32m-> 1397\u001b[1;33m   \u001b[1;32mreturn\u001b[0m \u001b[0mmoments\u001b[0m\u001b[1;33m(\u001b[0m\u001b[0mx\u001b[0m\u001b[1;33m=\u001b[0m\u001b[0mx\u001b[0m\u001b[1;33m,\u001b[0m \u001b[0maxes\u001b[0m\u001b[1;33m=\u001b[0m\u001b[0maxes\u001b[0m\u001b[1;33m,\u001b[0m \u001b[0mshift\u001b[0m\u001b[1;33m=\u001b[0m\u001b[0mshift\u001b[0m\u001b[1;33m,\u001b[0m \u001b[0mname\u001b[0m\u001b[1;33m=\u001b[0m\u001b[0mname\u001b[0m\u001b[1;33m,\u001b[0m \u001b[0mkeep_dims\u001b[0m\u001b[1;33m=\u001b[0m\u001b[0mkeepdims\u001b[0m\u001b[1;33m)\u001b[0m\u001b[1;33m\u001b[0m\u001b[1;33m\u001b[0m\u001b[0m\n\u001b[0m\u001b[0;32m   1398\u001b[0m \u001b[1;33m\u001b[0m\u001b[0m\n\u001b[0;32m   1399\u001b[0m \u001b[1;33m\u001b[0m\u001b[0m\n",
            "\u001b[1;32m~\\.conda\\envs\\deepchem-test\\lib\\site-packages\\tensorflow\\python\\util\\dispatch.py\u001b[0m in \u001b[0;36mwrapper\u001b[1;34m(*args, **kwargs)\u001b[0m\n\u001b[0;32m    204\u001b[0m     \u001b[1;34m\"\"\"Call target, and fall back on dispatchers if there is a TypeError.\"\"\"\u001b[0m\u001b[1;33m\u001b[0m\u001b[1;33m\u001b[0m\u001b[0m\n\u001b[0;32m    205\u001b[0m     \u001b[1;32mtry\u001b[0m\u001b[1;33m:\u001b[0m\u001b[1;33m\u001b[0m\u001b[1;33m\u001b[0m\u001b[0m\n\u001b[1;32m--> 206\u001b[1;33m       \u001b[1;32mreturn\u001b[0m \u001b[0mtarget\u001b[0m\u001b[1;33m(\u001b[0m\u001b[1;33m*\u001b[0m\u001b[0margs\u001b[0m\u001b[1;33m,\u001b[0m \u001b[1;33m**\u001b[0m\u001b[0mkwargs\u001b[0m\u001b[1;33m)\u001b[0m\u001b[1;33m\u001b[0m\u001b[1;33m\u001b[0m\u001b[0m\n\u001b[0m\u001b[0;32m    207\u001b[0m     \u001b[1;32mexcept\u001b[0m \u001b[1;33m(\u001b[0m\u001b[0mTypeError\u001b[0m\u001b[1;33m,\u001b[0m \u001b[0mValueError\u001b[0m\u001b[1;33m)\u001b[0m\u001b[1;33m:\u001b[0m\u001b[1;33m\u001b[0m\u001b[1;33m\u001b[0m\u001b[0m\n\u001b[0;32m    208\u001b[0m       \u001b[1;31m# Note: convert_to_eager_tensor currently raises a ValueError, not a\u001b[0m\u001b[1;33m\u001b[0m\u001b[1;33m\u001b[0m\u001b[0m\n",
            "\u001b[1;32m~\\.conda\\envs\\deepchem-test\\lib\\site-packages\\tensorflow\\python\\ops\\nn_impl.py\u001b[0m in \u001b[0;36mmoments\u001b[1;34m(x, axes, shift, name, keep_dims, keepdims)\u001b[0m\n\u001b[0;32m   1346\u001b[0m     \u001b[1;31m#       backpropagated to the mean from the variance calculation,\u001b[0m\u001b[1;33m\u001b[0m\u001b[1;33m\u001b[0m\u001b[0m\n\u001b[0;32m   1347\u001b[0m     \u001b[1;31m#       because that gradient is zero\u001b[0m\u001b[1;33m\u001b[0m\u001b[1;33m\u001b[0m\u001b[0m\n\u001b[1;32m-> 1348\u001b[1;33m     variance = math_ops.reduce_mean(\n\u001b[0m\u001b[0;32m   1349\u001b[0m         \u001b[0mmath_ops\u001b[0m\u001b[1;33m.\u001b[0m\u001b[0msquared_difference\u001b[0m\u001b[1;33m(\u001b[0m\u001b[0my\u001b[0m\u001b[1;33m,\u001b[0m \u001b[0marray_ops\u001b[0m\u001b[1;33m.\u001b[0m\u001b[0mstop_gradient\u001b[0m\u001b[1;33m(\u001b[0m\u001b[0mmean\u001b[0m\u001b[1;33m)\u001b[0m\u001b[1;33m)\u001b[0m\u001b[1;33m,\u001b[0m\u001b[1;33m\u001b[0m\u001b[1;33m\u001b[0m\u001b[0m\n\u001b[0;32m   1350\u001b[0m         \u001b[0maxes\u001b[0m\u001b[1;33m,\u001b[0m\u001b[1;33m\u001b[0m\u001b[1;33m\u001b[0m\u001b[0m\n",
            "\u001b[1;32m~\\.conda\\envs\\deepchem-test\\lib\\site-packages\\tensorflow\\python\\util\\dispatch.py\u001b[0m in \u001b[0;36mwrapper\u001b[1;34m(*args, **kwargs)\u001b[0m\n\u001b[0;32m    204\u001b[0m     \u001b[1;34m\"\"\"Call target, and fall back on dispatchers if there is a TypeError.\"\"\"\u001b[0m\u001b[1;33m\u001b[0m\u001b[1;33m\u001b[0m\u001b[0m\n\u001b[0;32m    205\u001b[0m     \u001b[1;32mtry\u001b[0m\u001b[1;33m:\u001b[0m\u001b[1;33m\u001b[0m\u001b[1;33m\u001b[0m\u001b[0m\n\u001b[1;32m--> 206\u001b[1;33m       \u001b[1;32mreturn\u001b[0m \u001b[0mtarget\u001b[0m\u001b[1;33m(\u001b[0m\u001b[1;33m*\u001b[0m\u001b[0margs\u001b[0m\u001b[1;33m,\u001b[0m \u001b[1;33m**\u001b[0m\u001b[0mkwargs\u001b[0m\u001b[1;33m)\u001b[0m\u001b[1;33m\u001b[0m\u001b[1;33m\u001b[0m\u001b[0m\n\u001b[0m\u001b[0;32m    207\u001b[0m     \u001b[1;32mexcept\u001b[0m \u001b[1;33m(\u001b[0m\u001b[0mTypeError\u001b[0m\u001b[1;33m,\u001b[0m \u001b[0mValueError\u001b[0m\u001b[1;33m)\u001b[0m\u001b[1;33m:\u001b[0m\u001b[1;33m\u001b[0m\u001b[1;33m\u001b[0m\u001b[0m\n\u001b[0;32m    208\u001b[0m       \u001b[1;31m# Note: convert_to_eager_tensor currently raises a ValueError, not a\u001b[0m\u001b[1;33m\u001b[0m\u001b[1;33m\u001b[0m\u001b[0m\n",
            "\u001b[1;32m~\\.conda\\envs\\deepchem-test\\lib\\site-packages\\tensorflow\\python\\ops\\math_ops.py\u001b[0m in \u001b[0;36mreduce_mean\u001b[1;34m(input_tensor, axis, keepdims, name)\u001b[0m\n\u001b[0;32m   2579\u001b[0m   return _may_reduce_to_scalar(\n\u001b[0;32m   2580\u001b[0m       \u001b[0mkeepdims\u001b[0m\u001b[1;33m,\u001b[0m \u001b[0maxis\u001b[0m\u001b[1;33m,\u001b[0m\u001b[1;33m\u001b[0m\u001b[1;33m\u001b[0m\u001b[0m\n\u001b[1;32m-> 2581\u001b[1;33m       gen_math_ops.mean(\n\u001b[0m\u001b[0;32m   2582\u001b[0m           \u001b[0minput_tensor\u001b[0m\u001b[1;33m,\u001b[0m \u001b[0m_ReductionDims\u001b[0m\u001b[1;33m(\u001b[0m\u001b[0minput_tensor\u001b[0m\u001b[1;33m,\u001b[0m \u001b[0maxis\u001b[0m\u001b[1;33m)\u001b[0m\u001b[1;33m,\u001b[0m \u001b[0mkeepdims\u001b[0m\u001b[1;33m,\u001b[0m\u001b[1;33m\u001b[0m\u001b[1;33m\u001b[0m\u001b[0m\n\u001b[0;32m   2583\u001b[0m           name=name))\n",
            "\u001b[1;32m~\\.conda\\envs\\deepchem-test\\lib\\site-packages\\tensorflow\\python\\ops\\gen_math_ops.py\u001b[0m in \u001b[0;36mmean\u001b[1;34m(input, axis, keep_dims, name)\u001b[0m\n\u001b[0;32m   5957\u001b[0m     _attrs = (\"keep_dims\", _op._get_attr_bool(\"keep_dims\"), \"T\",\n\u001b[0;32m   5958\u001b[0m               _op._get_attr_type(\"T\"), \"Tidx\", _op._get_attr_type(\"Tidx\"))\n\u001b[1;32m-> 5959\u001b[1;33m     \u001b[0m_inputs_flat\u001b[0m \u001b[1;33m=\u001b[0m \u001b[0m_op\u001b[0m\u001b[1;33m.\u001b[0m\u001b[0minputs\u001b[0m\u001b[1;33m\u001b[0m\u001b[1;33m\u001b[0m\u001b[0m\n\u001b[0m\u001b[0;32m   5960\u001b[0m     _execute.record_gradient(\n\u001b[0;32m   5961\u001b[0m         \"Mean\", _inputs_flat, _attrs, _result)\n",
            "\u001b[1;32m~\\.conda\\envs\\deepchem-test\\lib\\site-packages\\tensorflow\\python\\framework\\ops.py\u001b[0m in \u001b[0;36minputs\u001b[1;34m(self)\u001b[0m\n\u001b[0;32m   2389\u001b[0m     \u001b[1;32mif\u001b[0m \u001b[0mself\u001b[0m\u001b[1;33m.\u001b[0m\u001b[0m_inputs_val\u001b[0m \u001b[1;32mis\u001b[0m \u001b[1;32mNone\u001b[0m\u001b[1;33m:\u001b[0m\u001b[1;33m\u001b[0m\u001b[1;33m\u001b[0m\u001b[0m\n\u001b[0;32m   2390\u001b[0m       \u001b[1;31m# pylint: disable=protected-access\u001b[0m\u001b[1;33m\u001b[0m\u001b[1;33m\u001b[0m\u001b[0m\n\u001b[1;32m-> 2391\u001b[1;33m       self._inputs_val = tuple(\n\u001b[0m\u001b[0;32m   2392\u001b[0m           map(self.graph._get_tensor_by_tf_output,\n\u001b[0;32m   2393\u001b[0m               pywrap_tf_session.GetOperationInputs(self._c_op)))\n",
            "\u001b[1;32m~\\.conda\\envs\\deepchem-test\\lib\\site-packages\\tensorflow\\python\\framework\\ops.py\u001b[0m in \u001b[0;36m_get_tensor_by_tf_output\u001b[1;34m(self, tf_output)\u001b[0m\n\u001b[0;32m   3948\u001b[0m       \u001b[0mThe\u001b[0m\u001b[0;31m \u001b[0m\u001b[0;31m`\u001b[0m\u001b[0mTensor\u001b[0m\u001b[0;31m`\u001b[0m \u001b[0mthat\u001b[0m \u001b[0mrepresents\u001b[0m\u001b[0;31m \u001b[0m\u001b[0;31m`\u001b[0m\u001b[0mtf_output\u001b[0m\u001b[0;31m`\u001b[0m\u001b[1;33m.\u001b[0m\u001b[1;33m\u001b[0m\u001b[1;33m\u001b[0m\u001b[0m\n\u001b[0;32m   3949\u001b[0m     \"\"\"\n\u001b[1;32m-> 3950\u001b[1;33m     \u001b[0mop\u001b[0m \u001b[1;33m=\u001b[0m \u001b[0mself\u001b[0m\u001b[1;33m.\u001b[0m\u001b[0m_get_operation_by_tf_operation\u001b[0m\u001b[1;33m(\u001b[0m\u001b[0mtf_output\u001b[0m\u001b[1;33m.\u001b[0m\u001b[0moper\u001b[0m\u001b[1;33m)\u001b[0m\u001b[1;33m\u001b[0m\u001b[1;33m\u001b[0m\u001b[0m\n\u001b[0m\u001b[0;32m   3951\u001b[0m     \u001b[1;32mreturn\u001b[0m \u001b[0mop\u001b[0m\u001b[1;33m.\u001b[0m\u001b[0moutputs\u001b[0m\u001b[1;33m[\u001b[0m\u001b[0mtf_output\u001b[0m\u001b[1;33m.\u001b[0m\u001b[0mindex\u001b[0m\u001b[1;33m]\u001b[0m\u001b[1;33m\u001b[0m\u001b[1;33m\u001b[0m\u001b[0m\n\u001b[0;32m   3952\u001b[0m \u001b[1;33m\u001b[0m\u001b[0m\n",
            "\u001b[1;32m~\\.conda\\envs\\deepchem-test\\lib\\site-packages\\tensorflow\\python\\framework\\ops.py\u001b[0m in \u001b[0;36m_get_operation_by_tf_operation\u001b[1;34m(self, tf_oper)\u001b[0m\n\u001b[0;32m   3911\u001b[0m \u001b[1;33m\u001b[0m\u001b[0m\n\u001b[0;32m   3912\u001b[0m   \u001b[1;32mdef\u001b[0m \u001b[0m_get_operation_by_tf_operation\u001b[0m\u001b[1;33m(\u001b[0m\u001b[0mself\u001b[0m\u001b[1;33m,\u001b[0m \u001b[0mtf_oper\u001b[0m\u001b[1;33m)\u001b[0m\u001b[1;33m:\u001b[0m\u001b[1;33m\u001b[0m\u001b[1;33m\u001b[0m\u001b[0m\n\u001b[1;32m-> 3913\u001b[1;33m     \u001b[0mop_name\u001b[0m \u001b[1;33m=\u001b[0m \u001b[0mpywrap_tf_session\u001b[0m\u001b[1;33m.\u001b[0m\u001b[0mTF_OperationName\u001b[0m\u001b[1;33m(\u001b[0m\u001b[0mtf_oper\u001b[0m\u001b[1;33m)\u001b[0m\u001b[1;33m\u001b[0m\u001b[1;33m\u001b[0m\u001b[0m\n\u001b[0m\u001b[0;32m   3914\u001b[0m     \u001b[1;32mreturn\u001b[0m \u001b[0mself\u001b[0m\u001b[1;33m.\u001b[0m\u001b[0m_get_operation_by_name_unsafe\u001b[0m\u001b[1;33m(\u001b[0m\u001b[0mop_name\u001b[0m\u001b[1;33m)\u001b[0m\u001b[1;33m\u001b[0m\u001b[1;33m\u001b[0m\u001b[0m\n\u001b[0;32m   3915\u001b[0m \u001b[1;33m\u001b[0m\u001b[0m\n",
            "\u001b[1;31mKeyboardInterrupt\u001b[0m: "
          ]
        }
      ],
      "source": [
        "predictions_list = []\n",
        "metric = deepchem.deepchem.metrics.Metric(deepchem.deepchem.metrics.mean_absolute_error)\n",
        "\n",
        "for seed in [1, 2, 3, 4, 5]:\n",
        "    benchmark = group.get('LD50_Zhu') \n",
        "    # all benchmark names in a benchmark group are stored in group.dataset_names\n",
        "    predictions = {}\n",
        "    name = benchmark['name']\n",
        "    train_val, test = benchmark['train_val'], benchmark['test']\n",
        "    train, valid = group.get_train_valid_split(benchmark = name, split_type = 'default', seed = seed)\n",
        "    \n",
        "        # --------------------------------------------- # \n",
        "        #  Train your model using train, valid, test    #\n",
        "        #  Save test prediction in y_pred_test variable #\n",
        "        # --------------------------------------------- #\n",
        "    \n",
        "\n",
        "    featurizer = deepchem.deepchem.feat.WeaveFeaturizer()\n",
        "    f_train = featurizer.featurize(train.iloc[:,1].to_list())\n",
        "    f_valid = featurizer.featurize(valid.iloc[:,1].to_list())\n",
        "\n",
        "    train_data = deepchem.deepchem.data.NumpyDataset(X=f_train, y=np.array(train.iloc[:,2]), ids=np.array(train.iloc[:,1].to_list()))\n",
        "    valid_data = deepchem.deepchem.data.NumpyDataset(X=f_valid, y=np.array(valid.iloc[:,2]), ids=np.array(valid.iloc[:,1].to_list()))\n",
        "\n",
        "    reg = deepchem.deepchem.models.WeaveModel(n_tasks=1, mode=\"regression\", batch_normalize_kwargs={\"trainable\": False})\n",
        "    callback = deepchem.deepchem.models.ValidationCallback(valid_data, 1000, metric)\n",
        "    reg.fit(train_data, nb_epoch=100, callbacks=callback)\n",
        "\n",
        "    testFeatures = np.array(featurizer.featurize(test.iloc[:,1].to_list()))\n",
        "\n",
        "    y_pred_test = reg.predict_on_batch(X=testFeatures)\n",
        "\n",
        "    print(\"predictions for run #\")\n",
        "    print(seed)\n",
        "    print(y_pred_test[0:5])\n",
        "        \n",
        "    predictions[name] = y_pred_test\n",
        "    predictions_list.append(predictions)\n",
        "\n",
        "print(\"Prediction List:\")\n",
        "print(predictions_list)"
      ]
    },
    {
      "cell_type": "code",
      "execution_count": 5,
      "metadata": {},
      "outputs": [
        {
          "name": "stdout",
          "output_type": "stream",
          "text": [
            "{'ld50_zhu': {'mae': 0.68}}\n"
          ]
        },
        {
          "data": {
            "text/plain": [
              "ValueError('Must have predictions from at least 5 runs for leaderboard submission')"
            ]
          },
          "execution_count": 5,
          "metadata": {},
          "output_type": "execute_result"
        }
      ],
      "source": [
        "for i in predictions_list:\n",
        "    print(group.evaluate(i))\n",
        "\n",
        "group.evaluate_many(predictions_list)"
      ]
    },
    {
      "cell_type": "code",
      "execution_count": 6,
      "metadata": {},
      "outputs": [
        {
          "name": "stdout",
          "output_type": "stream",
          "text": [
            "Evaluation \t Proposed point \t  Current eval. \t Best eval.\n",
            "WARNING:tensorflow:Gradients do not exist for variables ['weave_layer_59/kernel:0', 'weave_layer_59/Variable:0', 'weave_layer_59/kernel:0', 'weave_layer_59/Variable:0', 'weave_layer_59/kernel:0', 'weave_layer_59/Variable:0', 'weave_layer_59/batch_normalization_3/gamma:0', 'weave_layer_59/batch_normalization_3/beta:0', 'weave_layer_59/batch_normalization_4/gamma:0', 'weave_layer_59/batch_normalization_4/beta:0', 'weave_layer_59/batch_normalization_5/gamma:0', 'weave_layer_59/batch_normalization_5/beta:0'] when minimizing the loss.\n"
          ]
        },
        {
          "name": "stderr",
          "output_type": "stream",
          "text": [
            "WARNING:tensorflow:Gradients do not exist for variables ['weave_layer_59/kernel:0', 'weave_layer_59/Variable:0', 'weave_layer_59/kernel:0', 'weave_layer_59/Variable:0', 'weave_layer_59/kernel:0', 'weave_layer_59/Variable:0', 'weave_layer_59/batch_normalization_3/gamma:0', 'weave_layer_59/batch_normalization_3/beta:0', 'weave_layer_59/batch_normalization_4/gamma:0', 'weave_layer_59/batch_normalization_4/beta:0', 'weave_layer_59/batch_normalization_5/gamma:0', 'weave_layer_59/batch_normalization_5/beta:0'] when minimizing the loss.\n"
          ]
        },
        {
          "name": "stdout",
          "output_type": "stream",
          "text": [
            "WARNING:tensorflow:Gradients do not exist for variables ['weave_layer_59/kernel:0', 'weave_layer_59/Variable:0', 'weave_layer_59/kernel:0', 'weave_layer_59/Variable:0', 'weave_layer_59/kernel:0', 'weave_layer_59/Variable:0', 'weave_layer_59/batch_normalization_3/gamma:0', 'weave_layer_59/batch_normalization_3/beta:0', 'weave_layer_59/batch_normalization_4/gamma:0', 'weave_layer_59/batch_normalization_4/beta:0', 'weave_layer_59/batch_normalization_5/gamma:0', 'weave_layer_59/batch_normalization_5/beta:0'] when minimizing the loss.\n"
          ]
        },
        {
          "name": "stderr",
          "output_type": "stream",
          "text": [
            "WARNING:tensorflow:Gradients do not exist for variables ['weave_layer_59/kernel:0', 'weave_layer_59/Variable:0', 'weave_layer_59/kernel:0', 'weave_layer_59/Variable:0', 'weave_layer_59/kernel:0', 'weave_layer_59/Variable:0', 'weave_layer_59/batch_normalization_3/gamma:0', 'weave_layer_59/batch_normalization_3/beta:0', 'weave_layer_59/batch_normalization_4/gamma:0', 'weave_layer_59/batch_normalization_4/beta:0', 'weave_layer_59/batch_normalization_5/gamma:0', 'weave_layer_59/batch_normalization_5/beta:0'] when minimizing the loss.\n"
          ]
        },
        {
          "name": "stdout",
          "output_type": "stream",
          "text": [
            "WARNING:tensorflow:Gradients do not exist for variables ['weave_layer_59/kernel:0', 'weave_layer_59/Variable:0', 'weave_layer_59/kernel:0', 'weave_layer_59/Variable:0', 'weave_layer_59/kernel:0', 'weave_layer_59/Variable:0', 'weave_layer_59/batch_normalization_3/gamma:0', 'weave_layer_59/batch_normalization_3/beta:0', 'weave_layer_59/batch_normalization_4/gamma:0', 'weave_layer_59/batch_normalization_4/beta:0', 'weave_layer_59/batch_normalization_5/gamma:0', 'weave_layer_59/batch_normalization_5/beta:0'] when minimizing the loss.\n"
          ]
        },
        {
          "name": "stderr",
          "output_type": "stream",
          "text": [
            "WARNING:tensorflow:Gradients do not exist for variables ['weave_layer_59/kernel:0', 'weave_layer_59/Variable:0', 'weave_layer_59/kernel:0', 'weave_layer_59/Variable:0', 'weave_layer_59/kernel:0', 'weave_layer_59/Variable:0', 'weave_layer_59/batch_normalization_3/gamma:0', 'weave_layer_59/batch_normalization_3/beta:0', 'weave_layer_59/batch_normalization_4/gamma:0', 'weave_layer_59/batch_normalization_4/beta:0', 'weave_layer_59/batch_normalization_5/gamma:0', 'weave_layer_59/batch_normalization_5/beta:0'] when minimizing the loss.\n"
          ]
        },
        {
          "name": "stdout",
          "output_type": "stream",
          "text": [
            "WARNING:tensorflow:Gradients do not exist for variables ['weave_layer_59/kernel:0', 'weave_layer_59/Variable:0', 'weave_layer_59/kernel:0', 'weave_layer_59/Variable:0', 'weave_layer_59/kernel:0', 'weave_layer_59/Variable:0', 'weave_layer_59/batch_normalization_3/gamma:0', 'weave_layer_59/batch_normalization_3/beta:0', 'weave_layer_59/batch_normalization_4/gamma:0', 'weave_layer_59/batch_normalization_4/beta:0', 'weave_layer_59/batch_normalization_5/gamma:0', 'weave_layer_59/batch_normalization_5/beta:0'] when minimizing the loss.\n"
          ]
        },
        {
          "name": "stderr",
          "output_type": "stream",
          "text": [
            "WARNING:tensorflow:Gradients do not exist for variables ['weave_layer_59/kernel:0', 'weave_layer_59/Variable:0', 'weave_layer_59/kernel:0', 'weave_layer_59/Variable:0', 'weave_layer_59/kernel:0', 'weave_layer_59/Variable:0', 'weave_layer_59/batch_normalization_3/gamma:0', 'weave_layer_59/batch_normalization_3/beta:0', 'weave_layer_59/batch_normalization_4/gamma:0', 'weave_layer_59/batch_normalization_4/beta:0', 'weave_layer_59/batch_normalization_5/gamma:0', 'weave_layer_59/batch_normalization_5/beta:0'] when minimizing the loss.\n"
          ]
        },
        {
          "name": "stdout",
          "output_type": "stream",
          "text": [
            "WARNING:tensorflow:Gradients do not exist for variables ['weave_layer_61/kernel:0', 'weave_layer_61/Variable:0', 'weave_layer_61/kernel:0', 'weave_layer_61/Variable:0', 'weave_layer_61/kernel:0', 'weave_layer_61/Variable:0', 'weave_layer_61/batch_normalization_3/gamma:0', 'weave_layer_61/batch_normalization_3/beta:0', 'weave_layer_61/batch_normalization_4/gamma:0', 'weave_layer_61/batch_normalization_4/beta:0', 'weave_layer_61/batch_normalization_5/gamma:0', 'weave_layer_61/batch_normalization_5/beta:0'] when minimizing the loss.\n"
          ]
        },
        {
          "name": "stderr",
          "output_type": "stream",
          "text": [
            "WARNING:tensorflow:Gradients do not exist for variables ['weave_layer_61/kernel:0', 'weave_layer_61/Variable:0', 'weave_layer_61/kernel:0', 'weave_layer_61/Variable:0', 'weave_layer_61/kernel:0', 'weave_layer_61/Variable:0', 'weave_layer_61/batch_normalization_3/gamma:0', 'weave_layer_61/batch_normalization_3/beta:0', 'weave_layer_61/batch_normalization_4/gamma:0', 'weave_layer_61/batch_normalization_4/beta:0', 'weave_layer_61/batch_normalization_5/gamma:0', 'weave_layer_61/batch_normalization_5/beta:0'] when minimizing the loss.\n"
          ]
        },
        {
          "name": "stdout",
          "output_type": "stream",
          "text": [
            "WARNING:tensorflow:Gradients do not exist for variables ['weave_layer_61/kernel:0', 'weave_layer_61/Variable:0', 'weave_layer_61/kernel:0', 'weave_layer_61/Variable:0', 'weave_layer_61/kernel:0', 'weave_layer_61/Variable:0', 'weave_layer_61/batch_normalization_3/gamma:0', 'weave_layer_61/batch_normalization_3/beta:0', 'weave_layer_61/batch_normalization_4/gamma:0', 'weave_layer_61/batch_normalization_4/beta:0', 'weave_layer_61/batch_normalization_5/gamma:0', 'weave_layer_61/batch_normalization_5/beta:0'] when minimizing the loss.\n"
          ]
        },
        {
          "name": "stderr",
          "output_type": "stream",
          "text": [
            "WARNING:tensorflow:Gradients do not exist for variables ['weave_layer_61/kernel:0', 'weave_layer_61/Variable:0', 'weave_layer_61/kernel:0', 'weave_layer_61/Variable:0', 'weave_layer_61/kernel:0', 'weave_layer_61/Variable:0', 'weave_layer_61/batch_normalization_3/gamma:0', 'weave_layer_61/batch_normalization_3/beta:0', 'weave_layer_61/batch_normalization_4/gamma:0', 'weave_layer_61/batch_normalization_4/beta:0', 'weave_layer_61/batch_normalization_5/gamma:0', 'weave_layer_61/batch_normalization_5/beta:0'] when minimizing the loss.\n"
          ]
        },
        {
          "name": "stdout",
          "output_type": "stream",
          "text": [
            "WARNING:tensorflow:Gradients do not exist for variables ['weave_layer_61/kernel:0', 'weave_layer_61/Variable:0', 'weave_layer_61/kernel:0', 'weave_layer_61/Variable:0', 'weave_layer_61/kernel:0', 'weave_layer_61/Variable:0', 'weave_layer_61/batch_normalization_3/gamma:0', 'weave_layer_61/batch_normalization_3/beta:0', 'weave_layer_61/batch_normalization_4/gamma:0', 'weave_layer_61/batch_normalization_4/beta:0', 'weave_layer_61/batch_normalization_5/gamma:0', 'weave_layer_61/batch_normalization_5/beta:0'] when minimizing the loss.\n"
          ]
        },
        {
          "name": "stderr",
          "output_type": "stream",
          "text": [
            "WARNING:tensorflow:Gradients do not exist for variables ['weave_layer_61/kernel:0', 'weave_layer_61/Variable:0', 'weave_layer_61/kernel:0', 'weave_layer_61/Variable:0', 'weave_layer_61/kernel:0', 'weave_layer_61/Variable:0', 'weave_layer_61/batch_normalization_3/gamma:0', 'weave_layer_61/batch_normalization_3/beta:0', 'weave_layer_61/batch_normalization_4/gamma:0', 'weave_layer_61/batch_normalization_4/beta:0', 'weave_layer_61/batch_normalization_5/gamma:0', 'weave_layer_61/batch_normalization_5/beta:0'] when minimizing the loss.\n"
          ]
        },
        {
          "name": "stdout",
          "output_type": "stream",
          "text": [
            "WARNING:tensorflow:Gradients do not exist for variables ['weave_layer_61/kernel:0', 'weave_layer_61/Variable:0', 'weave_layer_61/kernel:0', 'weave_layer_61/Variable:0', 'weave_layer_61/kernel:0', 'weave_layer_61/Variable:0', 'weave_layer_61/batch_normalization_3/gamma:0', 'weave_layer_61/batch_normalization_3/beta:0', 'weave_layer_61/batch_normalization_4/gamma:0', 'weave_layer_61/batch_normalization_4/beta:0', 'weave_layer_61/batch_normalization_5/gamma:0', 'weave_layer_61/batch_normalization_5/beta:0'] when minimizing the loss.\n"
          ]
        },
        {
          "name": "stderr",
          "output_type": "stream",
          "text": [
            "WARNING:tensorflow:Gradients do not exist for variables ['weave_layer_61/kernel:0', 'weave_layer_61/Variable:0', 'weave_layer_61/kernel:0', 'weave_layer_61/Variable:0', 'weave_layer_61/kernel:0', 'weave_layer_61/Variable:0', 'weave_layer_61/batch_normalization_3/gamma:0', 'weave_layer_61/batch_normalization_3/beta:0', 'weave_layer_61/batch_normalization_4/gamma:0', 'weave_layer_61/batch_normalization_4/beta:0', 'weave_layer_61/batch_normalization_5/gamma:0', 'weave_layer_61/batch_normalization_5/beta:0'] when minimizing the loss.\n"
          ]
        },
        {
          "name": "stdout",
          "output_type": "stream",
          "text": [
            "WARNING:tensorflow:Gradients do not exist for variables ['weave_layer_63/kernel:0', 'weave_layer_63/Variable:0', 'weave_layer_63/kernel:0', 'weave_layer_63/Variable:0', 'weave_layer_63/kernel:0', 'weave_layer_63/Variable:0', 'weave_layer_63/batch_normalization_3/gamma:0', 'weave_layer_63/batch_normalization_3/beta:0', 'weave_layer_63/batch_normalization_4/gamma:0', 'weave_layer_63/batch_normalization_4/beta:0', 'weave_layer_63/batch_normalization_5/gamma:0', 'weave_layer_63/batch_normalization_5/beta:0'] when minimizing the loss.\n"
          ]
        },
        {
          "name": "stderr",
          "output_type": "stream",
          "text": [
            "WARNING:tensorflow:Gradients do not exist for variables ['weave_layer_63/kernel:0', 'weave_layer_63/Variable:0', 'weave_layer_63/kernel:0', 'weave_layer_63/Variable:0', 'weave_layer_63/kernel:0', 'weave_layer_63/Variable:0', 'weave_layer_63/batch_normalization_3/gamma:0', 'weave_layer_63/batch_normalization_3/beta:0', 'weave_layer_63/batch_normalization_4/gamma:0', 'weave_layer_63/batch_normalization_4/beta:0', 'weave_layer_63/batch_normalization_5/gamma:0', 'weave_layer_63/batch_normalization_5/beta:0'] when minimizing the loss.\n"
          ]
        },
        {
          "name": "stdout",
          "output_type": "stream",
          "text": [
            "WARNING:tensorflow:Gradients do not exist for variables ['weave_layer_63/kernel:0', 'weave_layer_63/Variable:0', 'weave_layer_63/kernel:0', 'weave_layer_63/Variable:0', 'weave_layer_63/kernel:0', 'weave_layer_63/Variable:0', 'weave_layer_63/batch_normalization_3/gamma:0', 'weave_layer_63/batch_normalization_3/beta:0', 'weave_layer_63/batch_normalization_4/gamma:0', 'weave_layer_63/batch_normalization_4/beta:0', 'weave_layer_63/batch_normalization_5/gamma:0', 'weave_layer_63/batch_normalization_5/beta:0'] when minimizing the loss.\n"
          ]
        },
        {
          "name": "stderr",
          "output_type": "stream",
          "text": [
            "WARNING:tensorflow:Gradients do not exist for variables ['weave_layer_63/kernel:0', 'weave_layer_63/Variable:0', 'weave_layer_63/kernel:0', 'weave_layer_63/Variable:0', 'weave_layer_63/kernel:0', 'weave_layer_63/Variable:0', 'weave_layer_63/batch_normalization_3/gamma:0', 'weave_layer_63/batch_normalization_3/beta:0', 'weave_layer_63/batch_normalization_4/gamma:0', 'weave_layer_63/batch_normalization_4/beta:0', 'weave_layer_63/batch_normalization_5/gamma:0', 'weave_layer_63/batch_normalization_5/beta:0'] when minimizing the loss.\n"
          ]
        },
        {
          "name": "stdout",
          "output_type": "stream",
          "text": [
            "WARNING:tensorflow:Gradients do not exist for variables ['weave_layer_63/kernel:0', 'weave_layer_63/Variable:0', 'weave_layer_63/kernel:0', 'weave_layer_63/Variable:0', 'weave_layer_63/kernel:0', 'weave_layer_63/Variable:0', 'weave_layer_63/batch_normalization_3/gamma:0', 'weave_layer_63/batch_normalization_3/beta:0', 'weave_layer_63/batch_normalization_4/gamma:0', 'weave_layer_63/batch_normalization_4/beta:0', 'weave_layer_63/batch_normalization_5/gamma:0', 'weave_layer_63/batch_normalization_5/beta:0'] when minimizing the loss.\n"
          ]
        },
        {
          "name": "stderr",
          "output_type": "stream",
          "text": [
            "WARNING:tensorflow:Gradients do not exist for variables ['weave_layer_63/kernel:0', 'weave_layer_63/Variable:0', 'weave_layer_63/kernel:0', 'weave_layer_63/Variable:0', 'weave_layer_63/kernel:0', 'weave_layer_63/Variable:0', 'weave_layer_63/batch_normalization_3/gamma:0', 'weave_layer_63/batch_normalization_3/beta:0', 'weave_layer_63/batch_normalization_4/gamma:0', 'weave_layer_63/batch_normalization_4/beta:0', 'weave_layer_63/batch_normalization_5/gamma:0', 'weave_layer_63/batch_normalization_5/beta:0'] when minimizing the loss.\n"
          ]
        },
        {
          "name": "stdout",
          "output_type": "stream",
          "text": [
            "WARNING:tensorflow:Gradients do not exist for variables ['weave_layer_63/kernel:0', 'weave_layer_63/Variable:0', 'weave_layer_63/kernel:0', 'weave_layer_63/Variable:0', 'weave_layer_63/kernel:0', 'weave_layer_63/Variable:0', 'weave_layer_63/batch_normalization_3/gamma:0', 'weave_layer_63/batch_normalization_3/beta:0', 'weave_layer_63/batch_normalization_4/gamma:0', 'weave_layer_63/batch_normalization_4/beta:0', 'weave_layer_63/batch_normalization_5/gamma:0', 'weave_layer_63/batch_normalization_5/beta:0'] when minimizing the loss.\n"
          ]
        },
        {
          "name": "stderr",
          "output_type": "stream",
          "text": [
            "WARNING:tensorflow:Gradients do not exist for variables ['weave_layer_63/kernel:0', 'weave_layer_63/Variable:0', 'weave_layer_63/kernel:0', 'weave_layer_63/Variable:0', 'weave_layer_63/kernel:0', 'weave_layer_63/Variable:0', 'weave_layer_63/batch_normalization_3/gamma:0', 'weave_layer_63/batch_normalization_3/beta:0', 'weave_layer_63/batch_normalization_4/gamma:0', 'weave_layer_63/batch_normalization_4/beta:0', 'weave_layer_63/batch_normalization_5/gamma:0', 'weave_layer_63/batch_normalization_5/beta:0'] when minimizing the loss.\n"
          ]
        },
        {
          "name": "stdout",
          "output_type": "stream",
          "text": [
            "init   \t [130. 329.  17.]. \t  -0.7555424053672201 \t -0.6375722658437386\n",
            "init   \t [  4. 285.  17.]. \t  -0.6375722658437386 \t -0.6375722658437386\n",
            "init   \t [ 48. 364.   7.]. \t  -0.7049368234474378 \t -0.6375722658437386\n",
            "WARNING:tensorflow:Gradients do not exist for variables ['weave_layer_65/kernel:0', 'weave_layer_65/Variable:0', 'weave_layer_65/kernel:0', 'weave_layer_65/Variable:0', 'weave_layer_65/kernel:0', 'weave_layer_65/Variable:0', 'weave_layer_65/batch_normalization_3/gamma:0', 'weave_layer_65/batch_normalization_3/beta:0', 'weave_layer_65/batch_normalization_4/gamma:0', 'weave_layer_65/batch_normalization_4/beta:0', 'weave_layer_65/batch_normalization_5/gamma:0', 'weave_layer_65/batch_normalization_5/beta:0'] when minimizing the loss.\n"
          ]
        },
        {
          "name": "stderr",
          "output_type": "stream",
          "text": [
            "WARNING:tensorflow:Gradients do not exist for variables ['weave_layer_65/kernel:0', 'weave_layer_65/Variable:0', 'weave_layer_65/kernel:0', 'weave_layer_65/Variable:0', 'weave_layer_65/kernel:0', 'weave_layer_65/Variable:0', 'weave_layer_65/batch_normalization_3/gamma:0', 'weave_layer_65/batch_normalization_3/beta:0', 'weave_layer_65/batch_normalization_4/gamma:0', 'weave_layer_65/batch_normalization_4/beta:0', 'weave_layer_65/batch_normalization_5/gamma:0', 'weave_layer_65/batch_normalization_5/beta:0'] when minimizing the loss.\n"
          ]
        },
        {
          "name": "stdout",
          "output_type": "stream",
          "text": [
            "WARNING:tensorflow:Gradients do not exist for variables ['weave_layer_65/kernel:0', 'weave_layer_65/Variable:0', 'weave_layer_65/kernel:0', 'weave_layer_65/Variable:0', 'weave_layer_65/kernel:0', 'weave_layer_65/Variable:0', 'weave_layer_65/batch_normalization_3/gamma:0', 'weave_layer_65/batch_normalization_3/beta:0', 'weave_layer_65/batch_normalization_4/gamma:0', 'weave_layer_65/batch_normalization_4/beta:0', 'weave_layer_65/batch_normalization_5/gamma:0', 'weave_layer_65/batch_normalization_5/beta:0'] when minimizing the loss.\n"
          ]
        },
        {
          "name": "stderr",
          "output_type": "stream",
          "text": [
            "WARNING:tensorflow:Gradients do not exist for variables ['weave_layer_65/kernel:0', 'weave_layer_65/Variable:0', 'weave_layer_65/kernel:0', 'weave_layer_65/Variable:0', 'weave_layer_65/kernel:0', 'weave_layer_65/Variable:0', 'weave_layer_65/batch_normalization_3/gamma:0', 'weave_layer_65/batch_normalization_3/beta:0', 'weave_layer_65/batch_normalization_4/gamma:0', 'weave_layer_65/batch_normalization_4/beta:0', 'weave_layer_65/batch_normalization_5/gamma:0', 'weave_layer_65/batch_normalization_5/beta:0'] when minimizing the loss.\n"
          ]
        },
        {
          "name": "stdout",
          "output_type": "stream",
          "text": [
            "WARNING:tensorflow:Gradients do not exist for variables ['weave_layer_65/kernel:0', 'weave_layer_65/Variable:0', 'weave_layer_65/kernel:0', 'weave_layer_65/Variable:0', 'weave_layer_65/kernel:0', 'weave_layer_65/Variable:0', 'weave_layer_65/batch_normalization_3/gamma:0', 'weave_layer_65/batch_normalization_3/beta:0', 'weave_layer_65/batch_normalization_4/gamma:0', 'weave_layer_65/batch_normalization_4/beta:0', 'weave_layer_65/batch_normalization_5/gamma:0', 'weave_layer_65/batch_normalization_5/beta:0'] when minimizing the loss.\n"
          ]
        },
        {
          "name": "stderr",
          "output_type": "stream",
          "text": [
            "WARNING:tensorflow:Gradients do not exist for variables ['weave_layer_65/kernel:0', 'weave_layer_65/Variable:0', 'weave_layer_65/kernel:0', 'weave_layer_65/Variable:0', 'weave_layer_65/kernel:0', 'weave_layer_65/Variable:0', 'weave_layer_65/batch_normalization_3/gamma:0', 'weave_layer_65/batch_normalization_3/beta:0', 'weave_layer_65/batch_normalization_4/gamma:0', 'weave_layer_65/batch_normalization_4/beta:0', 'weave_layer_65/batch_normalization_5/gamma:0', 'weave_layer_65/batch_normalization_5/beta:0'] when minimizing the loss.\n"
          ]
        },
        {
          "name": "stdout",
          "output_type": "stream",
          "text": [
            "WARNING:tensorflow:Gradients do not exist for variables ['weave_layer_65/kernel:0', 'weave_layer_65/Variable:0', 'weave_layer_65/kernel:0', 'weave_layer_65/Variable:0', 'weave_layer_65/kernel:0', 'weave_layer_65/Variable:0', 'weave_layer_65/batch_normalization_3/gamma:0', 'weave_layer_65/batch_normalization_3/beta:0', 'weave_layer_65/batch_normalization_4/gamma:0', 'weave_layer_65/batch_normalization_4/beta:0', 'weave_layer_65/batch_normalization_5/gamma:0', 'weave_layer_65/batch_normalization_5/beta:0'] when minimizing the loss.\n"
          ]
        },
        {
          "name": "stderr",
          "output_type": "stream",
          "text": [
            "WARNING:tensorflow:Gradients do not exist for variables ['weave_layer_65/kernel:0', 'weave_layer_65/Variable:0', 'weave_layer_65/kernel:0', 'weave_layer_65/Variable:0', 'weave_layer_65/kernel:0', 'weave_layer_65/Variable:0', 'weave_layer_65/batch_normalization_3/gamma:0', 'weave_layer_65/batch_normalization_3/beta:0', 'weave_layer_65/batch_normalization_4/gamma:0', 'weave_layer_65/batch_normalization_4/beta:0', 'weave_layer_65/batch_normalization_5/gamma:0', 'weave_layer_65/batch_normalization_5/beta:0'] when minimizing the loss.\n"
          ]
        },
        {
          "name": "stdout",
          "output_type": "stream",
          "text": [
            "1      \t [137.  40.   4.]. \t  \u001b[92m-0.6186904076187795\u001b[0m \t -0.6186904076187795\n",
            "WARNING:tensorflow:Gradients do not exist for variables ['weave_layer_67/kernel:0', 'weave_layer_67/Variable:0', 'weave_layer_67/kernel:0', 'weave_layer_67/Variable:0', 'weave_layer_67/kernel:0', 'weave_layer_67/Variable:0', 'weave_layer_67/batch_normalization_3/gamma:0', 'weave_layer_67/batch_normalization_3/beta:0', 'weave_layer_67/batch_normalization_4/gamma:0', 'weave_layer_67/batch_normalization_4/beta:0', 'weave_layer_67/batch_normalization_5/gamma:0', 'weave_layer_67/batch_normalization_5/beta:0'] when minimizing the loss.\n"
          ]
        },
        {
          "name": "stderr",
          "output_type": "stream",
          "text": [
            "WARNING:tensorflow:Gradients do not exist for variables ['weave_layer_67/kernel:0', 'weave_layer_67/Variable:0', 'weave_layer_67/kernel:0', 'weave_layer_67/Variable:0', 'weave_layer_67/kernel:0', 'weave_layer_67/Variable:0', 'weave_layer_67/batch_normalization_3/gamma:0', 'weave_layer_67/batch_normalization_3/beta:0', 'weave_layer_67/batch_normalization_4/gamma:0', 'weave_layer_67/batch_normalization_4/beta:0', 'weave_layer_67/batch_normalization_5/gamma:0', 'weave_layer_67/batch_normalization_5/beta:0'] when minimizing the loss.\n"
          ]
        },
        {
          "name": "stdout",
          "output_type": "stream",
          "text": [
            "WARNING:tensorflow:Gradients do not exist for variables ['weave_layer_67/kernel:0', 'weave_layer_67/Variable:0', 'weave_layer_67/kernel:0', 'weave_layer_67/Variable:0', 'weave_layer_67/kernel:0', 'weave_layer_67/Variable:0', 'weave_layer_67/batch_normalization_3/gamma:0', 'weave_layer_67/batch_normalization_3/beta:0', 'weave_layer_67/batch_normalization_4/gamma:0', 'weave_layer_67/batch_normalization_4/beta:0', 'weave_layer_67/batch_normalization_5/gamma:0', 'weave_layer_67/batch_normalization_5/beta:0'] when minimizing the loss.\n"
          ]
        },
        {
          "name": "stderr",
          "output_type": "stream",
          "text": [
            "WARNING:tensorflow:Gradients do not exist for variables ['weave_layer_67/kernel:0', 'weave_layer_67/Variable:0', 'weave_layer_67/kernel:0', 'weave_layer_67/Variable:0', 'weave_layer_67/kernel:0', 'weave_layer_67/Variable:0', 'weave_layer_67/batch_normalization_3/gamma:0', 'weave_layer_67/batch_normalization_3/beta:0', 'weave_layer_67/batch_normalization_4/gamma:0', 'weave_layer_67/batch_normalization_4/beta:0', 'weave_layer_67/batch_normalization_5/gamma:0', 'weave_layer_67/batch_normalization_5/beta:0'] when minimizing the loss.\n"
          ]
        },
        {
          "name": "stdout",
          "output_type": "stream",
          "text": [
            "WARNING:tensorflow:Gradients do not exist for variables ['weave_layer_67/kernel:0', 'weave_layer_67/Variable:0', 'weave_layer_67/kernel:0', 'weave_layer_67/Variable:0', 'weave_layer_67/kernel:0', 'weave_layer_67/Variable:0', 'weave_layer_67/batch_normalization_3/gamma:0', 'weave_layer_67/batch_normalization_3/beta:0', 'weave_layer_67/batch_normalization_4/gamma:0', 'weave_layer_67/batch_normalization_4/beta:0', 'weave_layer_67/batch_normalization_5/gamma:0', 'weave_layer_67/batch_normalization_5/beta:0'] when minimizing the loss.\n"
          ]
        },
        {
          "name": "stderr",
          "output_type": "stream",
          "text": [
            "WARNING:tensorflow:Gradients do not exist for variables ['weave_layer_67/kernel:0', 'weave_layer_67/Variable:0', 'weave_layer_67/kernel:0', 'weave_layer_67/Variable:0', 'weave_layer_67/kernel:0', 'weave_layer_67/Variable:0', 'weave_layer_67/batch_normalization_3/gamma:0', 'weave_layer_67/batch_normalization_3/beta:0', 'weave_layer_67/batch_normalization_4/gamma:0', 'weave_layer_67/batch_normalization_4/beta:0', 'weave_layer_67/batch_normalization_5/gamma:0', 'weave_layer_67/batch_normalization_5/beta:0'] when minimizing the loss.\n"
          ]
        },
        {
          "name": "stdout",
          "output_type": "stream",
          "text": [
            "WARNING:tensorflow:Gradients do not exist for variables ['weave_layer_67/kernel:0', 'weave_layer_67/Variable:0', 'weave_layer_67/kernel:0', 'weave_layer_67/Variable:0', 'weave_layer_67/kernel:0', 'weave_layer_67/Variable:0', 'weave_layer_67/batch_normalization_3/gamma:0', 'weave_layer_67/batch_normalization_3/beta:0', 'weave_layer_67/batch_normalization_4/gamma:0', 'weave_layer_67/batch_normalization_4/beta:0', 'weave_layer_67/batch_normalization_5/gamma:0', 'weave_layer_67/batch_normalization_5/beta:0'] when minimizing the loss.\n"
          ]
        },
        {
          "name": "stderr",
          "output_type": "stream",
          "text": [
            "WARNING:tensorflow:Gradients do not exist for variables ['weave_layer_67/kernel:0', 'weave_layer_67/Variable:0', 'weave_layer_67/kernel:0', 'weave_layer_67/Variable:0', 'weave_layer_67/kernel:0', 'weave_layer_67/Variable:0', 'weave_layer_67/batch_normalization_3/gamma:0', 'weave_layer_67/batch_normalization_3/beta:0', 'weave_layer_67/batch_normalization_4/gamma:0', 'weave_layer_67/batch_normalization_4/beta:0', 'weave_layer_67/batch_normalization_5/gamma:0', 'weave_layer_67/batch_normalization_5/beta:0'] when minimizing the loss.\n"
          ]
        },
        {
          "name": "stdout",
          "output_type": "stream",
          "text": [
            "2      \t [ 38. 448.   3.]. \t  \u001b[92m-0.5716399556767795\u001b[0m \t -0.5716399556767795\n",
            "WARNING:tensorflow:Gradients do not exist for variables ['weave_layer_69/kernel:0', 'weave_layer_69/Variable:0', 'weave_layer_69/kernel:0', 'weave_layer_69/Variable:0', 'weave_layer_69/kernel:0', 'weave_layer_69/Variable:0', 'weave_layer_69/batch_normalization_3/gamma:0', 'weave_layer_69/batch_normalization_3/beta:0', 'weave_layer_69/batch_normalization_4/gamma:0', 'weave_layer_69/batch_normalization_4/beta:0', 'weave_layer_69/batch_normalization_5/gamma:0', 'weave_layer_69/batch_normalization_5/beta:0'] when minimizing the loss.\n"
          ]
        },
        {
          "name": "stderr",
          "output_type": "stream",
          "text": [
            "WARNING:tensorflow:Gradients do not exist for variables ['weave_layer_69/kernel:0', 'weave_layer_69/Variable:0', 'weave_layer_69/kernel:0', 'weave_layer_69/Variable:0', 'weave_layer_69/kernel:0', 'weave_layer_69/Variable:0', 'weave_layer_69/batch_normalization_3/gamma:0', 'weave_layer_69/batch_normalization_3/beta:0', 'weave_layer_69/batch_normalization_4/gamma:0', 'weave_layer_69/batch_normalization_4/beta:0', 'weave_layer_69/batch_normalization_5/gamma:0', 'weave_layer_69/batch_normalization_5/beta:0'] when minimizing the loss.\n"
          ]
        },
        {
          "name": "stdout",
          "output_type": "stream",
          "text": [
            "WARNING:tensorflow:Gradients do not exist for variables ['weave_layer_69/kernel:0', 'weave_layer_69/Variable:0', 'weave_layer_69/kernel:0', 'weave_layer_69/Variable:0', 'weave_layer_69/kernel:0', 'weave_layer_69/Variable:0', 'weave_layer_69/batch_normalization_3/gamma:0', 'weave_layer_69/batch_normalization_3/beta:0', 'weave_layer_69/batch_normalization_4/gamma:0', 'weave_layer_69/batch_normalization_4/beta:0', 'weave_layer_69/batch_normalization_5/gamma:0', 'weave_layer_69/batch_normalization_5/beta:0'] when minimizing the loss.\n"
          ]
        },
        {
          "name": "stderr",
          "output_type": "stream",
          "text": [
            "WARNING:tensorflow:Gradients do not exist for variables ['weave_layer_69/kernel:0', 'weave_layer_69/Variable:0', 'weave_layer_69/kernel:0', 'weave_layer_69/Variable:0', 'weave_layer_69/kernel:0', 'weave_layer_69/Variable:0', 'weave_layer_69/batch_normalization_3/gamma:0', 'weave_layer_69/batch_normalization_3/beta:0', 'weave_layer_69/batch_normalization_4/gamma:0', 'weave_layer_69/batch_normalization_4/beta:0', 'weave_layer_69/batch_normalization_5/gamma:0', 'weave_layer_69/batch_normalization_5/beta:0'] when minimizing the loss.\n"
          ]
        },
        {
          "name": "stdout",
          "output_type": "stream",
          "text": [
            "WARNING:tensorflow:Gradients do not exist for variables ['weave_layer_69/kernel:0', 'weave_layer_69/Variable:0', 'weave_layer_69/kernel:0', 'weave_layer_69/Variable:0', 'weave_layer_69/kernel:0', 'weave_layer_69/Variable:0', 'weave_layer_69/batch_normalization_3/gamma:0', 'weave_layer_69/batch_normalization_3/beta:0', 'weave_layer_69/batch_normalization_4/gamma:0', 'weave_layer_69/batch_normalization_4/beta:0', 'weave_layer_69/batch_normalization_5/gamma:0', 'weave_layer_69/batch_normalization_5/beta:0'] when minimizing the loss.\n"
          ]
        },
        {
          "name": "stderr",
          "output_type": "stream",
          "text": [
            "WARNING:tensorflow:Gradients do not exist for variables ['weave_layer_69/kernel:0', 'weave_layer_69/Variable:0', 'weave_layer_69/kernel:0', 'weave_layer_69/Variable:0', 'weave_layer_69/kernel:0', 'weave_layer_69/Variable:0', 'weave_layer_69/batch_normalization_3/gamma:0', 'weave_layer_69/batch_normalization_3/beta:0', 'weave_layer_69/batch_normalization_4/gamma:0', 'weave_layer_69/batch_normalization_4/beta:0', 'weave_layer_69/batch_normalization_5/gamma:0', 'weave_layer_69/batch_normalization_5/beta:0'] when minimizing the loss.\n"
          ]
        },
        {
          "name": "stdout",
          "output_type": "stream",
          "text": [
            "WARNING:tensorflow:Gradients do not exist for variables ['weave_layer_69/kernel:0', 'weave_layer_69/Variable:0', 'weave_layer_69/kernel:0', 'weave_layer_69/Variable:0', 'weave_layer_69/kernel:0', 'weave_layer_69/Variable:0', 'weave_layer_69/batch_normalization_3/gamma:0', 'weave_layer_69/batch_normalization_3/beta:0', 'weave_layer_69/batch_normalization_4/gamma:0', 'weave_layer_69/batch_normalization_4/beta:0', 'weave_layer_69/batch_normalization_5/gamma:0', 'weave_layer_69/batch_normalization_5/beta:0'] when minimizing the loss.\n"
          ]
        },
        {
          "name": "stderr",
          "output_type": "stream",
          "text": [
            "WARNING:tensorflow:Gradients do not exist for variables ['weave_layer_69/kernel:0', 'weave_layer_69/Variable:0', 'weave_layer_69/kernel:0', 'weave_layer_69/Variable:0', 'weave_layer_69/kernel:0', 'weave_layer_69/Variable:0', 'weave_layer_69/batch_normalization_3/gamma:0', 'weave_layer_69/batch_normalization_3/beta:0', 'weave_layer_69/batch_normalization_4/gamma:0', 'weave_layer_69/batch_normalization_4/beta:0', 'weave_layer_69/batch_normalization_5/gamma:0', 'weave_layer_69/batch_normalization_5/beta:0'] when minimizing the loss.\n"
          ]
        },
        {
          "name": "stdout",
          "output_type": "stream",
          "text": [
            "3      \t [ 73. 401.  19.]. \t  -0.5750580500485288 \t -0.5716399556767795\n",
            "WARNING:tensorflow:Gradients do not exist for variables ['weave_layer_71/kernel:0', 'weave_layer_71/Variable:0', 'weave_layer_71/kernel:0', 'weave_layer_71/Variable:0', 'weave_layer_71/kernel:0', 'weave_layer_71/Variable:0', 'weave_layer_71/batch_normalization_3/gamma:0', 'weave_layer_71/batch_normalization_3/beta:0', 'weave_layer_71/batch_normalization_4/gamma:0', 'weave_layer_71/batch_normalization_4/beta:0', 'weave_layer_71/batch_normalization_5/gamma:0', 'weave_layer_71/batch_normalization_5/beta:0'] when minimizing the loss.\n"
          ]
        },
        {
          "name": "stderr",
          "output_type": "stream",
          "text": [
            "WARNING:tensorflow:Gradients do not exist for variables ['weave_layer_71/kernel:0', 'weave_layer_71/Variable:0', 'weave_layer_71/kernel:0', 'weave_layer_71/Variable:0', 'weave_layer_71/kernel:0', 'weave_layer_71/Variable:0', 'weave_layer_71/batch_normalization_3/gamma:0', 'weave_layer_71/batch_normalization_3/beta:0', 'weave_layer_71/batch_normalization_4/gamma:0', 'weave_layer_71/batch_normalization_4/beta:0', 'weave_layer_71/batch_normalization_5/gamma:0', 'weave_layer_71/batch_normalization_5/beta:0'] when minimizing the loss.\n"
          ]
        },
        {
          "name": "stdout",
          "output_type": "stream",
          "text": [
            "WARNING:tensorflow:Gradients do not exist for variables ['weave_layer_71/kernel:0', 'weave_layer_71/Variable:0', 'weave_layer_71/kernel:0', 'weave_layer_71/Variable:0', 'weave_layer_71/kernel:0', 'weave_layer_71/Variable:0', 'weave_layer_71/batch_normalization_3/gamma:0', 'weave_layer_71/batch_normalization_3/beta:0', 'weave_layer_71/batch_normalization_4/gamma:0', 'weave_layer_71/batch_normalization_4/beta:0', 'weave_layer_71/batch_normalization_5/gamma:0', 'weave_layer_71/batch_normalization_5/beta:0'] when minimizing the loss.\n"
          ]
        },
        {
          "name": "stderr",
          "output_type": "stream",
          "text": [
            "WARNING:tensorflow:Gradients do not exist for variables ['weave_layer_71/kernel:0', 'weave_layer_71/Variable:0', 'weave_layer_71/kernel:0', 'weave_layer_71/Variable:0', 'weave_layer_71/kernel:0', 'weave_layer_71/Variable:0', 'weave_layer_71/batch_normalization_3/gamma:0', 'weave_layer_71/batch_normalization_3/beta:0', 'weave_layer_71/batch_normalization_4/gamma:0', 'weave_layer_71/batch_normalization_4/beta:0', 'weave_layer_71/batch_normalization_5/gamma:0', 'weave_layer_71/batch_normalization_5/beta:0'] when minimizing the loss.\n"
          ]
        },
        {
          "name": "stdout",
          "output_type": "stream",
          "text": [
            "WARNING:tensorflow:Gradients do not exist for variables ['weave_layer_71/kernel:0', 'weave_layer_71/Variable:0', 'weave_layer_71/kernel:0', 'weave_layer_71/Variable:0', 'weave_layer_71/kernel:0', 'weave_layer_71/Variable:0', 'weave_layer_71/batch_normalization_3/gamma:0', 'weave_layer_71/batch_normalization_3/beta:0', 'weave_layer_71/batch_normalization_4/gamma:0', 'weave_layer_71/batch_normalization_4/beta:0', 'weave_layer_71/batch_normalization_5/gamma:0', 'weave_layer_71/batch_normalization_5/beta:0'] when minimizing the loss.\n"
          ]
        },
        {
          "name": "stderr",
          "output_type": "stream",
          "text": [
            "WARNING:tensorflow:Gradients do not exist for variables ['weave_layer_71/kernel:0', 'weave_layer_71/Variable:0', 'weave_layer_71/kernel:0', 'weave_layer_71/Variable:0', 'weave_layer_71/kernel:0', 'weave_layer_71/Variable:0', 'weave_layer_71/batch_normalization_3/gamma:0', 'weave_layer_71/batch_normalization_3/beta:0', 'weave_layer_71/batch_normalization_4/gamma:0', 'weave_layer_71/batch_normalization_4/beta:0', 'weave_layer_71/batch_normalization_5/gamma:0', 'weave_layer_71/batch_normalization_5/beta:0'] when minimizing the loss.\n"
          ]
        },
        {
          "name": "stdout",
          "output_type": "stream",
          "text": [
            "WARNING:tensorflow:Gradients do not exist for variables ['weave_layer_71/kernel:0', 'weave_layer_71/Variable:0', 'weave_layer_71/kernel:0', 'weave_layer_71/Variable:0', 'weave_layer_71/kernel:0', 'weave_layer_71/Variable:0', 'weave_layer_71/batch_normalization_3/gamma:0', 'weave_layer_71/batch_normalization_3/beta:0', 'weave_layer_71/batch_normalization_4/gamma:0', 'weave_layer_71/batch_normalization_4/beta:0', 'weave_layer_71/batch_normalization_5/gamma:0', 'weave_layer_71/batch_normalization_5/beta:0'] when minimizing the loss.\n"
          ]
        },
        {
          "name": "stderr",
          "output_type": "stream",
          "text": [
            "WARNING:tensorflow:Gradients do not exist for variables ['weave_layer_71/kernel:0', 'weave_layer_71/Variable:0', 'weave_layer_71/kernel:0', 'weave_layer_71/Variable:0', 'weave_layer_71/kernel:0', 'weave_layer_71/Variable:0', 'weave_layer_71/batch_normalization_3/gamma:0', 'weave_layer_71/batch_normalization_3/beta:0', 'weave_layer_71/batch_normalization_4/gamma:0', 'weave_layer_71/batch_normalization_4/beta:0', 'weave_layer_71/batch_normalization_5/gamma:0', 'weave_layer_71/batch_normalization_5/beta:0'] when minimizing the loss.\n"
          ]
        },
        {
          "name": "stdout",
          "output_type": "stream",
          "text": [
            "4      \t [ 67. 306.  14.]. \t  -0.5769406830009493 \t -0.5716399556767795\n",
            "WARNING:tensorflow:Gradients do not exist for variables ['weave_layer_73/kernel:0', 'weave_layer_73/Variable:0', 'weave_layer_73/kernel:0', 'weave_layer_73/Variable:0', 'weave_layer_73/kernel:0', 'weave_layer_73/Variable:0', 'weave_layer_73/batch_normalization_3/gamma:0', 'weave_layer_73/batch_normalization_3/beta:0', 'weave_layer_73/batch_normalization_4/gamma:0', 'weave_layer_73/batch_normalization_4/beta:0', 'weave_layer_73/batch_normalization_5/gamma:0', 'weave_layer_73/batch_normalization_5/beta:0'] when minimizing the loss.\n"
          ]
        },
        {
          "name": "stderr",
          "output_type": "stream",
          "text": [
            "WARNING:tensorflow:Gradients do not exist for variables ['weave_layer_73/kernel:0', 'weave_layer_73/Variable:0', 'weave_layer_73/kernel:0', 'weave_layer_73/Variable:0', 'weave_layer_73/kernel:0', 'weave_layer_73/Variable:0', 'weave_layer_73/batch_normalization_3/gamma:0', 'weave_layer_73/batch_normalization_3/beta:0', 'weave_layer_73/batch_normalization_4/gamma:0', 'weave_layer_73/batch_normalization_4/beta:0', 'weave_layer_73/batch_normalization_5/gamma:0', 'weave_layer_73/batch_normalization_5/beta:0'] when minimizing the loss.\n"
          ]
        },
        {
          "name": "stdout",
          "output_type": "stream",
          "text": [
            "WARNING:tensorflow:Gradients do not exist for variables ['weave_layer_73/kernel:0', 'weave_layer_73/Variable:0', 'weave_layer_73/kernel:0', 'weave_layer_73/Variable:0', 'weave_layer_73/kernel:0', 'weave_layer_73/Variable:0', 'weave_layer_73/batch_normalization_3/gamma:0', 'weave_layer_73/batch_normalization_3/beta:0', 'weave_layer_73/batch_normalization_4/gamma:0', 'weave_layer_73/batch_normalization_4/beta:0', 'weave_layer_73/batch_normalization_5/gamma:0', 'weave_layer_73/batch_normalization_5/beta:0'] when minimizing the loss.\n"
          ]
        },
        {
          "name": "stderr",
          "output_type": "stream",
          "text": [
            "WARNING:tensorflow:Gradients do not exist for variables ['weave_layer_73/kernel:0', 'weave_layer_73/Variable:0', 'weave_layer_73/kernel:0', 'weave_layer_73/Variable:0', 'weave_layer_73/kernel:0', 'weave_layer_73/Variable:0', 'weave_layer_73/batch_normalization_3/gamma:0', 'weave_layer_73/batch_normalization_3/beta:0', 'weave_layer_73/batch_normalization_4/gamma:0', 'weave_layer_73/batch_normalization_4/beta:0', 'weave_layer_73/batch_normalization_5/gamma:0', 'weave_layer_73/batch_normalization_5/beta:0'] when minimizing the loss.\n"
          ]
        },
        {
          "name": "stdout",
          "output_type": "stream",
          "text": [
            "WARNING:tensorflow:Gradients do not exist for variables ['weave_layer_73/kernel:0', 'weave_layer_73/Variable:0', 'weave_layer_73/kernel:0', 'weave_layer_73/Variable:0', 'weave_layer_73/kernel:0', 'weave_layer_73/Variable:0', 'weave_layer_73/batch_normalization_3/gamma:0', 'weave_layer_73/batch_normalization_3/beta:0', 'weave_layer_73/batch_normalization_4/gamma:0', 'weave_layer_73/batch_normalization_4/beta:0', 'weave_layer_73/batch_normalization_5/gamma:0', 'weave_layer_73/batch_normalization_5/beta:0'] when minimizing the loss.\n"
          ]
        },
        {
          "name": "stderr",
          "output_type": "stream",
          "text": [
            "WARNING:tensorflow:Gradients do not exist for variables ['weave_layer_73/kernel:0', 'weave_layer_73/Variable:0', 'weave_layer_73/kernel:0', 'weave_layer_73/Variable:0', 'weave_layer_73/kernel:0', 'weave_layer_73/Variable:0', 'weave_layer_73/batch_normalization_3/gamma:0', 'weave_layer_73/batch_normalization_3/beta:0', 'weave_layer_73/batch_normalization_4/gamma:0', 'weave_layer_73/batch_normalization_4/beta:0', 'weave_layer_73/batch_normalization_5/gamma:0', 'weave_layer_73/batch_normalization_5/beta:0'] when minimizing the loss.\n"
          ]
        },
        {
          "name": "stdout",
          "output_type": "stream",
          "text": [
            "WARNING:tensorflow:Gradients do not exist for variables ['weave_layer_73/kernel:0', 'weave_layer_73/Variable:0', 'weave_layer_73/kernel:0', 'weave_layer_73/Variable:0', 'weave_layer_73/kernel:0', 'weave_layer_73/Variable:0', 'weave_layer_73/batch_normalization_3/gamma:0', 'weave_layer_73/batch_normalization_3/beta:0', 'weave_layer_73/batch_normalization_4/gamma:0', 'weave_layer_73/batch_normalization_4/beta:0', 'weave_layer_73/batch_normalization_5/gamma:0', 'weave_layer_73/batch_normalization_5/beta:0'] when minimizing the loss.\n"
          ]
        },
        {
          "name": "stderr",
          "output_type": "stream",
          "text": [
            "WARNING:tensorflow:Gradients do not exist for variables ['weave_layer_73/kernel:0', 'weave_layer_73/Variable:0', 'weave_layer_73/kernel:0', 'weave_layer_73/Variable:0', 'weave_layer_73/kernel:0', 'weave_layer_73/Variable:0', 'weave_layer_73/batch_normalization_3/gamma:0', 'weave_layer_73/batch_normalization_3/beta:0', 'weave_layer_73/batch_normalization_4/gamma:0', 'weave_layer_73/batch_normalization_4/beta:0', 'weave_layer_73/batch_normalization_5/gamma:0', 'weave_layer_73/batch_normalization_5/beta:0'] when minimizing the loss.\n"
          ]
        },
        {
          "name": "stdout",
          "output_type": "stream",
          "text": [
            "5      \t [ 4. 21.  0.]. \t  -0.5816318836108919 \t -0.5716399556767795\n",
            "WARNING:tensorflow:Gradients do not exist for variables ['weave_layer_75/kernel:0', 'weave_layer_75/Variable:0', 'weave_layer_75/kernel:0', 'weave_layer_75/Variable:0', 'weave_layer_75/kernel:0', 'weave_layer_75/Variable:0', 'weave_layer_75/batch_normalization_3/gamma:0', 'weave_layer_75/batch_normalization_3/beta:0', 'weave_layer_75/batch_normalization_4/gamma:0', 'weave_layer_75/batch_normalization_4/beta:0', 'weave_layer_75/batch_normalization_5/gamma:0', 'weave_layer_75/batch_normalization_5/beta:0'] when minimizing the loss.\n"
          ]
        },
        {
          "name": "stderr",
          "output_type": "stream",
          "text": [
            "WARNING:tensorflow:Gradients do not exist for variables ['weave_layer_75/kernel:0', 'weave_layer_75/Variable:0', 'weave_layer_75/kernel:0', 'weave_layer_75/Variable:0', 'weave_layer_75/kernel:0', 'weave_layer_75/Variable:0', 'weave_layer_75/batch_normalization_3/gamma:0', 'weave_layer_75/batch_normalization_3/beta:0', 'weave_layer_75/batch_normalization_4/gamma:0', 'weave_layer_75/batch_normalization_4/beta:0', 'weave_layer_75/batch_normalization_5/gamma:0', 'weave_layer_75/batch_normalization_5/beta:0'] when minimizing the loss.\n"
          ]
        },
        {
          "name": "stdout",
          "output_type": "stream",
          "text": [
            "WARNING:tensorflow:Gradients do not exist for variables ['weave_layer_75/kernel:0', 'weave_layer_75/Variable:0', 'weave_layer_75/kernel:0', 'weave_layer_75/Variable:0', 'weave_layer_75/kernel:0', 'weave_layer_75/Variable:0', 'weave_layer_75/batch_normalization_3/gamma:0', 'weave_layer_75/batch_normalization_3/beta:0', 'weave_layer_75/batch_normalization_4/gamma:0', 'weave_layer_75/batch_normalization_4/beta:0', 'weave_layer_75/batch_normalization_5/gamma:0', 'weave_layer_75/batch_normalization_5/beta:0'] when minimizing the loss.\n"
          ]
        },
        {
          "name": "stderr",
          "output_type": "stream",
          "text": [
            "WARNING:tensorflow:Gradients do not exist for variables ['weave_layer_75/kernel:0', 'weave_layer_75/Variable:0', 'weave_layer_75/kernel:0', 'weave_layer_75/Variable:0', 'weave_layer_75/kernel:0', 'weave_layer_75/Variable:0', 'weave_layer_75/batch_normalization_3/gamma:0', 'weave_layer_75/batch_normalization_3/beta:0', 'weave_layer_75/batch_normalization_4/gamma:0', 'weave_layer_75/batch_normalization_4/beta:0', 'weave_layer_75/batch_normalization_5/gamma:0', 'weave_layer_75/batch_normalization_5/beta:0'] when minimizing the loss.\n"
          ]
        },
        {
          "name": "stdout",
          "output_type": "stream",
          "text": [
            "WARNING:tensorflow:Gradients do not exist for variables ['weave_layer_75/kernel:0', 'weave_layer_75/Variable:0', 'weave_layer_75/kernel:0', 'weave_layer_75/Variable:0', 'weave_layer_75/kernel:0', 'weave_layer_75/Variable:0', 'weave_layer_75/batch_normalization_3/gamma:0', 'weave_layer_75/batch_normalization_3/beta:0', 'weave_layer_75/batch_normalization_4/gamma:0', 'weave_layer_75/batch_normalization_4/beta:0', 'weave_layer_75/batch_normalization_5/gamma:0', 'weave_layer_75/batch_normalization_5/beta:0'] when minimizing the loss.\n"
          ]
        },
        {
          "name": "stderr",
          "output_type": "stream",
          "text": [
            "WARNING:tensorflow:Gradients do not exist for variables ['weave_layer_75/kernel:0', 'weave_layer_75/Variable:0', 'weave_layer_75/kernel:0', 'weave_layer_75/Variable:0', 'weave_layer_75/kernel:0', 'weave_layer_75/Variable:0', 'weave_layer_75/batch_normalization_3/gamma:0', 'weave_layer_75/batch_normalization_3/beta:0', 'weave_layer_75/batch_normalization_4/gamma:0', 'weave_layer_75/batch_normalization_4/beta:0', 'weave_layer_75/batch_normalization_5/gamma:0', 'weave_layer_75/batch_normalization_5/beta:0'] when minimizing the loss.\n"
          ]
        },
        {
          "name": "stdout",
          "output_type": "stream",
          "text": [
            "WARNING:tensorflow:Gradients do not exist for variables ['weave_layer_75/kernel:0', 'weave_layer_75/Variable:0', 'weave_layer_75/kernel:0', 'weave_layer_75/Variable:0', 'weave_layer_75/kernel:0', 'weave_layer_75/Variable:0', 'weave_layer_75/batch_normalization_3/gamma:0', 'weave_layer_75/batch_normalization_3/beta:0', 'weave_layer_75/batch_normalization_4/gamma:0', 'weave_layer_75/batch_normalization_4/beta:0', 'weave_layer_75/batch_normalization_5/gamma:0', 'weave_layer_75/batch_normalization_5/beta:0'] when minimizing the loss.\n"
          ]
        },
        {
          "name": "stderr",
          "output_type": "stream",
          "text": [
            "WARNING:tensorflow:Gradients do not exist for variables ['weave_layer_75/kernel:0', 'weave_layer_75/Variable:0', 'weave_layer_75/kernel:0', 'weave_layer_75/Variable:0', 'weave_layer_75/kernel:0', 'weave_layer_75/Variable:0', 'weave_layer_75/batch_normalization_3/gamma:0', 'weave_layer_75/batch_normalization_3/beta:0', 'weave_layer_75/batch_normalization_4/gamma:0', 'weave_layer_75/batch_normalization_4/beta:0', 'weave_layer_75/batch_normalization_5/gamma:0', 'weave_layer_75/batch_normalization_5/beta:0'] when minimizing the loss.\n"
          ]
        },
        {
          "name": "stdout",
          "output_type": "stream",
          "text": [
            "6      \t [ 25. 277.   1.]. \t  -0.5791916413429787 \t -0.5716399556767795\n",
            "WARNING:tensorflow:Gradients do not exist for variables ['weave_layer_77/kernel:0', 'weave_layer_77/Variable:0', 'weave_layer_77/kernel:0', 'weave_layer_77/Variable:0', 'weave_layer_77/kernel:0', 'weave_layer_77/Variable:0', 'weave_layer_77/batch_normalization_3/gamma:0', 'weave_layer_77/batch_normalization_3/beta:0', 'weave_layer_77/batch_normalization_4/gamma:0', 'weave_layer_77/batch_normalization_4/beta:0', 'weave_layer_77/batch_normalization_5/gamma:0', 'weave_layer_77/batch_normalization_5/beta:0'] when minimizing the loss.\n"
          ]
        },
        {
          "name": "stderr",
          "output_type": "stream",
          "text": [
            "WARNING:tensorflow:Gradients do not exist for variables ['weave_layer_77/kernel:0', 'weave_layer_77/Variable:0', 'weave_layer_77/kernel:0', 'weave_layer_77/Variable:0', 'weave_layer_77/kernel:0', 'weave_layer_77/Variable:0', 'weave_layer_77/batch_normalization_3/gamma:0', 'weave_layer_77/batch_normalization_3/beta:0', 'weave_layer_77/batch_normalization_4/gamma:0', 'weave_layer_77/batch_normalization_4/beta:0', 'weave_layer_77/batch_normalization_5/gamma:0', 'weave_layer_77/batch_normalization_5/beta:0'] when minimizing the loss.\n"
          ]
        },
        {
          "name": "stdout",
          "output_type": "stream",
          "text": [
            "WARNING:tensorflow:Gradients do not exist for variables ['weave_layer_77/kernel:0', 'weave_layer_77/Variable:0', 'weave_layer_77/kernel:0', 'weave_layer_77/Variable:0', 'weave_layer_77/kernel:0', 'weave_layer_77/Variable:0', 'weave_layer_77/batch_normalization_3/gamma:0', 'weave_layer_77/batch_normalization_3/beta:0', 'weave_layer_77/batch_normalization_4/gamma:0', 'weave_layer_77/batch_normalization_4/beta:0', 'weave_layer_77/batch_normalization_5/gamma:0', 'weave_layer_77/batch_normalization_5/beta:0'] when minimizing the loss.\n"
          ]
        },
        {
          "name": "stderr",
          "output_type": "stream",
          "text": [
            "WARNING:tensorflow:Gradients do not exist for variables ['weave_layer_77/kernel:0', 'weave_layer_77/Variable:0', 'weave_layer_77/kernel:0', 'weave_layer_77/Variable:0', 'weave_layer_77/kernel:0', 'weave_layer_77/Variable:0', 'weave_layer_77/batch_normalization_3/gamma:0', 'weave_layer_77/batch_normalization_3/beta:0', 'weave_layer_77/batch_normalization_4/gamma:0', 'weave_layer_77/batch_normalization_4/beta:0', 'weave_layer_77/batch_normalization_5/gamma:0', 'weave_layer_77/batch_normalization_5/beta:0'] when minimizing the loss.\n"
          ]
        },
        {
          "name": "stdout",
          "output_type": "stream",
          "text": [
            "WARNING:tensorflow:Gradients do not exist for variables ['weave_layer_77/kernel:0', 'weave_layer_77/Variable:0', 'weave_layer_77/kernel:0', 'weave_layer_77/Variable:0', 'weave_layer_77/kernel:0', 'weave_layer_77/Variable:0', 'weave_layer_77/batch_normalization_3/gamma:0', 'weave_layer_77/batch_normalization_3/beta:0', 'weave_layer_77/batch_normalization_4/gamma:0', 'weave_layer_77/batch_normalization_4/beta:0', 'weave_layer_77/batch_normalization_5/gamma:0', 'weave_layer_77/batch_normalization_5/beta:0'] when minimizing the loss.\n"
          ]
        },
        {
          "name": "stderr",
          "output_type": "stream",
          "text": [
            "WARNING:tensorflow:Gradients do not exist for variables ['weave_layer_77/kernel:0', 'weave_layer_77/Variable:0', 'weave_layer_77/kernel:0', 'weave_layer_77/Variable:0', 'weave_layer_77/kernel:0', 'weave_layer_77/Variable:0', 'weave_layer_77/batch_normalization_3/gamma:0', 'weave_layer_77/batch_normalization_3/beta:0', 'weave_layer_77/batch_normalization_4/gamma:0', 'weave_layer_77/batch_normalization_4/beta:0', 'weave_layer_77/batch_normalization_5/gamma:0', 'weave_layer_77/batch_normalization_5/beta:0'] when minimizing the loss.\n"
          ]
        },
        {
          "name": "stdout",
          "output_type": "stream",
          "text": [
            "WARNING:tensorflow:Gradients do not exist for variables ['weave_layer_77/kernel:0', 'weave_layer_77/Variable:0', 'weave_layer_77/kernel:0', 'weave_layer_77/Variable:0', 'weave_layer_77/kernel:0', 'weave_layer_77/Variable:0', 'weave_layer_77/batch_normalization_3/gamma:0', 'weave_layer_77/batch_normalization_3/beta:0', 'weave_layer_77/batch_normalization_4/gamma:0', 'weave_layer_77/batch_normalization_4/beta:0', 'weave_layer_77/batch_normalization_5/gamma:0', 'weave_layer_77/batch_normalization_5/beta:0'] when minimizing the loss.\n"
          ]
        },
        {
          "name": "stderr",
          "output_type": "stream",
          "text": [
            "WARNING:tensorflow:Gradients do not exist for variables ['weave_layer_77/kernel:0', 'weave_layer_77/Variable:0', 'weave_layer_77/kernel:0', 'weave_layer_77/Variable:0', 'weave_layer_77/kernel:0', 'weave_layer_77/Variable:0', 'weave_layer_77/batch_normalization_3/gamma:0', 'weave_layer_77/batch_normalization_3/beta:0', 'weave_layer_77/batch_normalization_4/gamma:0', 'weave_layer_77/batch_normalization_4/beta:0', 'weave_layer_77/batch_normalization_5/gamma:0', 'weave_layer_77/batch_normalization_5/beta:0'] when minimizing the loss.\n"
          ]
        },
        {
          "ename": "KeyboardInterrupt",
          "evalue": "",
          "output_type": "error",
          "traceback": [
            "\u001b[1;31m---------------------------------------------------------------------------\u001b[0m",
            "\u001b[1;31mKeyboardInterrupt\u001b[0m                         Traceback (most recent call last)",
            "\u001b[1;32m~\\AppData\\Local\\Temp/ipykernel_33680/2049431151.py\u001b[0m in \u001b[0;36m<module>\u001b[1;34m\u001b[0m\n\u001b[0;32m     11\u001b[0m \u001b[0mparams_dict\u001b[0m \u001b[1;33m=\u001b[0m \u001b[1;33m{\u001b[0m\u001b[1;34m\"n_pair_feat\"\u001b[0m\u001b[1;33m:\u001b[0m \u001b[1;36m14\u001b[0m\u001b[1;33m,\u001b[0m \u001b[1;34m\"n_hidden\"\u001b[0m\u001b[1;33m:\u001b[0m \u001b[1;36m50\u001b[0m\u001b[1;33m,\u001b[0m \u001b[1;34m\"n_graph_feat\"\u001b[0m\u001b[1;33m:\u001b[0m \u001b[1;36m2\u001b[0m\u001b[1;33m,\u001b[0m \u001b[1;33m}\u001b[0m\u001b[1;33m\u001b[0m\u001b[1;33m\u001b[0m\u001b[0m\n\u001b[0;32m     12\u001b[0m \u001b[1;33m\u001b[0m\u001b[0m\n\u001b[1;32m---> 13\u001b[1;33m \u001b[0mbest_model\u001b[0m\u001b[1;33m,\u001b[0m \u001b[0mbest_hyperparams\u001b[0m\u001b[1;33m,\u001b[0m \u001b[0mall_results\u001b[0m \u001b[1;33m=\u001b[0m \u001b[0moptimizer\u001b[0m\u001b[1;33m.\u001b[0m\u001b[0mhyperparam_search\u001b[0m\u001b[1;33m(\u001b[0m\u001b[0mparams_dict\u001b[0m\u001b[1;33m,\u001b[0m \u001b[0mtrain_data\u001b[0m\u001b[1;33m,\u001b[0m \u001b[0mvalid_data\u001b[0m\u001b[1;33m,\u001b[0m \u001b[0mhyperOptMetric\u001b[0m\u001b[1;33m,\u001b[0m \u001b[0msearch_range\u001b[0m\u001b[1;33m=\u001b[0m\u001b[1;36m10\u001b[0m\u001b[1;33m)\u001b[0m\u001b[1;33m\u001b[0m\u001b[1;33m\u001b[0m\u001b[0m\n\u001b[0m",
            "\u001b[1;32m~\\.conda\\envs\\deepchem-test\\lib\\site-packages\\deepchem\\hyper\\gaussian_process.py\u001b[0m in \u001b[0;36mhyperparam_search\u001b[1;34m(self, params_dict, train_dataset, valid_dataset, metric, output_transformers, nb_epoch, use_max, logdir, max_iter, search_range, logfile, **kwargs)\u001b[0m\n\u001b[0;32m    349\u001b[0m     \u001b[0mgpgo\u001b[0m \u001b[1;33m=\u001b[0m \u001b[0mGPGO\u001b[0m\u001b[1;33m(\u001b[0m\u001b[0mgp\u001b[0m\u001b[1;33m,\u001b[0m \u001b[0macq\u001b[0m\u001b[1;33m,\u001b[0m \u001b[0moptimizing_function\u001b[0m\u001b[1;33m,\u001b[0m \u001b[0mparam_range\u001b[0m\u001b[1;33m)\u001b[0m\u001b[1;33m\u001b[0m\u001b[1;33m\u001b[0m\u001b[0m\n\u001b[0;32m    350\u001b[0m     \u001b[0mlogger\u001b[0m\u001b[1;33m.\u001b[0m\u001b[0minfo\u001b[0m\u001b[1;33m(\u001b[0m\u001b[1;34m\"Max number of iteration: %i\"\u001b[0m \u001b[1;33m%\u001b[0m \u001b[0mmax_iter\u001b[0m\u001b[1;33m)\u001b[0m\u001b[1;33m\u001b[0m\u001b[1;33m\u001b[0m\u001b[0m\n\u001b[1;32m--> 351\u001b[1;33m     \u001b[0mgpgo\u001b[0m\u001b[1;33m.\u001b[0m\u001b[0mrun\u001b[0m\u001b[1;33m(\u001b[0m\u001b[0mmax_iter\u001b[0m\u001b[1;33m=\u001b[0m\u001b[0mmax_iter\u001b[0m\u001b[1;33m)\u001b[0m\u001b[1;33m\u001b[0m\u001b[1;33m\u001b[0m\u001b[0m\n\u001b[0m\u001b[0;32m    352\u001b[0m \u001b[1;33m\u001b[0m\u001b[0m\n\u001b[0;32m    353\u001b[0m     \u001b[0mhp_opt\u001b[0m\u001b[1;33m,\u001b[0m \u001b[0mvalid_performance_opt\u001b[0m \u001b[1;33m=\u001b[0m \u001b[0mgpgo\u001b[0m\u001b[1;33m.\u001b[0m\u001b[0mgetResult\u001b[0m\u001b[1;33m(\u001b[0m\u001b[1;33m)\u001b[0m\u001b[1;33m\u001b[0m\u001b[1;33m\u001b[0m\u001b[0m\n",
            "\u001b[1;32m~\\.conda\\envs\\deepchem-test\\lib\\site-packages\\pyGPGO\\GPGO.py\u001b[0m in \u001b[0;36mrun\u001b[1;34m(self, max_iter, init_evals, resume)\u001b[0m\n\u001b[0;32m    196\u001b[0m         \u001b[1;32mfor\u001b[0m \u001b[0miteration\u001b[0m \u001b[1;32min\u001b[0m \u001b[0mrange\u001b[0m\u001b[1;33m(\u001b[0m\u001b[0mmax_iter\u001b[0m\u001b[1;33m)\u001b[0m\u001b[1;33m:\u001b[0m\u001b[1;33m\u001b[0m\u001b[1;33m\u001b[0m\u001b[0m\n\u001b[0;32m    197\u001b[0m             \u001b[0mself\u001b[0m\u001b[1;33m.\u001b[0m\u001b[0m_optimizeAcq\u001b[0m\u001b[1;33m(\u001b[0m\u001b[1;33m)\u001b[0m\u001b[1;33m\u001b[0m\u001b[1;33m\u001b[0m\u001b[0m\n\u001b[1;32m--> 198\u001b[1;33m             \u001b[0mself\u001b[0m\u001b[1;33m.\u001b[0m\u001b[0mupdateGP\u001b[0m\u001b[1;33m(\u001b[0m\u001b[1;33m)\u001b[0m\u001b[1;33m\u001b[0m\u001b[1;33m\u001b[0m\u001b[0m\n\u001b[0m\u001b[0;32m    199\u001b[0m             \u001b[0mself\u001b[0m\u001b[1;33m.\u001b[0m\u001b[0mlogger\u001b[0m\u001b[1;33m.\u001b[0m\u001b[0m_printCurrent\u001b[0m\u001b[1;33m(\u001b[0m\u001b[0mself\u001b[0m\u001b[1;33m)\u001b[0m\u001b[1;33m\u001b[0m\u001b[1;33m\u001b[0m\u001b[0m\n",
            "\u001b[1;32m~\\.conda\\envs\\deepchem-test\\lib\\site-packages\\pyGPGO\\GPGO.py\u001b[0m in \u001b[0;36mupdateGP\u001b[1;34m(self)\u001b[0m\n\u001b[0;32m    150\u001b[0m         kw = {param: self.best[i]\n\u001b[0;32m    151\u001b[0m               for i, param in enumerate(self.parameter_key)}\n\u001b[1;32m--> 152\u001b[1;33m         \u001b[0mf_new\u001b[0m \u001b[1;33m=\u001b[0m \u001b[0mself\u001b[0m\u001b[1;33m.\u001b[0m\u001b[0mf\u001b[0m\u001b[1;33m(\u001b[0m\u001b[1;33m**\u001b[0m\u001b[0mkw\u001b[0m\u001b[1;33m)\u001b[0m\u001b[1;33m\u001b[0m\u001b[1;33m\u001b[0m\u001b[0m\n\u001b[0m\u001b[0;32m    153\u001b[0m         \u001b[0mself\u001b[0m\u001b[1;33m.\u001b[0m\u001b[0mGP\u001b[0m\u001b[1;33m.\u001b[0m\u001b[0mupdate\u001b[0m\u001b[1;33m(\u001b[0m\u001b[0mnp\u001b[0m\u001b[1;33m.\u001b[0m\u001b[0matleast_2d\u001b[0m\u001b[1;33m(\u001b[0m\u001b[0mself\u001b[0m\u001b[1;33m.\u001b[0m\u001b[0mbest\u001b[0m\u001b[1;33m)\u001b[0m\u001b[1;33m,\u001b[0m \u001b[0mnp\u001b[0m\u001b[1;33m.\u001b[0m\u001b[0matleast_1d\u001b[0m\u001b[1;33m(\u001b[0m\u001b[0mf_new\u001b[0m\u001b[1;33m)\u001b[0m\u001b[1;33m)\u001b[0m\u001b[1;33m\u001b[0m\u001b[1;33m\u001b[0m\u001b[0m\n\u001b[0;32m    154\u001b[0m         \u001b[0mself\u001b[0m\u001b[1;33m.\u001b[0m\u001b[0mtau\u001b[0m \u001b[1;33m=\u001b[0m \u001b[0mnp\u001b[0m\u001b[1;33m.\u001b[0m\u001b[0mmax\u001b[0m\u001b[1;33m(\u001b[0m\u001b[0mself\u001b[0m\u001b[1;33m.\u001b[0m\u001b[0mGP\u001b[0m\u001b[1;33m.\u001b[0m\u001b[0my\u001b[0m\u001b[1;33m)\u001b[0m\u001b[1;33m\u001b[0m\u001b[1;33m\u001b[0m\u001b[0m\n",
            "\u001b[1;32m~\\.conda\\envs\\deepchem-test\\lib\\site-packages\\deepchem\\hyper\\gaussian_process.py\u001b[0m in \u001b[0;36moptimizing_function\u001b[1;34m(**placeholders)\u001b[0m\n\u001b[0;32m    341\u001b[0m         \u001b[0mvalid\u001b[0m \u001b[0mset\u001b[0m \u001b[0mperformances\u001b[0m\u001b[1;33m\u001b[0m\u001b[1;33m\u001b[0m\u001b[0m\n\u001b[0;32m    342\u001b[0m       \"\"\"\n\u001b[1;32m--> 343\u001b[1;33m       \u001b[1;32mreturn\u001b[0m \u001b[0m_optimize\u001b[0m\u001b[1;33m(\u001b[0m\u001b[0mnb_epoch\u001b[0m\u001b[1;33m=\u001b[0m\u001b[0mnb_epoch\u001b[0m\u001b[1;33m,\u001b[0m \u001b[1;33m**\u001b[0m\u001b[0mplaceholders\u001b[0m\u001b[1;33m)\u001b[0m\u001b[1;33m\u001b[0m\u001b[1;33m\u001b[0m\u001b[0m\n\u001b[0m\u001b[0;32m    344\u001b[0m \u001b[1;33m\u001b[0m\u001b[0m\n\u001b[0;32m    345\u001b[0m     \u001b[1;31m# execute GPGO\u001b[0m\u001b[1;33m\u001b[0m\u001b[1;33m\u001b[0m\u001b[0m\n",
            "\u001b[1;32m~\\.conda\\envs\\deepchem-test\\lib\\site-packages\\deepchem\\hyper\\gaussian_process.py\u001b[0m in \u001b[0;36m_optimize\u001b[1;34m(nb_epoch, **placeholders)\u001b[0m\n\u001b[0;32m    292\u001b[0m       \u001b[0mmodel\u001b[0m \u001b[1;33m=\u001b[0m \u001b[0mself\u001b[0m\u001b[1;33m.\u001b[0m\u001b[0mmodel_builder\u001b[0m\u001b[1;33m(\u001b[0m\u001b[1;33m**\u001b[0m\u001b[0mhyper_parameters\u001b[0m\u001b[1;33m)\u001b[0m\u001b[1;33m\u001b[0m\u001b[1;33m\u001b[0m\u001b[0m\n\u001b[0;32m    293\u001b[0m       \u001b[1;32mtry\u001b[0m\u001b[1;33m:\u001b[0m\u001b[1;33m\u001b[0m\u001b[1;33m\u001b[0m\u001b[0m\n\u001b[1;32m--> 294\u001b[1;33m         \u001b[0mmodel\u001b[0m\u001b[1;33m.\u001b[0m\u001b[0mfit\u001b[0m\u001b[1;33m(\u001b[0m\u001b[0mtrain_dataset\u001b[0m\u001b[1;33m,\u001b[0m \u001b[0mnb_epoch\u001b[0m\u001b[1;33m=\u001b[0m\u001b[0mnb_epoch\u001b[0m\u001b[1;33m)\u001b[0m\u001b[1;33m\u001b[0m\u001b[1;33m\u001b[0m\u001b[0m\n\u001b[0m\u001b[0;32m    295\u001b[0m       \u001b[1;31m# Not all models have nb_epoch\u001b[0m\u001b[1;33m\u001b[0m\u001b[1;33m\u001b[0m\u001b[0m\n\u001b[0;32m    296\u001b[0m       \u001b[1;32mexcept\u001b[0m \u001b[0mTypeError\u001b[0m\u001b[1;33m:\u001b[0m\u001b[1;33m\u001b[0m\u001b[1;33m\u001b[0m\u001b[0m\n",
            "\u001b[1;32m~\\.conda\\envs\\deepchem-test\\lib\\site-packages\\deepchem\\models\\keras_model.py\u001b[0m in \u001b[0;36mfit\u001b[1;34m(self, dataset, nb_epoch, max_checkpoints_to_keep, checkpoint_interval, deterministic, restore, variables, loss, callbacks, all_losses)\u001b[0m\n\u001b[0;32m    353\u001b[0m     \u001b[0mThe\u001b[0m \u001b[0maverage\u001b[0m \u001b[0mloss\u001b[0m \u001b[0mover\u001b[0m \u001b[0mthe\u001b[0m \u001b[0mmost\u001b[0m \u001b[0mrecent\u001b[0m \u001b[0mcheckpoint\u001b[0m \u001b[0minterval\u001b[0m\u001b[1;33m\u001b[0m\u001b[1;33m\u001b[0m\u001b[0m\n\u001b[0;32m    354\u001b[0m    \"\"\"\n\u001b[1;32m--> 355\u001b[1;33m     return self.fit_generator(\n\u001b[0m\u001b[0;32m    356\u001b[0m         self.default_generator(\n\u001b[0;32m    357\u001b[0m             \u001b[0mdataset\u001b[0m\u001b[1;33m,\u001b[0m \u001b[0mepochs\u001b[0m\u001b[1;33m=\u001b[0m\u001b[0mnb_epoch\u001b[0m\u001b[1;33m,\u001b[0m\u001b[1;33m\u001b[0m\u001b[1;33m\u001b[0m\u001b[0m\n",
            "\u001b[1;32m~\\.conda\\envs\\deepchem-test\\lib\\site-packages\\deepchem\\models\\keras_model.py\u001b[0m in \u001b[0;36mfit_generator\u001b[1;34m(self, generator, max_checkpoints_to_keep, checkpoint_interval, restore, variables, loss, callbacks, all_losses)\u001b[0m\n\u001b[0;32m    442\u001b[0m         \u001b[0minputs\u001b[0m \u001b[1;33m=\u001b[0m \u001b[0minputs\u001b[0m\u001b[1;33m[\u001b[0m\u001b[1;36m0\u001b[0m\u001b[1;33m]\u001b[0m\u001b[1;33m\u001b[0m\u001b[1;33m\u001b[0m\u001b[0m\n\u001b[0;32m    443\u001b[0m \u001b[1;33m\u001b[0m\u001b[0m\n\u001b[1;32m--> 444\u001b[1;33m       \u001b[0mbatch_loss\u001b[0m \u001b[1;33m=\u001b[0m \u001b[0mapply_gradient_for_batch\u001b[0m\u001b[1;33m(\u001b[0m\u001b[0minputs\u001b[0m\u001b[1;33m,\u001b[0m \u001b[0mlabels\u001b[0m\u001b[1;33m,\u001b[0m \u001b[0mweights\u001b[0m\u001b[1;33m,\u001b[0m \u001b[0mloss\u001b[0m\u001b[1;33m)\u001b[0m\u001b[1;33m\u001b[0m\u001b[1;33m\u001b[0m\u001b[0m\n\u001b[0m\u001b[0;32m    445\u001b[0m       \u001b[0mcurrent_step\u001b[0m \u001b[1;33m=\u001b[0m \u001b[0mself\u001b[0m\u001b[1;33m.\u001b[0m\u001b[0m_global_step\u001b[0m\u001b[1;33m.\u001b[0m\u001b[0mnumpy\u001b[0m\u001b[1;33m(\u001b[0m\u001b[1;33m)\u001b[0m\u001b[1;33m\u001b[0m\u001b[1;33m\u001b[0m\u001b[0m\n\u001b[0;32m    446\u001b[0m \u001b[1;33m\u001b[0m\u001b[0m\n",
            "\u001b[1;32m~\\.conda\\envs\\deepchem-test\\lib\\site-packages\\tensorflow\\python\\eager\\def_function.py\u001b[0m in \u001b[0;36m__call__\u001b[1;34m(self, *args, **kwds)\u001b[0m\n\u001b[0;32m    883\u001b[0m \u001b[1;33m\u001b[0m\u001b[0m\n\u001b[0;32m    884\u001b[0m       \u001b[1;32mwith\u001b[0m \u001b[0mOptionalXlaContext\u001b[0m\u001b[1;33m(\u001b[0m\u001b[0mself\u001b[0m\u001b[1;33m.\u001b[0m\u001b[0m_jit_compile\u001b[0m\u001b[1;33m)\u001b[0m\u001b[1;33m:\u001b[0m\u001b[1;33m\u001b[0m\u001b[1;33m\u001b[0m\u001b[0m\n\u001b[1;32m--> 885\u001b[1;33m         \u001b[0mresult\u001b[0m \u001b[1;33m=\u001b[0m \u001b[0mself\u001b[0m\u001b[1;33m.\u001b[0m\u001b[0m_call\u001b[0m\u001b[1;33m(\u001b[0m\u001b[1;33m*\u001b[0m\u001b[0margs\u001b[0m\u001b[1;33m,\u001b[0m \u001b[1;33m**\u001b[0m\u001b[0mkwds\u001b[0m\u001b[1;33m)\u001b[0m\u001b[1;33m\u001b[0m\u001b[1;33m\u001b[0m\u001b[0m\n\u001b[0m\u001b[0;32m    886\u001b[0m \u001b[1;33m\u001b[0m\u001b[0m\n\u001b[0;32m    887\u001b[0m       \u001b[0mnew_tracing_count\u001b[0m \u001b[1;33m=\u001b[0m \u001b[0mself\u001b[0m\u001b[1;33m.\u001b[0m\u001b[0mexperimental_get_tracing_count\u001b[0m\u001b[1;33m(\u001b[0m\u001b[1;33m)\u001b[0m\u001b[1;33m\u001b[0m\u001b[1;33m\u001b[0m\u001b[0m\n",
            "\u001b[1;32m~\\.conda\\envs\\deepchem-test\\lib\\site-packages\\tensorflow\\python\\eager\\def_function.py\u001b[0m in \u001b[0;36m_call\u001b[1;34m(self, *args, **kwds)\u001b[0m\n\u001b[0;32m    915\u001b[0m       \u001b[1;31m# In this case we have created variables on the first call, so we run the\u001b[0m\u001b[1;33m\u001b[0m\u001b[1;33m\u001b[0m\u001b[0m\n\u001b[0;32m    916\u001b[0m       \u001b[1;31m# defunned version which is guaranteed to never create variables.\u001b[0m\u001b[1;33m\u001b[0m\u001b[1;33m\u001b[0m\u001b[0m\n\u001b[1;32m--> 917\u001b[1;33m       \u001b[1;32mreturn\u001b[0m \u001b[0mself\u001b[0m\u001b[1;33m.\u001b[0m\u001b[0m_stateless_fn\u001b[0m\u001b[1;33m(\u001b[0m\u001b[1;33m*\u001b[0m\u001b[0margs\u001b[0m\u001b[1;33m,\u001b[0m \u001b[1;33m**\u001b[0m\u001b[0mkwds\u001b[0m\u001b[1;33m)\u001b[0m  \u001b[1;31m# pylint: disable=not-callable\u001b[0m\u001b[1;33m\u001b[0m\u001b[1;33m\u001b[0m\u001b[0m\n\u001b[0m\u001b[0;32m    918\u001b[0m     \u001b[1;32melif\u001b[0m \u001b[0mself\u001b[0m\u001b[1;33m.\u001b[0m\u001b[0m_stateful_fn\u001b[0m \u001b[1;32mis\u001b[0m \u001b[1;32mnot\u001b[0m \u001b[1;32mNone\u001b[0m\u001b[1;33m:\u001b[0m\u001b[1;33m\u001b[0m\u001b[1;33m\u001b[0m\u001b[0m\n\u001b[0;32m    919\u001b[0m       \u001b[1;31m# Release the lock early so that multiple threads can perform the call\u001b[0m\u001b[1;33m\u001b[0m\u001b[1;33m\u001b[0m\u001b[0m\n",
            "\u001b[1;32m~\\.conda\\envs\\deepchem-test\\lib\\site-packages\\tensorflow\\python\\eager\\function.py\u001b[0m in \u001b[0;36m__call__\u001b[1;34m(self, *args, **kwargs)\u001b[0m\n\u001b[0;32m   3037\u001b[0m       (graph_function,\n\u001b[0;32m   3038\u001b[0m        filtered_flat_args) = self._maybe_define_function(args, kwargs)\n\u001b[1;32m-> 3039\u001b[1;33m     return graph_function._call_flat(\n\u001b[0m\u001b[0;32m   3040\u001b[0m         filtered_flat_args, captured_inputs=graph_function.captured_inputs)  # pylint: disable=protected-access\n\u001b[0;32m   3041\u001b[0m \u001b[1;33m\u001b[0m\u001b[0m\n",
            "\u001b[1;32m~\\.conda\\envs\\deepchem-test\\lib\\site-packages\\tensorflow\\python\\eager\\function.py\u001b[0m in \u001b[0;36m_call_flat\u001b[1;34m(self, args, captured_inputs, cancellation_manager)\u001b[0m\n\u001b[0;32m   1961\u001b[0m         and executing_eagerly):\n\u001b[0;32m   1962\u001b[0m       \u001b[1;31m# No tape is watching; skip to running the function.\u001b[0m\u001b[1;33m\u001b[0m\u001b[1;33m\u001b[0m\u001b[0m\n\u001b[1;32m-> 1963\u001b[1;33m       return self._build_call_outputs(self._inference_function.call(\n\u001b[0m\u001b[0;32m   1964\u001b[0m           ctx, args, cancellation_manager=cancellation_manager))\n\u001b[0;32m   1965\u001b[0m     forward_backward = self._select_forward_and_backward_functions(\n",
            "\u001b[1;32m~\\.conda\\envs\\deepchem-test\\lib\\site-packages\\tensorflow\\python\\eager\\function.py\u001b[0m in \u001b[0;36mcall\u001b[1;34m(self, ctx, args, cancellation_manager)\u001b[0m\n\u001b[0;32m    589\u001b[0m       \u001b[1;32mwith\u001b[0m \u001b[0m_InterpolateFunctionError\u001b[0m\u001b[1;33m(\u001b[0m\u001b[0mself\u001b[0m\u001b[1;33m)\u001b[0m\u001b[1;33m:\u001b[0m\u001b[1;33m\u001b[0m\u001b[1;33m\u001b[0m\u001b[0m\n\u001b[0;32m    590\u001b[0m         \u001b[1;32mif\u001b[0m \u001b[0mcancellation_manager\u001b[0m \u001b[1;32mis\u001b[0m \u001b[1;32mNone\u001b[0m\u001b[1;33m:\u001b[0m\u001b[1;33m\u001b[0m\u001b[1;33m\u001b[0m\u001b[0m\n\u001b[1;32m--> 591\u001b[1;33m           outputs = execute.execute(\n\u001b[0m\u001b[0;32m    592\u001b[0m               \u001b[0mstr\u001b[0m\u001b[1;33m(\u001b[0m\u001b[0mself\u001b[0m\u001b[1;33m.\u001b[0m\u001b[0msignature\u001b[0m\u001b[1;33m.\u001b[0m\u001b[0mname\u001b[0m\u001b[1;33m)\u001b[0m\u001b[1;33m,\u001b[0m\u001b[1;33m\u001b[0m\u001b[1;33m\u001b[0m\u001b[0m\n\u001b[0;32m    593\u001b[0m               \u001b[0mnum_outputs\u001b[0m\u001b[1;33m=\u001b[0m\u001b[0mself\u001b[0m\u001b[1;33m.\u001b[0m\u001b[0m_num_outputs\u001b[0m\u001b[1;33m,\u001b[0m\u001b[1;33m\u001b[0m\u001b[1;33m\u001b[0m\u001b[0m\n",
            "\u001b[1;32m~\\.conda\\envs\\deepchem-test\\lib\\site-packages\\tensorflow\\python\\eager\\execute.py\u001b[0m in \u001b[0;36mquick_execute\u001b[1;34m(op_name, num_outputs, inputs, attrs, ctx, name)\u001b[0m\n\u001b[0;32m     57\u001b[0m   \u001b[1;32mtry\u001b[0m\u001b[1;33m:\u001b[0m\u001b[1;33m\u001b[0m\u001b[1;33m\u001b[0m\u001b[0m\n\u001b[0;32m     58\u001b[0m     \u001b[0mctx\u001b[0m\u001b[1;33m.\u001b[0m\u001b[0mensure_initialized\u001b[0m\u001b[1;33m(\u001b[0m\u001b[1;33m)\u001b[0m\u001b[1;33m\u001b[0m\u001b[1;33m\u001b[0m\u001b[0m\n\u001b[1;32m---> 59\u001b[1;33m     tensors = pywrap_tfe.TFE_Py_Execute(ctx._handle, device_name, op_name,\n\u001b[0m\u001b[0;32m     60\u001b[0m                                         inputs, attrs, num_outputs)\n\u001b[0;32m     61\u001b[0m   \u001b[1;32mexcept\u001b[0m \u001b[0mcore\u001b[0m\u001b[1;33m.\u001b[0m\u001b[0m_NotOkStatusException\u001b[0m \u001b[1;32mas\u001b[0m \u001b[0me\u001b[0m\u001b[1;33m:\u001b[0m\u001b[1;33m\u001b[0m\u001b[1;33m\u001b[0m\u001b[0m\n",
            "\u001b[1;31mKeyboardInterrupt\u001b[0m: "
          ]
        }
      ],
      "source": [
        "# multiply mae by negative one so it can be maximized\n",
        "hyperOptMetric = deepchem.deepchem.metrics.Metric(lambda *args: -1.0 * deepchem.deepchem.metrics.mean_absolute_error(*args), mode=\"regression\")\n",
        "\n",
        "def model_builder(**model_params):\n",
        "  return deepchem.deepchem.models.WeaveModel(n_tasks=1, mode=\"regression\", batch_normalize_kwargs={\"trainable\": False})\n",
        "\n",
        "#optimizer = deepchem.deepchem.hyper.GaussianProcessHyperparamOpt(model_builder)\n",
        "\n",
        "optimizer = deepchem.deepchem.hyper.GaussianProcessHyperparamOpt(model_builder)\n",
        "\n",
        "params_dict = {\"n_pair_feat\": 14, \"n_hidden\": 50}\n",
        "\n",
        "best_model, best_hyperparams, all_results = optimizer.hyperparam_search(params_dict, train_data, valid_data, hyperOptMetric, search_range=5)"
      ]
    },
    {
      "cell_type": "code",
      "execution_count": null,
      "metadata": {},
      "outputs": [],
      "source": []
    }
  ],
  "metadata": {
    "colab": {
      "authorship_tag": "ABX9TyMJ3XEyQk4iCvqK8brMlXkC",
      "include_colab_link": true,
      "name": "ecfp_xgb.ipynb",
      "provenance": []
    },
    "kernelspec": {
      "display_name": "Python 3",
      "name": "python3"
    },
    "language_info": {
      "codemirror_mode": {
        "name": "ipython",
        "version": 3
      },
      "file_extension": ".py",
      "mimetype": "text/x-python",
      "name": "python",
      "nbconvert_exporter": "python",
      "pygments_lexer": "ipython3",
      "version": "3.9.7"
    }
  },
  "nbformat": 4,
  "nbformat_minor": 0
}
