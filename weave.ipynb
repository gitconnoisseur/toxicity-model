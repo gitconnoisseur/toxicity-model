{
  "cells": [
    {
      "cell_type": "markdown",
      "metadata": {
        "colab_type": "text",
        "id": "view-in-github"
      },
      "source": [
        "<a href=\"https://colab.research.google.com/github/gitconnoisseur/toxicity-model/blob/master/ecfp_xgb.ipynb\" target=\"_parent\"><img src=\"https://colab.research.google.com/assets/colab-badge.svg\" alt=\"Open In Colab\"/></a>"
      ]
    },
    {
      "cell_type": "code",
      "execution_count": null,
      "metadata": {
        "id": "4hQtagVE1JEI"
      },
      "outputs": [],
      "source": [
        "!pip install PyTDC\n",
        "!pip install deepchem\n",
        "!pip install autokeras\n",
        "!pip install --upgrade numpy"
      ]
    },
    {
      "cell_type": "code",
      "execution_count": 1,
      "metadata": {
        "colab": {
          "base_uri": "https://localhost:8080/"
        },
        "id": "g2ePKUpM2Cdt",
        "outputId": "c12f8317-cc0d-4812-88e9-d45f1f635483"
      },
      "outputs": [
        {
          "name": "stderr",
          "output_type": "stream",
          "text": [
            "Found local copy...\n"
          ]
        }
      ],
      "source": [
        "#import autogluon as ag\n",
        "from tdc.single_pred import Tox\n",
        "import deepchem\n",
        "import xgboost\n",
        "\n",
        "import numpy as np\n",
        "import pandas as pd\n",
        "import tensorflow as tf\n",
        "import autokeras as ak\n",
        "\n",
        "from tdc.benchmark_group import admet_group\n",
        "group = admet_group(path = 'data/')"
      ]
    },
    {
      "cell_type": "code",
      "execution_count": 3,
      "metadata": {
        "colab": {
          "background_save": true,
          "base_uri": "https://localhost:8080/"
        },
        "id": "PwUPswth2OJ-",
        "outputId": "e3d63d13-4367-4209-e680-7c61667a77ab"
      },
      "outputs": [
        {
          "name": "stderr",
          "output_type": "stream",
          "text": [
            "generating training, validation splits...\n",
            "100%|██████████| 5907/5907 [00:01<00:00, 3482.04it/s]\n"
          ]
        },
        {
          "name": "stdout",
          "output_type": "stream",
          "text": [
            "WARNING:tensorflow:Gradients do not exist for variables ['weave_layer_7/kernel:0', 'weave_layer_7/Variable:0', 'weave_layer_7/kernel:0', 'weave_layer_7/Variable:0', 'weave_layer_7/kernel:0', 'weave_layer_7/Variable:0', 'weave_layer_7/batch_normalization_3/gamma:0', 'weave_layer_7/batch_normalization_3/beta:0', 'weave_layer_7/batch_normalization_4/gamma:0', 'weave_layer_7/batch_normalization_4/beta:0', 'weave_layer_7/batch_normalization_5/gamma:0', 'weave_layer_7/batch_normalization_5/beta:0'] when minimizing the loss.\n",
            "WARNING:tensorflow:Gradients do not exist for variables ['weave_layer_7/kernel:0', 'weave_layer_7/Variable:0', 'weave_layer_7/kernel:0', 'weave_layer_7/Variable:0', 'weave_layer_7/kernel:0', 'weave_layer_7/Variable:0', 'weave_layer_7/batch_normalization_3/gamma:0', 'weave_layer_7/batch_normalization_3/beta:0', 'weave_layer_7/batch_normalization_4/gamma:0', 'weave_layer_7/batch_normalization_4/beta:0', 'weave_layer_7/batch_normalization_5/gamma:0', 'weave_layer_7/batch_normalization_5/beta:0'] when minimizing the loss.\n",
            "WARNING:tensorflow:Gradients do not exist for variables ['weave_layer_7/kernel:0', 'weave_layer_7/Variable:0', 'weave_layer_7/kernel:0', 'weave_layer_7/Variable:0', 'weave_layer_7/kernel:0', 'weave_layer_7/Variable:0', 'weave_layer_7/batch_normalization_3/gamma:0', 'weave_layer_7/batch_normalization_3/beta:0', 'weave_layer_7/batch_normalization_4/gamma:0', 'weave_layer_7/batch_normalization_4/beta:0', 'weave_layer_7/batch_normalization_5/gamma:0', 'weave_layer_7/batch_normalization_5/beta:0'] when minimizing the loss.\n",
            "WARNING:tensorflow:Gradients do not exist for variables ['weave_layer_7/kernel:0', 'weave_layer_7/Variable:0', 'weave_layer_7/kernel:0', 'weave_layer_7/Variable:0', 'weave_layer_7/kernel:0', 'weave_layer_7/Variable:0', 'weave_layer_7/batch_normalization_3/gamma:0', 'weave_layer_7/batch_normalization_3/beta:0', 'weave_layer_7/batch_normalization_4/gamma:0', 'weave_layer_7/batch_normalization_4/beta:0', 'weave_layer_7/batch_normalization_5/gamma:0', 'weave_layer_7/batch_normalization_5/beta:0'] when minimizing the loss.\n",
            "Step 1000 validation: mean_absolute_error=0.565831\n",
            "Step 2000 validation: mean_absolute_error=0.563365\n",
            "Step 3000 validation: mean_absolute_error=0.550887\n",
            "Step 4000 validation: mean_absolute_error=0.588457\n",
            "Step 5000 validation: mean_absolute_error=0.549276\n"
          ]
        },
        {
          "name": "stderr",
          "output_type": "stream",
          "text": [
            "generating training, validation splits...\n"
          ]
        },
        {
          "name": "stdout",
          "output_type": "stream",
          "text": [
            "predictions for run #\n",
            "1\n",
            "[[2.2228622]\n",
            " [3.1631806]\n",
            " [3.1934752]\n",
            " [3.6838799]\n",
            " [4.0056653]]\n"
          ]
        },
        {
          "name": "stderr",
          "output_type": "stream",
          "text": [
            "100%|██████████| 5907/5907 [00:01<00:00, 3614.00it/s]\n"
          ]
        },
        {
          "name": "stdout",
          "output_type": "stream",
          "text": [
            "WARNING:tensorflow:Gradients do not exist for variables ['weave_layer_11/kernel:0', 'weave_layer_11/Variable:0', 'weave_layer_11/kernel:0', 'weave_layer_11/Variable:0', 'weave_layer_11/kernel:0', 'weave_layer_11/Variable:0', 'weave_layer_11/batch_normalization_3/gamma:0', 'weave_layer_11/batch_normalization_3/beta:0', 'weave_layer_11/batch_normalization_4/gamma:0', 'weave_layer_11/batch_normalization_4/beta:0', 'weave_layer_11/batch_normalization_5/gamma:0', 'weave_layer_11/batch_normalization_5/beta:0'] when minimizing the loss.\n",
            "WARNING:tensorflow:Gradients do not exist for variables ['weave_layer_11/kernel:0', 'weave_layer_11/Variable:0', 'weave_layer_11/kernel:0', 'weave_layer_11/Variable:0', 'weave_layer_11/kernel:0', 'weave_layer_11/Variable:0', 'weave_layer_11/batch_normalization_3/gamma:0', 'weave_layer_11/batch_normalization_3/beta:0', 'weave_layer_11/batch_normalization_4/gamma:0', 'weave_layer_11/batch_normalization_4/beta:0', 'weave_layer_11/batch_normalization_5/gamma:0', 'weave_layer_11/batch_normalization_5/beta:0'] when minimizing the loss.\n",
            "WARNING:tensorflow:Gradients do not exist for variables ['weave_layer_11/kernel:0', 'weave_layer_11/Variable:0', 'weave_layer_11/kernel:0', 'weave_layer_11/Variable:0', 'weave_layer_11/kernel:0', 'weave_layer_11/Variable:0', 'weave_layer_11/batch_normalization_3/gamma:0', 'weave_layer_11/batch_normalization_3/beta:0', 'weave_layer_11/batch_normalization_4/gamma:0', 'weave_layer_11/batch_normalization_4/beta:0', 'weave_layer_11/batch_normalization_5/gamma:0', 'weave_layer_11/batch_normalization_5/beta:0'] when minimizing the loss.\n",
            "WARNING:tensorflow:Gradients do not exist for variables ['weave_layer_11/kernel:0', 'weave_layer_11/Variable:0', 'weave_layer_11/kernel:0', 'weave_layer_11/Variable:0', 'weave_layer_11/kernel:0', 'weave_layer_11/Variable:0', 'weave_layer_11/batch_normalization_3/gamma:0', 'weave_layer_11/batch_normalization_3/beta:0', 'weave_layer_11/batch_normalization_4/gamma:0', 'weave_layer_11/batch_normalization_4/beta:0', 'weave_layer_11/batch_normalization_5/gamma:0', 'weave_layer_11/batch_normalization_5/beta:0'] when minimizing the loss.\n",
            "Step 1000 validation: mean_absolute_error=0.635256\n",
            "Step 2000 validation: mean_absolute_error=0.579254\n",
            "Step 3000 validation: mean_absolute_error=0.555295\n",
            "Step 4000 validation: mean_absolute_error=0.54472\n",
            "Step 5000 validation: mean_absolute_error=0.574102\n"
          ]
        },
        {
          "name": "stderr",
          "output_type": "stream",
          "text": [
            "generating training, validation splits...\n"
          ]
        },
        {
          "name": "stdout",
          "output_type": "stream",
          "text": [
            "predictions for run #\n",
            "2\n",
            "[[2.1847672]\n",
            " [2.652504 ]\n",
            " [2.5819736]\n",
            " [2.8940196]\n",
            " [3.0502727]]\n"
          ]
        },
        {
          "name": "stderr",
          "output_type": "stream",
          "text": [
            "100%|██████████| 5907/5907 [00:01<00:00, 4641.75it/s]\n"
          ]
        },
        {
          "name": "stdout",
          "output_type": "stream",
          "text": [
            "WARNING:tensorflow:Gradients do not exist for variables ['weave_layer_15/kernel:0', 'weave_layer_15/Variable:0', 'weave_layer_15/kernel:0', 'weave_layer_15/Variable:0', 'weave_layer_15/kernel:0', 'weave_layer_15/Variable:0', 'weave_layer_15/batch_normalization_3/gamma:0', 'weave_layer_15/batch_normalization_3/beta:0', 'weave_layer_15/batch_normalization_4/gamma:0', 'weave_layer_15/batch_normalization_4/beta:0', 'weave_layer_15/batch_normalization_5/gamma:0', 'weave_layer_15/batch_normalization_5/beta:0'] when minimizing the loss.\n",
            "WARNING:tensorflow:Gradients do not exist for variables ['weave_layer_15/kernel:0', 'weave_layer_15/Variable:0', 'weave_layer_15/kernel:0', 'weave_layer_15/Variable:0', 'weave_layer_15/kernel:0', 'weave_layer_15/Variable:0', 'weave_layer_15/batch_normalization_3/gamma:0', 'weave_layer_15/batch_normalization_3/beta:0', 'weave_layer_15/batch_normalization_4/gamma:0', 'weave_layer_15/batch_normalization_4/beta:0', 'weave_layer_15/batch_normalization_5/gamma:0', 'weave_layer_15/batch_normalization_5/beta:0'] when minimizing the loss.\n",
            "WARNING:tensorflow:Gradients do not exist for variables ['weave_layer_15/kernel:0', 'weave_layer_15/Variable:0', 'weave_layer_15/kernel:0', 'weave_layer_15/Variable:0', 'weave_layer_15/kernel:0', 'weave_layer_15/Variable:0', 'weave_layer_15/batch_normalization_3/gamma:0', 'weave_layer_15/batch_normalization_3/beta:0', 'weave_layer_15/batch_normalization_4/gamma:0', 'weave_layer_15/batch_normalization_4/beta:0', 'weave_layer_15/batch_normalization_5/gamma:0', 'weave_layer_15/batch_normalization_5/beta:0'] when minimizing the loss.\n",
            "WARNING:tensorflow:Gradients do not exist for variables ['weave_layer_15/kernel:0', 'weave_layer_15/Variable:0', 'weave_layer_15/kernel:0', 'weave_layer_15/Variable:0', 'weave_layer_15/kernel:0', 'weave_layer_15/Variable:0', 'weave_layer_15/batch_normalization_3/gamma:0', 'weave_layer_15/batch_normalization_3/beta:0', 'weave_layer_15/batch_normalization_4/gamma:0', 'weave_layer_15/batch_normalization_4/beta:0', 'weave_layer_15/batch_normalization_5/gamma:0', 'weave_layer_15/batch_normalization_5/beta:0'] when minimizing the loss.\n",
            "Step 1000 validation: mean_absolute_error=0.615951\n",
            "Step 2000 validation: mean_absolute_error=0.765253\n",
            "Step 3000 validation: mean_absolute_error=0.616547\n",
            "Step 4000 validation: mean_absolute_error=0.609268\n"
          ]
        },
        {
          "name": "stderr",
          "output_type": "stream",
          "text": [
            "generating training, validation splits...\n"
          ]
        },
        {
          "name": "stdout",
          "output_type": "stream",
          "text": [
            "predictions for run #\n",
            "3\n",
            "[[1.9476023]\n",
            " [2.808782 ]\n",
            " [3.2775142]\n",
            " [3.45166  ]\n",
            " [3.5136507]]\n"
          ]
        },
        {
          "name": "stderr",
          "output_type": "stream",
          "text": [
            "100%|██████████| 5907/5907 [00:01<00:00, 4566.62it/s]\n"
          ]
        },
        {
          "name": "stdout",
          "output_type": "stream",
          "text": [
            "WARNING:tensorflow:Gradients do not exist for variables ['weave_layer_19/kernel:0', 'weave_layer_19/Variable:0', 'weave_layer_19/kernel:0', 'weave_layer_19/Variable:0', 'weave_layer_19/kernel:0', 'weave_layer_19/Variable:0', 'weave_layer_19/batch_normalization_3/gamma:0', 'weave_layer_19/batch_normalization_3/beta:0', 'weave_layer_19/batch_normalization_4/gamma:0', 'weave_layer_19/batch_normalization_4/beta:0', 'weave_layer_19/batch_normalization_5/gamma:0', 'weave_layer_19/batch_normalization_5/beta:0'] when minimizing the loss.\n",
            "WARNING:tensorflow:Gradients do not exist for variables ['weave_layer_19/kernel:0', 'weave_layer_19/Variable:0', 'weave_layer_19/kernel:0', 'weave_layer_19/Variable:0', 'weave_layer_19/kernel:0', 'weave_layer_19/Variable:0', 'weave_layer_19/batch_normalization_3/gamma:0', 'weave_layer_19/batch_normalization_3/beta:0', 'weave_layer_19/batch_normalization_4/gamma:0', 'weave_layer_19/batch_normalization_4/beta:0', 'weave_layer_19/batch_normalization_5/gamma:0', 'weave_layer_19/batch_normalization_5/beta:0'] when minimizing the loss.\n",
            "WARNING:tensorflow:Gradients do not exist for variables ['weave_layer_19/kernel:0', 'weave_layer_19/Variable:0', 'weave_layer_19/kernel:0', 'weave_layer_19/Variable:0', 'weave_layer_19/kernel:0', 'weave_layer_19/Variable:0', 'weave_layer_19/batch_normalization_3/gamma:0', 'weave_layer_19/batch_normalization_3/beta:0', 'weave_layer_19/batch_normalization_4/gamma:0', 'weave_layer_19/batch_normalization_4/beta:0', 'weave_layer_19/batch_normalization_5/gamma:0', 'weave_layer_19/batch_normalization_5/beta:0'] when minimizing the loss.\n",
            "WARNING:tensorflow:Gradients do not exist for variables ['weave_layer_19/kernel:0', 'weave_layer_19/Variable:0', 'weave_layer_19/kernel:0', 'weave_layer_19/Variable:0', 'weave_layer_19/kernel:0', 'weave_layer_19/Variable:0', 'weave_layer_19/batch_normalization_3/gamma:0', 'weave_layer_19/batch_normalization_3/beta:0', 'weave_layer_19/batch_normalization_4/gamma:0', 'weave_layer_19/batch_normalization_4/beta:0', 'weave_layer_19/batch_normalization_5/gamma:0', 'weave_layer_19/batch_normalization_5/beta:0'] when minimizing the loss.\n",
            "Step 1000 validation: mean_absolute_error=0.604719\n",
            "Step 2000 validation: mean_absolute_error=0.579928\n",
            "Step 3000 validation: mean_absolute_error=0.589344\n",
            "Step 4000 validation: mean_absolute_error=0.621545\n",
            "Step 5000 validation: mean_absolute_error=0.556923\n"
          ]
        },
        {
          "name": "stderr",
          "output_type": "stream",
          "text": [
            "generating training, validation splits...\n"
          ]
        },
        {
          "name": "stdout",
          "output_type": "stream",
          "text": [
            "predictions for run #\n",
            "4\n",
            "[[2.2946644]\n",
            " [2.6160471]\n",
            " [2.4256215]\n",
            " [2.742159 ]\n",
            " [2.8800755]]\n"
          ]
        },
        {
          "name": "stderr",
          "output_type": "stream",
          "text": [
            "100%|██████████| 5907/5907 [00:01<00:00, 4025.11it/s]\n"
          ]
        },
        {
          "name": "stdout",
          "output_type": "stream",
          "text": [
            "WARNING:tensorflow:Gradients do not exist for variables ['weave_layer_23/kernel:0', 'weave_layer_23/Variable:0', 'weave_layer_23/kernel:0', 'weave_layer_23/Variable:0', 'weave_layer_23/kernel:0', 'weave_layer_23/Variable:0', 'weave_layer_23/batch_normalization_3/gamma:0', 'weave_layer_23/batch_normalization_3/beta:0', 'weave_layer_23/batch_normalization_4/gamma:0', 'weave_layer_23/batch_normalization_4/beta:0', 'weave_layer_23/batch_normalization_5/gamma:0', 'weave_layer_23/batch_normalization_5/beta:0'] when minimizing the loss.\n",
            "WARNING:tensorflow:Gradients do not exist for variables ['weave_layer_23/kernel:0', 'weave_layer_23/Variable:0', 'weave_layer_23/kernel:0', 'weave_layer_23/Variable:0', 'weave_layer_23/kernel:0', 'weave_layer_23/Variable:0', 'weave_layer_23/batch_normalization_3/gamma:0', 'weave_layer_23/batch_normalization_3/beta:0', 'weave_layer_23/batch_normalization_4/gamma:0', 'weave_layer_23/batch_normalization_4/beta:0', 'weave_layer_23/batch_normalization_5/gamma:0', 'weave_layer_23/batch_normalization_5/beta:0'] when minimizing the loss.\n",
            "WARNING:tensorflow:Gradients do not exist for variables ['weave_layer_23/kernel:0', 'weave_layer_23/Variable:0', 'weave_layer_23/kernel:0', 'weave_layer_23/Variable:0', 'weave_layer_23/kernel:0', 'weave_layer_23/Variable:0', 'weave_layer_23/batch_normalization_3/gamma:0', 'weave_layer_23/batch_normalization_3/beta:0', 'weave_layer_23/batch_normalization_4/gamma:0', 'weave_layer_23/batch_normalization_4/beta:0', 'weave_layer_23/batch_normalization_5/gamma:0', 'weave_layer_23/batch_normalization_5/beta:0'] when minimizing the loss.\n",
            "WARNING:tensorflow:Gradients do not exist for variables ['weave_layer_23/kernel:0', 'weave_layer_23/Variable:0', 'weave_layer_23/kernel:0', 'weave_layer_23/Variable:0', 'weave_layer_23/kernel:0', 'weave_layer_23/Variable:0', 'weave_layer_23/batch_normalization_3/gamma:0', 'weave_layer_23/batch_normalization_3/beta:0', 'weave_layer_23/batch_normalization_4/gamma:0', 'weave_layer_23/batch_normalization_4/beta:0', 'weave_layer_23/batch_normalization_5/gamma:0', 'weave_layer_23/batch_normalization_5/beta:0'] when minimizing the loss.\n",
            "Step 1000 validation: mean_absolute_error=0.587477\n",
            "Step 2000 validation: mean_absolute_error=0.600091\n",
            "Step 3000 validation: mean_absolute_error=0.509169\n",
            "Step 4000 validation: mean_absolute_error=0.51635\n",
            "predictions for run #\n",
            "5\n",
            "[[1.5845625]\n",
            " [2.7674878]\n",
            " [2.931089 ]\n",
            " [3.3199785]\n",
            " [3.56302  ]]\n",
            "Prediction List:\n",
            "[{'ld50_zhu': array([[2.2228622],\n",
            "       [3.1631806],\n",
            "       [3.1934752],\n",
            "       ...,\n",
            "       [2.171519 ],\n",
            "       [1.986639 ],\n",
            "       [2.1971977]], dtype=float32)}, {'ld50_zhu': array([[2.1847672],\n",
            "       [2.652504 ],\n",
            "       [2.5819736],\n",
            "       ...,\n",
            "       [2.3386254],\n",
            "       [2.4158752],\n",
            "       [2.069726 ]], dtype=float32)}, {'ld50_zhu': array([[1.9476023],\n",
            "       [2.808782 ],\n",
            "       [3.2775142],\n",
            "       ...,\n",
            "       [1.9402995],\n",
            "       [1.926537 ],\n",
            "       [2.0397625]], dtype=float32)}, {'ld50_zhu': array([[2.2946644],\n",
            "       [2.6160471],\n",
            "       [2.4256215],\n",
            "       ...,\n",
            "       [1.9778394],\n",
            "       [1.942879 ],\n",
            "       [1.9425211]], dtype=float32)}, {'ld50_zhu': array([[1.5845625],\n",
            "       [2.7674878],\n",
            "       [2.931089 ],\n",
            "       ...,\n",
            "       [1.9516993],\n",
            "       [1.9541202],\n",
            "       [2.2032292]], dtype=float32)}]\n"
          ]
        }
      ],
      "source": [
        "predictions_list = []\n",
        "metric = deepchem.deepchem.metrics.Metric(deepchem.deepchem.metrics.mean_absolute_error)\n",
        "\n",
        "for seed in [1, 2, 3, 4, 5]:\n",
        "    benchmark = group.get('LD50_Zhu') \n",
        "    # all benchmark names in a benchmark group are stored in group.dataset_names\n",
        "    predictions = {}\n",
        "    name = benchmark['name']\n",
        "    train_val, test = benchmark['train_val'], benchmark['test']\n",
        "    train, valid = group.get_train_valid_split(benchmark = name, split_type = 'default', seed = seed)\n",
        "    \n",
        "        # --------------------------------------------- # \n",
        "        #  Train your model using train, valid, test    #\n",
        "        #  Save test prediction in y_pred_test variable #\n",
        "        # --------------------------------------------- #\n",
        "    \n",
        "\n",
        "    featurizer = deepchem.deepchem.feat.WeaveFeaturizer()\n",
        "    f_train = featurizer.featurize(train.iloc[:,1].to_list())\n",
        "    f_valid = featurizer.featurize(valid.iloc[:,1].to_list())\n",
        "\n",
        "    train_data = deepchem.deepchem.data.NumpyDataset(X=f_train, y=np.array(train.iloc[:,2]), ids=np.array(train.iloc[:,1].to_list()))\n",
        "    valid_data = deepchem.deepchem.data.NumpyDataset(X=f_valid, y=np.array(valid.iloc[:,2]), ids=np.array(valid.iloc[:,1].to_list()))\n",
        "\n",
        "    reg = deepchem.deepchem.models.WeaveModel(n_tasks=1, mode=\"regression\", n_hidden=300, n_weave=4, fully_connected_layer_sizes=[2000, 1000, 100], batch_normalize_kwargs={\"trainable\": False})\n",
        "    callback = deepchem.deepchem.models.ValidationCallback(valid_data, 1000, metric)\n",
        "    reg.fit(train_data, nb_epoch=100, callbacks=callback)\n",
        "\n",
        "    testFeatures = np.array(featurizer.featurize(test.iloc[:,1].to_list()))\n",
        "\n",
        "    y_pred_test = reg.predict_on_batch(X=testFeatures)\n",
        "\n",
        "    print(\"predictions for run #\")\n",
        "    print(seed)\n",
        "    print(y_pred_test[0:5])\n",
        "        \n",
        "    predictions[name] = y_pred_test\n",
        "    predictions_list.append(predictions)\n",
        "\n",
        "print(\"Prediction List:\")\n",
        "print(predictions_list)"
      ]
    },
    {
      "cell_type": "code",
      "execution_count": 4,
      "metadata": {},
      "outputs": [
        {
          "name": "stdout",
          "output_type": "stream",
          "text": [
            "{'ld50_zhu': {'mae': 0.687}}\n",
            "{'ld50_zhu': {'mae': 0.707}}\n",
            "{'ld50_zhu': {'mae': 0.709}}\n",
            "{'ld50_zhu': {'mae': 0.781}}\n",
            "{'ld50_zhu': {'mae': 0.703}}\n"
          ]
        },
        {
          "data": {
            "text/plain": [
              "{'ld50_zhu': [0.717, 0.033]}"
            ]
          },
          "execution_count": 4,
          "metadata": {},
          "output_type": "execute_result"
        }
      ],
      "source": [
        "for i in predictions_list:\n",
        "    print(group.evaluate(i))\n",
        "\n",
        "group.evaluate_many(predictions_list)"
      ]
    },
    {
      "cell_type": "code",
      "execution_count": 6,
      "metadata": {},
      "outputs": [
        {
          "name": "stdout",
          "output_type": "stream",
          "text": [
            "Evaluation \t Proposed point \t  Current eval. \t Best eval.\n",
            "WARNING:tensorflow:Gradients do not exist for variables ['weave_layer_59/kernel:0', 'weave_layer_59/Variable:0', 'weave_layer_59/kernel:0', 'weave_layer_59/Variable:0', 'weave_layer_59/kernel:0', 'weave_layer_59/Variable:0', 'weave_layer_59/batch_normalization_3/gamma:0', 'weave_layer_59/batch_normalization_3/beta:0', 'weave_layer_59/batch_normalization_4/gamma:0', 'weave_layer_59/batch_normalization_4/beta:0', 'weave_layer_59/batch_normalization_5/gamma:0', 'weave_layer_59/batch_normalization_5/beta:0'] when minimizing the loss.\n"
          ]
        },
        {
          "name": "stderr",
          "output_type": "stream",
          "text": [
            "WARNING:tensorflow:Gradients do not exist for variables ['weave_layer_59/kernel:0', 'weave_layer_59/Variable:0', 'weave_layer_59/kernel:0', 'weave_layer_59/Variable:0', 'weave_layer_59/kernel:0', 'weave_layer_59/Variable:0', 'weave_layer_59/batch_normalization_3/gamma:0', 'weave_layer_59/batch_normalization_3/beta:0', 'weave_layer_59/batch_normalization_4/gamma:0', 'weave_layer_59/batch_normalization_4/beta:0', 'weave_layer_59/batch_normalization_5/gamma:0', 'weave_layer_59/batch_normalization_5/beta:0'] when minimizing the loss.\n"
          ]
        },
        {
          "name": "stdout",
          "output_type": "stream",
          "text": [
            "WARNING:tensorflow:Gradients do not exist for variables ['weave_layer_59/kernel:0', 'weave_layer_59/Variable:0', 'weave_layer_59/kernel:0', 'weave_layer_59/Variable:0', 'weave_layer_59/kernel:0', 'weave_layer_59/Variable:0', 'weave_layer_59/batch_normalization_3/gamma:0', 'weave_layer_59/batch_normalization_3/beta:0', 'weave_layer_59/batch_normalization_4/gamma:0', 'weave_layer_59/batch_normalization_4/beta:0', 'weave_layer_59/batch_normalization_5/gamma:0', 'weave_layer_59/batch_normalization_5/beta:0'] when minimizing the loss.\n"
          ]
        },
        {
          "name": "stderr",
          "output_type": "stream",
          "text": [
            "WARNING:tensorflow:Gradients do not exist for variables ['weave_layer_59/kernel:0', 'weave_layer_59/Variable:0', 'weave_layer_59/kernel:0', 'weave_layer_59/Variable:0', 'weave_layer_59/kernel:0', 'weave_layer_59/Variable:0', 'weave_layer_59/batch_normalization_3/gamma:0', 'weave_layer_59/batch_normalization_3/beta:0', 'weave_layer_59/batch_normalization_4/gamma:0', 'weave_layer_59/batch_normalization_4/beta:0', 'weave_layer_59/batch_normalization_5/gamma:0', 'weave_layer_59/batch_normalization_5/beta:0'] when minimizing the loss.\n"
          ]
        },
        {
          "name": "stdout",
          "output_type": "stream",
          "text": [
            "WARNING:tensorflow:Gradients do not exist for variables ['weave_layer_59/kernel:0', 'weave_layer_59/Variable:0', 'weave_layer_59/kernel:0', 'weave_layer_59/Variable:0', 'weave_layer_59/kernel:0', 'weave_layer_59/Variable:0', 'weave_layer_59/batch_normalization_3/gamma:0', 'weave_layer_59/batch_normalization_3/beta:0', 'weave_layer_59/batch_normalization_4/gamma:0', 'weave_layer_59/batch_normalization_4/beta:0', 'weave_layer_59/batch_normalization_5/gamma:0', 'weave_layer_59/batch_normalization_5/beta:0'] when minimizing the loss.\n"
          ]
        },
        {
          "name": "stderr",
          "output_type": "stream",
          "text": [
            "WARNING:tensorflow:Gradients do not exist for variables ['weave_layer_59/kernel:0', 'weave_layer_59/Variable:0', 'weave_layer_59/kernel:0', 'weave_layer_59/Variable:0', 'weave_layer_59/kernel:0', 'weave_layer_59/Variable:0', 'weave_layer_59/batch_normalization_3/gamma:0', 'weave_layer_59/batch_normalization_3/beta:0', 'weave_layer_59/batch_normalization_4/gamma:0', 'weave_layer_59/batch_normalization_4/beta:0', 'weave_layer_59/batch_normalization_5/gamma:0', 'weave_layer_59/batch_normalization_5/beta:0'] when minimizing the loss.\n"
          ]
        },
        {
          "name": "stdout",
          "output_type": "stream",
          "text": [
            "WARNING:tensorflow:Gradients do not exist for variables ['weave_layer_59/kernel:0', 'weave_layer_59/Variable:0', 'weave_layer_59/kernel:0', 'weave_layer_59/Variable:0', 'weave_layer_59/kernel:0', 'weave_layer_59/Variable:0', 'weave_layer_59/batch_normalization_3/gamma:0', 'weave_layer_59/batch_normalization_3/beta:0', 'weave_layer_59/batch_normalization_4/gamma:0', 'weave_layer_59/batch_normalization_4/beta:0', 'weave_layer_59/batch_normalization_5/gamma:0', 'weave_layer_59/batch_normalization_5/beta:0'] when minimizing the loss.\n"
          ]
        },
        {
          "name": "stderr",
          "output_type": "stream",
          "text": [
            "WARNING:tensorflow:Gradients do not exist for variables ['weave_layer_59/kernel:0', 'weave_layer_59/Variable:0', 'weave_layer_59/kernel:0', 'weave_layer_59/Variable:0', 'weave_layer_59/kernel:0', 'weave_layer_59/Variable:0', 'weave_layer_59/batch_normalization_3/gamma:0', 'weave_layer_59/batch_normalization_3/beta:0', 'weave_layer_59/batch_normalization_4/gamma:0', 'weave_layer_59/batch_normalization_4/beta:0', 'weave_layer_59/batch_normalization_5/gamma:0', 'weave_layer_59/batch_normalization_5/beta:0'] when minimizing the loss.\n"
          ]
        },
        {
          "name": "stdout",
          "output_type": "stream",
          "text": [
            "WARNING:tensorflow:Gradients do not exist for variables ['weave_layer_61/kernel:0', 'weave_layer_61/Variable:0', 'weave_layer_61/kernel:0', 'weave_layer_61/Variable:0', 'weave_layer_61/kernel:0', 'weave_layer_61/Variable:0', 'weave_layer_61/batch_normalization_3/gamma:0', 'weave_layer_61/batch_normalization_3/beta:0', 'weave_layer_61/batch_normalization_4/gamma:0', 'weave_layer_61/batch_normalization_4/beta:0', 'weave_layer_61/batch_normalization_5/gamma:0', 'weave_layer_61/batch_normalization_5/beta:0'] when minimizing the loss.\n"
          ]
        },
        {
          "name": "stderr",
          "output_type": "stream",
          "text": [
            "WARNING:tensorflow:Gradients do not exist for variables ['weave_layer_61/kernel:0', 'weave_layer_61/Variable:0', 'weave_layer_61/kernel:0', 'weave_layer_61/Variable:0', 'weave_layer_61/kernel:0', 'weave_layer_61/Variable:0', 'weave_layer_61/batch_normalization_3/gamma:0', 'weave_layer_61/batch_normalization_3/beta:0', 'weave_layer_61/batch_normalization_4/gamma:0', 'weave_layer_61/batch_normalization_4/beta:0', 'weave_layer_61/batch_normalization_5/gamma:0', 'weave_layer_61/batch_normalization_5/beta:0'] when minimizing the loss.\n"
          ]
        },
        {
          "name": "stdout",
          "output_type": "stream",
          "text": [
            "WARNING:tensorflow:Gradients do not exist for variables ['weave_layer_61/kernel:0', 'weave_layer_61/Variable:0', 'weave_layer_61/kernel:0', 'weave_layer_61/Variable:0', 'weave_layer_61/kernel:0', 'weave_layer_61/Variable:0', 'weave_layer_61/batch_normalization_3/gamma:0', 'weave_layer_61/batch_normalization_3/beta:0', 'weave_layer_61/batch_normalization_4/gamma:0', 'weave_layer_61/batch_normalization_4/beta:0', 'weave_layer_61/batch_normalization_5/gamma:0', 'weave_layer_61/batch_normalization_5/beta:0'] when minimizing the loss.\n"
          ]
        },
        {
          "name": "stderr",
          "output_type": "stream",
          "text": [
            "WARNING:tensorflow:Gradients do not exist for variables ['weave_layer_61/kernel:0', 'weave_layer_61/Variable:0', 'weave_layer_61/kernel:0', 'weave_layer_61/Variable:0', 'weave_layer_61/kernel:0', 'weave_layer_61/Variable:0', 'weave_layer_61/batch_normalization_3/gamma:0', 'weave_layer_61/batch_normalization_3/beta:0', 'weave_layer_61/batch_normalization_4/gamma:0', 'weave_layer_61/batch_normalization_4/beta:0', 'weave_layer_61/batch_normalization_5/gamma:0', 'weave_layer_61/batch_normalization_5/beta:0'] when minimizing the loss.\n"
          ]
        },
        {
          "name": "stdout",
          "output_type": "stream",
          "text": [
            "WARNING:tensorflow:Gradients do not exist for variables ['weave_layer_61/kernel:0', 'weave_layer_61/Variable:0', 'weave_layer_61/kernel:0', 'weave_layer_61/Variable:0', 'weave_layer_61/kernel:0', 'weave_layer_61/Variable:0', 'weave_layer_61/batch_normalization_3/gamma:0', 'weave_layer_61/batch_normalization_3/beta:0', 'weave_layer_61/batch_normalization_4/gamma:0', 'weave_layer_61/batch_normalization_4/beta:0', 'weave_layer_61/batch_normalization_5/gamma:0', 'weave_layer_61/batch_normalization_5/beta:0'] when minimizing the loss.\n"
          ]
        },
        {
          "name": "stderr",
          "output_type": "stream",
          "text": [
            "WARNING:tensorflow:Gradients do not exist for variables ['weave_layer_61/kernel:0', 'weave_layer_61/Variable:0', 'weave_layer_61/kernel:0', 'weave_layer_61/Variable:0', 'weave_layer_61/kernel:0', 'weave_layer_61/Variable:0', 'weave_layer_61/batch_normalization_3/gamma:0', 'weave_layer_61/batch_normalization_3/beta:0', 'weave_layer_61/batch_normalization_4/gamma:0', 'weave_layer_61/batch_normalization_4/beta:0', 'weave_layer_61/batch_normalization_5/gamma:0', 'weave_layer_61/batch_normalization_5/beta:0'] when minimizing the loss.\n"
          ]
        },
        {
          "name": "stdout",
          "output_type": "stream",
          "text": [
            "WARNING:tensorflow:Gradients do not exist for variables ['weave_layer_61/kernel:0', 'weave_layer_61/Variable:0', 'weave_layer_61/kernel:0', 'weave_layer_61/Variable:0', 'weave_layer_61/kernel:0', 'weave_layer_61/Variable:0', 'weave_layer_61/batch_normalization_3/gamma:0', 'weave_layer_61/batch_normalization_3/beta:0', 'weave_layer_61/batch_normalization_4/gamma:0', 'weave_layer_61/batch_normalization_4/beta:0', 'weave_layer_61/batch_normalization_5/gamma:0', 'weave_layer_61/batch_normalization_5/beta:0'] when minimizing the loss.\n"
          ]
        },
        {
          "name": "stderr",
          "output_type": "stream",
          "text": [
            "WARNING:tensorflow:Gradients do not exist for variables ['weave_layer_61/kernel:0', 'weave_layer_61/Variable:0', 'weave_layer_61/kernel:0', 'weave_layer_61/Variable:0', 'weave_layer_61/kernel:0', 'weave_layer_61/Variable:0', 'weave_layer_61/batch_normalization_3/gamma:0', 'weave_layer_61/batch_normalization_3/beta:0', 'weave_layer_61/batch_normalization_4/gamma:0', 'weave_layer_61/batch_normalization_4/beta:0', 'weave_layer_61/batch_normalization_5/gamma:0', 'weave_layer_61/batch_normalization_5/beta:0'] when minimizing the loss.\n"
          ]
        },
        {
          "name": "stdout",
          "output_type": "stream",
          "text": [
            "WARNING:tensorflow:Gradients do not exist for variables ['weave_layer_63/kernel:0', 'weave_layer_63/Variable:0', 'weave_layer_63/kernel:0', 'weave_layer_63/Variable:0', 'weave_layer_63/kernel:0', 'weave_layer_63/Variable:0', 'weave_layer_63/batch_normalization_3/gamma:0', 'weave_layer_63/batch_normalization_3/beta:0', 'weave_layer_63/batch_normalization_4/gamma:0', 'weave_layer_63/batch_normalization_4/beta:0', 'weave_layer_63/batch_normalization_5/gamma:0', 'weave_layer_63/batch_normalization_5/beta:0'] when minimizing the loss.\n"
          ]
        },
        {
          "name": "stderr",
          "output_type": "stream",
          "text": [
            "WARNING:tensorflow:Gradients do not exist for variables ['weave_layer_63/kernel:0', 'weave_layer_63/Variable:0', 'weave_layer_63/kernel:0', 'weave_layer_63/Variable:0', 'weave_layer_63/kernel:0', 'weave_layer_63/Variable:0', 'weave_layer_63/batch_normalization_3/gamma:0', 'weave_layer_63/batch_normalization_3/beta:0', 'weave_layer_63/batch_normalization_4/gamma:0', 'weave_layer_63/batch_normalization_4/beta:0', 'weave_layer_63/batch_normalization_5/gamma:0', 'weave_layer_63/batch_normalization_5/beta:0'] when minimizing the loss.\n"
          ]
        },
        {
          "name": "stdout",
          "output_type": "stream",
          "text": [
            "WARNING:tensorflow:Gradients do not exist for variables ['weave_layer_63/kernel:0', 'weave_layer_63/Variable:0', 'weave_layer_63/kernel:0', 'weave_layer_63/Variable:0', 'weave_layer_63/kernel:0', 'weave_layer_63/Variable:0', 'weave_layer_63/batch_normalization_3/gamma:0', 'weave_layer_63/batch_normalization_3/beta:0', 'weave_layer_63/batch_normalization_4/gamma:0', 'weave_layer_63/batch_normalization_4/beta:0', 'weave_layer_63/batch_normalization_5/gamma:0', 'weave_layer_63/batch_normalization_5/beta:0'] when minimizing the loss.\n"
          ]
        },
        {
          "name": "stderr",
          "output_type": "stream",
          "text": [
            "WARNING:tensorflow:Gradients do not exist for variables ['weave_layer_63/kernel:0', 'weave_layer_63/Variable:0', 'weave_layer_63/kernel:0', 'weave_layer_63/Variable:0', 'weave_layer_63/kernel:0', 'weave_layer_63/Variable:0', 'weave_layer_63/batch_normalization_3/gamma:0', 'weave_layer_63/batch_normalization_3/beta:0', 'weave_layer_63/batch_normalization_4/gamma:0', 'weave_layer_63/batch_normalization_4/beta:0', 'weave_layer_63/batch_normalization_5/gamma:0', 'weave_layer_63/batch_normalization_5/beta:0'] when minimizing the loss.\n"
          ]
        },
        {
          "name": "stdout",
          "output_type": "stream",
          "text": [
            "WARNING:tensorflow:Gradients do not exist for variables ['weave_layer_63/kernel:0', 'weave_layer_63/Variable:0', 'weave_layer_63/kernel:0', 'weave_layer_63/Variable:0', 'weave_layer_63/kernel:0', 'weave_layer_63/Variable:0', 'weave_layer_63/batch_normalization_3/gamma:0', 'weave_layer_63/batch_normalization_3/beta:0', 'weave_layer_63/batch_normalization_4/gamma:0', 'weave_layer_63/batch_normalization_4/beta:0', 'weave_layer_63/batch_normalization_5/gamma:0', 'weave_layer_63/batch_normalization_5/beta:0'] when minimizing the loss.\n"
          ]
        },
        {
          "name": "stderr",
          "output_type": "stream",
          "text": [
            "WARNING:tensorflow:Gradients do not exist for variables ['weave_layer_63/kernel:0', 'weave_layer_63/Variable:0', 'weave_layer_63/kernel:0', 'weave_layer_63/Variable:0', 'weave_layer_63/kernel:0', 'weave_layer_63/Variable:0', 'weave_layer_63/batch_normalization_3/gamma:0', 'weave_layer_63/batch_normalization_3/beta:0', 'weave_layer_63/batch_normalization_4/gamma:0', 'weave_layer_63/batch_normalization_4/beta:0', 'weave_layer_63/batch_normalization_5/gamma:0', 'weave_layer_63/batch_normalization_5/beta:0'] when minimizing the loss.\n"
          ]
        },
        {
          "name": "stdout",
          "output_type": "stream",
          "text": [
            "WARNING:tensorflow:Gradients do not exist for variables ['weave_layer_63/kernel:0', 'weave_layer_63/Variable:0', 'weave_layer_63/kernel:0', 'weave_layer_63/Variable:0', 'weave_layer_63/kernel:0', 'weave_layer_63/Variable:0', 'weave_layer_63/batch_normalization_3/gamma:0', 'weave_layer_63/batch_normalization_3/beta:0', 'weave_layer_63/batch_normalization_4/gamma:0', 'weave_layer_63/batch_normalization_4/beta:0', 'weave_layer_63/batch_normalization_5/gamma:0', 'weave_layer_63/batch_normalization_5/beta:0'] when minimizing the loss.\n"
          ]
        },
        {
          "name": "stderr",
          "output_type": "stream",
          "text": [
            "WARNING:tensorflow:Gradients do not exist for variables ['weave_layer_63/kernel:0', 'weave_layer_63/Variable:0', 'weave_layer_63/kernel:0', 'weave_layer_63/Variable:0', 'weave_layer_63/kernel:0', 'weave_layer_63/Variable:0', 'weave_layer_63/batch_normalization_3/gamma:0', 'weave_layer_63/batch_normalization_3/beta:0', 'weave_layer_63/batch_normalization_4/gamma:0', 'weave_layer_63/batch_normalization_4/beta:0', 'weave_layer_63/batch_normalization_5/gamma:0', 'weave_layer_63/batch_normalization_5/beta:0'] when minimizing the loss.\n"
          ]
        },
        {
          "name": "stdout",
          "output_type": "stream",
          "text": [
            "init   \t [130. 329.  17.]. \t  -0.7555424053672201 \t -0.6375722658437386\n",
            "init   \t [  4. 285.  17.]. \t  -0.6375722658437386 \t -0.6375722658437386\n",
            "init   \t [ 48. 364.   7.]. \t  -0.7049368234474378 \t -0.6375722658437386\n",
            "WARNING:tensorflow:Gradients do not exist for variables ['weave_layer_65/kernel:0', 'weave_layer_65/Variable:0', 'weave_layer_65/kernel:0', 'weave_layer_65/Variable:0', 'weave_layer_65/kernel:0', 'weave_layer_65/Variable:0', 'weave_layer_65/batch_normalization_3/gamma:0', 'weave_layer_65/batch_normalization_3/beta:0', 'weave_layer_65/batch_normalization_4/gamma:0', 'weave_layer_65/batch_normalization_4/beta:0', 'weave_layer_65/batch_normalization_5/gamma:0', 'weave_layer_65/batch_normalization_5/beta:0'] when minimizing the loss.\n"
          ]
        },
        {
          "name": "stderr",
          "output_type": "stream",
          "text": [
            "WARNING:tensorflow:Gradients do not exist for variables ['weave_layer_65/kernel:0', 'weave_layer_65/Variable:0', 'weave_layer_65/kernel:0', 'weave_layer_65/Variable:0', 'weave_layer_65/kernel:0', 'weave_layer_65/Variable:0', 'weave_layer_65/batch_normalization_3/gamma:0', 'weave_layer_65/batch_normalization_3/beta:0', 'weave_layer_65/batch_normalization_4/gamma:0', 'weave_layer_65/batch_normalization_4/beta:0', 'weave_layer_65/batch_normalization_5/gamma:0', 'weave_layer_65/batch_normalization_5/beta:0'] when minimizing the loss.\n"
          ]
        },
        {
          "name": "stdout",
          "output_type": "stream",
          "text": [
            "WARNING:tensorflow:Gradients do not exist for variables ['weave_layer_65/kernel:0', 'weave_layer_65/Variable:0', 'weave_layer_65/kernel:0', 'weave_layer_65/Variable:0', 'weave_layer_65/kernel:0', 'weave_layer_65/Variable:0', 'weave_layer_65/batch_normalization_3/gamma:0', 'weave_layer_65/batch_normalization_3/beta:0', 'weave_layer_65/batch_normalization_4/gamma:0', 'weave_layer_65/batch_normalization_4/beta:0', 'weave_layer_65/batch_normalization_5/gamma:0', 'weave_layer_65/batch_normalization_5/beta:0'] when minimizing the loss.\n"
          ]
        },
        {
          "name": "stderr",
          "output_type": "stream",
          "text": [
            "WARNING:tensorflow:Gradients do not exist for variables ['weave_layer_65/kernel:0', 'weave_layer_65/Variable:0', 'weave_layer_65/kernel:0', 'weave_layer_65/Variable:0', 'weave_layer_65/kernel:0', 'weave_layer_65/Variable:0', 'weave_layer_65/batch_normalization_3/gamma:0', 'weave_layer_65/batch_normalization_3/beta:0', 'weave_layer_65/batch_normalization_4/gamma:0', 'weave_layer_65/batch_normalization_4/beta:0', 'weave_layer_65/batch_normalization_5/gamma:0', 'weave_layer_65/batch_normalization_5/beta:0'] when minimizing the loss.\n"
          ]
        },
        {
          "name": "stdout",
          "output_type": "stream",
          "text": [
            "WARNING:tensorflow:Gradients do not exist for variables ['weave_layer_65/kernel:0', 'weave_layer_65/Variable:0', 'weave_layer_65/kernel:0', 'weave_layer_65/Variable:0', 'weave_layer_65/kernel:0', 'weave_layer_65/Variable:0', 'weave_layer_65/batch_normalization_3/gamma:0', 'weave_layer_65/batch_normalization_3/beta:0', 'weave_layer_65/batch_normalization_4/gamma:0', 'weave_layer_65/batch_normalization_4/beta:0', 'weave_layer_65/batch_normalization_5/gamma:0', 'weave_layer_65/batch_normalization_5/beta:0'] when minimizing the loss.\n"
          ]
        },
        {
          "name": "stderr",
          "output_type": "stream",
          "text": [
            "WARNING:tensorflow:Gradients do not exist for variables ['weave_layer_65/kernel:0', 'weave_layer_65/Variable:0', 'weave_layer_65/kernel:0', 'weave_layer_65/Variable:0', 'weave_layer_65/kernel:0', 'weave_layer_65/Variable:0', 'weave_layer_65/batch_normalization_3/gamma:0', 'weave_layer_65/batch_normalization_3/beta:0', 'weave_layer_65/batch_normalization_4/gamma:0', 'weave_layer_65/batch_normalization_4/beta:0', 'weave_layer_65/batch_normalization_5/gamma:0', 'weave_layer_65/batch_normalization_5/beta:0'] when minimizing the loss.\n"
          ]
        },
        {
          "name": "stdout",
          "output_type": "stream",
          "text": [
            "WARNING:tensorflow:Gradients do not exist for variables ['weave_layer_65/kernel:0', 'weave_layer_65/Variable:0', 'weave_layer_65/kernel:0', 'weave_layer_65/Variable:0', 'weave_layer_65/kernel:0', 'weave_layer_65/Variable:0', 'weave_layer_65/batch_normalization_3/gamma:0', 'weave_layer_65/batch_normalization_3/beta:0', 'weave_layer_65/batch_normalization_4/gamma:0', 'weave_layer_65/batch_normalization_4/beta:0', 'weave_layer_65/batch_normalization_5/gamma:0', 'weave_layer_65/batch_normalization_5/beta:0'] when minimizing the loss.\n"
          ]
        },
        {
          "name": "stderr",
          "output_type": "stream",
          "text": [
            "WARNING:tensorflow:Gradients do not exist for variables ['weave_layer_65/kernel:0', 'weave_layer_65/Variable:0', 'weave_layer_65/kernel:0', 'weave_layer_65/Variable:0', 'weave_layer_65/kernel:0', 'weave_layer_65/Variable:0', 'weave_layer_65/batch_normalization_3/gamma:0', 'weave_layer_65/batch_normalization_3/beta:0', 'weave_layer_65/batch_normalization_4/gamma:0', 'weave_layer_65/batch_normalization_4/beta:0', 'weave_layer_65/batch_normalization_5/gamma:0', 'weave_layer_65/batch_normalization_5/beta:0'] when minimizing the loss.\n"
          ]
        },
        {
          "name": "stdout",
          "output_type": "stream",
          "text": [
            "1      \t [137.  40.   4.]. \t  \u001b[92m-0.6186904076187795\u001b[0m \t -0.6186904076187795\n",
            "WARNING:tensorflow:Gradients do not exist for variables ['weave_layer_67/kernel:0', 'weave_layer_67/Variable:0', 'weave_layer_67/kernel:0', 'weave_layer_67/Variable:0', 'weave_layer_67/kernel:0', 'weave_layer_67/Variable:0', 'weave_layer_67/batch_normalization_3/gamma:0', 'weave_layer_67/batch_normalization_3/beta:0', 'weave_layer_67/batch_normalization_4/gamma:0', 'weave_layer_67/batch_normalization_4/beta:0', 'weave_layer_67/batch_normalization_5/gamma:0', 'weave_layer_67/batch_normalization_5/beta:0'] when minimizing the loss.\n"
          ]
        },
        {
          "name": "stderr",
          "output_type": "stream",
          "text": [
            "WARNING:tensorflow:Gradients do not exist for variables ['weave_layer_67/kernel:0', 'weave_layer_67/Variable:0', 'weave_layer_67/kernel:0', 'weave_layer_67/Variable:0', 'weave_layer_67/kernel:0', 'weave_layer_67/Variable:0', 'weave_layer_67/batch_normalization_3/gamma:0', 'weave_layer_67/batch_normalization_3/beta:0', 'weave_layer_67/batch_normalization_4/gamma:0', 'weave_layer_67/batch_normalization_4/beta:0', 'weave_layer_67/batch_normalization_5/gamma:0', 'weave_layer_67/batch_normalization_5/beta:0'] when minimizing the loss.\n"
          ]
        },
        {
          "name": "stdout",
          "output_type": "stream",
          "text": [
            "WARNING:tensorflow:Gradients do not exist for variables ['weave_layer_67/kernel:0', 'weave_layer_67/Variable:0', 'weave_layer_67/kernel:0', 'weave_layer_67/Variable:0', 'weave_layer_67/kernel:0', 'weave_layer_67/Variable:0', 'weave_layer_67/batch_normalization_3/gamma:0', 'weave_layer_67/batch_normalization_3/beta:0', 'weave_layer_67/batch_normalization_4/gamma:0', 'weave_layer_67/batch_normalization_4/beta:0', 'weave_layer_67/batch_normalization_5/gamma:0', 'weave_layer_67/batch_normalization_5/beta:0'] when minimizing the loss.\n"
          ]
        },
        {
          "name": "stderr",
          "output_type": "stream",
          "text": [
            "WARNING:tensorflow:Gradients do not exist for variables ['weave_layer_67/kernel:0', 'weave_layer_67/Variable:0', 'weave_layer_67/kernel:0', 'weave_layer_67/Variable:0', 'weave_layer_67/kernel:0', 'weave_layer_67/Variable:0', 'weave_layer_67/batch_normalization_3/gamma:0', 'weave_layer_67/batch_normalization_3/beta:0', 'weave_layer_67/batch_normalization_4/gamma:0', 'weave_layer_67/batch_normalization_4/beta:0', 'weave_layer_67/batch_normalization_5/gamma:0', 'weave_layer_67/batch_normalization_5/beta:0'] when minimizing the loss.\n"
          ]
        },
        {
          "name": "stdout",
          "output_type": "stream",
          "text": [
            "WARNING:tensorflow:Gradients do not exist for variables ['weave_layer_67/kernel:0', 'weave_layer_67/Variable:0', 'weave_layer_67/kernel:0', 'weave_layer_67/Variable:0', 'weave_layer_67/kernel:0', 'weave_layer_67/Variable:0', 'weave_layer_67/batch_normalization_3/gamma:0', 'weave_layer_67/batch_normalization_3/beta:0', 'weave_layer_67/batch_normalization_4/gamma:0', 'weave_layer_67/batch_normalization_4/beta:0', 'weave_layer_67/batch_normalization_5/gamma:0', 'weave_layer_67/batch_normalization_5/beta:0'] when minimizing the loss.\n"
          ]
        },
        {
          "name": "stderr",
          "output_type": "stream",
          "text": [
            "WARNING:tensorflow:Gradients do not exist for variables ['weave_layer_67/kernel:0', 'weave_layer_67/Variable:0', 'weave_layer_67/kernel:0', 'weave_layer_67/Variable:0', 'weave_layer_67/kernel:0', 'weave_layer_67/Variable:0', 'weave_layer_67/batch_normalization_3/gamma:0', 'weave_layer_67/batch_normalization_3/beta:0', 'weave_layer_67/batch_normalization_4/gamma:0', 'weave_layer_67/batch_normalization_4/beta:0', 'weave_layer_67/batch_normalization_5/gamma:0', 'weave_layer_67/batch_normalization_5/beta:0'] when minimizing the loss.\n"
          ]
        },
        {
          "name": "stdout",
          "output_type": "stream",
          "text": [
            "WARNING:tensorflow:Gradients do not exist for variables ['weave_layer_67/kernel:0', 'weave_layer_67/Variable:0', 'weave_layer_67/kernel:0', 'weave_layer_67/Variable:0', 'weave_layer_67/kernel:0', 'weave_layer_67/Variable:0', 'weave_layer_67/batch_normalization_3/gamma:0', 'weave_layer_67/batch_normalization_3/beta:0', 'weave_layer_67/batch_normalization_4/gamma:0', 'weave_layer_67/batch_normalization_4/beta:0', 'weave_layer_67/batch_normalization_5/gamma:0', 'weave_layer_67/batch_normalization_5/beta:0'] when minimizing the loss.\n"
          ]
        },
        {
          "name": "stderr",
          "output_type": "stream",
          "text": [
            "WARNING:tensorflow:Gradients do not exist for variables ['weave_layer_67/kernel:0', 'weave_layer_67/Variable:0', 'weave_layer_67/kernel:0', 'weave_layer_67/Variable:0', 'weave_layer_67/kernel:0', 'weave_layer_67/Variable:0', 'weave_layer_67/batch_normalization_3/gamma:0', 'weave_layer_67/batch_normalization_3/beta:0', 'weave_layer_67/batch_normalization_4/gamma:0', 'weave_layer_67/batch_normalization_4/beta:0', 'weave_layer_67/batch_normalization_5/gamma:0', 'weave_layer_67/batch_normalization_5/beta:0'] when minimizing the loss.\n"
          ]
        },
        {
          "name": "stdout",
          "output_type": "stream",
          "text": [
            "2      \t [ 38. 448.   3.]. \t  \u001b[92m-0.5716399556767795\u001b[0m \t -0.5716399556767795\n",
            "WARNING:tensorflow:Gradients do not exist for variables ['weave_layer_69/kernel:0', 'weave_layer_69/Variable:0', 'weave_layer_69/kernel:0', 'weave_layer_69/Variable:0', 'weave_layer_69/kernel:0', 'weave_layer_69/Variable:0', 'weave_layer_69/batch_normalization_3/gamma:0', 'weave_layer_69/batch_normalization_3/beta:0', 'weave_layer_69/batch_normalization_4/gamma:0', 'weave_layer_69/batch_normalization_4/beta:0', 'weave_layer_69/batch_normalization_5/gamma:0', 'weave_layer_69/batch_normalization_5/beta:0'] when minimizing the loss.\n"
          ]
        },
        {
          "name": "stderr",
          "output_type": "stream",
          "text": [
            "WARNING:tensorflow:Gradients do not exist for variables ['weave_layer_69/kernel:0', 'weave_layer_69/Variable:0', 'weave_layer_69/kernel:0', 'weave_layer_69/Variable:0', 'weave_layer_69/kernel:0', 'weave_layer_69/Variable:0', 'weave_layer_69/batch_normalization_3/gamma:0', 'weave_layer_69/batch_normalization_3/beta:0', 'weave_layer_69/batch_normalization_4/gamma:0', 'weave_layer_69/batch_normalization_4/beta:0', 'weave_layer_69/batch_normalization_5/gamma:0', 'weave_layer_69/batch_normalization_5/beta:0'] when minimizing the loss.\n"
          ]
        },
        {
          "name": "stdout",
          "output_type": "stream",
          "text": [
            "WARNING:tensorflow:Gradients do not exist for variables ['weave_layer_69/kernel:0', 'weave_layer_69/Variable:0', 'weave_layer_69/kernel:0', 'weave_layer_69/Variable:0', 'weave_layer_69/kernel:0', 'weave_layer_69/Variable:0', 'weave_layer_69/batch_normalization_3/gamma:0', 'weave_layer_69/batch_normalization_3/beta:0', 'weave_layer_69/batch_normalization_4/gamma:0', 'weave_layer_69/batch_normalization_4/beta:0', 'weave_layer_69/batch_normalization_5/gamma:0', 'weave_layer_69/batch_normalization_5/beta:0'] when minimizing the loss.\n"
          ]
        },
        {
          "name": "stderr",
          "output_type": "stream",
          "text": [
            "WARNING:tensorflow:Gradients do not exist for variables ['weave_layer_69/kernel:0', 'weave_layer_69/Variable:0', 'weave_layer_69/kernel:0', 'weave_layer_69/Variable:0', 'weave_layer_69/kernel:0', 'weave_layer_69/Variable:0', 'weave_layer_69/batch_normalization_3/gamma:0', 'weave_layer_69/batch_normalization_3/beta:0', 'weave_layer_69/batch_normalization_4/gamma:0', 'weave_layer_69/batch_normalization_4/beta:0', 'weave_layer_69/batch_normalization_5/gamma:0', 'weave_layer_69/batch_normalization_5/beta:0'] when minimizing the loss.\n"
          ]
        },
        {
          "name": "stdout",
          "output_type": "stream",
          "text": [
            "WARNING:tensorflow:Gradients do not exist for variables ['weave_layer_69/kernel:0', 'weave_layer_69/Variable:0', 'weave_layer_69/kernel:0', 'weave_layer_69/Variable:0', 'weave_layer_69/kernel:0', 'weave_layer_69/Variable:0', 'weave_layer_69/batch_normalization_3/gamma:0', 'weave_layer_69/batch_normalization_3/beta:0', 'weave_layer_69/batch_normalization_4/gamma:0', 'weave_layer_69/batch_normalization_4/beta:0', 'weave_layer_69/batch_normalization_5/gamma:0', 'weave_layer_69/batch_normalization_5/beta:0'] when minimizing the loss.\n"
          ]
        },
        {
          "name": "stderr",
          "output_type": "stream",
          "text": [
            "WARNING:tensorflow:Gradients do not exist for variables ['weave_layer_69/kernel:0', 'weave_layer_69/Variable:0', 'weave_layer_69/kernel:0', 'weave_layer_69/Variable:0', 'weave_layer_69/kernel:0', 'weave_layer_69/Variable:0', 'weave_layer_69/batch_normalization_3/gamma:0', 'weave_layer_69/batch_normalization_3/beta:0', 'weave_layer_69/batch_normalization_4/gamma:0', 'weave_layer_69/batch_normalization_4/beta:0', 'weave_layer_69/batch_normalization_5/gamma:0', 'weave_layer_69/batch_normalization_5/beta:0'] when minimizing the loss.\n"
          ]
        },
        {
          "name": "stdout",
          "output_type": "stream",
          "text": [
            "WARNING:tensorflow:Gradients do not exist for variables ['weave_layer_69/kernel:0', 'weave_layer_69/Variable:0', 'weave_layer_69/kernel:0', 'weave_layer_69/Variable:0', 'weave_layer_69/kernel:0', 'weave_layer_69/Variable:0', 'weave_layer_69/batch_normalization_3/gamma:0', 'weave_layer_69/batch_normalization_3/beta:0', 'weave_layer_69/batch_normalization_4/gamma:0', 'weave_layer_69/batch_normalization_4/beta:0', 'weave_layer_69/batch_normalization_5/gamma:0', 'weave_layer_69/batch_normalization_5/beta:0'] when minimizing the loss.\n"
          ]
        },
        {
          "name": "stderr",
          "output_type": "stream",
          "text": [
            "WARNING:tensorflow:Gradients do not exist for variables ['weave_layer_69/kernel:0', 'weave_layer_69/Variable:0', 'weave_layer_69/kernel:0', 'weave_layer_69/Variable:0', 'weave_layer_69/kernel:0', 'weave_layer_69/Variable:0', 'weave_layer_69/batch_normalization_3/gamma:0', 'weave_layer_69/batch_normalization_3/beta:0', 'weave_layer_69/batch_normalization_4/gamma:0', 'weave_layer_69/batch_normalization_4/beta:0', 'weave_layer_69/batch_normalization_5/gamma:0', 'weave_layer_69/batch_normalization_5/beta:0'] when minimizing the loss.\n"
          ]
        },
        {
          "name": "stdout",
          "output_type": "stream",
          "text": [
            "3      \t [ 73. 401.  19.]. \t  -0.5750580500485288 \t -0.5716399556767795\n",
            "WARNING:tensorflow:Gradients do not exist for variables ['weave_layer_71/kernel:0', 'weave_layer_71/Variable:0', 'weave_layer_71/kernel:0', 'weave_layer_71/Variable:0', 'weave_layer_71/kernel:0', 'weave_layer_71/Variable:0', 'weave_layer_71/batch_normalization_3/gamma:0', 'weave_layer_71/batch_normalization_3/beta:0', 'weave_layer_71/batch_normalization_4/gamma:0', 'weave_layer_71/batch_normalization_4/beta:0', 'weave_layer_71/batch_normalization_5/gamma:0', 'weave_layer_71/batch_normalization_5/beta:0'] when minimizing the loss.\n"
          ]
        },
        {
          "name": "stderr",
          "output_type": "stream",
          "text": [
            "WARNING:tensorflow:Gradients do not exist for variables ['weave_layer_71/kernel:0', 'weave_layer_71/Variable:0', 'weave_layer_71/kernel:0', 'weave_layer_71/Variable:0', 'weave_layer_71/kernel:0', 'weave_layer_71/Variable:0', 'weave_layer_71/batch_normalization_3/gamma:0', 'weave_layer_71/batch_normalization_3/beta:0', 'weave_layer_71/batch_normalization_4/gamma:0', 'weave_layer_71/batch_normalization_4/beta:0', 'weave_layer_71/batch_normalization_5/gamma:0', 'weave_layer_71/batch_normalization_5/beta:0'] when minimizing the loss.\n"
          ]
        },
        {
          "name": "stdout",
          "output_type": "stream",
          "text": [
            "WARNING:tensorflow:Gradients do not exist for variables ['weave_layer_71/kernel:0', 'weave_layer_71/Variable:0', 'weave_layer_71/kernel:0', 'weave_layer_71/Variable:0', 'weave_layer_71/kernel:0', 'weave_layer_71/Variable:0', 'weave_layer_71/batch_normalization_3/gamma:0', 'weave_layer_71/batch_normalization_3/beta:0', 'weave_layer_71/batch_normalization_4/gamma:0', 'weave_layer_71/batch_normalization_4/beta:0', 'weave_layer_71/batch_normalization_5/gamma:0', 'weave_layer_71/batch_normalization_5/beta:0'] when minimizing the loss.\n"
          ]
        },
        {
          "name": "stderr",
          "output_type": "stream",
          "text": [
            "WARNING:tensorflow:Gradients do not exist for variables ['weave_layer_71/kernel:0', 'weave_layer_71/Variable:0', 'weave_layer_71/kernel:0', 'weave_layer_71/Variable:0', 'weave_layer_71/kernel:0', 'weave_layer_71/Variable:0', 'weave_layer_71/batch_normalization_3/gamma:0', 'weave_layer_71/batch_normalization_3/beta:0', 'weave_layer_71/batch_normalization_4/gamma:0', 'weave_layer_71/batch_normalization_4/beta:0', 'weave_layer_71/batch_normalization_5/gamma:0', 'weave_layer_71/batch_normalization_5/beta:0'] when minimizing the loss.\n"
          ]
        },
        {
          "name": "stdout",
          "output_type": "stream",
          "text": [
            "WARNING:tensorflow:Gradients do not exist for variables ['weave_layer_71/kernel:0', 'weave_layer_71/Variable:0', 'weave_layer_71/kernel:0', 'weave_layer_71/Variable:0', 'weave_layer_71/kernel:0', 'weave_layer_71/Variable:0', 'weave_layer_71/batch_normalization_3/gamma:0', 'weave_layer_71/batch_normalization_3/beta:0', 'weave_layer_71/batch_normalization_4/gamma:0', 'weave_layer_71/batch_normalization_4/beta:0', 'weave_layer_71/batch_normalization_5/gamma:0', 'weave_layer_71/batch_normalization_5/beta:0'] when minimizing the loss.\n"
          ]
        },
        {
          "name": "stderr",
          "output_type": "stream",
          "text": [
            "WARNING:tensorflow:Gradients do not exist for variables ['weave_layer_71/kernel:0', 'weave_layer_71/Variable:0', 'weave_layer_71/kernel:0', 'weave_layer_71/Variable:0', 'weave_layer_71/kernel:0', 'weave_layer_71/Variable:0', 'weave_layer_71/batch_normalization_3/gamma:0', 'weave_layer_71/batch_normalization_3/beta:0', 'weave_layer_71/batch_normalization_4/gamma:0', 'weave_layer_71/batch_normalization_4/beta:0', 'weave_layer_71/batch_normalization_5/gamma:0', 'weave_layer_71/batch_normalization_5/beta:0'] when minimizing the loss.\n"
          ]
        },
        {
          "name": "stdout",
          "output_type": "stream",
          "text": [
            "WARNING:tensorflow:Gradients do not exist for variables ['weave_layer_71/kernel:0', 'weave_layer_71/Variable:0', 'weave_layer_71/kernel:0', 'weave_layer_71/Variable:0', 'weave_layer_71/kernel:0', 'weave_layer_71/Variable:0', 'weave_layer_71/batch_normalization_3/gamma:0', 'weave_layer_71/batch_normalization_3/beta:0', 'weave_layer_71/batch_normalization_4/gamma:0', 'weave_layer_71/batch_normalization_4/beta:0', 'weave_layer_71/batch_normalization_5/gamma:0', 'weave_layer_71/batch_normalization_5/beta:0'] when minimizing the loss.\n"
          ]
        },
        {
          "name": "stderr",
          "output_type": "stream",
          "text": [
            "WARNING:tensorflow:Gradients do not exist for variables ['weave_layer_71/kernel:0', 'weave_layer_71/Variable:0', 'weave_layer_71/kernel:0', 'weave_layer_71/Variable:0', 'weave_layer_71/kernel:0', 'weave_layer_71/Variable:0', 'weave_layer_71/batch_normalization_3/gamma:0', 'weave_layer_71/batch_normalization_3/beta:0', 'weave_layer_71/batch_normalization_4/gamma:0', 'weave_layer_71/batch_normalization_4/beta:0', 'weave_layer_71/batch_normalization_5/gamma:0', 'weave_layer_71/batch_normalization_5/beta:0'] when minimizing the loss.\n"
          ]
        },
        {
          "name": "stdout",
          "output_type": "stream",
          "text": [
            "4      \t [ 67. 306.  14.]. \t  -0.5769406830009493 \t -0.5716399556767795\n",
            "WARNING:tensorflow:Gradients do not exist for variables ['weave_layer_73/kernel:0', 'weave_layer_73/Variable:0', 'weave_layer_73/kernel:0', 'weave_layer_73/Variable:0', 'weave_layer_73/kernel:0', 'weave_layer_73/Variable:0', 'weave_layer_73/batch_normalization_3/gamma:0', 'weave_layer_73/batch_normalization_3/beta:0', 'weave_layer_73/batch_normalization_4/gamma:0', 'weave_layer_73/batch_normalization_4/beta:0', 'weave_layer_73/batch_normalization_5/gamma:0', 'weave_layer_73/batch_normalization_5/beta:0'] when minimizing the loss.\n"
          ]
        },
        {
          "name": "stderr",
          "output_type": "stream",
          "text": [
            "WARNING:tensorflow:Gradients do not exist for variables ['weave_layer_73/kernel:0', 'weave_layer_73/Variable:0', 'weave_layer_73/kernel:0', 'weave_layer_73/Variable:0', 'weave_layer_73/kernel:0', 'weave_layer_73/Variable:0', 'weave_layer_73/batch_normalization_3/gamma:0', 'weave_layer_73/batch_normalization_3/beta:0', 'weave_layer_73/batch_normalization_4/gamma:0', 'weave_layer_73/batch_normalization_4/beta:0', 'weave_layer_73/batch_normalization_5/gamma:0', 'weave_layer_73/batch_normalization_5/beta:0'] when minimizing the loss.\n"
          ]
        },
        {
          "name": "stdout",
          "output_type": "stream",
          "text": [
            "WARNING:tensorflow:Gradients do not exist for variables ['weave_layer_73/kernel:0', 'weave_layer_73/Variable:0', 'weave_layer_73/kernel:0', 'weave_layer_73/Variable:0', 'weave_layer_73/kernel:0', 'weave_layer_73/Variable:0', 'weave_layer_73/batch_normalization_3/gamma:0', 'weave_layer_73/batch_normalization_3/beta:0', 'weave_layer_73/batch_normalization_4/gamma:0', 'weave_layer_73/batch_normalization_4/beta:0', 'weave_layer_73/batch_normalization_5/gamma:0', 'weave_layer_73/batch_normalization_5/beta:0'] when minimizing the loss.\n"
          ]
        },
        {
          "name": "stderr",
          "output_type": "stream",
          "text": [
            "WARNING:tensorflow:Gradients do not exist for variables ['weave_layer_73/kernel:0', 'weave_layer_73/Variable:0', 'weave_layer_73/kernel:0', 'weave_layer_73/Variable:0', 'weave_layer_73/kernel:0', 'weave_layer_73/Variable:0', 'weave_layer_73/batch_normalization_3/gamma:0', 'weave_layer_73/batch_normalization_3/beta:0', 'weave_layer_73/batch_normalization_4/gamma:0', 'weave_layer_73/batch_normalization_4/beta:0', 'weave_layer_73/batch_normalization_5/gamma:0', 'weave_layer_73/batch_normalization_5/beta:0'] when minimizing the loss.\n"
          ]
        },
        {
          "name": "stdout",
          "output_type": "stream",
          "text": [
            "WARNING:tensorflow:Gradients do not exist for variables ['weave_layer_73/kernel:0', 'weave_layer_73/Variable:0', 'weave_layer_73/kernel:0', 'weave_layer_73/Variable:0', 'weave_layer_73/kernel:0', 'weave_layer_73/Variable:0', 'weave_layer_73/batch_normalization_3/gamma:0', 'weave_layer_73/batch_normalization_3/beta:0', 'weave_layer_73/batch_normalization_4/gamma:0', 'weave_layer_73/batch_normalization_4/beta:0', 'weave_layer_73/batch_normalization_5/gamma:0', 'weave_layer_73/batch_normalization_5/beta:0'] when minimizing the loss.\n"
          ]
        },
        {
          "name": "stderr",
          "output_type": "stream",
          "text": [
            "WARNING:tensorflow:Gradients do not exist for variables ['weave_layer_73/kernel:0', 'weave_layer_73/Variable:0', 'weave_layer_73/kernel:0', 'weave_layer_73/Variable:0', 'weave_layer_73/kernel:0', 'weave_layer_73/Variable:0', 'weave_layer_73/batch_normalization_3/gamma:0', 'weave_layer_73/batch_normalization_3/beta:0', 'weave_layer_73/batch_normalization_4/gamma:0', 'weave_layer_73/batch_normalization_4/beta:0', 'weave_layer_73/batch_normalization_5/gamma:0', 'weave_layer_73/batch_normalization_5/beta:0'] when minimizing the loss.\n"
          ]
        },
        {
          "name": "stdout",
          "output_type": "stream",
          "text": [
            "WARNING:tensorflow:Gradients do not exist for variables ['weave_layer_73/kernel:0', 'weave_layer_73/Variable:0', 'weave_layer_73/kernel:0', 'weave_layer_73/Variable:0', 'weave_layer_73/kernel:0', 'weave_layer_73/Variable:0', 'weave_layer_73/batch_normalization_3/gamma:0', 'weave_layer_73/batch_normalization_3/beta:0', 'weave_layer_73/batch_normalization_4/gamma:0', 'weave_layer_73/batch_normalization_4/beta:0', 'weave_layer_73/batch_normalization_5/gamma:0', 'weave_layer_73/batch_normalization_5/beta:0'] when minimizing the loss.\n"
          ]
        },
        {
          "name": "stderr",
          "output_type": "stream",
          "text": [
            "WARNING:tensorflow:Gradients do not exist for variables ['weave_layer_73/kernel:0', 'weave_layer_73/Variable:0', 'weave_layer_73/kernel:0', 'weave_layer_73/Variable:0', 'weave_layer_73/kernel:0', 'weave_layer_73/Variable:0', 'weave_layer_73/batch_normalization_3/gamma:0', 'weave_layer_73/batch_normalization_3/beta:0', 'weave_layer_73/batch_normalization_4/gamma:0', 'weave_layer_73/batch_normalization_4/beta:0', 'weave_layer_73/batch_normalization_5/gamma:0', 'weave_layer_73/batch_normalization_5/beta:0'] when minimizing the loss.\n"
          ]
        },
        {
          "name": "stdout",
          "output_type": "stream",
          "text": [
            "5      \t [ 4. 21.  0.]. \t  -0.5816318836108919 \t -0.5716399556767795\n",
            "WARNING:tensorflow:Gradients do not exist for variables ['weave_layer_75/kernel:0', 'weave_layer_75/Variable:0', 'weave_layer_75/kernel:0', 'weave_layer_75/Variable:0', 'weave_layer_75/kernel:0', 'weave_layer_75/Variable:0', 'weave_layer_75/batch_normalization_3/gamma:0', 'weave_layer_75/batch_normalization_3/beta:0', 'weave_layer_75/batch_normalization_4/gamma:0', 'weave_layer_75/batch_normalization_4/beta:0', 'weave_layer_75/batch_normalization_5/gamma:0', 'weave_layer_75/batch_normalization_5/beta:0'] when minimizing the loss.\n"
          ]
        },
        {
          "name": "stderr",
          "output_type": "stream",
          "text": [
            "WARNING:tensorflow:Gradients do not exist for variables ['weave_layer_75/kernel:0', 'weave_layer_75/Variable:0', 'weave_layer_75/kernel:0', 'weave_layer_75/Variable:0', 'weave_layer_75/kernel:0', 'weave_layer_75/Variable:0', 'weave_layer_75/batch_normalization_3/gamma:0', 'weave_layer_75/batch_normalization_3/beta:0', 'weave_layer_75/batch_normalization_4/gamma:0', 'weave_layer_75/batch_normalization_4/beta:0', 'weave_layer_75/batch_normalization_5/gamma:0', 'weave_layer_75/batch_normalization_5/beta:0'] when minimizing the loss.\n"
          ]
        },
        {
          "name": "stdout",
          "output_type": "stream",
          "text": [
            "WARNING:tensorflow:Gradients do not exist for variables ['weave_layer_75/kernel:0', 'weave_layer_75/Variable:0', 'weave_layer_75/kernel:0', 'weave_layer_75/Variable:0', 'weave_layer_75/kernel:0', 'weave_layer_75/Variable:0', 'weave_layer_75/batch_normalization_3/gamma:0', 'weave_layer_75/batch_normalization_3/beta:0', 'weave_layer_75/batch_normalization_4/gamma:0', 'weave_layer_75/batch_normalization_4/beta:0', 'weave_layer_75/batch_normalization_5/gamma:0', 'weave_layer_75/batch_normalization_5/beta:0'] when minimizing the loss.\n"
          ]
        },
        {
          "name": "stderr",
          "output_type": "stream",
          "text": [
            "WARNING:tensorflow:Gradients do not exist for variables ['weave_layer_75/kernel:0', 'weave_layer_75/Variable:0', 'weave_layer_75/kernel:0', 'weave_layer_75/Variable:0', 'weave_layer_75/kernel:0', 'weave_layer_75/Variable:0', 'weave_layer_75/batch_normalization_3/gamma:0', 'weave_layer_75/batch_normalization_3/beta:0', 'weave_layer_75/batch_normalization_4/gamma:0', 'weave_layer_75/batch_normalization_4/beta:0', 'weave_layer_75/batch_normalization_5/gamma:0', 'weave_layer_75/batch_normalization_5/beta:0'] when minimizing the loss.\n"
          ]
        },
        {
          "name": "stdout",
          "output_type": "stream",
          "text": [
            "WARNING:tensorflow:Gradients do not exist for variables ['weave_layer_75/kernel:0', 'weave_layer_75/Variable:0', 'weave_layer_75/kernel:0', 'weave_layer_75/Variable:0', 'weave_layer_75/kernel:0', 'weave_layer_75/Variable:0', 'weave_layer_75/batch_normalization_3/gamma:0', 'weave_layer_75/batch_normalization_3/beta:0', 'weave_layer_75/batch_normalization_4/gamma:0', 'weave_layer_75/batch_normalization_4/beta:0', 'weave_layer_75/batch_normalization_5/gamma:0', 'weave_layer_75/batch_normalization_5/beta:0'] when minimizing the loss.\n"
          ]
        },
        {
          "name": "stderr",
          "output_type": "stream",
          "text": [
            "WARNING:tensorflow:Gradients do not exist for variables ['weave_layer_75/kernel:0', 'weave_layer_75/Variable:0', 'weave_layer_75/kernel:0', 'weave_layer_75/Variable:0', 'weave_layer_75/kernel:0', 'weave_layer_75/Variable:0', 'weave_layer_75/batch_normalization_3/gamma:0', 'weave_layer_75/batch_normalization_3/beta:0', 'weave_layer_75/batch_normalization_4/gamma:0', 'weave_layer_75/batch_normalization_4/beta:0', 'weave_layer_75/batch_normalization_5/gamma:0', 'weave_layer_75/batch_normalization_5/beta:0'] when minimizing the loss.\n"
          ]
        },
        {
          "name": "stdout",
          "output_type": "stream",
          "text": [
            "WARNING:tensorflow:Gradients do not exist for variables ['weave_layer_75/kernel:0', 'weave_layer_75/Variable:0', 'weave_layer_75/kernel:0', 'weave_layer_75/Variable:0', 'weave_layer_75/kernel:0', 'weave_layer_75/Variable:0', 'weave_layer_75/batch_normalization_3/gamma:0', 'weave_layer_75/batch_normalization_3/beta:0', 'weave_layer_75/batch_normalization_4/gamma:0', 'weave_layer_75/batch_normalization_4/beta:0', 'weave_layer_75/batch_normalization_5/gamma:0', 'weave_layer_75/batch_normalization_5/beta:0'] when minimizing the loss.\n"
          ]
        },
        {
          "name": "stderr",
          "output_type": "stream",
          "text": [
            "WARNING:tensorflow:Gradients do not exist for variables ['weave_layer_75/kernel:0', 'weave_layer_75/Variable:0', 'weave_layer_75/kernel:0', 'weave_layer_75/Variable:0', 'weave_layer_75/kernel:0', 'weave_layer_75/Variable:0', 'weave_layer_75/batch_normalization_3/gamma:0', 'weave_layer_75/batch_normalization_3/beta:0', 'weave_layer_75/batch_normalization_4/gamma:0', 'weave_layer_75/batch_normalization_4/beta:0', 'weave_layer_75/batch_normalization_5/gamma:0', 'weave_layer_75/batch_normalization_5/beta:0'] when minimizing the loss.\n"
          ]
        },
        {
          "name": "stdout",
          "output_type": "stream",
          "text": [
            "6      \t [ 25. 277.   1.]. \t  -0.5791916413429787 \t -0.5716399556767795\n",
            "WARNING:tensorflow:Gradients do not exist for variables ['weave_layer_77/kernel:0', 'weave_layer_77/Variable:0', 'weave_layer_77/kernel:0', 'weave_layer_77/Variable:0', 'weave_layer_77/kernel:0', 'weave_layer_77/Variable:0', 'weave_layer_77/batch_normalization_3/gamma:0', 'weave_layer_77/batch_normalization_3/beta:0', 'weave_layer_77/batch_normalization_4/gamma:0', 'weave_layer_77/batch_normalization_4/beta:0', 'weave_layer_77/batch_normalization_5/gamma:0', 'weave_layer_77/batch_normalization_5/beta:0'] when minimizing the loss.\n"
          ]
        },
        {
          "name": "stderr",
          "output_type": "stream",
          "text": [
            "WARNING:tensorflow:Gradients do not exist for variables ['weave_layer_77/kernel:0', 'weave_layer_77/Variable:0', 'weave_layer_77/kernel:0', 'weave_layer_77/Variable:0', 'weave_layer_77/kernel:0', 'weave_layer_77/Variable:0', 'weave_layer_77/batch_normalization_3/gamma:0', 'weave_layer_77/batch_normalization_3/beta:0', 'weave_layer_77/batch_normalization_4/gamma:0', 'weave_layer_77/batch_normalization_4/beta:0', 'weave_layer_77/batch_normalization_5/gamma:0', 'weave_layer_77/batch_normalization_5/beta:0'] when minimizing the loss.\n"
          ]
        },
        {
          "name": "stdout",
          "output_type": "stream",
          "text": [
            "WARNING:tensorflow:Gradients do not exist for variables ['weave_layer_77/kernel:0', 'weave_layer_77/Variable:0', 'weave_layer_77/kernel:0', 'weave_layer_77/Variable:0', 'weave_layer_77/kernel:0', 'weave_layer_77/Variable:0', 'weave_layer_77/batch_normalization_3/gamma:0', 'weave_layer_77/batch_normalization_3/beta:0', 'weave_layer_77/batch_normalization_4/gamma:0', 'weave_layer_77/batch_normalization_4/beta:0', 'weave_layer_77/batch_normalization_5/gamma:0', 'weave_layer_77/batch_normalization_5/beta:0'] when minimizing the loss.\n"
          ]
        },
        {
          "name": "stderr",
          "output_type": "stream",
          "text": [
            "WARNING:tensorflow:Gradients do not exist for variables ['weave_layer_77/kernel:0', 'weave_layer_77/Variable:0', 'weave_layer_77/kernel:0', 'weave_layer_77/Variable:0', 'weave_layer_77/kernel:0', 'weave_layer_77/Variable:0', 'weave_layer_77/batch_normalization_3/gamma:0', 'weave_layer_77/batch_normalization_3/beta:0', 'weave_layer_77/batch_normalization_4/gamma:0', 'weave_layer_77/batch_normalization_4/beta:0', 'weave_layer_77/batch_normalization_5/gamma:0', 'weave_layer_77/batch_normalization_5/beta:0'] when minimizing the loss.\n"
          ]
        },
        {
          "name": "stdout",
          "output_type": "stream",
          "text": [
            "WARNING:tensorflow:Gradients do not exist for variables ['weave_layer_77/kernel:0', 'weave_layer_77/Variable:0', 'weave_layer_77/kernel:0', 'weave_layer_77/Variable:0', 'weave_layer_77/kernel:0', 'weave_layer_77/Variable:0', 'weave_layer_77/batch_normalization_3/gamma:0', 'weave_layer_77/batch_normalization_3/beta:0', 'weave_layer_77/batch_normalization_4/gamma:0', 'weave_layer_77/batch_normalization_4/beta:0', 'weave_layer_77/batch_normalization_5/gamma:0', 'weave_layer_77/batch_normalization_5/beta:0'] when minimizing the loss.\n"
          ]
        },
        {
          "name": "stderr",
          "output_type": "stream",
          "text": [
            "WARNING:tensorflow:Gradients do not exist for variables ['weave_layer_77/kernel:0', 'weave_layer_77/Variable:0', 'weave_layer_77/kernel:0', 'weave_layer_77/Variable:0', 'weave_layer_77/kernel:0', 'weave_layer_77/Variable:0', 'weave_layer_77/batch_normalization_3/gamma:0', 'weave_layer_77/batch_normalization_3/beta:0', 'weave_layer_77/batch_normalization_4/gamma:0', 'weave_layer_77/batch_normalization_4/beta:0', 'weave_layer_77/batch_normalization_5/gamma:0', 'weave_layer_77/batch_normalization_5/beta:0'] when minimizing the loss.\n"
          ]
        },
        {
          "name": "stdout",
          "output_type": "stream",
          "text": [
            "WARNING:tensorflow:Gradients do not exist for variables ['weave_layer_77/kernel:0', 'weave_layer_77/Variable:0', 'weave_layer_77/kernel:0', 'weave_layer_77/Variable:0', 'weave_layer_77/kernel:0', 'weave_layer_77/Variable:0', 'weave_layer_77/batch_normalization_3/gamma:0', 'weave_layer_77/batch_normalization_3/beta:0', 'weave_layer_77/batch_normalization_4/gamma:0', 'weave_layer_77/batch_normalization_4/beta:0', 'weave_layer_77/batch_normalization_5/gamma:0', 'weave_layer_77/batch_normalization_5/beta:0'] when minimizing the loss.\n"
          ]
        },
        {
          "name": "stderr",
          "output_type": "stream",
          "text": [
            "WARNING:tensorflow:Gradients do not exist for variables ['weave_layer_77/kernel:0', 'weave_layer_77/Variable:0', 'weave_layer_77/kernel:0', 'weave_layer_77/Variable:0', 'weave_layer_77/kernel:0', 'weave_layer_77/Variable:0', 'weave_layer_77/batch_normalization_3/gamma:0', 'weave_layer_77/batch_normalization_3/beta:0', 'weave_layer_77/batch_normalization_4/gamma:0', 'weave_layer_77/batch_normalization_4/beta:0', 'weave_layer_77/batch_normalization_5/gamma:0', 'weave_layer_77/batch_normalization_5/beta:0'] when minimizing the loss.\n"
          ]
        },
        {
          "ename": "KeyboardInterrupt",
          "evalue": "",
          "output_type": "error",
          "traceback": [
            "\u001b[1;31m---------------------------------------------------------------------------\u001b[0m",
            "\u001b[1;31mKeyboardInterrupt\u001b[0m                         Traceback (most recent call last)",
            "\u001b[1;32m~\\AppData\\Local\\Temp/ipykernel_33680/2049431151.py\u001b[0m in \u001b[0;36m<module>\u001b[1;34m\u001b[0m\n\u001b[0;32m     11\u001b[0m \u001b[0mparams_dict\u001b[0m \u001b[1;33m=\u001b[0m \u001b[1;33m{\u001b[0m\u001b[1;34m\"n_pair_feat\"\u001b[0m\u001b[1;33m:\u001b[0m \u001b[1;36m14\u001b[0m\u001b[1;33m,\u001b[0m \u001b[1;34m\"n_hidden\"\u001b[0m\u001b[1;33m:\u001b[0m \u001b[1;36m50\u001b[0m\u001b[1;33m,\u001b[0m \u001b[1;34m\"n_graph_feat\"\u001b[0m\u001b[1;33m:\u001b[0m \u001b[1;36m2\u001b[0m\u001b[1;33m,\u001b[0m \u001b[1;33m}\u001b[0m\u001b[1;33m\u001b[0m\u001b[1;33m\u001b[0m\u001b[0m\n\u001b[0;32m     12\u001b[0m \u001b[1;33m\u001b[0m\u001b[0m\n\u001b[1;32m---> 13\u001b[1;33m \u001b[0mbest_model\u001b[0m\u001b[1;33m,\u001b[0m \u001b[0mbest_hyperparams\u001b[0m\u001b[1;33m,\u001b[0m \u001b[0mall_results\u001b[0m \u001b[1;33m=\u001b[0m \u001b[0moptimizer\u001b[0m\u001b[1;33m.\u001b[0m\u001b[0mhyperparam_search\u001b[0m\u001b[1;33m(\u001b[0m\u001b[0mparams_dict\u001b[0m\u001b[1;33m,\u001b[0m \u001b[0mtrain_data\u001b[0m\u001b[1;33m,\u001b[0m \u001b[0mvalid_data\u001b[0m\u001b[1;33m,\u001b[0m \u001b[0mhyperOptMetric\u001b[0m\u001b[1;33m,\u001b[0m \u001b[0msearch_range\u001b[0m\u001b[1;33m=\u001b[0m\u001b[1;36m10\u001b[0m\u001b[1;33m)\u001b[0m\u001b[1;33m\u001b[0m\u001b[1;33m\u001b[0m\u001b[0m\n\u001b[0m",
            "\u001b[1;32m~\\.conda\\envs\\deepchem-test\\lib\\site-packages\\deepchem\\hyper\\gaussian_process.py\u001b[0m in \u001b[0;36mhyperparam_search\u001b[1;34m(self, params_dict, train_dataset, valid_dataset, metric, output_transformers, nb_epoch, use_max, logdir, max_iter, search_range, logfile, **kwargs)\u001b[0m\n\u001b[0;32m    349\u001b[0m     \u001b[0mgpgo\u001b[0m \u001b[1;33m=\u001b[0m \u001b[0mGPGO\u001b[0m\u001b[1;33m(\u001b[0m\u001b[0mgp\u001b[0m\u001b[1;33m,\u001b[0m \u001b[0macq\u001b[0m\u001b[1;33m,\u001b[0m \u001b[0moptimizing_function\u001b[0m\u001b[1;33m,\u001b[0m \u001b[0mparam_range\u001b[0m\u001b[1;33m)\u001b[0m\u001b[1;33m\u001b[0m\u001b[1;33m\u001b[0m\u001b[0m\n\u001b[0;32m    350\u001b[0m     \u001b[0mlogger\u001b[0m\u001b[1;33m.\u001b[0m\u001b[0minfo\u001b[0m\u001b[1;33m(\u001b[0m\u001b[1;34m\"Max number of iteration: %i\"\u001b[0m \u001b[1;33m%\u001b[0m \u001b[0mmax_iter\u001b[0m\u001b[1;33m)\u001b[0m\u001b[1;33m\u001b[0m\u001b[1;33m\u001b[0m\u001b[0m\n\u001b[1;32m--> 351\u001b[1;33m     \u001b[0mgpgo\u001b[0m\u001b[1;33m.\u001b[0m\u001b[0mrun\u001b[0m\u001b[1;33m(\u001b[0m\u001b[0mmax_iter\u001b[0m\u001b[1;33m=\u001b[0m\u001b[0mmax_iter\u001b[0m\u001b[1;33m)\u001b[0m\u001b[1;33m\u001b[0m\u001b[1;33m\u001b[0m\u001b[0m\n\u001b[0m\u001b[0;32m    352\u001b[0m \u001b[1;33m\u001b[0m\u001b[0m\n\u001b[0;32m    353\u001b[0m     \u001b[0mhp_opt\u001b[0m\u001b[1;33m,\u001b[0m \u001b[0mvalid_performance_opt\u001b[0m \u001b[1;33m=\u001b[0m \u001b[0mgpgo\u001b[0m\u001b[1;33m.\u001b[0m\u001b[0mgetResult\u001b[0m\u001b[1;33m(\u001b[0m\u001b[1;33m)\u001b[0m\u001b[1;33m\u001b[0m\u001b[1;33m\u001b[0m\u001b[0m\n",
            "\u001b[1;32m~\\.conda\\envs\\deepchem-test\\lib\\site-packages\\pyGPGO\\GPGO.py\u001b[0m in \u001b[0;36mrun\u001b[1;34m(self, max_iter, init_evals, resume)\u001b[0m\n\u001b[0;32m    196\u001b[0m         \u001b[1;32mfor\u001b[0m \u001b[0miteration\u001b[0m \u001b[1;32min\u001b[0m \u001b[0mrange\u001b[0m\u001b[1;33m(\u001b[0m\u001b[0mmax_iter\u001b[0m\u001b[1;33m)\u001b[0m\u001b[1;33m:\u001b[0m\u001b[1;33m\u001b[0m\u001b[1;33m\u001b[0m\u001b[0m\n\u001b[0;32m    197\u001b[0m             \u001b[0mself\u001b[0m\u001b[1;33m.\u001b[0m\u001b[0m_optimizeAcq\u001b[0m\u001b[1;33m(\u001b[0m\u001b[1;33m)\u001b[0m\u001b[1;33m\u001b[0m\u001b[1;33m\u001b[0m\u001b[0m\n\u001b[1;32m--> 198\u001b[1;33m             \u001b[0mself\u001b[0m\u001b[1;33m.\u001b[0m\u001b[0mupdateGP\u001b[0m\u001b[1;33m(\u001b[0m\u001b[1;33m)\u001b[0m\u001b[1;33m\u001b[0m\u001b[1;33m\u001b[0m\u001b[0m\n\u001b[0m\u001b[0;32m    199\u001b[0m             \u001b[0mself\u001b[0m\u001b[1;33m.\u001b[0m\u001b[0mlogger\u001b[0m\u001b[1;33m.\u001b[0m\u001b[0m_printCurrent\u001b[0m\u001b[1;33m(\u001b[0m\u001b[0mself\u001b[0m\u001b[1;33m)\u001b[0m\u001b[1;33m\u001b[0m\u001b[1;33m\u001b[0m\u001b[0m\n",
            "\u001b[1;32m~\\.conda\\envs\\deepchem-test\\lib\\site-packages\\pyGPGO\\GPGO.py\u001b[0m in \u001b[0;36mupdateGP\u001b[1;34m(self)\u001b[0m\n\u001b[0;32m    150\u001b[0m         kw = {param: self.best[i]\n\u001b[0;32m    151\u001b[0m               for i, param in enumerate(self.parameter_key)}\n\u001b[1;32m--> 152\u001b[1;33m         \u001b[0mf_new\u001b[0m \u001b[1;33m=\u001b[0m \u001b[0mself\u001b[0m\u001b[1;33m.\u001b[0m\u001b[0mf\u001b[0m\u001b[1;33m(\u001b[0m\u001b[1;33m**\u001b[0m\u001b[0mkw\u001b[0m\u001b[1;33m)\u001b[0m\u001b[1;33m\u001b[0m\u001b[1;33m\u001b[0m\u001b[0m\n\u001b[0m\u001b[0;32m    153\u001b[0m         \u001b[0mself\u001b[0m\u001b[1;33m.\u001b[0m\u001b[0mGP\u001b[0m\u001b[1;33m.\u001b[0m\u001b[0mupdate\u001b[0m\u001b[1;33m(\u001b[0m\u001b[0mnp\u001b[0m\u001b[1;33m.\u001b[0m\u001b[0matleast_2d\u001b[0m\u001b[1;33m(\u001b[0m\u001b[0mself\u001b[0m\u001b[1;33m.\u001b[0m\u001b[0mbest\u001b[0m\u001b[1;33m)\u001b[0m\u001b[1;33m,\u001b[0m \u001b[0mnp\u001b[0m\u001b[1;33m.\u001b[0m\u001b[0matleast_1d\u001b[0m\u001b[1;33m(\u001b[0m\u001b[0mf_new\u001b[0m\u001b[1;33m)\u001b[0m\u001b[1;33m)\u001b[0m\u001b[1;33m\u001b[0m\u001b[1;33m\u001b[0m\u001b[0m\n\u001b[0;32m    154\u001b[0m         \u001b[0mself\u001b[0m\u001b[1;33m.\u001b[0m\u001b[0mtau\u001b[0m \u001b[1;33m=\u001b[0m \u001b[0mnp\u001b[0m\u001b[1;33m.\u001b[0m\u001b[0mmax\u001b[0m\u001b[1;33m(\u001b[0m\u001b[0mself\u001b[0m\u001b[1;33m.\u001b[0m\u001b[0mGP\u001b[0m\u001b[1;33m.\u001b[0m\u001b[0my\u001b[0m\u001b[1;33m)\u001b[0m\u001b[1;33m\u001b[0m\u001b[1;33m\u001b[0m\u001b[0m\n",
            "\u001b[1;32m~\\.conda\\envs\\deepchem-test\\lib\\site-packages\\deepchem\\hyper\\gaussian_process.py\u001b[0m in \u001b[0;36moptimizing_function\u001b[1;34m(**placeholders)\u001b[0m\n\u001b[0;32m    341\u001b[0m         \u001b[0mvalid\u001b[0m \u001b[0mset\u001b[0m \u001b[0mperformances\u001b[0m\u001b[1;33m\u001b[0m\u001b[1;33m\u001b[0m\u001b[0m\n\u001b[0;32m    342\u001b[0m       \"\"\"\n\u001b[1;32m--> 343\u001b[1;33m       \u001b[1;32mreturn\u001b[0m \u001b[0m_optimize\u001b[0m\u001b[1;33m(\u001b[0m\u001b[0mnb_epoch\u001b[0m\u001b[1;33m=\u001b[0m\u001b[0mnb_epoch\u001b[0m\u001b[1;33m,\u001b[0m \u001b[1;33m**\u001b[0m\u001b[0mplaceholders\u001b[0m\u001b[1;33m)\u001b[0m\u001b[1;33m\u001b[0m\u001b[1;33m\u001b[0m\u001b[0m\n\u001b[0m\u001b[0;32m    344\u001b[0m \u001b[1;33m\u001b[0m\u001b[0m\n\u001b[0;32m    345\u001b[0m     \u001b[1;31m# execute GPGO\u001b[0m\u001b[1;33m\u001b[0m\u001b[1;33m\u001b[0m\u001b[0m\n",
            "\u001b[1;32m~\\.conda\\envs\\deepchem-test\\lib\\site-packages\\deepchem\\hyper\\gaussian_process.py\u001b[0m in \u001b[0;36m_optimize\u001b[1;34m(nb_epoch, **placeholders)\u001b[0m\n\u001b[0;32m    292\u001b[0m       \u001b[0mmodel\u001b[0m \u001b[1;33m=\u001b[0m \u001b[0mself\u001b[0m\u001b[1;33m.\u001b[0m\u001b[0mmodel_builder\u001b[0m\u001b[1;33m(\u001b[0m\u001b[1;33m**\u001b[0m\u001b[0mhyper_parameters\u001b[0m\u001b[1;33m)\u001b[0m\u001b[1;33m\u001b[0m\u001b[1;33m\u001b[0m\u001b[0m\n\u001b[0;32m    293\u001b[0m       \u001b[1;32mtry\u001b[0m\u001b[1;33m:\u001b[0m\u001b[1;33m\u001b[0m\u001b[1;33m\u001b[0m\u001b[0m\n\u001b[1;32m--> 294\u001b[1;33m         \u001b[0mmodel\u001b[0m\u001b[1;33m.\u001b[0m\u001b[0mfit\u001b[0m\u001b[1;33m(\u001b[0m\u001b[0mtrain_dataset\u001b[0m\u001b[1;33m,\u001b[0m \u001b[0mnb_epoch\u001b[0m\u001b[1;33m=\u001b[0m\u001b[0mnb_epoch\u001b[0m\u001b[1;33m)\u001b[0m\u001b[1;33m\u001b[0m\u001b[1;33m\u001b[0m\u001b[0m\n\u001b[0m\u001b[0;32m    295\u001b[0m       \u001b[1;31m# Not all models have nb_epoch\u001b[0m\u001b[1;33m\u001b[0m\u001b[1;33m\u001b[0m\u001b[0m\n\u001b[0;32m    296\u001b[0m       \u001b[1;32mexcept\u001b[0m \u001b[0mTypeError\u001b[0m\u001b[1;33m:\u001b[0m\u001b[1;33m\u001b[0m\u001b[1;33m\u001b[0m\u001b[0m\n",
            "\u001b[1;32m~\\.conda\\envs\\deepchem-test\\lib\\site-packages\\deepchem\\models\\keras_model.py\u001b[0m in \u001b[0;36mfit\u001b[1;34m(self, dataset, nb_epoch, max_checkpoints_to_keep, checkpoint_interval, deterministic, restore, variables, loss, callbacks, all_losses)\u001b[0m\n\u001b[0;32m    353\u001b[0m     \u001b[0mThe\u001b[0m \u001b[0maverage\u001b[0m \u001b[0mloss\u001b[0m \u001b[0mover\u001b[0m \u001b[0mthe\u001b[0m \u001b[0mmost\u001b[0m \u001b[0mrecent\u001b[0m \u001b[0mcheckpoint\u001b[0m \u001b[0minterval\u001b[0m\u001b[1;33m\u001b[0m\u001b[1;33m\u001b[0m\u001b[0m\n\u001b[0;32m    354\u001b[0m    \"\"\"\n\u001b[1;32m--> 355\u001b[1;33m     return self.fit_generator(\n\u001b[0m\u001b[0;32m    356\u001b[0m         self.default_generator(\n\u001b[0;32m    357\u001b[0m             \u001b[0mdataset\u001b[0m\u001b[1;33m,\u001b[0m \u001b[0mepochs\u001b[0m\u001b[1;33m=\u001b[0m\u001b[0mnb_epoch\u001b[0m\u001b[1;33m,\u001b[0m\u001b[1;33m\u001b[0m\u001b[1;33m\u001b[0m\u001b[0m\n",
            "\u001b[1;32m~\\.conda\\envs\\deepchem-test\\lib\\site-packages\\deepchem\\models\\keras_model.py\u001b[0m in \u001b[0;36mfit_generator\u001b[1;34m(self, generator, max_checkpoints_to_keep, checkpoint_interval, restore, variables, loss, callbacks, all_losses)\u001b[0m\n\u001b[0;32m    442\u001b[0m         \u001b[0minputs\u001b[0m \u001b[1;33m=\u001b[0m \u001b[0minputs\u001b[0m\u001b[1;33m[\u001b[0m\u001b[1;36m0\u001b[0m\u001b[1;33m]\u001b[0m\u001b[1;33m\u001b[0m\u001b[1;33m\u001b[0m\u001b[0m\n\u001b[0;32m    443\u001b[0m \u001b[1;33m\u001b[0m\u001b[0m\n\u001b[1;32m--> 444\u001b[1;33m       \u001b[0mbatch_loss\u001b[0m \u001b[1;33m=\u001b[0m \u001b[0mapply_gradient_for_batch\u001b[0m\u001b[1;33m(\u001b[0m\u001b[0minputs\u001b[0m\u001b[1;33m,\u001b[0m \u001b[0mlabels\u001b[0m\u001b[1;33m,\u001b[0m \u001b[0mweights\u001b[0m\u001b[1;33m,\u001b[0m \u001b[0mloss\u001b[0m\u001b[1;33m)\u001b[0m\u001b[1;33m\u001b[0m\u001b[1;33m\u001b[0m\u001b[0m\n\u001b[0m\u001b[0;32m    445\u001b[0m       \u001b[0mcurrent_step\u001b[0m \u001b[1;33m=\u001b[0m \u001b[0mself\u001b[0m\u001b[1;33m.\u001b[0m\u001b[0m_global_step\u001b[0m\u001b[1;33m.\u001b[0m\u001b[0mnumpy\u001b[0m\u001b[1;33m(\u001b[0m\u001b[1;33m)\u001b[0m\u001b[1;33m\u001b[0m\u001b[1;33m\u001b[0m\u001b[0m\n\u001b[0;32m    446\u001b[0m \u001b[1;33m\u001b[0m\u001b[0m\n",
            "\u001b[1;32m~\\.conda\\envs\\deepchem-test\\lib\\site-packages\\tensorflow\\python\\eager\\def_function.py\u001b[0m in \u001b[0;36m__call__\u001b[1;34m(self, *args, **kwds)\u001b[0m\n\u001b[0;32m    883\u001b[0m \u001b[1;33m\u001b[0m\u001b[0m\n\u001b[0;32m    884\u001b[0m       \u001b[1;32mwith\u001b[0m \u001b[0mOptionalXlaContext\u001b[0m\u001b[1;33m(\u001b[0m\u001b[0mself\u001b[0m\u001b[1;33m.\u001b[0m\u001b[0m_jit_compile\u001b[0m\u001b[1;33m)\u001b[0m\u001b[1;33m:\u001b[0m\u001b[1;33m\u001b[0m\u001b[1;33m\u001b[0m\u001b[0m\n\u001b[1;32m--> 885\u001b[1;33m         \u001b[0mresult\u001b[0m \u001b[1;33m=\u001b[0m \u001b[0mself\u001b[0m\u001b[1;33m.\u001b[0m\u001b[0m_call\u001b[0m\u001b[1;33m(\u001b[0m\u001b[1;33m*\u001b[0m\u001b[0margs\u001b[0m\u001b[1;33m,\u001b[0m \u001b[1;33m**\u001b[0m\u001b[0mkwds\u001b[0m\u001b[1;33m)\u001b[0m\u001b[1;33m\u001b[0m\u001b[1;33m\u001b[0m\u001b[0m\n\u001b[0m\u001b[0;32m    886\u001b[0m \u001b[1;33m\u001b[0m\u001b[0m\n\u001b[0;32m    887\u001b[0m       \u001b[0mnew_tracing_count\u001b[0m \u001b[1;33m=\u001b[0m \u001b[0mself\u001b[0m\u001b[1;33m.\u001b[0m\u001b[0mexperimental_get_tracing_count\u001b[0m\u001b[1;33m(\u001b[0m\u001b[1;33m)\u001b[0m\u001b[1;33m\u001b[0m\u001b[1;33m\u001b[0m\u001b[0m\n",
            "\u001b[1;32m~\\.conda\\envs\\deepchem-test\\lib\\site-packages\\tensorflow\\python\\eager\\def_function.py\u001b[0m in \u001b[0;36m_call\u001b[1;34m(self, *args, **kwds)\u001b[0m\n\u001b[0;32m    915\u001b[0m       \u001b[1;31m# In this case we have created variables on the first call, so we run the\u001b[0m\u001b[1;33m\u001b[0m\u001b[1;33m\u001b[0m\u001b[0m\n\u001b[0;32m    916\u001b[0m       \u001b[1;31m# defunned version which is guaranteed to never create variables.\u001b[0m\u001b[1;33m\u001b[0m\u001b[1;33m\u001b[0m\u001b[0m\n\u001b[1;32m--> 917\u001b[1;33m       \u001b[1;32mreturn\u001b[0m \u001b[0mself\u001b[0m\u001b[1;33m.\u001b[0m\u001b[0m_stateless_fn\u001b[0m\u001b[1;33m(\u001b[0m\u001b[1;33m*\u001b[0m\u001b[0margs\u001b[0m\u001b[1;33m,\u001b[0m \u001b[1;33m**\u001b[0m\u001b[0mkwds\u001b[0m\u001b[1;33m)\u001b[0m  \u001b[1;31m# pylint: disable=not-callable\u001b[0m\u001b[1;33m\u001b[0m\u001b[1;33m\u001b[0m\u001b[0m\n\u001b[0m\u001b[0;32m    918\u001b[0m     \u001b[1;32melif\u001b[0m \u001b[0mself\u001b[0m\u001b[1;33m.\u001b[0m\u001b[0m_stateful_fn\u001b[0m \u001b[1;32mis\u001b[0m \u001b[1;32mnot\u001b[0m \u001b[1;32mNone\u001b[0m\u001b[1;33m:\u001b[0m\u001b[1;33m\u001b[0m\u001b[1;33m\u001b[0m\u001b[0m\n\u001b[0;32m    919\u001b[0m       \u001b[1;31m# Release the lock early so that multiple threads can perform the call\u001b[0m\u001b[1;33m\u001b[0m\u001b[1;33m\u001b[0m\u001b[0m\n",
            "\u001b[1;32m~\\.conda\\envs\\deepchem-test\\lib\\site-packages\\tensorflow\\python\\eager\\function.py\u001b[0m in \u001b[0;36m__call__\u001b[1;34m(self, *args, **kwargs)\u001b[0m\n\u001b[0;32m   3037\u001b[0m       (graph_function,\n\u001b[0;32m   3038\u001b[0m        filtered_flat_args) = self._maybe_define_function(args, kwargs)\n\u001b[1;32m-> 3039\u001b[1;33m     return graph_function._call_flat(\n\u001b[0m\u001b[0;32m   3040\u001b[0m         filtered_flat_args, captured_inputs=graph_function.captured_inputs)  # pylint: disable=protected-access\n\u001b[0;32m   3041\u001b[0m \u001b[1;33m\u001b[0m\u001b[0m\n",
            "\u001b[1;32m~\\.conda\\envs\\deepchem-test\\lib\\site-packages\\tensorflow\\python\\eager\\function.py\u001b[0m in \u001b[0;36m_call_flat\u001b[1;34m(self, args, captured_inputs, cancellation_manager)\u001b[0m\n\u001b[0;32m   1961\u001b[0m         and executing_eagerly):\n\u001b[0;32m   1962\u001b[0m       \u001b[1;31m# No tape is watching; skip to running the function.\u001b[0m\u001b[1;33m\u001b[0m\u001b[1;33m\u001b[0m\u001b[0m\n\u001b[1;32m-> 1963\u001b[1;33m       return self._build_call_outputs(self._inference_function.call(\n\u001b[0m\u001b[0;32m   1964\u001b[0m           ctx, args, cancellation_manager=cancellation_manager))\n\u001b[0;32m   1965\u001b[0m     forward_backward = self._select_forward_and_backward_functions(\n",
            "\u001b[1;32m~\\.conda\\envs\\deepchem-test\\lib\\site-packages\\tensorflow\\python\\eager\\function.py\u001b[0m in \u001b[0;36mcall\u001b[1;34m(self, ctx, args, cancellation_manager)\u001b[0m\n\u001b[0;32m    589\u001b[0m       \u001b[1;32mwith\u001b[0m \u001b[0m_InterpolateFunctionError\u001b[0m\u001b[1;33m(\u001b[0m\u001b[0mself\u001b[0m\u001b[1;33m)\u001b[0m\u001b[1;33m:\u001b[0m\u001b[1;33m\u001b[0m\u001b[1;33m\u001b[0m\u001b[0m\n\u001b[0;32m    590\u001b[0m         \u001b[1;32mif\u001b[0m \u001b[0mcancellation_manager\u001b[0m \u001b[1;32mis\u001b[0m \u001b[1;32mNone\u001b[0m\u001b[1;33m:\u001b[0m\u001b[1;33m\u001b[0m\u001b[1;33m\u001b[0m\u001b[0m\n\u001b[1;32m--> 591\u001b[1;33m           outputs = execute.execute(\n\u001b[0m\u001b[0;32m    592\u001b[0m               \u001b[0mstr\u001b[0m\u001b[1;33m(\u001b[0m\u001b[0mself\u001b[0m\u001b[1;33m.\u001b[0m\u001b[0msignature\u001b[0m\u001b[1;33m.\u001b[0m\u001b[0mname\u001b[0m\u001b[1;33m)\u001b[0m\u001b[1;33m,\u001b[0m\u001b[1;33m\u001b[0m\u001b[1;33m\u001b[0m\u001b[0m\n\u001b[0;32m    593\u001b[0m               \u001b[0mnum_outputs\u001b[0m\u001b[1;33m=\u001b[0m\u001b[0mself\u001b[0m\u001b[1;33m.\u001b[0m\u001b[0m_num_outputs\u001b[0m\u001b[1;33m,\u001b[0m\u001b[1;33m\u001b[0m\u001b[1;33m\u001b[0m\u001b[0m\n",
            "\u001b[1;32m~\\.conda\\envs\\deepchem-test\\lib\\site-packages\\tensorflow\\python\\eager\\execute.py\u001b[0m in \u001b[0;36mquick_execute\u001b[1;34m(op_name, num_outputs, inputs, attrs, ctx, name)\u001b[0m\n\u001b[0;32m     57\u001b[0m   \u001b[1;32mtry\u001b[0m\u001b[1;33m:\u001b[0m\u001b[1;33m\u001b[0m\u001b[1;33m\u001b[0m\u001b[0m\n\u001b[0;32m     58\u001b[0m     \u001b[0mctx\u001b[0m\u001b[1;33m.\u001b[0m\u001b[0mensure_initialized\u001b[0m\u001b[1;33m(\u001b[0m\u001b[1;33m)\u001b[0m\u001b[1;33m\u001b[0m\u001b[1;33m\u001b[0m\u001b[0m\n\u001b[1;32m---> 59\u001b[1;33m     tensors = pywrap_tfe.TFE_Py_Execute(ctx._handle, device_name, op_name,\n\u001b[0m\u001b[0;32m     60\u001b[0m                                         inputs, attrs, num_outputs)\n\u001b[0;32m     61\u001b[0m   \u001b[1;32mexcept\u001b[0m \u001b[0mcore\u001b[0m\u001b[1;33m.\u001b[0m\u001b[0m_NotOkStatusException\u001b[0m \u001b[1;32mas\u001b[0m \u001b[0me\u001b[0m\u001b[1;33m:\u001b[0m\u001b[1;33m\u001b[0m\u001b[1;33m\u001b[0m\u001b[0m\n",
            "\u001b[1;31mKeyboardInterrupt\u001b[0m: "
          ]
        }
      ],
      "source": [
        "# multiply mae by negative one so it can be maximized\n",
        "hyperOptMetric = deepchem.deepchem.metrics.Metric(lambda *args: -1.0 * deepchem.deepchem.metrics.mean_absolute_error(*args), mode=\"regression\")\n",
        "\n",
        "def model_builder(**model_params):\n",
        "  return deepchem.deepchem.models.WeaveModel(n_tasks=1, mode=\"regression\", batch_normalize_kwargs={\"trainable\": False})\n",
        "\n",
        "#optimizer = deepchem.deepchem.hyper.GaussianProcessHyperparamOpt(model_builder)\n",
        "\n",
        "optimizer = deepchem.deepchem.hyper.GaussianProcessHyperparamOpt(model_builder)\n",
        "\n",
        "params_dict = {\"n_pair_feat\": 14, \"n_hidden\": 50}\n",
        "\n",
        "best_model, best_hyperparams, all_results = optimizer.hyperparam_search(params_dict, train_data, valid_data, hyperOptMetric, search_range=5)"
      ]
    }
  ],
  "metadata": {
    "colab": {
      "authorship_tag": "ABX9TyMJ3XEyQk4iCvqK8brMlXkC",
      "include_colab_link": true,
      "name": "ecfp_xgb.ipynb",
      "provenance": []
    },
    "kernelspec": {
      "display_name": "Python 3",
      "name": "python3"
    },
    "language_info": {
      "codemirror_mode": {
        "name": "ipython",
        "version": 3
      },
      "file_extension": ".py",
      "mimetype": "text/x-python",
      "name": "python",
      "nbconvert_exporter": "python",
      "pygments_lexer": "ipython3",
      "version": "3.9.10"
    }
  },
  "nbformat": 4,
  "nbformat_minor": 0
}
