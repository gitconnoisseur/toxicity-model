{
  "cells": [
    {
      "cell_type": "markdown",
      "metadata": {
        "colab_type": "text",
        "id": "view-in-github"
      },
      "source": [
        "<a href=\"https://colab.research.google.com/github/gitconnoisseur/toxicity-model/blob/master/ecfp_xgb.ipynb\" target=\"_parent\"><img src=\"https://colab.research.google.com/assets/colab-badge.svg\" alt=\"Open In Colab\"/></a>"
      ]
    },
    {
      "cell_type": "code",
      "execution_count": 2,
      "metadata": {
        "colab": {
          "base_uri": "https://localhost:8080/"
        },
        "id": "g2ePKUpM2Cdt",
        "outputId": "c12f8317-cc0d-4812-88e9-d45f1f635483"
      },
      "outputs": [
        {
          "name": "stderr",
          "output_type": "stream",
          "text": [
            "Found local copy...\n"
          ]
        }
      ],
      "source": [
        "#import autogluon as ag\n",
        "from tdc.single_pred import Tox\n",
        "import deepchem\n",
        "import xgboost\n",
        "\n",
        "import numpy as np\n",
        "import pandas as pd\n",
        "import tensorflow as tf\n",
        "import autokeras as ak\n",
        "\n",
        "from tdc.benchmark_group import admet_group\n",
        "group = admet_group(path = 'data/')"
      ]
    },
    {
      "cell_type": "markdown",
      "metadata": {},
      "source": [
        "Run benchmark using xgboost with an ECFP featurizer:"
      ]
    },
    {
      "cell_type": "code",
      "execution_count": 4,
      "metadata": {
        "colab": {
          "background_save": true,
          "base_uri": "https://localhost:8080/"
        },
        "id": "PwUPswth2OJ-",
        "outputId": "e3d63d13-4367-4209-e680-7c61667a77ab"
      },
      "outputs": [
        {
          "name": "stderr",
          "output_type": "stream",
          "text": [
            "generating training, validation splits...\n",
            "100%|██████████| 5907/5907 [00:01<00:00, 3745.55it/s]\n",
            "generating training, validation splits...\n"
          ]
        },
        {
          "name": "stdout",
          "output_type": "stream",
          "text": [
            "predictions for run #\n",
            "1\n",
            "[2.1006067 2.2473924 3.3978975 4.0252185 4.210433 ]\n"
          ]
        },
        {
          "name": "stderr",
          "output_type": "stream",
          "text": [
            "100%|██████████| 5907/5907 [00:01<00:00, 4184.77it/s]\n",
            "generating training, validation splits...\n"
          ]
        },
        {
          "name": "stdout",
          "output_type": "stream",
          "text": [
            "predictions for run #\n",
            "2\n",
            "[2.1006067 2.2473924 3.3978975 4.0252185 4.210433 ]\n"
          ]
        },
        {
          "name": "stderr",
          "output_type": "stream",
          "text": [
            "100%|██████████| 5907/5907 [00:01<00:00, 3561.65it/s]\n",
            "generating training, validation splits...\n"
          ]
        },
        {
          "name": "stdout",
          "output_type": "stream",
          "text": [
            "predictions for run #\n",
            "3\n",
            "[2.1006067 2.2473924 3.3978975 4.0252185 4.210433 ]\n"
          ]
        },
        {
          "name": "stderr",
          "output_type": "stream",
          "text": [
            "100%|██████████| 5907/5907 [00:01<00:00, 4376.26it/s]\n",
            "generating training, validation splits...\n"
          ]
        },
        {
          "name": "stdout",
          "output_type": "stream",
          "text": [
            "predictions for run #\n",
            "4\n",
            "[2.1006067 2.2473924 3.3978975 4.0252185 4.210433 ]\n"
          ]
        },
        {
          "name": "stderr",
          "output_type": "stream",
          "text": [
            "100%|██████████| 5907/5907 [00:01<00:00, 4156.43it/s]\n"
          ]
        },
        {
          "name": "stdout",
          "output_type": "stream",
          "text": [
            "predictions for run #\n",
            "5\n",
            "[2.1006067 2.2473924 3.3978975 4.0252185 4.210433 ]\n",
            "Prediction List:\n",
            "[{'ld50_zhu': array([2.1006067, 2.2473924, 3.3978975, ..., 2.4514642, 2.0766413,\n",
            "       2.1703484], dtype=float32)}, {'ld50_zhu': array([2.1006067, 2.2473924, 3.3978975, ..., 2.4514642, 2.0766413,\n",
            "       2.1703484], dtype=float32)}, {'ld50_zhu': array([2.1006067, 2.2473924, 3.3978975, ..., 2.4514642, 2.0766413,\n",
            "       2.1703484], dtype=float32)}, {'ld50_zhu': array([2.1006067, 2.2473924, 3.3978975, ..., 2.4514642, 2.0766413,\n",
            "       2.1703484], dtype=float32)}, {'ld50_zhu': array([2.1006067, 2.2473924, 3.3978975, ..., 2.4514642, 2.0766413,\n",
            "       2.1703484], dtype=float32)}]\n"
          ]
        }
      ],
      "source": [
        "predictions_list = []\n",
        "metric = deepchem.deepchem.metrics.Metric(deepchem.deepchem.metrics.mean_absolute_error)\n",
        "ecfpFeat = deepchem.deepchem.feat.CircularFingerprint(radius=4)\n",
        "xgb_reg = xgboost.XGBRegressor()\n",
        "\n",
        "for seed in [1, 2, 3, 4, 5]:\n",
        "    benchmark = group.get('LD50_Zhu') \n",
        "    \n",
        "    predictions = {}\n",
        "    name = benchmark['name']\n",
        "    train_val, test = benchmark['train_val'], benchmark['test']\n",
        "    train, valid = group.get_train_valid_split(benchmark = name, split_type = 'default', seed = seed)  \n",
        "\n",
        "    #featurize training, valid, and test data for xgboost\n",
        "    ecfp_f_train = ecfpFeat.featurize(train.iloc[:,1].to_list())\n",
        "    ecfp_f_valid = ecfpFeat.featurize(valid.iloc[:,1].to_list())\n",
        "    ecfp_f_test = ecfpFeat.featurize(test.iloc[:,1].to_list())\n",
        "    train_val_f = ecfpFeat.featurize(train_val.iloc[:,1].to_list())\n",
        "\n",
        "    #ecfp_f_valid.shape = (739, 2048)\n",
        "\n",
        "    #valid_data = list(zip(ecfp_f_valid, valid.iloc[:,2].to_list()))\n",
        "    valid_data = [(ecfp_f_train, train.iloc[:,2].to_list()), (ecfp_f_valid, valid.iloc[:,2].to_list())]\n",
        "\n",
        "    #fit xgboost model and store np ndarray in xgb_pred\n",
        "    #below you can use ecfp_f_train for X instead and the valid data with eval_set\n",
        "    xgb_reg.fit(X=train_val_f, y=train_val.iloc[:,2], eval_metric=\"mae\", verbose=True)\n",
        "    xgb_pred = xgb_reg.predict(X=ecfp_f_test)\n",
        "\n",
        "    # store test predictions in y_pred_test\n",
        "    y_pred_test = xgb_pred\n",
        "\n",
        "    print(\"predictions for run #\")\n",
        "    print(seed)\n",
        "    print(y_pred_test[0:5])\n",
        "        \n",
        "    predictions[name] = y_pred_test\n",
        "    predictions_list.append(predictions)\n",
        "\n",
        "print(\"Prediction List:\")\n",
        "print(predictions_list)"
      ]
    },
    {
      "cell_type": "code",
      "execution_count": 5,
      "metadata": {},
      "outputs": [
        {
          "name": "stdout",
          "output_type": "stream",
          "text": [
            "{'ld50_zhu': {'mae': 0.661}}\n",
            "{'ld50_zhu': {'mae': 0.661}}\n",
            "{'ld50_zhu': {'mae': 0.661}}\n",
            "{'ld50_zhu': {'mae': 0.661}}\n",
            "{'ld50_zhu': {'mae': 0.661}}\n"
          ]
        },
        {
          "data": {
            "text/plain": [
              "{'ld50_zhu': [0.661, 0.0]}"
            ]
          },
          "execution_count": 5,
          "metadata": {},
          "output_type": "execute_result"
        }
      ],
      "source": [
        "for i in predictions_list:\n",
        "    print(group.evaluate(i))\n",
        "\n",
        "group.evaluate_many(predictions_list)"
      ]
    },
    {
      "cell_type": "code",
      "execution_count": 14,
      "metadata": {},
      "outputs": [
        {
          "name": "stdout",
          "output_type": "stream",
          "text": [
            "Evaluation \t Proposed point \t  Current eval. \t Best eval.\n",
            "init   \t [9.54472202e-02 1.66300000e+03]. \t  0.05614210575885126 \t 0.13022634235269537\n",
            "init   \t [7.81778992e-02 1.95200000e+03]. \t  0.11803599063732828 \t 0.13022634235269537\n",
            "init   \t [6.78009843e-02 3.88000000e+02]. \t  0.13022634235269537 \t 0.13022634235269537\n",
            "1      \t [1.21594231e-02 4.02000000e+02]. \t  0.10297839213545745 \t 0.13022634235269537\n",
            "2      \t [5.63577392e-02 1.94996902e+03]. \t  0.07543380244710662 \t 0.13022634235269537\n",
            "3      \t [8.73771372e-02 3.99869355e+02]. \t  0.10647494762543674 \t 0.13022634235269537\n",
            "4      \t [5.73742248e-02 3.86042513e+02]. \t  -0.015072240034492701 \t 0.13022634235269537\n",
            "5      \t [1.44460922e-02 1.93100000e+03]. \t  0.04720652864226782 \t 0.13022634235269537\n",
            "6      \t [6.92807233e-02 1.93369230e+03]. \t  \u001b[92m0.21513004052653117\u001b[0m \t 0.21513004052653117\n",
            "7      \t [1.00000000e-01 3.89993332e+02]. \t  0.08601514697821022 \t 0.21513004052653117\n",
            "8      \t [5.25671057e-03 1.94747276e+03]. \t  0.09740603500068701 \t 0.21513004052653117\n",
            "9      \t [2.17715454e-02 1.94523324e+03]. \t  0.19519556844540797 \t 0.21513004052653117\n",
            "10     \t [8.03883852e-02 1.66038599e+03]. \t  -0.06619343722975413 \t 0.21513004052653117\n",
            "11     \t [5.76777465e-02 1.94351878e+03]. \t  0.18207850226295696 \t 0.21513004052653117\n",
            "12     \t [1.00000000e-03 1.66557925e+03]. \t  -0.04599339200116925 \t 0.21513004052653117\n",
            "13     \t [5.94254594e-02 1.95411003e+03]. \t  0.16261255304227973 \t 0.21513004052653117\n",
            "14     \t [6.61305399e-02 3.97669004e+02]. \t  \u001b[92m0.21970233319310695\u001b[0m \t 0.21970233319310695\n",
            "15     \t [6.29902398e-02 1.91800000e+03]. \t  0.15880875576149767 \t 0.21970233319310695\n",
            "16     \t [9.52937510e-02 4.04223604e+02]. \t  0.11384363234503381 \t 0.21970233319310695\n",
            "17     \t [3.71642195e-02 1.91200004e+03]. \t  0.10609497502246146 \t 0.21970233319310695\n",
            "18     \t [7.28016201e-02 1.92814045e+03]. \t  -0.11719840623120148 \t 0.21970233319310695\n",
            "19     \t [7.99160643e-02 1.91985753e+03]. \t  0.064646401312074 \t 0.21970233319310695\n",
            "20     \t [1.00000000e-01 3.96045298e+02]. \t  0.11601983261276483 \t 0.21970233319310695\n"
          ]
        }
      ],
      "source": [
        "#code below may be used for hyperparam opt as needed\n",
        "\n",
        "hyperOptMetric = deepchem.deepchem.metrics.Metric(deepchem.deepchem.metrics.r2_score)\n",
        "\n",
        "def model_builder(**model_params):\n",
        "  return deepchem.deepchem.models.GraphConvModel(n_tasks=1, mode=\"regression\", graph_conv_layers=[128, 128, 128])\n",
        "\n",
        "#optimizer = deepchem.deepchem.hyper.GaussianProcessHyperparamOpt(model_builder)\n",
        "\n",
        "optimizer = deepchem.deepchem.hyper.GaussianProcessHyperparamOpt(model_builder)\n",
        "\n",
        "params_dict = {\"dropout\": .01, \"dense_layer_size\": 200}\n",
        "\n",
        "best_model, best_hyperparams, all_results = optimizer.hyperparam_search(params_dict, train_data, valid_data, hyperOptMetric, search_range=10)"
      ]
    },
    {
      "cell_type": "code",
      "execution_count": 15,
      "metadata": {},
      "outputs": [
        {
          "name": "stdout",
          "output_type": "stream",
          "text": [
            "{'dropout': 0.0661305398871231, 'dense_layer_size': 397}\n"
          ]
        }
      ],
      "source": [
        "print(best_hyperparams)"
      ]
    }
  ],
  "metadata": {
    "colab": {
      "authorship_tag": "ABX9TyMJ3XEyQk4iCvqK8brMlXkC",
      "include_colab_link": true,
      "name": "ecfp_xgb.ipynb",
      "provenance": []
    },
    "kernelspec": {
      "display_name": "Python 3",
      "name": "python3"
    },
    "language_info": {
      "codemirror_mode": {
        "name": "ipython",
        "version": 3
      },
      "file_extension": ".py",
      "mimetype": "text/x-python",
      "name": "python",
      "nbconvert_exporter": "python",
      "pygments_lexer": "ipython3",
      "version": "3.9.7"
    }
  },
  "nbformat": 4,
  "nbformat_minor": 0
}
