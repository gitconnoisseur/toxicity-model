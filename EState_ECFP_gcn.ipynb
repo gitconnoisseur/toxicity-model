{
 "cells": [
  {
   "cell_type": "code",
   "execution_count": 1,
   "metadata": {},
   "outputs": [
    {
     "name": "stderr",
     "output_type": "stream",
     "text": [
      "Found local copy...\n"
     ]
    }
   ],
   "source": [
    "from tdc.single_pred import Tox\n",
    "import deepchem\n",
    "import xgboost\n",
    "import rdkit\n",
    "from rdkit import Chem\n",
    "from rdkit.Chem.EState import Fingerprinter\n",
    "from rdkit.Chem.EState import EState\n",
    "\n",
    "import numpy as np\n",
    "import pandas as pd\n",
    "import tensorflow as tf\n",
    "import autokeras as ak\n",
    "\n",
    "from tdc.benchmark_group import admet_group\n",
    "group = admet_group(path = 'data/')"
   ]
  },
  {
   "cell_type": "code",
   "execution_count": 12,
   "metadata": {},
   "outputs": [
    {
     "name": "stderr",
     "output_type": "stream",
     "text": [
      "generating training, validation splits...\n",
      "100%|██████████| 5907/5907 [00:02<00:00, 2057.61it/s]\n"
     ]
    },
    {
     "name": "stdout",
     "output_type": "stream",
     "text": [
      "Step 1000 validation: mean_absolute_error=0.578711\n",
      "Step 2000 validation: mean_absolute_error=0.564238\n",
      "Step 3000 validation: mean_absolute_error=0.570522\n",
      "Step 4000 validation: mean_absolute_error=0.560579\n",
      "Step 5000 validation: mean_absolute_error=0.562462\n"
     ]
    },
    {
     "name": "stderr",
     "output_type": "stream",
     "text": [
      "generating training, validation splits...\n"
     ]
    },
    {
     "name": "stdout",
     "output_type": "stream",
     "text": [
      "predictions for run #\n",
      "1\n",
      "[2.0024517 2.6602182 3.3649118 3.9714787 4.183733 ]\n"
     ]
    },
    {
     "name": "stderr",
     "output_type": "stream",
     "text": [
      "100%|██████████| 5907/5907 [00:02<00:00, 2846.88it/s]\n"
     ]
    },
    {
     "name": "stdout",
     "output_type": "stream",
     "text": [
      "Step 1000 validation: mean_absolute_error=0.563234\n",
      "Step 2000 validation: mean_absolute_error=0.54384\n",
      "Step 3000 validation: mean_absolute_error=0.515603\n",
      "Step 4000 validation: mean_absolute_error=0.526212\n",
      "Step 5000 validation: mean_absolute_error=0.523403\n"
     ]
    },
    {
     "name": "stderr",
     "output_type": "stream",
     "text": [
      "generating training, validation splits...\n"
     ]
    },
    {
     "name": "stdout",
     "output_type": "stream",
     "text": [
      "predictions for run #\n",
      "2\n",
      "[1.8227962 2.549201  3.2872546 3.748318  4.0853095]\n"
     ]
    },
    {
     "name": "stderr",
     "output_type": "stream",
     "text": [
      "100%|██████████| 5907/5907 [00:01<00:00, 3305.32it/s]\n"
     ]
    },
    {
     "name": "stdout",
     "output_type": "stream",
     "text": [
      "Step 1000 validation: mean_absolute_error=0.676698\n",
      "Step 2000 validation: mean_absolute_error=0.64179\n",
      "Step 3000 validation: mean_absolute_error=0.638915\n",
      "Step 4000 validation: mean_absolute_error=0.649556\n"
     ]
    },
    {
     "name": "stderr",
     "output_type": "stream",
     "text": [
      "generating training, validation splits...\n"
     ]
    },
    {
     "name": "stdout",
     "output_type": "stream",
     "text": [
      "predictions for run #\n",
      "3\n",
      "[1.9957209 2.3490694 3.3056872 3.9665744 4.2431865]\n"
     ]
    },
    {
     "name": "stderr",
     "output_type": "stream",
     "text": [
      "100%|██████████| 5907/5907 [00:01<00:00, 4144.92it/s]\n"
     ]
    },
    {
     "name": "stdout",
     "output_type": "stream",
     "text": [
      "Step 1000 validation: mean_absolute_error=0.585828\n",
      "Step 2000 validation: mean_absolute_error=0.573847\n",
      "Step 3000 validation: mean_absolute_error=0.554584\n",
      "Step 4000 validation: mean_absolute_error=0.545601\n",
      "Step 5000 validation: mean_absolute_error=0.528875\n"
     ]
    },
    {
     "name": "stderr",
     "output_type": "stream",
     "text": [
      "generating training, validation splits...\n"
     ]
    },
    {
     "name": "stdout",
     "output_type": "stream",
     "text": [
      "predictions for run #\n",
      "4\n",
      "[2.0955093 2.3321826 3.1685574 3.715656  4.1162286]\n"
     ]
    },
    {
     "name": "stderr",
     "output_type": "stream",
     "text": [
      "100%|██████████| 5907/5907 [00:01<00:00, 4161.32it/s]\n"
     ]
    },
    {
     "name": "stdout",
     "output_type": "stream",
     "text": [
      "Step 1000 validation: mean_absolute_error=0.57304\n",
      "Step 2000 validation: mean_absolute_error=0.550126\n",
      "Step 3000 validation: mean_absolute_error=0.526647\n",
      "Step 4000 validation: mean_absolute_error=0.508091\n",
      "predictions for run #\n",
      "5\n",
      "[1.9931126 2.604688  3.3086777 3.936863  4.158606 ]\n",
      "Prediction List:\n",
      "[{'ld50_zhu': array([2.0024517, 2.6602182, 3.3649118, ..., 2.180651 , 2.0403793,\n",
      "       2.184006 ], dtype=float32)}, {'ld50_zhu': array([1.8227962, 2.549201 , 3.2872546, ..., 2.1752853, 1.9567846,\n",
      "       2.2744467], dtype=float32)}, {'ld50_zhu': array([1.9957209, 2.3490694, 3.3056872, ..., 2.2099812, 2.2676606,\n",
      "       2.3312263], dtype=float32)}, {'ld50_zhu': array([2.0955093, 2.3321826, 3.1685574, ..., 2.0684412, 1.957521 ,\n",
      "       2.0807416], dtype=float32)}, {'ld50_zhu': array([1.9931126, 2.604688 , 3.3086777, ..., 2.3482597, 2.1783981,\n",
      "       2.3829255], dtype=float32)}]\n"
     ]
    }
   ],
   "source": [
    "predictions_list = []\n",
    "metric = deepchem.deepchem.metrics.Metric(deepchem.deepchem.metrics.mean_absolute_error)\n",
    "ecfpFeat = deepchem.deepchem.feat.CircularFingerprint(radius=4)\n",
    "convMolFeat = deepchem.deepchem.feat.ConvMolFeaturizer()\n",
    "#rdkitFeat = deepchem.deepchem.feat.CircularFingerprint(size=2048, radius=4)\n",
    "xgb_reg_ecfp = xgboost.XGBRegressor()\n",
    "xgb_reg_estate = xgboost.XGBRegressor()\n",
    "#akReg = ak.StructuredDataRegressor(overwrite=True, max_trials=50, metrics=['mae'])\n",
    "\n",
    "for seed in [1, 2, 3, 4, 5]:\n",
    "    benchmark = group.get('LD50_Zhu') \n",
    "    \n",
    "    predictions = {}\n",
    "    name = benchmark['name']\n",
    "    train_val, test = benchmark['train_val'], benchmark['test']\n",
    "    train, valid = group.get_train_valid_split(benchmark = name, split_type = 'default', seed = seed)  \n",
    "\n",
    "    #trainMol = train.iloc[:,1].map(lambda x: Chem.MolFromSmiles(x))\n",
    "    #validMol = valid.iloc[:,1].map(lambda x: Chem.MolFromSmiles(x))\n",
    "    testMol = test.iloc[:,1].map(lambda x: Chem.MolFromSmiles(x))\n",
    "    train_valMol = train_val.iloc[:,1].map(lambda x: Chem.MolFromSmiles(x))\n",
    "\n",
    "    #featurize training, valid, and test data for xgboost\n",
    "    #trainFeat = np.stack(np.array(trainMol.map(lambda x: Fingerprinter.FingerprintMol(x)[1])))\n",
    "    #validFeat = np.stack(np.array(validMol.map(lambda x: Fingerprinter.FingerprintMol(x)[1])))\n",
    "    testFeat = np.stack(np.array(testMol.map(lambda x: Fingerprinter.FingerprintMol(x)[1])))\n",
    "    train_valFeat = np.stack(np.array(train_valMol.map(lambda x: Fingerprinter.FingerprintMol(x)[1])))\n",
    "\n",
    "    #featurize training, valid, and test data for xgboost\n",
    "    #ecfp_f_train = ecfpFeat.featurize(train.iloc[:,1].to_list())\n",
    "    #ecfp_f_valid = ecfpFeat.featurize(valid.iloc[:,1].to_list())\n",
    "    ecfp_f_test = ecfpFeat.featurize(test.iloc[:,1].to_list())\n",
    "    train_val_f = ecfpFeat.featurize(train_val.iloc[:,1].to_list())\n",
    "\n",
    "    #featurize training, valid, and test data for the GCN\n",
    "    cv_f_train = convMolFeat.featurize(train.iloc[:,1].to_list())\n",
    "    cv_f_valid = convMolFeat.featurize(valid.iloc[:,1].to_list())\n",
    "    cv_f_test = convMolFeat.featurize(test.iloc[:,1].to_list())\n",
    "\n",
    "    #featurize datasets for rdkit descriptors\n",
    "    #rdkit_f_train_val = pd.DataFrame(rdkitFeat.featurize(train_val.iloc[:,1].to_list()))\n",
    "    #rdkit_f_test = pd.DataFrame(rdkitFeat.featurize(test.iloc[:,1].to_list()))\n",
    "\n",
    "    #fit structured data regressor\n",
    "    #akReg.fit(x=rdkit_f_train_val, y=train_val.iloc[:,2])\n",
    "\n",
    "    #convert training and validation data into a deepchem dataset for the gcn\n",
    "    gcn_train_data = deepchem.deepchem.data.NumpyDataset(X=cv_f_train, y=np.array(train.iloc[:,2]), ids=np.array(train.iloc[:,1].to_list()))\n",
    "    gcn_valid_data = deepchem.deepchem.data.NumpyDataset(X=cv_f_valid, y=np.array(valid.iloc[:,2]), ids=np.array(valid.iloc[:,1].to_list()))\n",
    "\n",
    "    #fit data on GCN\n",
    "    reg = deepchem.deepchem.models.GraphConvModel(\n",
    "        n_tasks=1, \n",
    "        dropout=.0005,\n",
    "        dense_layer_size=1063,\n",
    "        graph_conv_layers=[128, 128, 128],\n",
    "        mode=\"regression\",)\n",
    "    callback = deepchem.deepchem.models.ValidationCallback(gcn_valid_data, 1000, metric)\n",
    "    reg.fit(gcn_train_data, nb_epoch=100, callbacks=callback)\n",
    "\n",
    "    #predict values on gcn and reshape array\n",
    "    gcn_pred = reg.predict_on_batch(X=np.array(cv_f_test)).reshape(1478,)\n",
    "\n",
    "    #fit xgboost model and store np ndarray in xgb_pred\n",
    "    xgb_reg_estate.fit(X=train_valFeat, y=train_val.iloc[:,2], eval_metric=\"mae\", verbose=True)\n",
    "    xgb_reg_ecfp.fit(X=train_val_f, y=train_val.iloc[:,2], eval_metric=\"mae\")\n",
    "    pred_estate = xgb_reg_estate.predict(X=testFeat)\n",
    "    pred_ecfp = xgb_reg_ecfp.predict(X=ecfp_f_test)\n",
    "    \n",
    "    #pred_ak = akReg.predict(rdkit_f_test)\n",
    "\n",
    "    # store test predictions in y_pred_test\n",
    "    y_pred_test = np.mean([ pred_estate, pred_ecfp, gcn_pred ], axis=0)\n",
    "\n",
    "    print(\"predictions for run #\")\n",
    "    print(seed)\n",
    "    print(y_pred_test[0:5])\n",
    "        \n",
    "    predictions[name] = y_pred_test\n",
    "    predictions_list.append(predictions)\n",
    "\n",
    "print(\"Prediction List:\")\n",
    "print(predictions_list)"
   ]
  },
  {
   "cell_type": "code",
   "execution_count": 13,
   "metadata": {},
   "outputs": [
    {
     "name": "stdout",
     "output_type": "stream",
     "text": [
      "{'ld50_zhu': {'mae': 0.61}}\n",
      "{'ld50_zhu': {'mae': 0.629}}\n",
      "{'ld50_zhu': {'mae': 0.62}}\n",
      "{'ld50_zhu': {'mae': 0.622}}\n",
      "{'ld50_zhu': {'mae': 0.606}}\n"
     ]
    },
    {
     "data": {
      "text/plain": [
       "{'ld50_zhu': [0.617, 0.008]}"
      ]
     },
     "execution_count": 13,
     "metadata": {},
     "output_type": "execute_result"
    }
   ],
   "source": [
    "for i in predictions_list:\n",
    "    print(group.evaluate(i))\n",
    "\n",
    "group.evaluate_many(predictions_list)"
   ]
  }
 ],
 "metadata": {
  "interpreter": {
   "hash": "2d9ef161e060c37aa994177a4d833cab797e22621213b4f88b9fe284585c74c2"
  },
  "kernelspec": {
   "display_name": "Python 3.9.7 ('deepchem-test')",
   "language": "python",
   "name": "python3"
  },
  "language_info": {
   "codemirror_mode": {
    "name": "ipython",
    "version": 3
   },
   "file_extension": ".py",
   "mimetype": "text/x-python",
   "name": "python",
   "nbconvert_exporter": "python",
   "pygments_lexer": "ipython3",
   "version": "3.9.10"
  },
  "orig_nbformat": 4
 },
 "nbformat": 4,
 "nbformat_minor": 2
}
