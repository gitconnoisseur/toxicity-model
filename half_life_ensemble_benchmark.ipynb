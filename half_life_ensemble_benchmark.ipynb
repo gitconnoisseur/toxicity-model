{
 "cells": [
  {
   "cell_type": "code",
   "execution_count": 1,
   "metadata": {},
   "outputs": [
    {
     "name": "stderr",
     "output_type": "stream",
     "text": [
      "Found local copy...\n"
     ]
    }
   ],
   "source": [
    "from tdc.single_pred import Tox\n",
    "import deepchem\n",
    "import xgboost\n",
    "import rdkit\n",
    "from rdkit import Chem\n",
    "from rdkit.Chem.EState import Fingerprinter\n",
    "from rdkit.Chem.EState import EState\n",
    "\n",
    "import numpy as np\n",
    "import pandas as pd\n",
    "import tensorflow as tf\n",
    "import autokeras as ak\n",
    "\n",
    "from tdc.benchmark_group import admet_group\n",
    "group = admet_group(path = 'data/')"
   ]
  },
  {
   "cell_type": "code",
   "execution_count": 3,
   "metadata": {},
   "outputs": [
    {
     "name": "stderr",
     "output_type": "stream",
     "text": [
      "generating training, validation splits...\n",
      "100%|██████████| 532/532 [00:00<00:00, 892.64it/s]\n",
      "generating training, validation splits...\n"
     ]
    },
    {
     "name": "stdout",
     "output_type": "stream",
     "text": [
      "predictions for run #\n",
      "1\n",
      "[  7.3329163  16.689756   -5.28814    12.743428  228.93037  ]\n"
     ]
    },
    {
     "name": "stderr",
     "output_type": "stream",
     "text": [
      "100%|██████████| 532/532 [00:00<00:00, 685.48it/s]\n"
     ]
    },
    {
     "name": "stdout",
     "output_type": "stream",
     "text": [
      "WARNING:tensorflow:5 out of the last 5 calls to <function KerasModel._compute_model at 0x000002C811BCAE50> triggered tf.function retracing. Tracing is expensive and the excessive number of tracings could be due to (1) creating @tf.function repeatedly in a loop, (2) passing tensors with different shapes, (3) passing Python objects instead of tensors. For (1), please define your @tf.function outside of the loop. For (2), @tf.function has experimental_relax_shapes=True option that relaxes argument shapes that can avoid unnecessary retracing. For (3), please refer to https://www.tensorflow.org/guide/function#controlling_retracing and https://www.tensorflow.org/api_docs/python/tf/function for  more details.\n",
      "WARNING:tensorflow:6 out of the last 6 calls to <function KerasModel._compute_model at 0x000002C811BCAE50> triggered tf.function retracing. Tracing is expensive and the excessive number of tracings could be due to (1) creating @tf.function repeatedly in a loop, (2) passing tensors with different shapes, (3) passing Python objects instead of tensors. For (1), please define your @tf.function outside of the loop. For (2), @tf.function has experimental_relax_shapes=True option that relaxes argument shapes that can avoid unnecessary retracing. For (3), please refer to https://www.tensorflow.org/guide/function#controlling_retracing and https://www.tensorflow.org/api_docs/python/tf/function for  more details.\n"
     ]
    },
    {
     "name": "stderr",
     "output_type": "stream",
     "text": [
      "generating training, validation splits...\n"
     ]
    },
    {
     "name": "stdout",
     "output_type": "stream",
     "text": [
      "predictions for run #\n",
      "2\n",
      "[  9.605119   11.839496   -7.6092834  24.340628  232.90898  ]\n"
     ]
    },
    {
     "name": "stderr",
     "output_type": "stream",
     "text": [
      "100%|██████████| 532/532 [00:00<00:00, 648.64it/s]\n",
      "generating training, validation splits...\n"
     ]
    },
    {
     "name": "stdout",
     "output_type": "stream",
     "text": [
      "predictions for run #\n",
      "3\n",
      "[ -1.2999271   1.4079098  -6.702572    7.570189  222.81213  ]\n"
     ]
    },
    {
     "name": "stderr",
     "output_type": "stream",
     "text": [
      "100%|██████████| 532/532 [00:01<00:00, 525.50it/s]\n",
      "generating training, validation splits...\n"
     ]
    },
    {
     "name": "stdout",
     "output_type": "stream",
     "text": [
      "predictions for run #\n",
      "4\n",
      "[-10.677241   -4.0239005 -18.894411   -0.7932625 215.6707   ]\n"
     ]
    },
    {
     "name": "stderr",
     "output_type": "stream",
     "text": [
      "100%|██████████| 532/532 [00:00<00:00, 685.01it/s]\n"
     ]
    },
    {
     "name": "stdout",
     "output_type": "stream",
     "text": [
      "predictions for run #\n",
      "5\n",
      "[  0.21465428   9.909673    -9.550147    10.688465   210.71965   ]\n",
      "Prediction List:\n",
      "[{'half_life_obach': array([ 7.33291626e+00,  1.66897564e+01, -5.28813982e+00,  1.27434282e+01,\n",
      "        2.28930374e+02,  2.03179764e+02,  3.63544350e+01,  3.79046593e+01,\n",
      "        6.49870529e+01,  1.57844725e+01,  3.49250374e+01, -4.08050919e+00,\n",
      "        1.42298813e+01,  2.35669460e+01,  5.37364340e+00,  6.07545662e+00,\n",
      "        2.57618011e+02,  2.86859035e+01, -3.04081478e+01, -2.93726711e+01,\n",
      "       -2.93726711e+01,  1.75942097e+01,  1.13793592e+01,  5.12447815e+01,\n",
      "        1.69944210e+01, -1.17324007e+00,  4.30517845e+01, -1.89641571e+00,\n",
      "        1.09769220e+01,  2.21279587e+02,  1.20285006e+01,  2.77515545e+01,\n",
      "       -2.12186184e-02, -1.31223230e+01,  2.75041580e+00,  3.03202701e+00,\n",
      "        1.69972019e+01,  1.50884476e+01,  2.01992435e+01,  1.15436859e+01,\n",
      "        5.84188890e+00,  6.82082951e-01,  2.02811265e+00, -1.24263115e+01,\n",
      "        2.26360264e+01,  8.28561401e+00,  6.91186380e+00,  1.22411108e+01,\n",
      "        9.81346989e+00,  3.05259204e+00,  3.23234596e+01,  3.05259204e+00,\n",
      "        4.12645769e+00, -1.74129505e+01, -1.14303055e+01,  1.14662218e+01,\n",
      "        5.47835588e+00,  3.00507927e+00, -7.31886530e+00, -4.35478783e+00,\n",
      "       -4.72290373e+00, -5.64940023e+00,  3.29251862e+00,  1.43720207e+01,\n",
      "        3.13059163e+00,  1.11770658e+01,  3.26395679e+00,  3.15061264e+01,\n",
      "        9.39007092e+00,  3.60587597e+00,  4.47368050e+00,  9.80602932e+00,\n",
      "        1.43071356e+01, -4.78595781e+00,  1.47932520e+01,  3.99160423e+01,\n",
      "        1.06341276e+01,  4.85932045e+01,  1.70788574e+01,  3.74722710e+01,\n",
      "        3.60593681e+01,  3.01384735e+01,  7.41772308e+01, -6.28605652e+00,\n",
      "       -1.61114712e+01,  4.05341225e+01,  2.18407974e+01,  4.82867092e-01,\n",
      "       -9.10930443e+00, -1.03950310e+00, -6.15344572e+00,  7.27918386e+00,\n",
      "        1.28367872e+01,  8.56026745e+00,  6.74354410e+00,  1.86888275e+01,\n",
      "        1.98624954e+01, -2.45183163e+01,  1.63799133e+01,  9.47212887e+00,\n",
      "        6.82160997e+00,  1.95420074e+00,  4.79302101e+01,  4.59364204e+01,\n",
      "        1.47921553e+01,  2.27323604e+00, -5.66488886e+00,  1.06464790e+02,\n",
      "       -1.36426382e+01,  7.93813705e+00,  1.55059967e+01,  1.06836481e+01,\n",
      "        5.17085981e+00,  1.66921349e+01, -7.86509752e+00,  8.06491280e+00,\n",
      "        1.26145735e+01,  3.08013287e+01,  5.66502047e+00,  8.69969070e-01,\n",
      "        4.75057411e+01, -1.95124567e+00, -4.39543152e+00,  9.66633511e+00,\n",
      "       -7.49937105e+00,  1.75171394e+01,  9.46232700e+00,  9.28161800e-01,\n",
      "        6.77983665e+00,  1.01215843e+02,  1.61665380e+00,  1.71720333e+01,\n",
      "        6.74135160e+00,  8.42884159e+00, -4.26501083e+00], dtype=float32)}, {'half_life_obach': array([ 9.60511875e+00,  1.18394957e+01, -7.60928345e+00,  2.43406277e+01,\n",
      "        2.32908981e+02,  1.96321762e+02,  5.35875435e+01,  3.00291386e+01,\n",
      "        6.14766960e+01,  3.26882057e+01,  3.10104542e+01, -6.73304260e-01,\n",
      "        2.26028347e+01,  1.34296751e+01, -8.57022583e-01,  5.94684267e+00,\n",
      "        2.62006287e+02,  3.44461861e+01, -3.23825836e+01, -2.61678905e+01,\n",
      "       -2.61678905e+01,  8.39795303e+00,  3.19404449e+01,  7.40073929e+01,\n",
      "        1.14046068e+01, -1.50692046e+00,  5.13878975e+01, -3.93846059e+00,\n",
      "        3.51203918e+00,  2.10088455e+02,  1.39186525e+01,  4.79162712e+01,\n",
      "        1.07485571e+01, -2.06665764e+01,  8.07453632e+00,  9.74168682e+00,\n",
      "        2.19922428e+01,  8.64534283e+00,  2.88870640e+01,  1.80869465e+01,\n",
      "        1.94958818e+00, -8.71956921e+00, -3.14982915e+00, -1.00131578e+01,\n",
      "        3.92357469e+00,  8.72590637e+00,  7.50855637e+00,  1.01570978e+01,\n",
      "        6.03021765e+00, -1.19964266e+01,  1.39145632e+01, -1.19964266e+01,\n",
      "        3.52094579e+00, -3.41514244e+01, -4.34733963e+00,  8.44748783e+00,\n",
      "        1.48251724e+01, -8.41376781e+00, -3.05118561e-02,  5.35690498e+00,\n",
      "        5.29274511e+00, -3.59217334e+00, -1.95118845e+00,  3.83778095e-01,\n",
      "       -2.01825886e+01,  1.27116098e+01,  5.95586395e+00,  3.54117470e+01,\n",
      "        6.91784525e+00,  9.25097275e+00,  4.65007591e+00,  1.70093327e+01,\n",
      "        2.25446720e+01,  7.85634232e+00,  3.62207413e+01,  4.18971825e+01,\n",
      "        4.46461868e+00,  4.83317146e+01,  3.11319942e+01,  3.64746437e+01,\n",
      "        3.42834663e+01,  3.93927002e+01,  7.92190323e+01, -5.34755468e+00,\n",
      "       -1.23786986e+00,  6.19325218e+01,  3.20284576e+01,  9.77438629e-01,\n",
      "       -1.54034927e-01,  1.37207854e+00,  2.83925223e+00,  2.11937847e+01,\n",
      "        3.00531921e+01,  2.38204727e+01,  7.16247702e+00,  1.59482069e+01,\n",
      "        1.56447601e+01, -1.80977154e+01,  1.15253830e+01,  1.76987016e+00,\n",
      "        4.51143599e+00,  6.93074226e+00,  4.00210304e+01,  4.80005493e+01,\n",
      "        2.12841530e+01,  4.79479790e+00,  4.17576170e+00,  1.06787025e+02,\n",
      "        7.85593033e-01,  7.98370123e+00,  1.80063496e+01,  1.67258549e+01,\n",
      "        9.60452461e+00,  2.58361206e+01,  9.65769005e+00,  1.20098801e+01,\n",
      "        1.25838366e+01,  2.50419693e+01,  1.39433088e+01,  1.37497072e+01,\n",
      "        6.81661835e+01, -1.58967459e+00,  1.42241974e+01,  9.13327217e+00,\n",
      "       -3.61856151e+00,  2.03554821e+01, -3.55995536e+00, -5.38122177e+00,\n",
      "       -2.67036510e+00,  1.06675011e+02,  1.41433907e+01,  2.13665218e+01,\n",
      "        1.82292385e+01,  9.77404499e+00,  6.35798502e+00], dtype=float32)}, {'half_life_obach': array([-1.29992712e+00,  1.40790975e+00, -6.70257187e+00,  7.57018900e+00,\n",
      "        2.22812134e+02,  1.98791260e+02,  3.78868561e+01,  3.89609718e+01,\n",
      "        4.78439636e+01,  1.64003391e+01,  3.40117302e+01, -6.85939789e+00,\n",
      "        7.12063646e+00,  1.98571072e+01,  8.28628922e+00,  8.70884609e+00,\n",
      "        2.68191803e+02,  2.12971210e+01, -3.30964203e+01, -3.36650162e+01,\n",
      "       -3.36650162e+01,  3.58772278e-03,  2.84420109e+01,  5.10999489e+01,\n",
      "        1.85080967e+01, -2.37013340e+00,  4.81156769e+01, -1.29293852e+01,\n",
      "        1.65064163e+01,  2.22890732e+02,  3.52983379e+00,  2.08193760e+01,\n",
      "       -1.02412796e+00, -4.18674994e+00, -3.92163777e+00, -6.23907042e+00,\n",
      "        1.05843849e+01,  1.06142387e+01,  2.45568542e+01,  1.60413895e+01,\n",
      "        3.29654098e+00, -1.21009169e+01, -3.92471004e+00, -1.63932285e+01,\n",
      "        9.92946529e+00,  4.58122063e+00, -9.11750793e-01,  1.65272160e+01,\n",
      "        8.29858780e+00,  7.21916962e+00,  2.30820847e+01,  7.21916962e+00,\n",
      "        7.35355675e-01, -3.44655037e+01,  9.25478935e-01, -3.89773631e+00,\n",
      "       -7.28272104e+00, -8.76544857e+00, -6.25978994e+00,  1.31356394e+00,\n",
      "       -8.72839928e+00, -3.60489774e+00,  6.73263168e+00,  1.02719755e+01,\n",
      "       -1.86062946e+01, -5.57496023e+00,  4.31965202e-01,  2.71983509e+01,\n",
      "        6.77238464e+00, -8.72563899e-01,  8.31383419e+00,  9.77014542e+00,\n",
      "        3.22622185e+01,  2.07083988e+00,  1.86177540e+01,  3.62804070e+01,\n",
      "        1.00212812e+01,  4.74936409e+01,  2.44919643e+01,  3.74807777e+01,\n",
      "        3.37694664e+01,  2.54919586e+01,  6.41627655e+01, -1.53532572e+01,\n",
      "       -1.17155457e+01,  4.57739143e+01,  2.52990551e+01, -6.53187799e+00,\n",
      "        7.85660744e-01, -6.84522927e-01, -2.06688762e+00,  1.99957097e+00,\n",
      "        9.22160435e+00,  9.43782330e+00,  3.11480789e+01,  3.45463676e+01,\n",
      "        1.39620504e+01, -8.10034657e+00,  9.26034641e+00,  6.52025747e+00,\n",
      "        4.18105078e+00,  9.31049252e+00,  4.82031136e+01,  3.39818726e+01,\n",
      "        6.81469679e+00, -1.84109342e+00, -6.34982538e+00,  1.05445152e+02,\n",
      "        3.06356597e+00, -5.19554043e+00,  1.77343349e+01,  1.29005175e+01,\n",
      "        8.57386780e+00,  7.64346933e+00, -3.10654640e-01,  1.29195595e+01,\n",
      "        1.80052624e+01,  2.10773067e+01,  7.00549507e+00, -4.52379274e+00,\n",
      "        5.52505379e+01,  3.21483064e+00, -5.20705175e+00,  1.70154893e+00,\n",
      "        2.35978985e+00,  8.43744564e+00,  5.68481588e+00, -2.06960845e+00,\n",
      "        1.36630554e+01,  8.68825378e+01,  6.92030716e+00,  9.14457703e+00,\n",
      "        7.17610121e+00,  1.50535738e+00, -9.05188739e-01], dtype=float32)}, {'half_life_obach': array([-10.677241  ,  -4.0239005 , -18.894411  ,  -0.7932625 ,\n",
      "       215.6707    , 182.99841   ,  48.204285  ,  18.936785  ,\n",
      "        43.892544  ,  10.2719755 ,  12.75925   , -13.404053  ,\n",
      "         7.487124  ,  13.742023  ,   2.2875614 ,   7.467253  ,\n",
      "       249.65887   ,  20.978157  , -24.01059   , -16.384684  ,\n",
      "       -16.384684  , -12.813873  ,   3.2141304 ,  62.886715  ,\n",
      "         9.293753  ,  -4.4157753 ,  36.13753   ,  -7.809815  ,\n",
      "        -6.107565  , 209.03322   ,   5.5337186 ,  32.02048   ,\n",
      "         0.8678697 , -11.957326  ,  -1.696591  ,  -4.374178  ,\n",
      "        -0.6497161 ,   1.6072845 ,  29.772741  ,   9.557819  ,\n",
      "         9.492354  , -18.828985  ,   1.9656982 ,  -7.06575   ,\n",
      "         9.9244795 ,   0.26595083,   1.1525124 ,   7.2545457 ,\n",
      "        -1.3170847 , -11.907112  ,  15.146274  , -11.907112  ,\n",
      "        -8.482403  , -32.995014  , -11.437683  ,  -1.6078097 ,\n",
      "         4.65381   ,  -6.8213325 , -10.653187  ,   5.7482696 ,\n",
      "        -0.82968456,  -1.8212343 ,  12.000839  ,   6.3233323 ,\n",
      "       -19.883537  ,   7.3522916 ,  -0.63687325,  41.093887  ,\n",
      "        -7.112347  ,  -2.4592216 ,  -1.3102251 ,   3.0436184 ,\n",
      "        20.798645  ,  -6.962717  ,   8.998881  ,  27.837845  ,\n",
      "        11.794917  ,  53.08494   ,  13.155484  ,  17.830729  ,\n",
      "        22.78303   ,  21.506704  ,  61.586224  , -15.126313  ,\n",
      "        -7.096331  ,  31.791697  ,   4.491771  ,  -3.8445542 ,\n",
      "        -6.992329  ,   5.882459  ,  -7.066278  ,   5.7985287 ,\n",
      "         9.295548  ,   6.4907203 ,   6.997753  ,  14.124276  ,\n",
      "         9.072751  , -15.403613  ,  -6.293766  ,  -0.32038894,\n",
      "         9.763054  ,   3.718448  ,  50.747875  ,  26.01264   ,\n",
      "         2.3429554 ,  -9.125739  , -13.222718  ,  86.04899   ,\n",
      "        -7.20195   ,   5.3168616 ,  19.02345   ,   1.7343445 ,\n",
      "        -0.315581  ,   6.973577  ,  -5.6388144 ,   3.8926914 ,\n",
      "         9.453589  ,  24.343706  ,   3.6044476 ,  -7.3859954 ,\n",
      "        51.03664   ,  -2.2001884 ,  17.174355  ,  -6.6196537 ,\n",
      "        -9.856755  ,  14.046668  ,  -5.4924865 ,  -0.6521411 ,\n",
      "         6.1649985 ,  94.50283   ,   7.6013637 ,   6.2462096 ,\n",
      "        -1.7990888 ,   3.814996  ,  -7.5283237 ], dtype=float32)}, {'half_life_obach': array([ 2.1465428e-01,  9.9096727e+00, -9.5501471e+00,  1.0688465e+01,\n",
      "        2.1071965e+02,  1.9569666e+02,  4.1111290e+01,  2.3893717e+01,\n",
      "        4.9599247e+01,  9.0794630e+00,  4.1618572e+01, -2.6561060e+00,\n",
      "        4.1562572e+00,  1.4076663e+01, -8.5896140e-01,  3.6236656e+00,\n",
      "        2.6197372e+02,  3.2744568e+01, -2.8266541e+01, -2.2078394e+01,\n",
      "       -2.2078394e+01,  6.5772109e+00,  2.2993231e+01,  6.0444576e+01,\n",
      "        9.7965193e+00, -4.1703568e+00,  3.0583029e+01, -5.8089581e+00,\n",
      "       -1.2581338e+00,  2.1723053e+02,  5.0319448e+00,  3.0884880e+01,\n",
      "       -1.3283291e+00, -1.1352710e+01, -2.6065845e+00, -3.0471084e+00,\n",
      "        7.3753104e+00,  1.0627521e+01,  2.1466383e+01,  8.8328943e+00,\n",
      "       -2.6442833e+00, -1.4172015e+01, -2.7491581e+00, -1.3722180e+01,\n",
      "        3.6826324e+00,  3.4999721e+00, -5.3773675e+00,  4.8815637e+00,\n",
      "        9.2109871e-01,  3.0117193e-01,  1.7787981e+01,  3.0117193e-01,\n",
      "       -6.3463753e-01, -2.9583160e+01, -8.3704090e+00,  3.4608692e+01,\n",
      "        4.5191833e+01,  2.1846193e+01,  5.9126157e-01,  4.8613992e-01,\n",
      "        3.9933169e+00,  6.2912040e+00, -5.8060803e+00, -2.7805946e+00,\n",
      "       -1.4763282e+01,  4.1361837e+00, -6.7545743e+00,  1.7489946e+01,\n",
      "       -1.5371037e-01, -6.3294225e+00,  4.6706476e+00,  6.5372252e+00,\n",
      "        8.4444275e+00,  5.0197667e-01,  3.7474339e+00,  2.9664116e+01,\n",
      "        1.4922806e+00,  5.1617504e+01,  2.5536558e+01,  2.1699738e+01,\n",
      "        1.2034690e+01,  2.0252018e+01,  6.4579567e+01, -1.4270687e+01,\n",
      "       -1.1570880e+01,  4.4782711e+01,  2.1637960e+01, -5.6933932e+00,\n",
      "       -4.2871647e+00, -4.1693153e+00, -6.8085160e+00,  5.9968796e+00,\n",
      "        1.2160504e+01,  3.5511627e+00,  1.4156433e+00,  9.8472319e+00,\n",
      "        2.7416089e+00, -1.4602146e+01,  1.7504227e+01,  4.5323539e-01,\n",
      "       -2.7578099e+00, -3.5355885e-03,  5.5575348e+01,  2.7786774e+01,\n",
      "        6.3895760e+00, -4.1681428e+00, -6.6067376e+00,  1.0343449e+02,\n",
      "       -5.2128029e+00, -9.8098440e+00,  1.3109586e+01,  9.9600420e+00,\n",
      "        5.2862725e+00,  1.8102564e+01, -4.1884580e-01,  7.3000374e+00,\n",
      "        5.0569978e+00,  2.4106768e+01,  2.8693759e+00, -6.9299865e+00,\n",
      "        3.7521469e+01, -2.4758766e+00,  3.0541382e+01, -3.2726841e+00,\n",
      "       -3.9776819e+00,  1.4491306e+01, -9.4030142e+00, -6.1133275e+00,\n",
      "        8.1047535e-01,  1.0258169e+02,  4.7608380e+00,  8.5260544e+00,\n",
      "        3.3122351e+00,  3.8649557e+00, -7.8383718e+00], dtype=float32)}]\n"
     ]
    }
   ],
   "source": [
    "predictions_list = []\n",
    "metric = deepchem.deepchem.metrics.Metric(deepchem.deepchem.metrics.mean_absolute_error)\n",
    "ecfpFeat = deepchem.deepchem.feat.CircularFingerprint(radius=4)\n",
    "convMolFeat = deepchem.deepchem.feat.ConvMolFeaturizer()\n",
    "xgb_reg_ecfp = xgboost.XGBRegressor()\n",
    "xgb_reg_estate = xgboost.XGBRegressor()\n",
    "\n",
    "for seed in [1, 2, 3, 4, 5]:\n",
    "    benchmark = group.get('Half_Life_Obach') \n",
    "    \n",
    "    predictions = {}\n",
    "    name = benchmark['name']\n",
    "    train_val, test = benchmark['train_val'], benchmark['test']\n",
    "    train, valid = group.get_train_valid_split(benchmark = name, split_type = 'default', seed = seed)  \n",
    "\n",
    "    #trainMol = train.iloc[:,1].map(lambda x: Chem.MolFromSmiles(x))\n",
    "    #validMol = valid.iloc[:,1].map(lambda x: Chem.MolFromSmiles(x))\n",
    "    testMol = test.iloc[:,1].map(lambda x: Chem.MolFromSmiles(x))\n",
    "    train_valMol = train_val.iloc[:,1].map(lambda x: Chem.MolFromSmiles(x))\n",
    "\n",
    "    #featurize training, valid, and test data for xgboost\n",
    "    #trainFeat = np.stack(np.array(trainMol.map(lambda x: Fingerprinter.FingerprintMol(x)[1])))\n",
    "    #validFeat = np.stack(np.array(validMol.map(lambda x: Fingerprinter.FingerprintMol(x)[1])))\n",
    "    testFeat = np.stack(np.array(testMol.map(lambda x: Fingerprinter.FingerprintMol(x)[1])))\n",
    "    train_valFeat = np.stack(np.array(train_valMol.map(lambda x: Fingerprinter.FingerprintMol(x)[1])))\n",
    "\n",
    "    #featurize training, valid, and test data for xgboost\n",
    "    #ecfp_f_train = ecfpFeat.featurize(train.iloc[:,1].to_list())\n",
    "    #ecfp_f_valid = ecfpFeat.featurize(valid.iloc[:,1].to_list())\n",
    "    ecfp_f_test = ecfpFeat.featurize(test.iloc[:,1].to_list())\n",
    "    train_val_f = ecfpFeat.featurize(train_val.iloc[:,1].to_list())\n",
    "\n",
    "    #featurize training, valid, and test data for the GCN\n",
    "    cv_f_train = convMolFeat.featurize(train.iloc[:,1].to_list())\n",
    "    cv_f_valid = convMolFeat.featurize(valid.iloc[:,1].to_list())\n",
    "    cv_f_test = convMolFeat.featurize(test.iloc[:,1].to_list())\n",
    "\n",
    "    #convert training and validation data into a deepchem dataset for the gcn\n",
    "    gcn_train_data = deepchem.deepchem.data.NumpyDataset(X=cv_f_train, y=np.array(train.iloc[:,2]), ids=np.array(train.iloc[:,1].to_list()))\n",
    "    gcn_valid_data = deepchem.deepchem.data.NumpyDataset(X=cv_f_valid, y=np.array(valid.iloc[:,2]), ids=np.array(valid.iloc[:,1].to_list()))\n",
    "\n",
    "    #fit data on GCN\n",
    "    reg = deepchem.deepchem.models.GraphConvModel(\n",
    "        n_tasks=1, \n",
    "        dropout=.0005,\n",
    "        dense_layer_size=1063,\n",
    "        graph_conv_layers=[128, 128, 128],\n",
    "        mode=\"regression\",)\n",
    "    callback = deepchem.deepchem.models.ValidationCallback(gcn_valid_data, 1000, metric)\n",
    "    reg.fit(gcn_train_data, nb_epoch=100, callbacks=callback)\n",
    "\n",
    "    #predict values on gcn and reshape array (reshape value is 20% of dataset size)\n",
    "    gcn_pred = reg.predict_on_batch(X=np.array(cv_f_test)).reshape(135,)\n",
    "\n",
    "    #fit xgboost model and store np ndarray in xgb_pred\n",
    "    xgb_reg_estate.fit(X=train_valFeat, y=train_val.iloc[:,2], eval_metric=\"mae\", verbose=True)\n",
    "    xgb_reg_ecfp.fit(X=train_val_f, y=train_val.iloc[:,2], eval_metric=\"mae\")\n",
    "    pred_estate = xgb_reg_estate.predict(X=testFeat)\n",
    "    pred_ecfp = xgb_reg_ecfp.predict(X=ecfp_f_test)\n",
    "\n",
    "    # store test predictions in y_pred_test\n",
    "    y_pred_test = np.mean([ pred_estate, pred_ecfp, gcn_pred ], axis=0)\n",
    "\n",
    "    print(\"predictions for run #\")\n",
    "    print(seed)\n",
    "    print(y_pred_test[0:5])\n",
    "        \n",
    "    predictions[name] = y_pred_test\n",
    "    predictions_list.append(predictions)\n",
    "\n",
    "print(\"Prediction List:\")\n",
    "print(predictions_list)"
   ]
  },
  {
   "cell_type": "code",
   "execution_count": 4,
   "metadata": {},
   "outputs": [
    {
     "name": "stdout",
     "output_type": "stream",
     "text": [
      "{'half_life_obach': {'spearman': 0.251}}\n",
      "{'half_life_obach': {'spearman': 0.28}}\n",
      "{'half_life_obach': {'spearman': 0.259}}\n",
      "{'half_life_obach': {'spearman': 0.273}}\n",
      "{'half_life_obach': {'spearman': 0.328}}\n"
     ]
    },
    {
     "data": {
      "text/plain": [
       "{'half_life_obach': [0.278, 0.027]}"
      ]
     },
     "execution_count": 4,
     "metadata": {},
     "output_type": "execute_result"
    }
   ],
   "source": [
    "for i in predictions_list:\n",
    "    print(group.evaluate(i))\n",
    "\n",
    "group.evaluate_many(predictions_list)"
   ]
  }
 ],
 "metadata": {
  "interpreter": {
   "hash": "2d9ef161e060c37aa994177a4d833cab797e22621213b4f88b9fe284585c74c2"
  },
  "kernelspec": {
   "display_name": "Python 3.9.7 ('deepchem-test')",
   "language": "python",
   "name": "python3"
  },
  "language_info": {
   "codemirror_mode": {
    "name": "ipython",
    "version": 3
   },
   "file_extension": ".py",
   "mimetype": "text/x-python",
   "name": "python",
   "nbconvert_exporter": "python",
   "pygments_lexer": "ipython3",
   "version": "3.9.10"
  },
  "orig_nbformat": 4
 },
 "nbformat": 4,
 "nbformat_minor": 2
}
