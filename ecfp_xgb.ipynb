{
  "cells": [
    {
      "cell_type": "markdown",
      "metadata": {
        "id": "view-in-github",
        "colab_type": "text"
      },
      "source": [
        "<a href=\"https://colab.research.google.com/github/gitconnoisseur/toxicity-model/blob/master/ecfp_xgb.ipynb\" target=\"_parent\"><img src=\"https://colab.research.google.com/assets/colab-badge.svg\" alt=\"Open In Colab\"/></a>"
      ]
    },
    {
      "cell_type": "code",
      "execution_count": null,
      "metadata": {
        "id": "4hQtagVE1JEI"
      },
      "outputs": [],
      "source": [
        "!pip install PyTDC\n",
        "!pip install deepchem\n",
        "!pip install autokeras\n",
        "!pip install --upgrade numpy"
      ]
    },
    {
      "cell_type": "code",
      "execution_count": null,
      "metadata": {
        "colab": {
          "base_uri": "https://localhost:8080/"
        },
        "id": "g2ePKUpM2Cdt",
        "outputId": "c12f8317-cc0d-4812-88e9-d45f1f635483"
      },
      "outputs": [
        {
          "name": "stderr",
          "output_type": "stream",
          "text": [
            "Downloading Benchmark Group...\n",
            "100%|██████████| 1.47M/1.47M [00:00<00:00, 10.3MiB/s]\n",
            "Extracting zip file...\n",
            "Done!\n"
          ]
        }
      ],
      "source": [
        "#import autogluon as ag\n",
        "from tdc.single_pred import Tox\n",
        "import deepchem\n",
        "import xgboost\n",
        "\n",
        "import numpy as np\n",
        "import pandas as pd\n",
        "import tensorflow as tf\n",
        "import autokeras as ak\n",
        "\n",
        "from tdc.benchmark_group import admet_group\n",
        "group = admet_group(path = 'data/')"
      ]
    },
    {
      "cell_type": "code",
      "execution_count": null,
      "metadata": {
        "colab": {
          "background_save": true,
          "base_uri": "https://localhost:8080/"
        },
        "id": "PwUPswth2OJ-",
        "outputId": "e3d63d13-4367-4209-e680-7c61667a77ab"
      },
      "outputs": [
        {
          "name": "stdout",
          "output_type": "stream",
          "text": [
            "Trial 11 Complete [00h 19m 51s]\n",
            "val_loss: 0.9032707214355469\n",
            "\n",
            "Best val_loss So Far: 0.6977788209915161\n",
            "Total elapsed time: 03h 55m 40s\n",
            "\n",
            "Search: Running Trial #12\n",
            "\n",
            "Hyperparameter    |Value             |Best Value So Far \n",
            "structured_data...|True              |True              \n",
            "structured_data...|False             |False             \n",
            "structured_data...|2                 |2                 \n",
            "structured_data...|32                |32                \n",
            "structured_data...|0.5               |0                 \n",
            "structured_data...|32                |32                \n",
            "regression_head...|0.25              |0.25              \n",
            "optimizer         |adam              |adam              \n",
            "learning_rate     |0.01              |0.01              \n",
            "\n"
          ]
        }
      ],
      "source": [
        "predictions_list = []\n",
        "\n",
        "for seed in [1]:\n",
        "    benchmark = group.get('LD50_Zhu') \n",
        "    # all benchmark names in a benchmark group are stored in group.dataset_names\n",
        "    predictions = {}\n",
        "    name = benchmark['name']\n",
        "    train_val, test = benchmark['train_val'], benchmark['test']\n",
        "    #train, valid = group.get_train_valid_split(benchmark = name, split_type = 'default', seed = seed)\n",
        "    \n",
        "        # --------------------------------------------- # \n",
        "        #  Train your model using train, valid, test    #\n",
        "        #  Save test prediction in y_pred_test variable #\n",
        "        # --------------------------------------------- #\n",
        "    \n",
        "\n",
        "    featurizer = deepchem.feat.CircularFingerprint(size=2048, radius=4)\n",
        "    f = featurizer.featurize(train_val.iloc[:,1].to_list())\n",
        "    train_x = pd.DataFrame(f)\n",
        "    train_y = train_val.iloc[:,2]\n",
        "\n",
        "    reg = ak.StructuredDataRegressor(overwrite=True, max_trials=50, metrics=['mae'])\n",
        "    reg.fit(x=train_x, y=train_y)\n",
        "\n",
        "    testFeatures = pd.DataFrame(featurizer.featurize(test.iloc[:,1].to_list()))\n",
        "\n",
        "    y_pred_test = reg.predict(testFeatures)\n",
        "\n",
        "    print(\"predictions:\")\n",
        "    print(seed)\n",
        "    print(y_pred_test[0:10])\n",
        "        \n",
        "    predictions[name] = y_pred_test\n",
        "    predictions_list.append(predictions)\n",
        "\n",
        "print(\"Prediction List: \")\n",
        "print(predictions_list)"
      ]
    }
  ],
  "metadata": {
    "colab": {
      "name": "ecfp_xgb.ipynb",
      "provenance": [],
      "authorship_tag": "ABX9TyMJ3XEyQk4iCvqK8brMlXkC",
      "include_colab_link": true
    },
    "kernelspec": {
      "display_name": "Python 3",
      "name": "python3"
    },
    "language_info": {
      "name": "python"
    }
  },
  "nbformat": 4,
  "nbformat_minor": 0
}